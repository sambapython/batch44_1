{
 "cells": [
  {
   "cell_type": "code",
   "execution_count": 1,
   "metadata": {},
   "outputs": [
    {
     "name": "stdout",
     "output_type": "stream",
     "text": [
      "program started\n",
      "else block started\n",
      "abis big\n",
      "else block ended\n",
      "some statements in program\n",
      "program ended\n"
     ]
    }
   ],
   "source": [
    "print \"program started\"\n",
    "a=10\n",
    "b=20\n",
    "if a>b:\n",
    "    print \"if block started\"\n",
    "    print \"a is big\"\n",
    "    print \"if block ended\"\n",
    "else:\n",
    "    print \"else block started\"\n",
    "    print \"abis big\"\n",
    "    print \"else block ended\"\n",
    "print \"some statements in program\"\n",
    "print \"program ended\""
   ]
  },
  {
   "cell_type": "code",
   "execution_count": 2,
   "metadata": {},
   "outputs": [
    {
     "name": "stdout",
     "output_type": "stream",
     "text": [
      "program started\n",
      "else block started\n",
      "abis big\n",
      "else block ended\n",
      "some statements in program\n",
      "program ended\n"
     ]
    }
   ],
   "source": [
    "print \"program started\"\n",
    "a=10\n",
    "b=20\n",
    "if a>b:\n",
    "    print \"if block started\"\n",
    "    print \"a is big\"\n",
    "    print \"if block ended\"\n",
    "else:\n",
    " print \"else block started\"\n",
    " print \"abis big\"\n",
    " print \"else block ended\"\n",
    "print \"some statements in program\"\n",
    "print \"program ended\""
   ]
  },
  {
   "cell_type": "code",
   "execution_count": 3,
   "metadata": {},
   "outputs": [
    {
     "ename": "IndentationError",
     "evalue": "unexpected indent (<ipython-input-3-b25932372bec>, line 6)",
     "output_type": "error",
     "traceback": [
      "\u001b[0;36m  File \u001b[0;32m\"<ipython-input-3-b25932372bec>\"\u001b[0;36m, line \u001b[0;32m6\u001b[0m\n\u001b[0;31m    print \"a is big\"\u001b[0m\n\u001b[0m    ^\u001b[0m\n\u001b[0;31mIndentationError\u001b[0m\u001b[0;31m:\u001b[0m unexpected indent\n"
     ]
    }
   ],
   "source": [
    "print \"program started\"\n",
    "a=10\n",
    "b=20\n",
    "if a>b:\n",
    " print \"if block started\"\n",
    "    print \"a is big\"\n",
    "    print \"if block ended\"\n",
    "else:\n",
    " print \"else block started\"\n",
    " print \"abis big\"\n",
    " print \"else block ended\"\n",
    "print \"some statements in program\"\n",
    "print \"program ended\""
   ]
  },
  {
   "cell_type": "code",
   "execution_count": 4,
   "metadata": {},
   "outputs": [
    {
     "name": "stdout",
     "output_type": "stream",
     "text": [
      "program started\n",
      "else block started\n",
      "abis big\n",
      "else block ended\n",
      "some statements in program\n",
      "program ended\n"
     ]
    }
   ],
   "source": [
    "print \"program started\"\n",
    "a=10\n",
    "b=20\n",
    "if a>b:\n",
    "    print \"if block started\"\n",
    "    print \"a is big\"\n",
    "    print \"if block ended\"\n",
    "else:\n",
    "    print \"else block started\"\n",
    "    print \"abis big\"\n",
    "    print \"else block ended\"\n",
    "print \"some statements in program\"\n",
    "print \"program ended\""
   ]
  },
  {
   "cell_type": "code",
   "execution_count": 5,
   "metadata": {},
   "outputs": [
    {
     "name": "stdout",
     "output_type": "stream",
     "text": [
      "program started\n",
      "some statements in program\n",
      "program ended\n"
     ]
    }
   ],
   "source": [
    "print \"program started\"\n",
    "a=10\n",
    "b=20\n",
    "if a>b:\n",
    "    print \"if block started\"\n",
    "    print \"a is big\"\n",
    "    print \"if block ended\"\n",
    "print \"some statements in program\"\n",
    "print \"program ended\""
   ]
  },
  {
   "cell_type": "code",
   "execution_count": 6,
   "metadata": {},
   "outputs": [
    {
     "name": "stdout",
     "output_type": "stream",
     "text": [
      "program started\n",
      "program ended\n"
     ]
    }
   ],
   "source": [
    "print \"program started\"\n",
    "a=10\n",
    "b=20\n",
    "if a>b:\n",
    "    print \"if block started\"\n",
    "    print \"a is big\"\n",
    "    print \"if block ended\"\n",
    "    print \"some statements in program\"\n",
    "print \"program ended\""
   ]
  },
  {
   "cell_type": "code",
   "execution_count": 7,
   "metadata": {},
   "outputs": [
    {
     "ename": "SyntaxError",
     "evalue": "invalid syntax (<ipython-input-7-a9c57d99129d>, line 5)",
     "output_type": "error",
     "traceback": [
      "\u001b[0;36m  File \u001b[0;32m\"<ipython-input-7-a9c57d99129d>\"\u001b[0;36m, line \u001b[0;32m5\u001b[0m\n\u001b[0;31m    else:\u001b[0m\n\u001b[0m       ^\u001b[0m\n\u001b[0;31mSyntaxError\u001b[0m\u001b[0;31m:\u001b[0m invalid syntax\n"
     ]
    }
   ],
   "source": [
    "print \"program started\"\n",
    "a=10\n",
    "b=20\n",
    "\n",
    "else:\n",
    "    print \"else block started\"\n",
    "    print \"abis big\"\n",
    "    print \"else block ended\"\n",
    "print \"some statements in program\"\n",
    "print \"program ended\""
   ]
  },
  {
   "cell_type": "code",
   "execution_count": 8,
   "metadata": {},
   "outputs": [
    {
     "ename": "IndentationError",
     "evalue": "unexpected indent (<ipython-input-8-088545318937>, line 7)",
     "output_type": "error",
     "traceback": [
      "\u001b[0;36m  File \u001b[0;32m\"<ipython-input-8-088545318937>\"\u001b[0;36m, line \u001b[0;32m7\u001b[0m\n\u001b[0;31m    print \"if block ended\"\u001b[0m\n\u001b[0m    ^\u001b[0m\n\u001b[0;31mIndentationError\u001b[0m\u001b[0;31m:\u001b[0m unexpected indent\n"
     ]
    }
   ],
   "source": [
    "print \"program started\"\n",
    "a=10\n",
    "b=20\n",
    "if a>b:\n",
    "    print \"if block started\"\n",
    "print \"a is big\"\n",
    "    print \"if block ended\"\n",
    "else:\n",
    "    print \"else block started\"\n",
    "    print \"abis big\"\n",
    "    print \"else block ended\"\n",
    "print \"some statements in program\"\n",
    "print \"program ended\""
   ]
  },
  {
   "cell_type": "code",
   "execution_count": 9,
   "metadata": {},
   "outputs": [
    {
     "ename": "SyntaxError",
     "evalue": "invalid syntax (<ipython-input-9-8122631071de>, line 8)",
     "output_type": "error",
     "traceback": [
      "\u001b[0;36m  File \u001b[0;32m\"<ipython-input-9-8122631071de>\"\u001b[0;36m, line \u001b[0;32m8\u001b[0m\n\u001b[0;31m    else:\u001b[0m\n\u001b[0m       ^\u001b[0m\n\u001b[0;31mSyntaxError\u001b[0m\u001b[0;31m:\u001b[0m invalid syntax\n"
     ]
    }
   ],
   "source": [
    "print \"program started\"\n",
    "a=10\n",
    "b=20\n",
    "if a>b:\n",
    "    print \"if block started\"\n",
    "    print \"a is big\"\n",
    "print \"if block ended\"\n",
    "else:\n",
    "    print \"else block started\"\n",
    "    print \"abis big\"\n",
    "    print \"else block ended\"\n",
    "print \"some statements in program\"\n",
    "print \"program ended\""
   ]
  },
  {
   "cell_type": "code",
   "execution_count": 10,
   "metadata": {},
   "outputs": [
    {
     "ename": "SyntaxError",
     "evalue": "invalid syntax (<ipython-input-10-d7a9e027193d>, line 17)",
     "output_type": "error",
     "traceback": [
      "\u001b[0;36m  File \u001b[0;32m\"<ipython-input-10-d7a9e027193d>\"\u001b[0;36m, line \u001b[0;32m17\u001b[0m\n\u001b[0;31m    else:\u001b[0m\n\u001b[0m       ^\u001b[0m\n\u001b[0;31mSyntaxError\u001b[0m\u001b[0;31m:\u001b[0m invalid syntax\n"
     ]
    }
   ],
   "source": [
    "print \"program started\"\n",
    "a=10\n",
    "b=20\n",
    "if a>b:\n",
    "    print \"if block started\"\n",
    "    print \"a is big\"\n",
    "print \"if block ended\"\n",
    "\"\"\"\n",
    "sdsd\n",
    "fsdfs\n",
    "dsf\n",
    "sd\n",
    "fds\n",
    "fds\n",
    "\n",
    "\"\"\"\n",
    "else:\n",
    "    print \"else block started\"\n",
    "    print \"abis big\"\n",
    "    print \"else block ended\"\n",
    "print \"some statements in program\"\n",
    "print \"program ended\""
   ]
  },
  {
   "cell_type": "code",
   "execution_count": 13,
   "metadata": {},
   "outputs": [
    {
     "ename": "IndentationError",
     "evalue": "expected an indented block (<ipython-input-13-8913bf7c800b>, line 5)",
     "output_type": "error",
     "traceback": [
      "\u001b[0;36m  File \u001b[0;32m\"<ipython-input-13-8913bf7c800b>\"\u001b[0;36m, line \u001b[0;32m5\u001b[0m\n\u001b[0;31m    print \"if block started\"\u001b[0m\n\u001b[0m        ^\u001b[0m\n\u001b[0;31mIndentationError\u001b[0m\u001b[0;31m:\u001b[0m expected an indented block\n"
     ]
    }
   ],
   "source": [
    "print \"program started\"\n",
    "a=10\n",
    "b=20\n",
    "if a>b:\n",
    "print \"if block started\"\n",
    "print \"a is big\"\n",
    "print \"if block ended\"\n",
    "else:\n",
    "    print \"else block started\"\n",
    "    print \"abis big\"\n",
    "    print \"else block ended\"\n",
    "print \"some statements in program\"\n",
    "print \"program ended\""
   ]
  },
  {
   "cell_type": "code",
   "execution_count": 14,
   "metadata": {},
   "outputs": [
    {
     "name": "stdout",
     "output_type": "stream",
     "text": [
      "program started\n",
      "a is big\n",
      "if block ended\n",
      "some statements in program\n",
      "program ended\n"
     ]
    }
   ],
   "source": [
    "print \"program started\"\n",
    "a=10\n",
    "b=20\n",
    "if a>b:\n",
    "    print \"if block started\"\n",
    "print \"a is big\"\n",
    "print \"if block ended\"\n",
    "\n",
    "print \"some statements in program\"\n",
    "print \"program ended\""
   ]
  },
  {
   "cell_type": "code",
   "execution_count": 15,
   "metadata": {},
   "outputs": [
    {
     "name": "stdout",
     "output_type": "stream",
     "text": [
      "program started\n",
      "if block started\n",
      "a is big\n",
      "if block ended\n",
      "some statements in program\n",
      "program ended\n"
     ]
    }
   ],
   "source": [
    "print \"program started\"\n",
    "a=100\n",
    "b=20\n",
    "if a>b:\n",
    "    print \"if block started\"\n",
    "    print \"a is big\"\n",
    "    print \"if block ended\"\n",
    "\n",
    "print \"some statements in program\"\n",
    "print \"program ended\""
   ]
  },
  {
   "cell_type": "code",
   "execution_count": 16,
   "metadata": {},
   "outputs": [
    {
     "ename": "IndentationError",
     "evalue": "expected an indented block (<ipython-input-16-1b4a91408a8d>, line 9)",
     "output_type": "error",
     "traceback": [
      "\u001b[0;36m  File \u001b[0;32m\"<ipython-input-16-1b4a91408a8d>\"\u001b[0;36m, line \u001b[0;32m9\u001b[0m\n\u001b[0;31m    print \"some statements in program\"\u001b[0m\n\u001b[0m        ^\u001b[0m\n\u001b[0;31mIndentationError\u001b[0m\u001b[0;31m:\u001b[0m expected an indented block\n"
     ]
    }
   ],
   "source": [
    "print \"program started\"\n",
    "a=100\n",
    "b=20\n",
    "if a>b:\n",
    "    print \"if block started\"\n",
    "    print \"a is big\"\n",
    "    print \"if block ended\"\n",
    "else:\n",
    "print \"some statements in program\"\n",
    "print \"program ended\""
   ]
  },
  {
   "cell_type": "code",
   "execution_count": 17,
   "metadata": {},
   "outputs": [
    {
     "name": "stdout",
     "output_type": "stream",
     "text": [
      "program started\n",
      "if block started\n",
      "a is big\n",
      "if block ended\n",
      "some statements in program\n",
      "program ended\n"
     ]
    }
   ],
   "source": [
    "print \"program started\"\n",
    "a=100\n",
    "b=20\n",
    "if a>b:\n",
    "    print \"if block started\"\n",
    "    print \"a is big\"\n",
    "    print \"if block ended\"\n",
    "else:\n",
    "    pass\n",
    "print \"some statements in program\"\n",
    "print \"program ended\""
   ]
  },
  {
   "cell_type": "code",
   "execution_count": 18,
   "metadata": {},
   "outputs": [
    {
     "name": "stdout",
     "output_type": "stream",
     "text": [
      "program started\n",
      "else block\n",
      "some statements in program\n",
      "program ended\n"
     ]
    }
   ],
   "source": [
    "print \"program started\"\n",
    "a=10\n",
    "b=20\n",
    "if a>b:\n",
    "    print \"if block started\"\n",
    "    print \"a is big\"\n",
    "    print \"if block ended\"\n",
    "else:\n",
    "    pass\n",
    "    print \"else block\"\n",
    "print \"some statements in program\"\n",
    "print \"program ended\""
   ]
  },
  {
   "cell_type": "code",
   "execution_count": 19,
   "metadata": {},
   "outputs": [
    {
     "name": "stdout",
     "output_type": "stream",
     "text": [
      "program started\n",
      "else block\n",
      "some statements in program\n",
      "program ended\n"
     ]
    }
   ],
   "source": [
    "print \"program started\"\n",
    "a=10\n",
    "b=20\n",
    "if a>b:\n",
    "    print \"if block started\"\n",
    "    print \"a is big\"\n",
    "    print \"if block ended\"\n",
    "else:\n",
    "    \n",
    "    print \"else block\"\n",
    "print \"some statements in program\"\n",
    "print \"program ended\""
   ]
  },
  {
   "cell_type": "code",
   "execution_count": 1,
   "metadata": {},
   "outputs": [
    {
     "name": "stdout",
     "output_type": "stream",
     "text": [
      "FRUIT MENU:\n",
      "\t1. Apple\n",
      "\t2. Ornage\n",
      "\t3. Mango\n",
      "\t4. Banana\n",
      "Enter an option:2\n",
      "Thanks you.\n"
     ]
    }
   ],
   "source": [
    "\"\"\"\n",
    "FRUIT MENU:\n",
    "    1. Apple\n",
    "    2. Orange\n",
    "    3. Mango\n",
    "    4. Banana\n",
    "\n",
    "Enter an option:\n",
    "\"\"\"\n",
    "print \"FRUIT MENU:\\n\\t1. Apple\\n\\t2. Ornage\\n\\t3. Mango\\n\\t4. Banana\"\n",
    "opt=raw_input(\"Enter an option:\")\n",
    "if opt==1:\n",
    "    print \"Apple cost: Rs 10\"\n",
    "if opt==2:\n",
    "    print \"Orange cost: Rs 15\"\n",
    "if opt==3:\n",
    "    print \"Mango cost: Rs 7\"\n",
    "if opt==4:\n",
    "    print \"Banana cost: Rs 10\"\n",
    "print \"Thanks you.\""
   ]
  },
  {
   "cell_type": "code",
   "execution_count": 2,
   "metadata": {},
   "outputs": [
    {
     "data": {
      "text/plain": [
       "False"
      ]
     },
     "execution_count": 2,
     "metadata": {},
     "output_type": "execute_result"
    }
   ],
   "source": [
    "\"2\"==2"
   ]
  },
  {
   "cell_type": "code",
   "execution_count": 3,
   "metadata": {},
   "outputs": [
    {
     "name": "stdout",
     "output_type": "stream",
     "text": [
      "FRUIT MENU:\n",
      "\t1. Apple\n",
      "\t2. Ornage\n",
      "\t3. Mango\n",
      "\t4. Banana\n",
      "Enter an option:1\n",
      "Apple cost: Rs 10\n",
      "Thanks you.\n"
     ]
    }
   ],
   "source": [
    "\"\"\"\n",
    "FRUIT MENU:\n",
    "    1. Apple\n",
    "    2. Orange\n",
    "    3. Mango\n",
    "    4. Banana\n",
    "\n",
    "Enter an option:\n",
    "\"\"\"\n",
    "print \"FRUIT MENU:\\n\\t1. Apple\\n\\t2. Ornage\\n\\t3. Mango\\n\\t4. Banana\"\n",
    "opt=raw_input(\"Enter an option:\")\n",
    "if opt==\"1\":\n",
    "    print \"Apple cost: Rs 10\"\n",
    "if opt==\"2\":\n",
    "    print \"Orange cost: Rs 15\"\n",
    "if opt==\"3\":\n",
    "    print \"Mango cost: Rs 7\"\n",
    "if opt==\"4\":\n",
    "    print \"Banana cost: Rs 10\"\n",
    "print \"Thanks you.\""
   ]
  },
  {
   "cell_type": "code",
   "execution_count": 4,
   "metadata": {},
   "outputs": [
    {
     "name": "stdout",
     "output_type": "stream",
     "text": [
      "FRUIT MENU:\n",
      "\t1. Apple\n",
      "\t2. Ornage\n",
      "\t3. Mango\n",
      "\t4. Banana\n",
      "Enter an option:2\n",
      "Orange cost: Rs 15\n",
      "Thanks you.\n"
     ]
    }
   ],
   "source": [
    "\"\"\"\n",
    "FRUIT MENU:\n",
    "    1. Apple\n",
    "    2. Orange\n",
    "    3. Mango\n",
    "    4. Banana\n",
    "\n",
    "Enter an option:\n",
    "\"\"\"\n",
    "print \"FRUIT MENU:\\n\\t1. Apple\\n\\t2. Ornage\\n\\t3. Mango\\n\\t4. Banana\"\n",
    "opt=raw_input(\"Enter an option:\")\n",
    "if opt==\"1\":\n",
    "    print \"Apple cost: Rs 10\"\n",
    "if opt==\"2\":\n",
    "    print \"Orange cost: Rs 15\"\n",
    "if opt==\"3\":\n",
    "    print \"Mango cost: Rs 7\"\n",
    "if opt==\"4\":\n",
    "    print \"Banana cost: Rs 10\"\n",
    "print \"Thanks you.\""
   ]
  },
  {
   "cell_type": "code",
   "execution_count": 5,
   "metadata": {},
   "outputs": [
    {
     "name": "stdout",
     "output_type": "stream",
     "text": [
      "FRUIT MENU:\n",
      "\t1. Apple\n",
      "\t2. Ornage\n",
      "\t3. Mango\n",
      "\t4. Banana\n",
      "Enter an option:6\n",
      "Thanks you.\n"
     ]
    }
   ],
   "source": [
    "\"\"\"\n",
    "FRUIT MENU:\n",
    "    1. Apple\n",
    "    2. Orange\n",
    "    3. Mango\n",
    "    4. Banana\n",
    "\n",
    "Enter an option:\n",
    "\"\"\"\n",
    "print \"FRUIT MENU:\\n\\t1. Apple\\n\\t2. Ornage\\n\\t3. Mango\\n\\t4. Banana\"\n",
    "opt=raw_input(\"Enter an option:\")\n",
    "if opt==\"1\":\n",
    "    print \"Apple cost: Rs 10\"\n",
    "if opt==\"2\":\n",
    "    print \"Orange cost: Rs 15\"\n",
    "if opt==\"3\":\n",
    "    print \"Mango cost: Rs 7\"\n",
    "if opt==\"4\":\n",
    "    print \"Banana cost: Rs 10\"\n",
    "print \"Thanks you.\""
   ]
  },
  {
   "cell_type": "code",
   "execution_count": 6,
   "metadata": {},
   "outputs": [
    {
     "name": "stdout",
     "output_type": "stream",
     "text": [
      "FRUIT MENU:\n",
      "\t1. Apple\n",
      "\t2. Ornage\n",
      "\t3. Mango\n",
      "\t4. Banana\n",
      "Enter an option:6\n",
      "Have only 4 kinds of fruits select one number from 1 to 4\n",
      "Thanks you.\n"
     ]
    }
   ],
   "source": [
    "\"\"\"\n",
    "FRUIT MENU:\n",
    "    1. Apple\n",
    "    2. Orange\n",
    "    3. Mango\n",
    "    4. Banana\n",
    "\n",
    "Enter an option:\n",
    "\"\"\"\n",
    "print \"FRUIT MENU:\\n\\t1. Apple\\n\\t2. Ornage\\n\\t3. Mango\\n\\t4. Banana\"\n",
    "opt=raw_input(\"Enter an option:\")\n",
    "if opt==\"1\":\n",
    "    print \"Apple cost: Rs 10\"\n",
    "if opt==\"2\":\n",
    "    print \"Orange cost: Rs 15\"\n",
    "if opt==\"3\":\n",
    "    print \"Mango cost: Rs 7\"\n",
    "if opt==\"4\":\n",
    "    print \"Banana cost: Rs 10\"\n",
    "else:\n",
    "    print \"Have only 4 kinds of fruits select one number from 1 to 4\"\n",
    "print \"Thanks you.\""
   ]
  },
  {
   "cell_type": "code",
   "execution_count": 7,
   "metadata": {},
   "outputs": [
    {
     "name": "stdout",
     "output_type": "stream",
     "text": [
      "FRUIT MENU:\n",
      "\t1. Apple\n",
      "\t2. Ornage\n",
      "\t3. Mango\n",
      "\t4. Banana\n",
      "Enter an option:4\n",
      "Banana cost: Rs 10\n",
      "Thanks you.\n"
     ]
    }
   ],
   "source": [
    "\"\"\"\n",
    "FRUIT MENU:\n",
    "    1. Apple\n",
    "    2. Orange\n",
    "    3. Mango\n",
    "    4. Banana\n",
    "\n",
    "Enter an option:\n",
    "\"\"\"\n",
    "print \"FRUIT MENU:\\n\\t1. Apple\\n\\t2. Ornage\\n\\t3. Mango\\n\\t4. Banana\"\n",
    "opt=raw_input(\"Enter an option:\")\n",
    "if opt==\"1\":\n",
    "    print \"Apple cost: Rs 10\"\n",
    "if opt==\"2\":\n",
    "    print \"Orange cost: Rs 15\"\n",
    "if opt==\"3\":\n",
    "    print \"Mango cost: Rs 7\"\n",
    "if opt==\"4\":\n",
    "    print \"Banana cost: Rs 10\"\n",
    "else:\n",
    "    print \"Have only 4 kinds of fruits select one number from 1 to 4\"\n",
    "print \"Thanks you.\""
   ]
  },
  {
   "cell_type": "code",
   "execution_count": 8,
   "metadata": {},
   "outputs": [
    {
     "name": "stdout",
     "output_type": "stream",
     "text": [
      "FRUIT MENU:\n",
      "\t1. Apple\n",
      "\t2. Ornage\n",
      "\t3. Mango\n",
      "\t4. Banana\n",
      "Enter an option:2\n",
      "Orange cost: Rs 15\n",
      "Have only 4 kinds of fruits select one number from 1 to 4\n",
      "Thanks you.\n"
     ]
    }
   ],
   "source": [
    "\"\"\"\n",
    "FRUIT MENU:\n",
    "    1. Apple\n",
    "    2. Orange\n",
    "    3. Mango\n",
    "    4. Banana\n",
    "\n",
    "Enter an option:\n",
    "\"\"\"\n",
    "print \"FRUIT MENU:\\n\\t1. Apple\\n\\t2. Ornage\\n\\t3. Mango\\n\\t4. Banana\"\n",
    "opt=raw_input(\"Enter an option:\")\n",
    "if opt==\"1\":\n",
    "    print \"Apple cost: Rs 10\"\n",
    "if opt==\"2\":\n",
    "    print \"Orange cost: Rs 15\"\n",
    "if opt==\"3\":\n",
    "    print \"Mango cost: Rs 7\"\n",
    "if opt==\"4\":\n",
    "    print \"Banana cost: Rs 10\"\n",
    "else:\n",
    "    print \"Have only 4 kinds of fruits select one number from 1 to 4\"\n",
    "print \"Thanks you.\""
   ]
  },
  {
   "cell_type": "code",
   "execution_count": 9,
   "metadata": {},
   "outputs": [
    {
     "name": "stdout",
     "output_type": "stream",
     "text": [
      "FRUIT MENU:\n",
      "\t1. Apple\n",
      "\t2. Ornage\n",
      "\t3. Mango\n",
      "\t4. Banana\n",
      "Enter an option:2\n",
      "Have only 4 kinds of fruits select one number from 1 to 4\n",
      "Thanks you.\n"
     ]
    }
   ],
   "source": [
    "\"\"\"\n",
    "FRUIT MENU:\n",
    "    1. Apple\n",
    "    2. Orange\n",
    "    3. Mango\n",
    "    4. Banana\n",
    "\n",
    "Enter an option:\n",
    "\"\"\"\n",
    "print \"FRUIT MENU:\\n\\t1. Apple\\n\\t2. Ornage\\n\\t3. Mango\\n\\t4. Banana\"\n",
    "opt=raw_input(\"Enter an option:\")\n",
    "if opt==\"1\":\n",
    "    print \"Apple cost: Rs 10\"\n",
    "    if opt==\"2\":\n",
    "        print \"Orange cost: Rs 15\"\n",
    "    if opt==\"3\":\n",
    "        print \"Mango cost: Rs 7\"\n",
    "    if opt==\"4\":\n",
    "        print \"Banana cost: Rs 10\"\n",
    "else:\n",
    "    print \"Have only 4 kinds of fruits select one number from 1 to 4\"\n",
    "print \"Thanks you.\""
   ]
  },
  {
   "cell_type": "code",
   "execution_count": 10,
   "metadata": {},
   "outputs": [
    {
     "name": "stdout",
     "output_type": "stream",
     "text": [
      "FRUIT MENU:\n",
      "\t1. Apple\n",
      "\t2. Ornage\n",
      "\t3. Mango\n",
      "\t4. Banana\n",
      "Enter an option:2\n",
      "Have only 4 kinds of fruits select one number from 1 to 4\n",
      "Orange cost: Rs 15\n",
      "Have only 4 kinds of fruits select one number from 1 to 4\n",
      "Have only 4 kinds of fruits select one number from 1 to 4\n",
      "Thanks you.\n"
     ]
    }
   ],
   "source": [
    "\"\"\"\n",
    "FRUIT MENU:\n",
    "    1. Apple\n",
    "    2. Orange\n",
    "    3. Mango\n",
    "    4. Banana\n",
    "\n",
    "Enter an option:\n",
    "\"\"\"\n",
    "print \"FRUIT MENU:\\n\\t1. Apple\\n\\t2. Ornage\\n\\t3. Mango\\n\\t4. Banana\"\n",
    "opt=raw_input(\"Enter an option:\")\n",
    "if opt==\"1\":\n",
    "    print \"Apple cost: Rs 10\"\n",
    "else:\n",
    "    print \"Have only 4 kinds of fruits select one number from 1 to 4\"\n",
    "if opt==\"2\":\n",
    "    print \"Orange cost: Rs 15\"\n",
    "else:\n",
    "    print \"Have only 4 kinds of fruits select one number from 1 to 4\"\n",
    "if opt==\"3\":\n",
    "    print \"Mango cost: Rs 7\"\n",
    "else:\n",
    "    print \"Have only 4 kinds of fruits select one number from 1 to 4\"\n",
    "if opt==\"4\":\n",
    "    print \"Banana cost: Rs 10\"\n",
    "else:\n",
    "    print \"Have only 4 kinds of fruits select one number from 1 to 4\"\n",
    "print \"Thanks you.\""
   ]
  },
  {
   "cell_type": "code",
   "execution_count": 11,
   "metadata": {},
   "outputs": [
    {
     "name": "stdout",
     "output_type": "stream",
     "text": [
      "FRUIT MENU:\n",
      "\t1. Apple\n",
      "\t2. Ornage\n",
      "\t3. Mango\n",
      "\t4. Banana\n",
      "Enter an option:2\n",
      "Orange cost: Rs 15\n",
      "Thanks you.\n"
     ]
    }
   ],
   "source": [
    "\"\"\"\n",
    "FRUIT MENU:\n",
    "    1. Apple\n",
    "    2. Orange\n",
    "    3. Mango\n",
    "    4. Banana\n",
    "\n",
    "Enter an option:\n",
    "\"\"\"\n",
    "print \"FRUIT MENU:\\n\\t1. Apple\\n\\t2. Ornage\\n\\t3. Mango\\n\\t4. Banana\"\n",
    "opt=raw_input(\"Enter an option:\")\n",
    "if opt==\"1\":\n",
    "    print \"Apple cost: Rs 10\"\n",
    "elif opt==\"2\":\n",
    "    print \"Orange cost: Rs 15\"\n",
    "elif opt==\"3\":\n",
    "    print \"Mango cost: Rs 7\"\n",
    "elif opt==\"4\":\n",
    "    print \"Banana cost: Rs 10\"\n",
    "else:\n",
    "    print \"Have only 4 kinds of fruits select one number from 1 to 4\"\n",
    "print \"Thanks you.\""
   ]
  },
  {
   "cell_type": "code",
   "execution_count": 12,
   "metadata": {},
   "outputs": [
    {
     "name": "stdout",
     "output_type": "stream",
     "text": [
      "FRUIT MENU:\n",
      "\t1. Apple\n",
      "\t2. Ornage\n",
      "\t3. Mango\n",
      "\t4. Banana\n",
      "Enter an option:5\n",
      "Have only 4 kinds of fruits select one number from 1 to 4\n",
      "Thanks you.\n"
     ]
    }
   ],
   "source": [
    "\"\"\"\n",
    "FRUIT MENU:\n",
    "    1. Apple\n",
    "    2. Orange\n",
    "    3. Mango\n",
    "    4. Banana\n",
    "\n",
    "Enter an option:\n",
    "\"\"\"\n",
    "print \"FRUIT MENU:\\n\\t1. Apple\\n\\t2. Ornage\\n\\t3. Mango\\n\\t4. Banana\"\n",
    "opt=raw_input(\"Enter an option:\")\n",
    "if opt==\"1\":\n",
    "    print \"Apple cost: Rs 10\"\n",
    "elif opt==\"2\":\n",
    "    print \"Orange cost: Rs 15\"\n",
    "elif opt==\"3\":\n",
    "    print \"Mango cost: Rs 7\"\n",
    "elif opt==\"4\":\n",
    "    print \"Banana cost: Rs 10\"\n",
    "else:\n",
    "    print \"Have only 4 kinds of fruits select one number from 1 to 4\"\n",
    "print \"Thanks you.\""
   ]
  },
  {
   "cell_type": "code",
   "execution_count": 13,
   "metadata": {},
   "outputs": [
    {
     "name": "stdout",
     "output_type": "stream",
     "text": [
      "FRUIT MENU:\n",
      "\t1. Apple\n",
      "\t2. Ornage\n",
      "\t3. Mango\n",
      "\t4. Banana\n",
      "Enter an option:\n",
      "Have only 4 kinds of fruits select one number from 1 to 4\n",
      "Thanks you.\n"
     ]
    }
   ],
   "source": [
    "\"\"\"\n",
    "FRUIT MENU:\n",
    "    1. Apple\n",
    "    2. Orange\n",
    "    3. Mango\n",
    "    4. Banana\n",
    "\n",
    "Enter an option:\n",
    "\"\"\"\n",
    "print \"FRUIT MENU:\\n\\t1. Apple\\n\\t2. Ornage\\n\\t3. Mango\\n\\t4. Banana\"\n",
    "opt=raw_input(\"Enter an option:\")\n",
    "if opt==\"1\":\n",
    "    print \"Apple cost: Rs 10\"\n",
    "elif opt==\"2\":\n",
    "    print \"Orange cost: Rs 15\"\n",
    "elif opt==\"3\":\n",
    "    print \"Mango cost: Rs 7\"\n",
    "elif opt==\"4\":\n",
    "    print \"Banana cost: Rs 10\"\n",
    "else:\n",
    "    print \"Have only 4 kinds of fruits select one number from 1 to 4\"\n",
    "print \"Thanks you.\""
   ]
  },
  {
   "cell_type": "code",
   "execution_count": 14,
   "metadata": {},
   "outputs": [
    {
     "name": "stdout",
     "output_type": "stream",
     "text": [
      "FRUIT MENU:\n",
      "\t1. Apple\n",
      "\t2. Ornage\n",
      "\t3. Mango\n",
      "\t4. Banana\n",
      "Enter an option:\n",
      "please enter a value\n",
      "Have only 4 kinds of fruits select one number from 1 to 4\n",
      "Thanks you.\n"
     ]
    }
   ],
   "source": [
    "\"\"\"\n",
    "FRUIT MENU:\n",
    "    1. Apple\n",
    "    2. Orange\n",
    "    3. Mango\n",
    "    4. Banana\n",
    "\n",
    "Enter an option:\n",
    "\"\"\"\n",
    "print \"FRUIT MENU:\\n\\t1. Apple\\n\\t2. Ornage\\n\\t3. Mango\\n\\t4. Banana\"\n",
    "opt=raw_input(\"Enter an option:\")\n",
    "if opt==\"\":\n",
    "    print \"please enter a value\"\n",
    "if opt==\"1\":\n",
    "    print \"Apple cost: Rs 10\"\n",
    "elif opt==\"2\":\n",
    "    print \"Orange cost: Rs 15\"\n",
    "elif opt==\"3\":\n",
    "    print \"Mango cost: Rs 7\"\n",
    "elif opt==\"4\":\n",
    "    print \"Banana cost: Rs 10\"\n",
    "else:\n",
    "    print \"Have only 4 kinds of fruits select one number from 1 to 4\"\n",
    "print \"Thanks you.\""
   ]
  },
  {
   "cell_type": "code",
   "execution_count": null,
   "metadata": {
    "collapsed": true
   },
   "outputs": [],
   "source": [
    "\"\"\"\n",
    "FRUIT MENU:\n",
    "    1. Apple\n",
    "    2. Orange\n",
    "    3. Mango\n",
    "    4. Banana\n",
    "\n",
    "Enter an option:\n",
    "\"\"\"\n",
    "print \"FRUIT MENU:\\n\\t1. Apple\\n\\t2. Ornage\\n\\t3. Mango\\n\\t4. Banana\"\n",
    "opt=raw_input(\"Enter an option:\")\n",
    "if opt==\"\":\n",
    "    print \"please enter a value\"\n",
    "else:\n",
    "    if opt==\"1\":\n",
    "        print \"Apple cost: Rs 10\"\n",
    "        \n",
    "    elif opt==\"2\":\n",
    "        print \"Orange cost: Rs 15\"\n",
    "    elif opt==\"3\":\n",
    "        print \"Mango cost: Rs 7\"\n",
    "    elif opt==\"4\":\n",
    "        print \"Banana cost: Rs 10\"\n",
    "    else:\n",
    "        print \"Have only 4 kinds of fruits select one number from 1 to 4\"\n",
    "print \"Thanks you.\""
   ]
  }
 ],
 "metadata": {
  "kernelspec": {
   "display_name": "Python 2",
   "language": "python",
   "name": "python2"
  },
  "language_info": {
   "codemirror_mode": {
    "name": "ipython",
    "version": 2
   },
   "file_extension": ".py",
   "mimetype": "text/x-python",
   "name": "python",
   "nbconvert_exporter": "python",
   "pygments_lexer": "ipython2",
   "version": "2.7.14"
  }
 },
 "nbformat": 4,
 "nbformat_minor": 2
}
