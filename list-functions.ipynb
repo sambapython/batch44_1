{
 "cells": [
  {
   "cell_type": "code",
   "execution_count": 1,
   "metadata": {},
   "outputs": [
    {
     "name": "stdout",
     "output_type": "stream",
     "text": [
      "l= ['a', 'b', 'c', 'd', 'E']\n",
      "l1= None\n"
     ]
    }
   ],
   "source": [
    "l=[\"a\",\"b\",\"c\",\"d\"]\n",
    "l1=l.append(\"E\")\n",
    "print \"l=\",l\n",
    "print \"l1=\",l1"
   ]
  },
  {
   "cell_type": "code",
   "execution_count": 2,
   "metadata": {},
   "outputs": [
    {
     "name": "stdout",
     "output_type": "stream",
     "text": [
      "s= python program\n",
      "s1= zython zrogram\n"
     ]
    }
   ],
   "source": [
    "s=\"python program\"\n",
    "s1=s.replace(\"p\",\"z\")\n",
    "print \"s=\",s\n",
    "print \"s1=\",s1"
   ]
  },
  {
   "cell_type": "code",
   "execution_count": 4,
   "metadata": {},
   "outputs": [
    {
     "name": "stdout",
     "output_type": "stream",
     "text": [
      "s= python program 140359132611000\n",
      "s= python program 140359132611000\n",
      "s1= zython zrogram 140359132610832\n"
     ]
    }
   ],
   "source": [
    "s=\"python program\"\n",
    "print \"s=\",s,id(s)\n",
    "s1=s.replace(\"p\",\"z\")\n",
    "print \"s=\",s,id(s)\n",
    "print \"s1=\",s1,id(s1)"
   ]
  },
  {
   "cell_type": "code",
   "execution_count": 5,
   "metadata": {},
   "outputs": [
    {
     "name": "stdout",
     "output_type": "stream",
     "text": [
      "l= ['a', 'b', 'c', 'd'] 140359282453248\n",
      "l= ['a', 'b', 'c', 'd', 'E'] 140359282453248\n",
      "l= ['a', 'b', 'c', 'd', 'E']\n",
      "l1= None\n"
     ]
    }
   ],
   "source": [
    "l=[\"a\",\"b\",\"c\",\"d\"]\n",
    "print \"l=\",l,id(l)\n",
    "l1=l.append(\"E\")\n",
    "print \"l=\",l,id(l)\n",
    "print \"l=\",l\n",
    "print \"l1=\",l1"
   ]
  },
  {
   "cell_type": "code",
   "execution_count": null,
   "metadata": {
    "collapsed": true
   },
   "outputs": [],
   "source": [
    "l=[\"a\",\"b\",\"c\",\"d\"]\n",
    "l1=l\n",
    "l2=[\"a\",\"b\",\"c\",\"d\"]\n",
    "l3=l.append(\"E\")\n",
    "print \"l=\",l\n",
    "print \"l1=\",l1\n",
    "print \"l2=\",l2\n",
    "print \"l3=\",l3"
   ]
  }
 ],
 "metadata": {
  "kernelspec": {
   "display_name": "Python 2",
   "language": "python",
   "name": "python2"
  },
  "language_info": {
   "codemirror_mode": {
    "name": "ipython",
    "version": 2
   },
   "file_extension": ".py",
   "mimetype": "text/x-python",
   "name": "python",
   "nbconvert_exporter": "python",
   "pygments_lexer": "ipython2",
   "version": "2.7.14"
  }
 },
 "nbformat": 4,
 "nbformat_minor": 2
}
