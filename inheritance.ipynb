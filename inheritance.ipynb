{
 "cells": [
  {
   "cell_type": "code",
   "execution_count": 1,
   "metadata": {},
   "outputs": [
    {
     "name": "stdout",
     "output_type": "stream",
     "text": [
      "this is op1 in c1\n"
     ]
    }
   ],
   "source": [
    "# calling the parent class properties in to child class\n",
    "class c1:\n",
    "    def op1(self):\n",
    "        print \"this is op1 in c1\"\n",
    "o1=c1()\n",
    "o1.op1()\n",
    "# this is not an inheritance"
   ]
  },
  {
   "cell_type": "code",
   "execution_count": 2,
   "metadata": {},
   "outputs": [
    {
     "name": "stdout",
     "output_type": "stream",
     "text": [
      "this is op2 in c2\n"
     ]
    }
   ],
   "source": [
    "# calling the parent class properties in to child class\n",
    "class c1:\n",
    "    def op1(self):\n",
    "        print \"this is op1 in c1\"\n",
    "class c2:\n",
    "    def op2(self):\n",
    "        print \"this is op2 in c2\"\n",
    "    def operations(self):\n",
    "        self.op2()\n",
    "o2=c2()\n",
    "o2.operations()\n",
    "# this is not an inheritance"
   ]
  },
  {
   "cell_type": "code",
   "execution_count": 3,
   "metadata": {},
   "outputs": [
    {
     "name": "stdout",
     "output_type": "stream",
     "text": [
      "this is op2 in c2\n"
     ]
    },
    {
     "ename": "AttributeError",
     "evalue": "c2 instance has no attribute 'op1'",
     "output_type": "error",
     "traceback": [
      "\u001b[0;31m---------------------------------------------------------------------------\u001b[0m",
      "\u001b[0;31mAttributeError\u001b[0m                            Traceback (most recent call last)",
      "\u001b[0;32m<ipython-input-3-7815d6805653>\u001b[0m in \u001b[0;36m<module>\u001b[0;34m()\u001b[0m\n\u001b[1;32m     10\u001b[0m         \u001b[0mself\u001b[0m\u001b[0;34m.\u001b[0m\u001b[0mop1\u001b[0m\u001b[0;34m(\u001b[0m\u001b[0;34m)\u001b[0m\u001b[0;34m\u001b[0m\u001b[0m\n\u001b[1;32m     11\u001b[0m \u001b[0mo2\u001b[0m\u001b[0;34m=\u001b[0m\u001b[0mc2\u001b[0m\u001b[0;34m(\u001b[0m\u001b[0;34m)\u001b[0m\u001b[0;34m\u001b[0m\u001b[0m\n\u001b[0;32m---> 12\u001b[0;31m \u001b[0mo2\u001b[0m\u001b[0;34m.\u001b[0m\u001b[0moperations\u001b[0m\u001b[0;34m(\u001b[0m\u001b[0;34m)\u001b[0m\u001b[0;34m\u001b[0m\u001b[0m\n\u001b[0m\u001b[1;32m     13\u001b[0m \u001b[0;31m# this is not an inheritance\u001b[0m\u001b[0;34m\u001b[0m\u001b[0;34m\u001b[0m\u001b[0m\n",
      "\u001b[0;32m<ipython-input-3-7815d6805653>\u001b[0m in \u001b[0;36moperations\u001b[0;34m(self)\u001b[0m\n\u001b[1;32m      8\u001b[0m     \u001b[0;32mdef\u001b[0m \u001b[0moperations\u001b[0m\u001b[0;34m(\u001b[0m\u001b[0mself\u001b[0m\u001b[0;34m)\u001b[0m\u001b[0;34m:\u001b[0m\u001b[0;34m\u001b[0m\u001b[0m\n\u001b[1;32m      9\u001b[0m         \u001b[0mself\u001b[0m\u001b[0;34m.\u001b[0m\u001b[0mop2\u001b[0m\u001b[0;34m(\u001b[0m\u001b[0;34m)\u001b[0m\u001b[0;34m\u001b[0m\u001b[0m\n\u001b[0;32m---> 10\u001b[0;31m         \u001b[0mself\u001b[0m\u001b[0;34m.\u001b[0m\u001b[0mop1\u001b[0m\u001b[0;34m(\u001b[0m\u001b[0;34m)\u001b[0m\u001b[0;34m\u001b[0m\u001b[0m\n\u001b[0m\u001b[1;32m     11\u001b[0m \u001b[0mo2\u001b[0m\u001b[0;34m=\u001b[0m\u001b[0mc2\u001b[0m\u001b[0;34m(\u001b[0m\u001b[0;34m)\u001b[0m\u001b[0;34m\u001b[0m\u001b[0m\n\u001b[1;32m     12\u001b[0m \u001b[0mo2\u001b[0m\u001b[0;34m.\u001b[0m\u001b[0moperations\u001b[0m\u001b[0;34m(\u001b[0m\u001b[0;34m)\u001b[0m\u001b[0;34m\u001b[0m\u001b[0m\n",
      "\u001b[0;31mAttributeError\u001b[0m: c2 instance has no attribute 'op1'"
     ]
    }
   ],
   "source": [
    "# calling the parent class properties in to child class\n",
    "class c1:\n",
    "    def op1(self):\n",
    "        print \"this is op1 in c1\"\n",
    "class c2:\n",
    "    def op2(self):\n",
    "        print \"this is op2 in c2\"\n",
    "    def operations(self):\n",
    "        self.op2()\n",
    "        self.op1()\n",
    "o2=c2()\n",
    "o2.operations()\n",
    "# this is not an inheritance"
   ]
  },
  {
   "cell_type": "code",
   "execution_count": 4,
   "metadata": {},
   "outputs": [
    {
     "name": "stdout",
     "output_type": "stream",
     "text": [
      "this is op2 in c2\n",
      "this is op1 in c1\n"
     ]
    }
   ],
   "source": [
    "# calling the parent class properties in to child class\n",
    "class c1:\n",
    "    def op1(self):\n",
    "        print \"this is op1 in c1\"\n",
    "class c2:\n",
    "    def op2(self):\n",
    "        print \"this is op2 in c2\"\n",
    "    def operations(self):\n",
    "        self.op2()\n",
    "        o1=c1()\n",
    "        o1.op1()\n",
    "o2=c2()\n",
    "o2.operations()\n",
    "# this is not an inheritance"
   ]
  },
  {
   "cell_type": "code",
   "execution_count": 5,
   "metadata": {},
   "outputs": [
    {
     "name": "stdout",
     "output_type": "stream",
     "text": [
      "this is op2 in c2\n",
      "this is op1 in c1\n"
     ]
    }
   ],
   "source": [
    "# calling the parent class properties in to child class using child class instance only.\n",
    "class c1:\n",
    "    def op1(self):\n",
    "        print \"this is op1 in c1\"\n",
    "class c2(c1):\n",
    "    def op2(self):\n",
    "        print \"this is op2 in c2\"\n",
    "    def operations(self):\n",
    "        self.op2()\n",
    "        self.op1()\n",
    "o2=c2()\n",
    "o2.operations()\n"
   ]
  },
  {
   "cell_type": "code",
   "execution_count": 6,
   "metadata": {},
   "outputs": [
    {
     "name": "stdout",
     "output_type": "stream",
     "text": [
      "this is op2 in c2\n",
      "this is op1 in c1\n"
     ]
    }
   ],
   "source": [
    "# calling the parent class properties in to child class using child class instance only.\n",
    "# To extend the functionalities of the class\n",
    "class c1:\n",
    "    def op1(self):\n",
    "        print \"this is op1 in c1\"\n",
    "class c2(c1):\n",
    "    def op2(self):\n",
    "        print \"this is op2 in c2\"\n",
    "    def operations(self):\n",
    "        self.op2()\n",
    "        self.op1()\n",
    "o2=c2()\n",
    "o2.operations()"
   ]
  },
  {
   "cell_type": "code",
   "execution_count": 7,
   "metadata": {},
   "outputs": [
    {
     "name": "stdout",
     "output_type": "stream",
     "text": [
      "salesdeliveryproicess\n"
     ]
    }
   ],
   "source": [
    "class sales:\n",
    "    def salesprocess(self):\n",
    "        print \"sales process\"\n",
    "    def salesinvoiceprocess(self):\n",
    "        print \"salesinvoiceprocess\"\n",
    "class SalesExtend(sales):\n",
    "    def salesdeliveryproicess(self):\n",
    "        print \"salesdeliveryproicess\"\n",
    "s=SalesExtend()\n",
    "s.salesdeliveryproicess()"
   ]
  },
  {
   "cell_type": "code",
   "execution_count": 8,
   "metadata": {},
   "outputs": [
    {
     "name": "stdout",
     "output_type": "stream",
     "text": [
      "sales process\n",
      "salesinvoiceprocess\n",
      "salesdeliveryproicess\n"
     ]
    }
   ],
   "source": [
    "class sales:\n",
    "    def salesprocess(self):\n",
    "        print \"sales process\"\n",
    "    def salesinvoiceprocess(self):\n",
    "        print \"salesinvoiceprocess\"\n",
    "class SalesExtend(sales):\n",
    "    def salesdeliveryproicess(self):\n",
    "        print \"salesdeliveryproicess\"\n",
    "s=SalesExtend()\n",
    "s.salesprocess()\n",
    "s.salesinvoiceprocess()\n",
    "s.salesdeliveryproicess()"
   ]
  },
  {
   "cell_type": "code",
   "execution_count": 9,
   "metadata": {},
   "outputs": [
    {
     "name": "stdout",
     "output_type": "stream",
     "text": [
      "this is op2 in c2\n",
      "this is op1 in c2\n"
     ]
    }
   ],
   "source": [
    "class c1:\n",
    "    def op1(self):\n",
    "        print \"this is op1 in c1\"\n",
    "class c2(c1):\n",
    "    # single level inheritance\n",
    "    def op1(self):\n",
    "        print \"this is op1 in c2\"\n",
    "    def op2(self):\n",
    "        print \"this is op2 in c2\"\n",
    "    def operations(self):\n",
    "        self.op2()\n",
    "        self.op1()\n",
    "o2=c2()\n",
    "o2.operations()"
   ]
  },
  {
   "cell_type": "code",
   "execution_count": 10,
   "metadata": {},
   "outputs": [
    {
     "name": "stdout",
     "output_type": "stream",
     "text": [
      "this is op2 in c2\n",
      "this is op1 in c2\n"
     ]
    },
    {
     "ename": "AttributeError",
     "evalue": "c2 instance has no attribute 'op3'",
     "output_type": "error",
     "traceback": [
      "\u001b[0;31m---------------------------------------------------------------------------\u001b[0m",
      "\u001b[0;31mAttributeError\u001b[0m                            Traceback (most recent call last)",
      "\u001b[0;32m<ipython-input-10-ce718437b1b4>\u001b[0m in \u001b[0;36m<module>\u001b[0;34m()\u001b[0m\n\u001b[1;32m     15\u001b[0m         \u001b[0mself\u001b[0m\u001b[0;34m.\u001b[0m\u001b[0mop3\u001b[0m\u001b[0;34m(\u001b[0m\u001b[0;34m)\u001b[0m\u001b[0;34m\u001b[0m\u001b[0m\n\u001b[1;32m     16\u001b[0m \u001b[0mo2\u001b[0m\u001b[0;34m=\u001b[0m\u001b[0mc2\u001b[0m\u001b[0;34m(\u001b[0m\u001b[0;34m)\u001b[0m\u001b[0;34m\u001b[0m\u001b[0m\n\u001b[0;32m---> 17\u001b[0;31m \u001b[0mo2\u001b[0m\u001b[0;34m.\u001b[0m\u001b[0moperations\u001b[0m\u001b[0;34m(\u001b[0m\u001b[0;34m)\u001b[0m\u001b[0;34m\u001b[0m\u001b[0m\n\u001b[0m",
      "\u001b[0;32m<ipython-input-10-ce718437b1b4>\u001b[0m in \u001b[0;36moperations\u001b[0;34m(self)\u001b[0m\n\u001b[1;32m     13\u001b[0m         \u001b[0mself\u001b[0m\u001b[0;34m.\u001b[0m\u001b[0mop2\u001b[0m\u001b[0;34m(\u001b[0m\u001b[0;34m)\u001b[0m\u001b[0;34m\u001b[0m\u001b[0m\n\u001b[1;32m     14\u001b[0m         \u001b[0mself\u001b[0m\u001b[0;34m.\u001b[0m\u001b[0mop1\u001b[0m\u001b[0;34m(\u001b[0m\u001b[0;34m)\u001b[0m\u001b[0;34m\u001b[0m\u001b[0m\n\u001b[0;32m---> 15\u001b[0;31m         \u001b[0mself\u001b[0m\u001b[0;34m.\u001b[0m\u001b[0mop3\u001b[0m\u001b[0;34m(\u001b[0m\u001b[0;34m)\u001b[0m\u001b[0;34m\u001b[0m\u001b[0m\n\u001b[0m\u001b[1;32m     16\u001b[0m \u001b[0mo2\u001b[0m\u001b[0;34m=\u001b[0m\u001b[0mc2\u001b[0m\u001b[0;34m(\u001b[0m\u001b[0;34m)\u001b[0m\u001b[0;34m\u001b[0m\u001b[0m\n\u001b[1;32m     17\u001b[0m \u001b[0mo2\u001b[0m\u001b[0;34m.\u001b[0m\u001b[0moperations\u001b[0m\u001b[0;34m(\u001b[0m\u001b[0;34m)\u001b[0m\u001b[0;34m\u001b[0m\u001b[0m\n",
      "\u001b[0;31mAttributeError\u001b[0m: c2 instance has no attribute 'op3'"
     ]
    }
   ],
   "source": [
    "class c1:\n",
    "    def op1(self):\n",
    "        print \"this is op1 in c1\"\n",
    "class c3:\n",
    "    def op3(self):\n",
    "        print \"this is op3 in c3\"\n",
    "class c2(c1):\n",
    "    def op1(self):\n",
    "        print \"this is op1 in c2\"\n",
    "    def op2(self):\n",
    "        print \"this is op2 in c2\"\n",
    "    def operations(self):\n",
    "        self.op2()\n",
    "        self.op1()\n",
    "        self.op3()\n",
    "o2=c2()\n",
    "o2.operations()"
   ]
  },
  {
   "cell_type": "code",
   "execution_count": 11,
   "metadata": {},
   "outputs": [
    {
     "name": "stdout",
     "output_type": "stream",
     "text": [
      "this is op2 in c2\n",
      "this is op1 in c2\n",
      "this is op3 in c3\n"
     ]
    }
   ],
   "source": [
    "class c1:\n",
    "    def op1(self):\n",
    "        print \"this is op1 in c1\"\n",
    "class c3:\n",
    "    def op3(self):\n",
    "        print \"this is op3 in c3\"\n",
    "class c2(c1,c3):\n",
    "    # multiple inheritance\n",
    "    def op1(self):\n",
    "        print \"this is op1 in c2\"\n",
    "    def op2(self):\n",
    "        print \"this is op2 in c2\"\n",
    "    def operations(self):\n",
    "        self.op2()\n",
    "        self.op1()\n",
    "        self.op3()\n",
    "o2=c2()\n",
    "o2.operations()"
   ]
  },
  {
   "cell_type": "code",
   "execution_count": 12,
   "metadata": {},
   "outputs": [
    {
     "name": "stdout",
     "output_type": "stream",
     "text": [
      "this is op2 in c2\n",
      "this is op1 in c1\n",
      "this is op3 in c1\n"
     ]
    }
   ],
   "source": [
    "class c1:\n",
    "    def op1(self):\n",
    "        print \"this is op1 in c1\"\n",
    "    def op3(self):\n",
    "        print \"this is op3 in c1\"\n",
    "class c3:\n",
    "    def op3(self):\n",
    "        print \"this is op3 in c3\"\n",
    "class c2(c1,c3):\n",
    "    def op2(self):\n",
    "        print \"this is op2 in c2\"\n",
    "    def operations(self):\n",
    "        self.op2()\n",
    "        self.op1()\n",
    "        self.op3()\n",
    "o2=c2()\n",
    "o2.operations()"
   ]
  },
  {
   "cell_type": "code",
   "execution_count": 13,
   "metadata": {},
   "outputs": [
    {
     "name": "stdout",
     "output_type": "stream",
     "text": [
      "this is op2 in c2\n",
      "this is op1 in c1\n",
      "this is op3 in c3\n"
     ]
    }
   ],
   "source": [
    "class c1:\n",
    "    def op1(self):\n",
    "        print \"this is op1 in c1\"\n",
    "    def op3(self):\n",
    "        print \"this is op3 in c1\"\n",
    "class c3:\n",
    "    def op3(self):\n",
    "        print \"this is op3 in c3\"\n",
    "class c2(c3,c1):\n",
    "    def op2(self):\n",
    "        print \"this is op2 in c2\"\n",
    "    def operations(self):\n",
    "        self.op2()\n",
    "        self.op1()\n",
    "        self.op3()\n",
    "o2=c2()\n",
    "o2.operations()"
   ]
  },
  {
   "cell_type": "code",
   "execution_count": 15,
   "metadata": {},
   "outputs": [
    {
     "name": "stdout",
     "output_type": "stream",
     "text": [
      "this is op2 in c2\n",
      "this is op1 in c1\n",
      "this is op3 in c2\n"
     ]
    }
   ],
   "source": [
    "class c1:\n",
    "    def op1(self):\n",
    "        print \"this is op1 in c1\"\n",
    "    def op3(self):\n",
    "        print \"this is op3 in c1\"\n",
    "class c3:\n",
    "    def op3(self):\n",
    "        print \"this is op3 in c3\"\n",
    "class c2(c3,c1):\n",
    "    def op3(self):\n",
    "        print \"this is op3 in c2\"\n",
    "    def op2(self):\n",
    "        print \"this is op2 in c2\"\n",
    "    def operations(self):\n",
    "        self.op2()\n",
    "        self.op1()\n",
    "        self.op3()\n",
    "o2=c2()\n",
    "o2.operations()"
   ]
  },
  {
   "cell_type": "code",
   "execution_count": 16,
   "metadata": {},
   "outputs": [
    {
     "name": "stdout",
     "output_type": "stream",
     "text": [
      "this is op2 in c2\n",
      "this is op1 in c1\n",
      "this is op3 in c3\n"
     ]
    }
   ],
   "source": [
    "class c1:\n",
    "    def op1(self):\n",
    "        print \"this is op1 in c1\"\n",
    "class c3(c1):\n",
    "    def op3(self):\n",
    "        print \"this is op3 in c3\"\n",
    "class c2(c3):\n",
    "    # multi level inheritance\n",
    "    def op2(self):\n",
    "        print \"this is op2 in c2\"\n",
    "    def operations(self):\n",
    "        self.op2()\n",
    "        self.op1()\n",
    "        self.op3()\n",
    "o2=c2()\n",
    "o2.operations()"
   ]
  },
  {
   "cell_type": "code",
   "execution_count": 18,
   "metadata": {},
   "outputs": [
    {
     "name": "stdout",
     "output_type": "stream",
     "text": [
      "(100, 200)\n"
     ]
    }
   ],
   "source": [
    "class c1:\n",
    "    def op1(self):\n",
    "        print \"this is op1 in c1\"\n",
    "class c2(c1):\n",
    "    def __init__(self,a,b):\n",
    "        self.a=a\n",
    "        self.b=b\n",
    "    def op2(self):\n",
    "        print \"this is op2 in c2\"\n",
    "    def get(self):\n",
    "        return self.a, self.b\n",
    "o2=c2(100,200)\n",
    "print o2.get()\n",
    "        "
   ]
  },
  {
   "cell_type": "code",
   "execution_count": 19,
   "metadata": {},
   "outputs": [
    {
     "ename": "TypeError",
     "evalue": "__init__() takes exactly 3 arguments (1 given)",
     "output_type": "error",
     "traceback": [
      "\u001b[0;31m---------------------------------------------------------------------------\u001b[0m",
      "\u001b[0;31mTypeError\u001b[0m                                 Traceback (most recent call last)",
      "\u001b[0;32m<ipython-input-19-afb97b5eb6db>\u001b[0m in \u001b[0;36m<module>\u001b[0;34m()\u001b[0m\n\u001b[1;32m     10\u001b[0m     \u001b[0;32mdef\u001b[0m \u001b[0mget\u001b[0m\u001b[0;34m(\u001b[0m\u001b[0mself\u001b[0m\u001b[0;34m)\u001b[0m\u001b[0;34m:\u001b[0m\u001b[0;34m\u001b[0m\u001b[0m\n\u001b[1;32m     11\u001b[0m         \u001b[0;32mreturn\u001b[0m \u001b[0mself\u001b[0m\u001b[0;34m.\u001b[0m\u001b[0ma\u001b[0m\u001b[0;34m,\u001b[0m \u001b[0mself\u001b[0m\u001b[0;34m.\u001b[0m\u001b[0mb\u001b[0m\u001b[0;34m\u001b[0m\u001b[0m\n\u001b[0;32m---> 12\u001b[0;31m \u001b[0mo2\u001b[0m\u001b[0;34m=\u001b[0m\u001b[0mc2\u001b[0m\u001b[0;34m(\u001b[0m\u001b[0;34m)\u001b[0m\u001b[0;34m\u001b[0m\u001b[0m\n\u001b[0m\u001b[1;32m     13\u001b[0m \u001b[0;32mprint\u001b[0m \u001b[0mo2\u001b[0m\u001b[0;34m.\u001b[0m\u001b[0mget\u001b[0m\u001b[0;34m(\u001b[0m\u001b[0;34m)\u001b[0m\u001b[0;34m\u001b[0m\u001b[0m\n\u001b[1;32m     14\u001b[0m \u001b[0;34m\u001b[0m\u001b[0m\n",
      "\u001b[0;31mTypeError\u001b[0m: __init__() takes exactly 3 arguments (1 given)"
     ]
    }
   ],
   "source": [
    "class c1:\n",
    "    def __init__(self,a,b):\n",
    "        self.a=a\n",
    "        self.b=b\n",
    "    def op1(self):\n",
    "        print \"this is op1 in c1\"\n",
    "class c2(c1):\n",
    "    def op2(self):\n",
    "        print \"this is op2 in c2\"\n",
    "    def get(self):\n",
    "        return self.a, self.b\n",
    "o2=c2()\n",
    "print o2.get()\n",
    "        "
   ]
  },
  {
   "cell_type": "code",
   "execution_count": 20,
   "metadata": {},
   "outputs": [
    {
     "name": "stdout",
     "output_type": "stream",
     "text": [
      "(100, 200)\n"
     ]
    }
   ],
   "source": [
    "class c1:\n",
    "    def __init__(self,a,b):\n",
    "        self.a=a\n",
    "        self.b=b\n",
    "    def op1(self):\n",
    "        print \"this is op1 in c1\"\n",
    "class c2(c1):\n",
    "    def op2(self):\n",
    "        print \"this is op2 in c2\"\n",
    "    def get(self):\n",
    "        return self.a, self.b\n",
    "o2=c2(100,200)\n",
    "print o2.get()\n",
    "        "
   ]
  },
  {
   "cell_type": "code",
   "execution_count": 21,
   "metadata": {},
   "outputs": [
    {
     "ename": "TypeError",
     "evalue": "__init__() takes exactly 2 arguments (3 given)",
     "output_type": "error",
     "traceback": [
      "\u001b[0;31m---------------------------------------------------------------------------\u001b[0m",
      "\u001b[0;31mTypeError\u001b[0m                                 Traceback (most recent call last)",
      "\u001b[0;32m<ipython-input-21-3ca92c16a87f>\u001b[0m in \u001b[0;36m<module>\u001b[0;34m()\u001b[0m\n\u001b[1;32m     12\u001b[0m     \u001b[0;32mdef\u001b[0m \u001b[0mget\u001b[0m\u001b[0;34m(\u001b[0m\u001b[0mself\u001b[0m\u001b[0;34m)\u001b[0m\u001b[0;34m:\u001b[0m\u001b[0;34m\u001b[0m\u001b[0m\n\u001b[1;32m     13\u001b[0m         \u001b[0;32mreturn\u001b[0m \u001b[0mself\u001b[0m\u001b[0;34m.\u001b[0m\u001b[0ma\u001b[0m\u001b[0;34m,\u001b[0m \u001b[0mself\u001b[0m\u001b[0;34m.\u001b[0m\u001b[0mb\u001b[0m\u001b[0;34m\u001b[0m\u001b[0m\n\u001b[0;32m---> 14\u001b[0;31m \u001b[0mo2\u001b[0m\u001b[0;34m=\u001b[0m\u001b[0mc2\u001b[0m\u001b[0;34m(\u001b[0m\u001b[0;36m100\u001b[0m\u001b[0;34m,\u001b[0m\u001b[0;36m200\u001b[0m\u001b[0;34m)\u001b[0m\u001b[0;34m\u001b[0m\u001b[0m\n\u001b[0m\u001b[1;32m     15\u001b[0m \u001b[0;32mprint\u001b[0m \u001b[0mo2\u001b[0m\u001b[0;34m.\u001b[0m\u001b[0mget\u001b[0m\u001b[0;34m(\u001b[0m\u001b[0;34m)\u001b[0m\u001b[0;34m\u001b[0m\u001b[0m\n\u001b[1;32m     16\u001b[0m \u001b[0;34m\u001b[0m\u001b[0m\n",
      "\u001b[0;31mTypeError\u001b[0m: __init__() takes exactly 2 arguments (3 given)"
     ]
    }
   ],
   "source": [
    "class c1:\n",
    "    def __init__(self,a,b):\n",
    "        self.a=a\n",
    "        self.b=b\n",
    "    def op1(self):\n",
    "        print \"this is op1 in c1\"\n",
    "class c2(c1):\n",
    "    def __init__(self,c):\n",
    "        self.c=c\n",
    "    def op2(self):\n",
    "        print \"this is op2 in c2\"\n",
    "    def get(self):\n",
    "        return self.a, self.b\n",
    "o2=c2(100,200)\n",
    "print o2.get()\n",
    "        "
   ]
  },
  {
   "cell_type": "code",
   "execution_count": 22,
   "metadata": {
    "collapsed": true
   },
   "outputs": [],
   "source": [
    "class c1:\n",
    "    def __init__(self,a,b):\n",
    "        self.a=a\n",
    "        self.b=b\n",
    "    def op1(self):\n",
    "        print \"this is op1 in c1\"\n",
    "class c2(c1):\n",
    "    def __init__(self,c):\n",
    "        self.c=c\n",
    "    def op2(self):\n",
    "        print \"this is op2 in c2\"\n",
    "    def get(self):\n",
    "        return self.a, self.b, self.c\n",
    "o2=c2(100)\n",
    "#print o2.get()\n",
    "        "
   ]
  },
  {
   "cell_type": "code",
   "execution_count": 23,
   "metadata": {},
   "outputs": [
    {
     "name": "stdout",
     "output_type": "stream",
     "text": [
      "100\n"
     ]
    },
    {
     "ename": "AttributeError",
     "evalue": "c2 instance has no attribute 'a'",
     "output_type": "error",
     "traceback": [
      "\u001b[0;31m---------------------------------------------------------------------------\u001b[0m",
      "\u001b[0;31mAttributeError\u001b[0m                            Traceback (most recent call last)",
      "\u001b[0;32m<ipython-input-23-b62ec0b31abe>\u001b[0m in \u001b[0;36m<module>\u001b[0;34m()\u001b[0m\n\u001b[1;32m     14\u001b[0m         \u001b[0;32mreturn\u001b[0m \u001b[0mself\u001b[0m\u001b[0;34m.\u001b[0m\u001b[0ma\u001b[0m\u001b[0;34m,\u001b[0m \u001b[0mself\u001b[0m\u001b[0;34m.\u001b[0m\u001b[0mb\u001b[0m\u001b[0;34m,\u001b[0m \u001b[0mself\u001b[0m\u001b[0;34m.\u001b[0m\u001b[0mc\u001b[0m\u001b[0;34m\u001b[0m\u001b[0m\n\u001b[1;32m     15\u001b[0m \u001b[0mo2\u001b[0m\u001b[0;34m=\u001b[0m\u001b[0mc2\u001b[0m\u001b[0;34m(\u001b[0m\u001b[0;36m100\u001b[0m\u001b[0;34m)\u001b[0m\u001b[0;34m\u001b[0m\u001b[0m\n\u001b[0;32m---> 16\u001b[0;31m \u001b[0;32mprint\u001b[0m \u001b[0mo2\u001b[0m\u001b[0;34m.\u001b[0m\u001b[0mget\u001b[0m\u001b[0;34m(\u001b[0m\u001b[0;34m)\u001b[0m\u001b[0;34m\u001b[0m\u001b[0m\n\u001b[0m\u001b[1;32m     17\u001b[0m \u001b[0;34m\u001b[0m\u001b[0m\n",
      "\u001b[0;32m<ipython-input-23-b62ec0b31abe>\u001b[0m in \u001b[0;36mget\u001b[0;34m(self)\u001b[0m\n\u001b[1;32m     12\u001b[0m     \u001b[0;32mdef\u001b[0m \u001b[0mget\u001b[0m\u001b[0;34m(\u001b[0m\u001b[0mself\u001b[0m\u001b[0;34m)\u001b[0m\u001b[0;34m:\u001b[0m\u001b[0;34m\u001b[0m\u001b[0m\n\u001b[1;32m     13\u001b[0m         \u001b[0;32mprint\u001b[0m \u001b[0mself\u001b[0m\u001b[0;34m.\u001b[0m\u001b[0mc\u001b[0m\u001b[0;34m\u001b[0m\u001b[0m\n\u001b[0;32m---> 14\u001b[0;31m         \u001b[0;32mreturn\u001b[0m \u001b[0mself\u001b[0m\u001b[0;34m.\u001b[0m\u001b[0ma\u001b[0m\u001b[0;34m,\u001b[0m \u001b[0mself\u001b[0m\u001b[0;34m.\u001b[0m\u001b[0mb\u001b[0m\u001b[0;34m,\u001b[0m \u001b[0mself\u001b[0m\u001b[0;34m.\u001b[0m\u001b[0mc\u001b[0m\u001b[0;34m\u001b[0m\u001b[0m\n\u001b[0m\u001b[1;32m     15\u001b[0m \u001b[0mo2\u001b[0m\u001b[0;34m=\u001b[0m\u001b[0mc2\u001b[0m\u001b[0;34m(\u001b[0m\u001b[0;36m100\u001b[0m\u001b[0;34m)\u001b[0m\u001b[0;34m\u001b[0m\u001b[0m\n\u001b[1;32m     16\u001b[0m \u001b[0;32mprint\u001b[0m \u001b[0mo2\u001b[0m\u001b[0;34m.\u001b[0m\u001b[0mget\u001b[0m\u001b[0;34m(\u001b[0m\u001b[0;34m)\u001b[0m\u001b[0;34m\u001b[0m\u001b[0m\n",
      "\u001b[0;31mAttributeError\u001b[0m: c2 instance has no attribute 'a'"
     ]
    }
   ],
   "source": [
    "class c1:\n",
    "    def __init__(self,a,b):\n",
    "        self.a=a\n",
    "        self.b=b\n",
    "    def op1(self):\n",
    "        print \"this is op1 in c1\"\n",
    "class c2(c1):\n",
    "    def __init__(self,c):\n",
    "        self.c=c\n",
    "    def op2(self):\n",
    "        print \"this is op2 in c2\"\n",
    "    def get(self):\n",
    "        print self.c\n",
    "        return self.a, self.b, self.c\n",
    "o2=c2(100)\n",
    "print o2.get()\n",
    "        "
   ]
  },
  {
   "cell_type": "code",
   "execution_count": 25,
   "metadata": {},
   "outputs": [
    {
     "name": "stdout",
     "output_type": "stream",
     "text": [
      "1000\n",
      "2000\n",
      "100\n"
     ]
    },
    {
     "ename": "AttributeError",
     "evalue": "c2 instance has no attribute 'a'",
     "output_type": "error",
     "traceback": [
      "\u001b[0;31m---------------------------------------------------------------------------\u001b[0m",
      "\u001b[0;31mAttributeError\u001b[0m                            Traceback (most recent call last)",
      "\u001b[0;32m<ipython-input-25-1e7b34c5bd2d>\u001b[0m in \u001b[0;36m<module>\u001b[0;34m()\u001b[0m\n\u001b[1;32m     18\u001b[0m \u001b[0;32mprint\u001b[0m \u001b[0mo1\u001b[0m\u001b[0;34m.\u001b[0m\u001b[0ma\u001b[0m\u001b[0;34m\u001b[0m\u001b[0m\n\u001b[1;32m     19\u001b[0m \u001b[0;32mprint\u001b[0m \u001b[0mo1\u001b[0m\u001b[0;34m.\u001b[0m\u001b[0mb\u001b[0m\u001b[0;34m\u001b[0m\u001b[0m\n\u001b[0;32m---> 20\u001b[0;31m \u001b[0;32mprint\u001b[0m \u001b[0mo2\u001b[0m\u001b[0;34m.\u001b[0m\u001b[0mget\u001b[0m\u001b[0;34m(\u001b[0m\u001b[0;34m)\u001b[0m\u001b[0;34m\u001b[0m\u001b[0m\n\u001b[0m\u001b[1;32m     21\u001b[0m \u001b[0;34m\u001b[0m\u001b[0m\n",
      "\u001b[0;32m<ipython-input-25-1e7b34c5bd2d>\u001b[0m in \u001b[0;36mget\u001b[0;34m(self)\u001b[0m\n\u001b[1;32m     13\u001b[0m     \u001b[0;32mdef\u001b[0m \u001b[0mget\u001b[0m\u001b[0;34m(\u001b[0m\u001b[0mself\u001b[0m\u001b[0;34m)\u001b[0m\u001b[0;34m:\u001b[0m\u001b[0;34m\u001b[0m\u001b[0m\n\u001b[1;32m     14\u001b[0m         \u001b[0;32mprint\u001b[0m \u001b[0mself\u001b[0m\u001b[0;34m.\u001b[0m\u001b[0mc\u001b[0m\u001b[0;34m\u001b[0m\u001b[0m\n\u001b[0;32m---> 15\u001b[0;31m         \u001b[0;32mreturn\u001b[0m \u001b[0mself\u001b[0m\u001b[0;34m.\u001b[0m\u001b[0ma\u001b[0m\u001b[0;34m,\u001b[0m \u001b[0mself\u001b[0m\u001b[0;34m.\u001b[0m\u001b[0mb\u001b[0m\u001b[0;34m,\u001b[0m \u001b[0mself\u001b[0m\u001b[0;34m.\u001b[0m\u001b[0mc\u001b[0m\u001b[0;34m\u001b[0m\u001b[0m\n\u001b[0m\u001b[1;32m     16\u001b[0m \u001b[0mo2\u001b[0m\u001b[0;34m=\u001b[0m\u001b[0mc2\u001b[0m\u001b[0;34m(\u001b[0m\u001b[0;36m100\u001b[0m\u001b[0;34m)\u001b[0m\u001b[0;34m\u001b[0m\u001b[0m\n\u001b[1;32m     17\u001b[0m \u001b[0mo1\u001b[0m\u001b[0;34m=\u001b[0m\u001b[0mc1\u001b[0m\u001b[0;34m(\u001b[0m\u001b[0;36m1000\u001b[0m\u001b[0;34m,\u001b[0m\u001b[0;36m2000\u001b[0m\u001b[0;34m)\u001b[0m\u001b[0;34m\u001b[0m\u001b[0m\n",
      "\u001b[0;31mAttributeError\u001b[0m: c2 instance has no attribute 'a'"
     ]
    }
   ],
   "source": [
    "class c1:\n",
    "    def __init__(self,a,b):\n",
    "        self.a=a\n",
    "        self.b=b\n",
    "    def op1(self):\n",
    "        print \"this is op1 in c1\"\n",
    "        \n",
    "class c2(c1):\n",
    "    def __init__(self,c):\n",
    "        self.c=c\n",
    "    def op2(self):\n",
    "        print \"this is op2 in c2\"\n",
    "    def get(self):\n",
    "        print self.c\n",
    "        return self.a, self.b, self.c\n",
    "o2=c2(100)\n",
    "o1=c1(1000,2000)\n",
    "print o1.a\n",
    "print o1.b\n",
    "print o2.get()\n",
    "        "
   ]
  },
  {
   "cell_type": "code",
   "execution_count": 26,
   "metadata": {},
   "outputs": [
    {
     "name": "stdout",
     "output_type": "stream",
     "text": [
      "100\n",
      "(1000, 2000, 100)\n"
     ]
    }
   ],
   "source": [
    "class c1:\n",
    "    def __init__(self,a,b):\n",
    "        self.a=a\n",
    "        self.b=b\n",
    "    def op1(self):\n",
    "        print \"this is op1 in c1\"\n",
    "        \n",
    "class c2(c1):\n",
    "    def __init__(self,c,a,b):\n",
    "        self.c=c\n",
    "        self.a=a\n",
    "        self.b=b\n",
    "    def op2(self):\n",
    "        print \"this is op2 in c2\"\n",
    "    def get(self):\n",
    "        print self.c\n",
    "        return self.a, self.b, self.c\n",
    "o2=c2(100,1000,2000)\n",
    "print o2.get()\n",
    "        "
   ]
  },
  {
   "cell_type": "code",
   "execution_count": 27,
   "metadata": {},
   "outputs": [
    {
     "ename": "TypeError",
     "evalue": "__init__() takes exactly 4 arguments (3 given)",
     "output_type": "error",
     "traceback": [
      "\u001b[0;31m---------------------------------------------------------------------------\u001b[0m",
      "\u001b[0;31mTypeError\u001b[0m                                 Traceback (most recent call last)",
      "\u001b[0;32m<ipython-input-27-fa968d95c836>\u001b[0m in \u001b[0;36m<module>\u001b[0;34m()\u001b[0m\n\u001b[1;32m     17\u001b[0m         \u001b[0;32mprint\u001b[0m \u001b[0mself\u001b[0m\u001b[0;34m.\u001b[0m\u001b[0mc\u001b[0m\u001b[0;34m\u001b[0m\u001b[0m\n\u001b[1;32m     18\u001b[0m         \u001b[0;32mreturn\u001b[0m \u001b[0mself\u001b[0m\u001b[0;34m.\u001b[0m\u001b[0ma\u001b[0m\u001b[0;34m,\u001b[0m \u001b[0mself\u001b[0m\u001b[0;34m.\u001b[0m\u001b[0mb\u001b[0m\u001b[0;34m,\u001b[0m \u001b[0mself\u001b[0m\u001b[0;34m.\u001b[0m\u001b[0mc\u001b[0m\u001b[0;34m\u001b[0m\u001b[0m\n\u001b[0;32m---> 19\u001b[0;31m \u001b[0mo2\u001b[0m\u001b[0;34m=\u001b[0m\u001b[0mc2\u001b[0m\u001b[0;34m(\u001b[0m\u001b[0;36m100\u001b[0m\u001b[0;34m,\u001b[0m\u001b[0;36m1000\u001b[0m\u001b[0;34m,\u001b[0m\u001b[0;36m2000\u001b[0m\u001b[0;34m)\u001b[0m\u001b[0;34m\u001b[0m\u001b[0m\n\u001b[0m\u001b[1;32m     20\u001b[0m \u001b[0;32mprint\u001b[0m \u001b[0mo2\u001b[0m\u001b[0;34m.\u001b[0m\u001b[0mget\u001b[0m\u001b[0;34m(\u001b[0m\u001b[0;34m)\u001b[0m\u001b[0;34m\u001b[0m\u001b[0m\n\u001b[1;32m     21\u001b[0m \u001b[0;34m\u001b[0m\u001b[0m\n",
      "\u001b[0;32m<ipython-input-27-fa968d95c836>\u001b[0m in \u001b[0;36m__init__\u001b[0;34m(self, c, a, b)\u001b[0m\n\u001b[1;32m      9\u001b[0m     \u001b[0;32mdef\u001b[0m \u001b[0m__init__\u001b[0m\u001b[0;34m(\u001b[0m\u001b[0mself\u001b[0m\u001b[0;34m,\u001b[0m\u001b[0mc\u001b[0m\u001b[0;34m,\u001b[0m\u001b[0ma\u001b[0m\u001b[0;34m,\u001b[0m\u001b[0mb\u001b[0m\u001b[0;34m)\u001b[0m\u001b[0;34m:\u001b[0m\u001b[0;34m\u001b[0m\u001b[0m\n\u001b[1;32m     10\u001b[0m         \u001b[0mself\u001b[0m\u001b[0;34m.\u001b[0m\u001b[0mc\u001b[0m\u001b[0;34m=\u001b[0m\u001b[0mc\u001b[0m\u001b[0;34m\u001b[0m\u001b[0m\n\u001b[0;32m---> 11\u001b[0;31m         \u001b[0mself\u001b[0m\u001b[0;34m.\u001b[0m\u001b[0m__init__\u001b[0m\u001b[0;34m(\u001b[0m\u001b[0ma\u001b[0m\u001b[0;34m,\u001b[0m\u001b[0mb\u001b[0m\u001b[0;34m)\u001b[0m\u001b[0;34m\u001b[0m\u001b[0m\n\u001b[0m\u001b[1;32m     12\u001b[0m         \u001b[0;31m#self.a=a\u001b[0m\u001b[0;34m\u001b[0m\u001b[0;34m\u001b[0m\u001b[0m\n\u001b[1;32m     13\u001b[0m         \u001b[0;31m#self.b=b\u001b[0m\u001b[0;34m\u001b[0m\u001b[0;34m\u001b[0m\u001b[0m\n",
      "\u001b[0;31mTypeError\u001b[0m: __init__() takes exactly 4 arguments (3 given)"
     ]
    }
   ],
   "source": [
    "class c1:\n",
    "    def __init__(self,a,b):\n",
    "        self.a=a\n",
    "        self.b=b\n",
    "    def op1(self):\n",
    "        print \"this is op1 in c1\"\n",
    "        \n",
    "class c2(c1):\n",
    "    def __init__(self,c,a,b):\n",
    "        self.c=c\n",
    "        self.__init__(a,b)\n",
    "        #self.a=a\n",
    "        #self.b=b\n",
    "    def op2(self):\n",
    "        print \"this is op2 in c2\"\n",
    "    def get(self):\n",
    "        print self.c\n",
    "        return self.a, self.b, self.c\n",
    "o2=c2(100,1000,2000)\n",
    "print o2.get()\n",
    "        "
   ]
  },
  {
   "cell_type": "code",
   "execution_count": 28,
   "metadata": {},
   "outputs": [
    {
     "name": "stdout",
     "output_type": "stream",
     "text": [
      "100\n",
      "(1000, 2000, 100)\n"
     ]
    }
   ],
   "source": [
    "class c1:\n",
    "    def __init__(self,a,b):\n",
    "        self.a=a\n",
    "        self.b=b\n",
    "    def op1(self):\n",
    "        print \"this is op1 in c1\"\n",
    "        \n",
    "class c2(c1):\n",
    "    def __init__(self,c,a,b):\n",
    "        self.c=c\n",
    "        #self.__init__(a,b)\n",
    "        c1.__init__(self, a,b)\n",
    "        #self.a=a\n",
    "        #self.b=b\n",
    "    def op2(self):\n",
    "        print \"this is op2 in c2\"\n",
    "    def get(self):\n",
    "        print self.c\n",
    "        return self.a, self.b, self.c\n",
    "o2=c2(100,1000,2000)\n",
    "print o2.get()\n",
    "        "
   ]
  },
  {
   "cell_type": "code",
   "execution_count": 31,
   "metadata": {},
   "outputs": [
    {
     "name": "stdout",
     "output_type": "stream",
     "text": [
      "per: 10\n",
      "('Anil', 23, 11000.0)\n"
     ]
    }
   ],
   "source": [
    "# encapsulation\n",
    "class emp:\n",
    "    def __init__(self, name,age,sal,incp):\n",
    "        self.name=name\n",
    "        self.age=age\n",
    "        self.sal=sal\n",
    "        self.incp = incp\n",
    "    def get(self):\n",
    "        print \"per:\",self.incp\n",
    "        u_sal=self.sal+(self.sal*(self.incp/100.0))\n",
    "        return self.name,self.age,u_sal\n",
    "anil=emp(\"Anil\",23,10000,10)\n",
    "print anil.get()"
   ]
  },
  {
   "cell_type": "code",
   "execution_count": 32,
   "metadata": {},
   "outputs": [
    {
     "name": "stdout",
     "output_type": "stream",
     "text": [
      "per: 10\n",
      "('Anil', 23, 11000.0)\n",
      "per: 30\n",
      "('Anil', 23, 13000.0)\n"
     ]
    }
   ],
   "source": [
    "# encapsulation\n",
    "class emp:\n",
    "    def __init__(self, name,age,sal,incp):\n",
    "        self.name=name\n",
    "        self.age=age\n",
    "        self.sal=sal\n",
    "        self.incp = incp\n",
    "    def get(self):\n",
    "        print \"per:\",self.incp\n",
    "        u_sal=self.sal+(self.sal*(self.incp/100.0))\n",
    "        return self.name,self.age,u_sal\n",
    "anil=emp(\"Anil\",23,10000,10)\n",
    "print anil.get()\n",
    "anil.incp=30\n",
    "print anil.get()"
   ]
  },
  {
   "cell_type": "code",
   "execution_count": 33,
   "metadata": {},
   "outputs": [
    {
     "name": "stdout",
     "output_type": "stream",
     "text": [
      "per: 100\n",
      "('Anil', 23, 20000.0)\n"
     ]
    }
   ],
   "source": [
    "# encapsulation\n",
    "class emp:\n",
    "    def __init__(self, name,age,sal,incp):\n",
    "        self.name=name\n",
    "        self.age=age\n",
    "        self.sal=sal\n",
    "        self.incp = incp\n",
    "    def get(self):\n",
    "        print \"per:\",self.incp\n",
    "        u_sal=self.sal+(self.sal*(self.incp/100.0))\n",
    "        return self.name,self.age,u_sal\n",
    "anil=emp(\"Anil\",23,10000,10)\n",
    "if anil.name==\"Anil\":\n",
    "    anil.incp=100\n",
    "print anil.get()\n"
   ]
  },
  {
   "cell_type": "code",
   "execution_count": 35,
   "metadata": {},
   "outputs": [
    {
     "name": "stdout",
     "output_type": "stream",
     "text": [
      "per: 10\n",
      "('Anil', 23, 11000.0)\n"
     ]
    }
   ],
   "source": [
    "# encapsulation\n",
    "class emp:\n",
    "    def __init__(self, name,age,sal,incp):\n",
    "        self.name=name\n",
    "        self.age=age\n",
    "        self.__sal=sal\n",
    "        # secured attribute\n",
    "        self.__incp = incp\n",
    "        # secured attribute\n",
    "    def get(self):\n",
    "        print \"per:\",self.__incp\n",
    "        u_sal=self.__sal+(self.__sal*(self.__incp/100.0))\n",
    "        return self.name,self.age,u_sal\n",
    "anil=emp(\"Anil\",23,10000,10)\n",
    "if anil.name==\"Anil\":\n",
    "    anil.__incp=100\n",
    "print anil.get()\n"
   ]
  },
  {
   "cell_type": "code",
   "execution_count": 36,
   "metadata": {},
   "outputs": [
    {
     "name": "stdout",
     "output_type": "stream",
     "text": [
      "this is secutred method\n",
      "per: 10\n",
      "('Anil', 23, 11000.0)\n"
     ]
    }
   ],
   "source": [
    "# encapsulation\n",
    "class emp:\n",
    "    def __init__(self, name,age,sal,incp):\n",
    "        self.name=name\n",
    "        self.age=age\n",
    "        self.__sal=sal\n",
    "        # secured attribute\n",
    "        self.__incp = incp\n",
    "        # secured attribute\n",
    "    def __sec(self):\n",
    "        print \"this is secutred method\"\n",
    "    def get(self):\n",
    "        self.__sec()\n",
    "        print \"per:\",self.__incp\n",
    "        u_sal=self.__sal+(self.__sal*(self.__incp/100.0))\n",
    "        return self.name,self.age,u_sal\n",
    "anil=emp(\"Anil\",23,10000,10)\n",
    "if anil.name==\"Anil\":\n",
    "    anil.__incp=100\n",
    "print anil.get()\n"
   ]
  },
  {
   "cell_type": "code",
   "execution_count": 37,
   "metadata": {},
   "outputs": [
    {
     "name": "stdout",
     "output_type": "stream",
     "text": [
      "this is secutred method\n",
      "per: 10\n",
      "('Anil', 23, 11000.0)\n"
     ]
    },
    {
     "ename": "AttributeError",
     "evalue": "emp instance has no attribute '__sec'",
     "output_type": "error",
     "traceback": [
      "\u001b[0;31m---------------------------------------------------------------------------\u001b[0m",
      "\u001b[0;31mAttributeError\u001b[0m                            Traceback (most recent call last)",
      "\u001b[0;32m<ipython-input-37-9c8e0090358f>\u001b[0m in \u001b[0;36m<module>\u001b[0;34m()\u001b[0m\n\u001b[1;32m     19\u001b[0m     \u001b[0manil\u001b[0m\u001b[0;34m.\u001b[0m\u001b[0m__incp\u001b[0m\u001b[0;34m=\u001b[0m\u001b[0;36m100\u001b[0m\u001b[0;34m\u001b[0m\u001b[0m\n\u001b[1;32m     20\u001b[0m \u001b[0;32mprint\u001b[0m \u001b[0manil\u001b[0m\u001b[0;34m.\u001b[0m\u001b[0mget\u001b[0m\u001b[0;34m(\u001b[0m\u001b[0;34m)\u001b[0m\u001b[0;34m\u001b[0m\u001b[0m\n\u001b[0;32m---> 21\u001b[0;31m \u001b[0manil\u001b[0m\u001b[0;34m.\u001b[0m\u001b[0m__sec\u001b[0m\u001b[0;34m(\u001b[0m\u001b[0;34m)\u001b[0m\u001b[0;34m\u001b[0m\u001b[0m\n\u001b[0m",
      "\u001b[0;31mAttributeError\u001b[0m: emp instance has no attribute '__sec'"
     ]
    }
   ],
   "source": [
    "# encapsulation\n",
    "class emp:\n",
    "    def __init__(self, name,age,sal,incp):\n",
    "        self.name=name\n",
    "        self.age=age\n",
    "        self.__sal=sal\n",
    "        # secured attribute\n",
    "        self.__incp = incp\n",
    "        # secured attribute\n",
    "    def __sec(self):\n",
    "        print \"this is secutred method\"\n",
    "    def get(self):\n",
    "        self.__sec()\n",
    "        print \"per:\",self.__incp\n",
    "        u_sal=self.__sal+(self.__sal*(self.__incp/100.0))\n",
    "        return self.name,self.age,u_sal\n",
    "anil=emp(\"Anil\",23,10000,10)\n",
    "if anil.name==\"Anil\":\n",
    "    anil.__incp=100\n",
    "print anil.get()\n",
    "anil.__sec()"
   ]
  },
  {
   "cell_type": "code",
   "execution_count": 38,
   "metadata": {},
   "outputs": [
    {
     "name": "stdout",
     "output_type": "stream",
     "text": [
      "this is secutred method\n",
      "per: 10\n",
      "('Anil', 23, 11000.0)\n",
      "this is secutred method\n"
     ]
    }
   ],
   "source": [
    "# encapsulation\n",
    "class emp:\n",
    "    def __init__(self, name,age,sal,incp):\n",
    "        self.name=name\n",
    "        self.age=age\n",
    "        self.__sal=sal\n",
    "        # secured attribute\n",
    "        self.__incp = incp\n",
    "        # secured attribute\n",
    "    def __sec__(self):\n",
    "        print \"this is secutred method\"\n",
    "    def get(self):\n",
    "        self.__sec__()\n",
    "        print \"per:\",self.__incp\n",
    "        u_sal=self.__sal+(self.__sal*(self.__incp/100.0))\n",
    "        return self.name,self.age,u_sal\n",
    "anil=emp(\"Anil\",23,10000,10)\n",
    "if anil.name==\"Anil\":\n",
    "    anil.__incp=100\n",
    "print anil.get()\n",
    "anil.__sec__()"
   ]
  },
  {
   "cell_type": "code",
   "execution_count": null,
   "metadata": {
    "collapsed": true
   },
   "outputs": [],
   "source": []
  }
 ],
 "metadata": {
  "kernelspec": {
   "display_name": "Python 2",
   "language": "python",
   "name": "python2"
  },
  "language_info": {
   "codemirror_mode": {
    "name": "ipython",
    "version": 2
   },
   "file_extension": ".py",
   "mimetype": "text/x-python",
   "name": "python",
   "nbconvert_exporter": "python",
   "pygments_lexer": "ipython2",
   "version": "2.7.14"
  }
 },
 "nbformat": 4,
 "nbformat_minor": 2
}
