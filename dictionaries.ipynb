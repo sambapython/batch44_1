{
 "cells": [
  {
   "cell_type": "code",
   "execution_count": 1,
   "metadata": {},
   "outputs": [
    {
     "ename": "TypeError",
     "evalue": "unsupported operand type(s) for +: 'dict' and 'dict'",
     "output_type": "error",
     "traceback": [
      "\u001b[0;31m---------------------------------------------------------------------------\u001b[0m",
      "\u001b[0;31mTypeError\u001b[0m                                 Traceback (most recent call last)",
      "\u001b[0;32m<ipython-input-1-a68a25bedf49>\u001b[0m in \u001b[0;36m<module>\u001b[0;34m()\u001b[0m\n\u001b[1;32m      1\u001b[0m \u001b[0md1\u001b[0m\u001b[0;34m=\u001b[0m\u001b[0;34m{\u001b[0m\u001b[0;34m\"name\"\u001b[0m\u001b[0;34m:\u001b[0m\u001b[0;34m\"anil\"\u001b[0m\u001b[0;34m,\u001b[0m\u001b[0;34m\"age\"\u001b[0m\u001b[0;34m:\u001b[0m\u001b[0;36m23\u001b[0m\u001b[0;34m,\u001b[0m \u001b[0;34m\"Height\"\u001b[0m\u001b[0;34m:\u001b[0m\u001b[0;36m5.6\u001b[0m\u001b[0;34m}\u001b[0m\u001b[0;34m\u001b[0m\u001b[0m\n\u001b[1;32m      2\u001b[0m \u001b[0md2\u001b[0m\u001b[0;34m=\u001b[0m\u001b[0;34m{\u001b[0m\u001b[0;34m\"state\"\u001b[0m\u001b[0;34m:\u001b[0m\u001b[0;34m\"TS\"\u001b[0m\u001b[0;34m,\u001b[0m\u001b[0;34m\"city\"\u001b[0m\u001b[0;34m:\u001b[0m\u001b[0;34m\"Hyderabad\"\u001b[0m\u001b[0;34m,\u001b[0m\u001b[0;34m'street'\u001b[0m\u001b[0;34m:\u001b[0m\u001b[0;34m\"maithrivanam\"\u001b[0m\u001b[0;34m}\u001b[0m\u001b[0;34m\u001b[0m\u001b[0m\n\u001b[0;32m----> 3\u001b[0;31m \u001b[0md1\u001b[0m\u001b[0;34m+\u001b[0m\u001b[0md2\u001b[0m\u001b[0;34m\u001b[0m\u001b[0m\n\u001b[0m",
      "\u001b[0;31mTypeError\u001b[0m: unsupported operand type(s) for +: 'dict' and 'dict'"
     ]
    }
   ],
   "source": [
    "d1={\"name\":\"anil\",\"age\":23, \"Height\":5.6}\n",
    "d2={\"state\":\"TS\",\"city\":\"Hyderabad\",'street':\"maithrivanam\"}\n",
    "d1+d2\n"
   ]
  },
  {
   "cell_type": "code",
   "execution_count": 2,
   "metadata": {},
   "outputs": [
    {
     "ename": "TypeError",
     "evalue": "unsupported operand type(s) for -: 'dict' and 'dict'",
     "output_type": "error",
     "traceback": [
      "\u001b[0;31m---------------------------------------------------------------------------\u001b[0m",
      "\u001b[0;31mTypeError\u001b[0m                                 Traceback (most recent call last)",
      "\u001b[0;32m<ipython-input-2-89b22518d8d2>\u001b[0m in \u001b[0;36m<module>\u001b[0;34m()\u001b[0m\n\u001b[0;32m----> 1\u001b[0;31m \u001b[0md1\u001b[0m\u001b[0;34m-\u001b[0m\u001b[0md2\u001b[0m\u001b[0;34m\u001b[0m\u001b[0m\n\u001b[0m",
      "\u001b[0;31mTypeError\u001b[0m: unsupported operand type(s) for -: 'dict' and 'dict'"
     ]
    }
   ],
   "source": [
    "d1-d2"
   ]
  },
  {
   "cell_type": "code",
   "execution_count": 3,
   "metadata": {},
   "outputs": [
    {
     "ename": "TypeError",
     "evalue": "unsupported operand type(s) for *: 'dict' and 'dict'",
     "output_type": "error",
     "traceback": [
      "\u001b[0;31m---------------------------------------------------------------------------\u001b[0m",
      "\u001b[0;31mTypeError\u001b[0m                                 Traceback (most recent call last)",
      "\u001b[0;32m<ipython-input-3-7619671121f5>\u001b[0m in \u001b[0;36m<module>\u001b[0;34m()\u001b[0m\n\u001b[0;32m----> 1\u001b[0;31m \u001b[0md1\u001b[0m\u001b[0;34m*\u001b[0m\u001b[0md2\u001b[0m\u001b[0;34m\u001b[0m\u001b[0m\n\u001b[0m",
      "\u001b[0;31mTypeError\u001b[0m: unsupported operand type(s) for *: 'dict' and 'dict'"
     ]
    }
   ],
   "source": [
    "d1*d2"
   ]
  },
  {
   "cell_type": "code",
   "execution_count": 4,
   "metadata": {},
   "outputs": [
    {
     "name": "stdout",
     "output_type": "stream",
     "text": [
      "{'age': 23, 'name': 'Anil kumar', 'Height': 5.6}\n"
     ]
    }
   ],
   "source": [
    "d1={\"name\":\"anil\",\"age\":23, \"Height\":5.6}\n",
    "d2={\"state\":\"TS\",\"city\":\"Hyderabad\",'street':\"maithrivanam\"}\n",
    "d1[\"name\"]=\"Anil kumar\"\n",
    "print d1"
   ]
  },
  {
   "cell_type": "code",
   "execution_count": 5,
   "metadata": {},
   "outputs": [
    {
     "name": "stdout",
     "output_type": "stream",
     "text": [
      "{'cell': 9676622023, 'age': 23, 'name': 'Anil kumar', 'Height': 5.6}\n"
     ]
    }
   ],
   "source": [
    "d1={\"name\":\"anil\",\"age\":23, \"Height\":5.6}\n",
    "d2={\"state\":\"TS\",\"city\":\"Hyderabad\",'street':\"maithrivanam\"}\n",
    "d1[\"name\"]=\"Anil kumar\"\n",
    "d1[\"cell\"]=9676622023\n",
    "print d1"
   ]
  },
  {
   "cell_type": "code",
   "execution_count": 6,
   "metadata": {},
   "outputs": [
    {
     "name": "stdout",
     "output_type": "stream",
     "text": [
      "{'cell': 9676622023, 'name': 'Anil kumar', 'passport': '1234qwertgh', 'age': 23, 'adhar': 'asdfghj', 'Height': 5.6}\n"
     ]
    }
   ],
   "source": [
    "d1={\"name\":\"anil\",\"age\":23, \"Height\":5.6}\n",
    "d2={\"state\":\"TS\",\"city\":\"Hyderabad\",'street':\"maithrivanam\"}\n",
    "d1[\"name\"]=\"Anil kumar\"\n",
    "d1[\"cell\"]=9676622023\n",
    "d1.update({\"adhar\":\"asdfghj\",\"passport\":\"1234qwertgh\"})\n",
    "print d1"
   ]
  },
  {
   "cell_type": "code",
   "execution_count": 7,
   "metadata": {},
   "outputs": [
    {
     "name": "stdout",
     "output_type": "stream",
     "text": [
      "{'cell': 9676622023, 'empid': 228, 'name': 'Anil kumar', 'passport': '1234qwertgh', 'age': 23, 'adhar': 'asdfghj', 'Height': 5.6}\n"
     ]
    }
   ],
   "source": [
    "d1={\"name\":\"anil\",\"age\":23, \"Height\":5.6}\n",
    "d2={\"state\":\"TS\",\"city\":\"Hyderabad\",'street':\"maithrivanam\"}\n",
    "d1[\"name\"]=\"Anil kumar\"\n",
    "d1[\"cell\"]=9676622023\n",
    "d1.update({\"adhar\":\"asdfghj\",\"passport\":\"1234qwertgh\"})\n",
    "d1.setdefault(\"empid\",228)\n",
    "print d1"
   ]
  },
  {
   "cell_type": "code",
   "execution_count": 8,
   "metadata": {},
   "outputs": [
    {
     "name": "stdout",
     "output_type": "stream",
     "text": [
      "{'cell': 9676622023, 'empid': 228, 'name': 'Anil kumar', 'passport': '1234qwertgh', 'age': 23, 'adhar': 'asdfghj', 'Height': 5.6}\n"
     ]
    }
   ],
   "source": [
    "print d1"
   ]
  },
  {
   "cell_type": "code",
   "execution_count": 10,
   "metadata": {},
   "outputs": [
    {
     "name": "stdout",
     "output_type": "stream",
     "text": [
      "9676622023\n",
      "9676622023\n",
      "9676622023\n"
     ]
    }
   ],
   "source": [
    "print d1[\"cell\"]\n",
    "print d1.get(\"cell\")\n",
    "print \"%(cell)s\"%d1"
   ]
  },
  {
   "cell_type": "code",
   "execution_count": 11,
   "metadata": {},
   "outputs": [
    {
     "name": "stdout",
     "output_type": "stream",
     "text": [
      "9676622023\n",
      "9676622023\n",
      "9676622023,228\n"
     ]
    }
   ],
   "source": [
    "print d1[\"cell\"]\n",
    "print d1.get(\"cell\")\n",
    "print \"%(cell)s,%(empid)s\"%d1"
   ]
  },
  {
   "cell_type": "code",
   "execution_count": 12,
   "metadata": {},
   "outputs": [
    {
     "name": "stdout",
     "output_type": "stream",
     "text": [
      "9676622023\n",
      "9676622023\n"
     ]
    },
    {
     "ename": "KeyError",
     "evalue": "'werty'",
     "output_type": "error",
     "traceback": [
      "\u001b[0;31m---------------------------------------------------------------------------\u001b[0m",
      "\u001b[0;31mKeyError\u001b[0m                                  Traceback (most recent call last)",
      "\u001b[0;32m<ipython-input-12-f416945a1f62>\u001b[0m in \u001b[0;36m<module>\u001b[0;34m()\u001b[0m\n\u001b[1;32m      1\u001b[0m \u001b[0;32mprint\u001b[0m \u001b[0md1\u001b[0m\u001b[0;34m[\u001b[0m\u001b[0;34m\"cell\"\u001b[0m\u001b[0;34m]\u001b[0m\u001b[0;34m\u001b[0m\u001b[0m\n\u001b[1;32m      2\u001b[0m \u001b[0;32mprint\u001b[0m \u001b[0md1\u001b[0m\u001b[0;34m.\u001b[0m\u001b[0mget\u001b[0m\u001b[0;34m(\u001b[0m\u001b[0;34m\"cell\"\u001b[0m\u001b[0;34m)\u001b[0m\u001b[0;34m\u001b[0m\u001b[0m\n\u001b[0;32m----> 3\u001b[0;31m \u001b[0;32mprint\u001b[0m \u001b[0;34m\"%(cell)s,%(empid)s,%(werty)s\"\u001b[0m\u001b[0;34m%\u001b[0m\u001b[0md1\u001b[0m\u001b[0;34m\u001b[0m\u001b[0m\n\u001b[0m",
      "\u001b[0;31mKeyError\u001b[0m: 'werty'"
     ]
    }
   ],
   "source": [
    "print d1[\"cell\"]\n",
    "print d1.get(\"cell\")\n",
    "print \"%(cell)s,%(empid)s,%(werty)s\"%d1"
   ]
  },
  {
   "cell_type": "code",
   "execution_count": 13,
   "metadata": {},
   "outputs": [
    {
     "ename": "KeyError",
     "evalue": "'werty'",
     "output_type": "error",
     "traceback": [
      "\u001b[0;31m---------------------------------------------------------------------------\u001b[0m",
      "\u001b[0;31mKeyError\u001b[0m                                  Traceback (most recent call last)",
      "\u001b[0;32m<ipython-input-13-10ced8300134>\u001b[0m in \u001b[0;36m<module>\u001b[0;34m()\u001b[0m\n\u001b[0;32m----> 1\u001b[0;31m \u001b[0;32mprint\u001b[0m \u001b[0md1\u001b[0m\u001b[0;34m[\u001b[0m\u001b[0;34m\"werty\"\u001b[0m\u001b[0;34m]\u001b[0m\u001b[0;34m\u001b[0m\u001b[0m\n\u001b[0m",
      "\u001b[0;31mKeyError\u001b[0m: 'werty'"
     ]
    }
   ],
   "source": [
    "print d1[\"werty\"]"
   ]
  },
  {
   "cell_type": "code",
   "execution_count": 14,
   "metadata": {},
   "outputs": [
    {
     "name": "stdout",
     "output_type": "stream",
     "text": [
      "None\n"
     ]
    }
   ],
   "source": [
    "print d1.get(\"qwert\")"
   ]
  },
  {
   "cell_type": "code",
   "execution_count": 15,
   "metadata": {},
   "outputs": [
    {
     "name": "stdout",
     "output_type": "stream",
     "text": [
      "default value\n"
     ]
    }
   ],
   "source": [
    "print d1.get(\"qwert\",\"default value\")"
   ]
  },
  {
   "cell_type": "code",
   "execution_count": 16,
   "metadata": {},
   "outputs": [
    {
     "name": "stdout",
     "output_type": "stream",
     "text": [
      "9676622023\n"
     ]
    }
   ],
   "source": [
    "print d1.get(\"cell\",\"default value\")"
   ]
  },
  {
   "cell_type": "code",
   "execution_count": 18,
   "metadata": {},
   "outputs": [
    {
     "name": "stdout",
     "output_type": "stream",
     "text": [
      "anil\n",
      "{'age': 23, 'Height': 5.6}\n"
     ]
    }
   ],
   "source": [
    "d1={\"name\":\"anil\",\"age\":23, \"Height\":5.6}\n",
    "print d1.pop(\"name\")\n",
    "print d1"
   ]
  },
  {
   "cell_type": "code",
   "execution_count": 19,
   "metadata": {},
   "outputs": [
    {
     "ename": "KeyError",
     "evalue": "'cell'",
     "output_type": "error",
     "traceback": [
      "\u001b[0;31m---------------------------------------------------------------------------\u001b[0m",
      "\u001b[0;31mKeyError\u001b[0m                                  Traceback (most recent call last)",
      "\u001b[0;32m<ipython-input-19-df987480674c>\u001b[0m in \u001b[0;36m<module>\u001b[0;34m()\u001b[0m\n\u001b[1;32m      1\u001b[0m \u001b[0md1\u001b[0m\u001b[0;34m=\u001b[0m\u001b[0;34m{\u001b[0m\u001b[0;34m\"name\"\u001b[0m\u001b[0;34m:\u001b[0m\u001b[0;34m\"anil\"\u001b[0m\u001b[0;34m,\u001b[0m\u001b[0;34m\"age\"\u001b[0m\u001b[0;34m:\u001b[0m\u001b[0;36m23\u001b[0m\u001b[0;34m,\u001b[0m \u001b[0;34m\"Height\"\u001b[0m\u001b[0;34m:\u001b[0m\u001b[0;36m5.6\u001b[0m\u001b[0;34m}\u001b[0m\u001b[0;34m\u001b[0m\u001b[0m\n\u001b[0;32m----> 2\u001b[0;31m \u001b[0;32mprint\u001b[0m \u001b[0md1\u001b[0m\u001b[0;34m.\u001b[0m\u001b[0mpop\u001b[0m\u001b[0;34m(\u001b[0m\u001b[0;34m\"cell\"\u001b[0m\u001b[0;34m)\u001b[0m\u001b[0;34m\u001b[0m\u001b[0m\n\u001b[0m\u001b[1;32m      3\u001b[0m \u001b[0;32mprint\u001b[0m \u001b[0md1\u001b[0m\u001b[0;34m\u001b[0m\u001b[0m\n",
      "\u001b[0;31mKeyError\u001b[0m: 'cell'"
     ]
    }
   ],
   "source": [
    "d1={\"name\":\"anil\",\"age\":23, \"Height\":5.6}\n",
    "print d1.pop(\"cell\")\n",
    "print d1"
   ]
  },
  {
   "cell_type": "code",
   "execution_count": 20,
   "metadata": {},
   "outputs": [
    {
     "name": "stdout",
     "output_type": "stream",
     "text": [
      "Cell key not found\n",
      "{'age': 23, 'name': 'anil', 'Height': 5.6}\n"
     ]
    }
   ],
   "source": [
    "d1={\"name\":\"anil\",\"age\":23, \"Height\":5.6}\n",
    "print d1.pop(\"cell\",\"Cell key not found\")\n",
    "print d1"
   ]
  },
  {
   "cell_type": "code",
   "execution_count": 21,
   "metadata": {},
   "outputs": [
    {
     "name": "stdout",
     "output_type": "stream",
     "text": [
      "anil\n",
      "{'age': 23, 'Height': 5.6}\n"
     ]
    }
   ],
   "source": [
    "d1={\"name\":\"anil\",\"age\":23, \"Height\":5.6}\n",
    "print d1.pop(\"name\",\"Cell key not found\")\n",
    "print d1"
   ]
  },
  {
   "cell_type": "code",
   "execution_count": 22,
   "metadata": {},
   "outputs": [
    {
     "name": "stdout",
     "output_type": "stream",
     "text": [
      "('age', 23)\n",
      "{'name': 'anil', 'Height': 5.6}\n"
     ]
    }
   ],
   "source": [
    "d1={\"name\":\"anil\",\"age\":23, \"Height\":5.6}\n",
    "print d1.popitem()\n",
    "print d1"
   ]
  },
  {
   "cell_type": "code",
   "execution_count": 23,
   "metadata": {},
   "outputs": [
    {
     "name": "stdout",
     "output_type": "stream",
     "text": [
      "None\n",
      "{}\n"
     ]
    }
   ],
   "source": [
    "d1={\"name\":\"anil\",\"age\":23, \"Height\":5.6}\n",
    "print d1.clear()\n",
    "print d1"
   ]
  },
  {
   "cell_type": "code",
   "execution_count": 24,
   "metadata": {},
   "outputs": [
    {
     "name": "stdout",
     "output_type": "stream",
     "text": [
      "d1= {'cell': 9676622023, 'age': 23, 'name': 'anil', 'Height': 5.6}\n",
      "d2= {'cell': 9676622023, 'age': 23, 'name': 'anil', 'Height': 5.6}\n",
      "d3= {'age': 23, 'name': 'anil', 'Height': 5.6}\n"
     ]
    }
   ],
   "source": [
    "d1={\"name\":\"anil\",\"age\":23, \"Height\":5.6}\n",
    "d2=d1\n",
    "d3=d1.copy()\n",
    "d1.update({\"cell\":9676622023})\n",
    "print \"d1=\",d1\n",
    "print \"d2=\",d2\n",
    "print \"d3=\",d3"
   ]
  },
  {
   "cell_type": "code",
   "execution_count": 25,
   "metadata": {},
   "outputs": [
    {
     "name": "stdout",
     "output_type": "stream",
     "text": [
      "139916578869608\n",
      "139916578869608\n",
      "139916578872408\n"
     ]
    }
   ],
   "source": [
    "d1={\"name\":\"anil\",\"age\":23, \"Height\":5.6}\n",
    "d2=d1\n",
    "d3=d1.copy()\n",
    "print id(d1)\n",
    "print id(d2)\n",
    "print id(d3)"
   ]
  },
  {
   "cell_type": "code",
   "execution_count": 26,
   "metadata": {},
   "outputs": [
    {
     "name": "stdout",
     "output_type": "stream",
     "text": [
      "{'age': 'dummy', 'height': 'dummy', 'name': 'dummy', 'sal': 'dummy'}\n"
     ]
    }
   ],
   "source": [
    "d4=d1.fromkeys([\"name\",\"age\",\"sal\",\"height\"],\"dummy\")\n",
    "print d4"
   ]
  },
  {
   "cell_type": "code",
   "execution_count": 27,
   "metadata": {},
   "outputs": [
    {
     "name": "stdout",
     "output_type": "stream",
     "text": [
      "True\n",
      "True\n",
      "True\n"
     ]
    }
   ],
   "source": [
    "d1={\"name\":\"anil\",\"age\":23, \"Height\":5.6}\n",
    "print \"name\" in d1\n",
    "print \"name\" in d1.keys()\n",
    "print d1.has_key(\"name\")"
   ]
  },
  {
   "cell_type": "code",
   "execution_count": 28,
   "metadata": {},
   "outputs": [
    {
     "name": "stdout",
     "output_type": "stream",
     "text": [
      "False\n",
      "False\n",
      "False\n"
     ]
    }
   ],
   "source": [
    "d1={\"name\":\"anil\",\"age\":23, \"Height\":5.6}\n",
    "print \"cell\" in d1\n",
    "print \"cell\" in d1.keys()\n",
    "print d1.has_key(\"cell\")"
   ]
  },
  {
   "cell_type": "code",
   "execution_count": 29,
   "metadata": {},
   "outputs": [
    {
     "name": "stdout",
     "output_type": "stream",
     "text": [
      "age\n",
      "name\n",
      "Height\n"
     ]
    }
   ],
   "source": [
    "for i in d1:\n",
    "    print i"
   ]
  },
  {
   "cell_type": "code",
   "execution_count": 31,
   "metadata": {},
   "outputs": [
    {
     "name": "stdout",
     "output_type": "stream",
     "text": [
      "age 23 23\n",
      "name anil anil\n",
      "Height 5.6 5.6\n"
     ]
    }
   ],
   "source": [
    "for i in d1:\n",
    "    print i,d1[i],d1.get(i)"
   ]
  },
  {
   "cell_type": "code",
   "execution_count": 32,
   "metadata": {},
   "outputs": [
    {
     "name": "stdout",
     "output_type": "stream",
     "text": [
      "['age', 'name', 'Height']\n"
     ]
    }
   ],
   "source": [
    "print d1.keys()"
   ]
  },
  {
   "cell_type": "code",
   "execution_count": 33,
   "metadata": {},
   "outputs": [
    {
     "name": "stdout",
     "output_type": "stream",
     "text": [
      "[23, 'anil', 5.6]\n"
     ]
    }
   ],
   "source": [
    "print d1.values()"
   ]
  },
  {
   "cell_type": "code",
   "execution_count": 35,
   "metadata": {},
   "outputs": [
    {
     "data": {
      "text/plain": [
       "True"
      ]
     },
     "execution_count": 35,
     "metadata": {},
     "output_type": "execute_result"
    }
   ],
   "source": [
    "23 in d1.values()"
   ]
  },
  {
   "cell_type": "code",
   "execution_count": 36,
   "metadata": {},
   "outputs": [
    {
     "data": {
      "text/plain": [
       "[('age', 23), ('name', 'anil'), ('Height', 5.6)]"
      ]
     },
     "execution_count": 36,
     "metadata": {},
     "output_type": "execute_result"
    }
   ],
   "source": [
    "d1.items()"
   ]
  },
  {
   "cell_type": "code",
   "execution_count": 37,
   "metadata": {},
   "outputs": [
    {
     "name": "stdout",
     "output_type": "stream",
     "text": [
      "('age', 23)\n",
      "('name', 'anil')\n",
      "('Height', 5.6)\n"
     ]
    }
   ],
   "source": [
    "for i in d1.items():\n",
    "    print i"
   ]
  },
  {
   "cell_type": "code",
   "execution_count": 38,
   "metadata": {},
   "outputs": [
    {
     "name": "stdout",
     "output_type": "stream",
     "text": [
      "age 23\n",
      "name anil\n",
      "Height 5.6\n"
     ]
    }
   ],
   "source": [
    "for i in d1.items():\n",
    "    print i[0],i[1]"
   ]
  },
  {
   "cell_type": "code",
   "execution_count": 39,
   "metadata": {},
   "outputs": [
    {
     "name": "stdout",
     "output_type": "stream",
     "text": [
      "key=age, value=23\n",
      "key=name, value=anil\n",
      "key=Height, value=5.6\n"
     ]
    }
   ],
   "source": [
    "for i in d1.items():\n",
    "    key,value=i\n",
    "    print \"key=%s, value=%s\"%(key,value)\n",
    "    "
   ]
  },
  {
   "cell_type": "code",
   "execution_count": 40,
   "metadata": {},
   "outputs": [
    {
     "name": "stdout",
     "output_type": "stream",
     "text": [
      "key=age, value=23\n",
      "key=name, value=anil\n",
      "key=Height, value=5.6\n"
     ]
    }
   ],
   "source": [
    "for key,value in d1.items():\n",
    "    print \"key=%s, value=%s\"%(key,value)\n",
    "    "
   ]
  },
  {
   "cell_type": "code",
   "execution_count": 41,
   "metadata": {},
   "outputs": [
    {
     "name": "stdout",
     "output_type": "stream",
     "text": [
      "key=age, value=23\n",
      "key=name, value=anil\n",
      "key=Height, value=5.6\n",
      "**************************************************\n",
      "key=age, value=23\n",
      "key=name, value=anil\n",
      "key=Height, value=5.6\n",
      "**************************************************\n",
      "key=age, value=23\n",
      "key=name, value=anil\n",
      "key=Height, value=5.6\n"
     ]
    }
   ],
   "source": [
    "for key,value in d1.items():\n",
    "    print \"key=%s, value=%s\"%(key,value)\n",
    "print \"*\"*50\n",
    "for key,value in d1.iteritems():\n",
    "    print \"key=%s, value=%s\"%(key,value)\n",
    "print \"*\"*50\n",
    "for key,value in d1.viewitems():\n",
    "    print \"key=%s, value=%s\"%(key,value)"
   ]
  },
  {
   "cell_type": "code",
   "execution_count": 42,
   "metadata": {},
   "outputs": [
    {
     "data": {
      "text/plain": [
       "[('age', 23), ('name', 'anil'), ('Height', 5.6)]"
      ]
     },
     "execution_count": 42,
     "metadata": {},
     "output_type": "execute_result"
    }
   ],
   "source": [
    "d1.items()"
   ]
  },
  {
   "cell_type": "code",
   "execution_count": 43,
   "metadata": {},
   "outputs": [
    {
     "data": {
      "text/plain": [
       "<dictionary-itemiterator at 0x7f40ddf16208>"
      ]
     },
     "execution_count": 43,
     "metadata": {},
     "output_type": "execute_result"
    }
   ],
   "source": [
    "d1.iteritems()"
   ]
  },
  {
   "cell_type": "code",
   "execution_count": 44,
   "metadata": {},
   "outputs": [
    {
     "name": "stdout",
     "output_type": "stream",
     "text": [
      "key=age, value=23\n",
      "key=name, value=anil\n",
      "key=Height, value=5.6\n"
     ]
    }
   ],
   "source": [
    "for key,value in d1.iteritems():\n",
    "    print \"key=%s, value=%s\"%(key,value)"
   ]
  },
  {
   "cell_type": "code",
   "execution_count": 45,
   "metadata": {},
   "outputs": [
    {
     "name": "stdout",
     "output_type": "stream",
     "text": [
      "('age', 23)\n",
      "('name', 'anil')\n",
      "('Height', 5.6)\n"
     ]
    }
   ],
   "source": [
    "ii = d1.iteritems()\n",
    "for j in ii:\n",
    "    print j"
   ]
  },
  {
   "cell_type": "code",
   "execution_count": 46,
   "metadata": {
    "collapsed": true
   },
   "outputs": [],
   "source": [
    "for j in ii:\n",
    "    print j"
   ]
  },
  {
   "cell_type": "code",
   "execution_count": 47,
   "metadata": {},
   "outputs": [
    {
     "ename": "RuntimeError",
     "evalue": "dictionary changed size during iteration",
     "output_type": "error",
     "traceback": [
      "\u001b[0;31m---------------------------------------------------------------------------\u001b[0m",
      "\u001b[0;31mRuntimeError\u001b[0m                              Traceback (most recent call last)",
      "\u001b[0;32m<ipython-input-47-8df51f4059e2>\u001b[0m in \u001b[0;36m<module>\u001b[0;34m()\u001b[0m\n\u001b[1;32m      1\u001b[0m \u001b[0mii\u001b[0m \u001b[0;34m=\u001b[0m \u001b[0md1\u001b[0m\u001b[0;34m.\u001b[0m\u001b[0miteritems\u001b[0m\u001b[0;34m(\u001b[0m\u001b[0;34m)\u001b[0m\u001b[0;34m\u001b[0m\u001b[0m\n\u001b[1;32m      2\u001b[0m \u001b[0md1\u001b[0m\u001b[0;34m.\u001b[0m\u001b[0mupdate\u001b[0m\u001b[0;34m(\u001b[0m\u001b[0;34m{\u001b[0m\u001b[0;34m\"cell\"\u001b[0m\u001b[0;34m:\u001b[0m\u001b[0;36m9676622023\u001b[0m\u001b[0;34m}\u001b[0m\u001b[0;34m)\u001b[0m\u001b[0;34m\u001b[0m\u001b[0m\n\u001b[0;32m----> 3\u001b[0;31m \u001b[0;32mfor\u001b[0m \u001b[0mj\u001b[0m \u001b[0;32min\u001b[0m \u001b[0mii\u001b[0m\u001b[0;34m:\u001b[0m\u001b[0;34m\u001b[0m\u001b[0m\n\u001b[0m\u001b[1;32m      4\u001b[0m     \u001b[0;32mprint\u001b[0m \u001b[0mj\u001b[0m\u001b[0;34m\u001b[0m\u001b[0m\n",
      "\u001b[0;31mRuntimeError\u001b[0m: dictionary changed size during iteration"
     ]
    }
   ],
   "source": [
    "ii = d1.iteritems()\n",
    "d1.update({\"cell\":9676622023})\n",
    "for j in ii:\n",
    "    print j"
   ]
  },
  {
   "cell_type": "code",
   "execution_count": 48,
   "metadata": {},
   "outputs": [
    {
     "name": "stdout",
     "output_type": "stream",
     "text": [
      "('cell', 9676622023)\n",
      "('age', 23)\n",
      "('name', 'anil')\n",
      "('Height', 5.6)\n"
     ]
    }
   ],
   "source": [
    "ii = d1.iteritems()\n",
    "d1.update({\"cell\":9676622023})\n",
    "ii = d1.iteritems()\n",
    "for j in ii:\n",
    "    print j"
   ]
  },
  {
   "cell_type": "code",
   "execution_count": 49,
   "metadata": {},
   "outputs": [
    {
     "name": "stdout",
     "output_type": "stream",
     "text": [
      "('cell', 9676622023)\n",
      "('age', 23)\n",
      "('name', 'anil')\n",
      "('Height', 5.6)\n"
     ]
    }
   ],
   "source": [
    "ii = d1.viewitems()\n",
    "d1.update({\"cell\":9676622023})\n",
    "for j in ii:\n",
    "    print j"
   ]
  },
  {
   "cell_type": "code",
   "execution_count": 50,
   "metadata": {},
   "outputs": [
    {
     "name": "stdout",
     "output_type": "stream",
     "text": [
      "('cell', 9676622023)\n",
      "('age', 23)\n",
      "('name', 'anil')\n",
      "('Height', 5.6)\n"
     ]
    }
   ],
   "source": [
    "for j in ii:\n",
    "    print j"
   ]
  },
  {
   "cell_type": "code",
   "execution_count": 51,
   "metadata": {},
   "outputs": [
    {
     "name": "stdout",
     "output_type": "stream",
     "text": [
      "('cell', 9676622023)\n",
      "('age', 23)\n",
      "('name', 'anil')\n",
      "('Height', 5.6)\n"
     ]
    }
   ],
   "source": [
    "for j in ii:\n",
    "    print j"
   ]
  },
  {
   "cell_type": "code",
   "execution_count": 52,
   "metadata": {},
   "outputs": [
    {
     "data": {
      "text/plain": [
       "'anil'"
      ]
     },
     "execution_count": 52,
     "metadata": {},
     "output_type": "execute_result"
    }
   ],
   "source": [
    "d1.pop(\"name\")"
   ]
  },
  {
   "cell_type": "code",
   "execution_count": 53,
   "metadata": {},
   "outputs": [
    {
     "name": "stdout",
     "output_type": "stream",
     "text": [
      "('cell', 9676622023)\n",
      "('age', 23)\n",
      "('Height', 5.6)\n"
     ]
    }
   ],
   "source": [
    "for j in ii:\n",
    "    print j"
   ]
  },
  {
   "cell_type": "code",
   "execution_count": 54,
   "metadata": {
    "collapsed": true
   },
   "outputs": [],
   "source": [
    "ii = d1.viewitems()"
   ]
  },
  {
   "cell_type": "code",
   "execution_count": 55,
   "metadata": {},
   "outputs": [
    {
     "name": "stdout",
     "output_type": "stream",
     "text": [
      "dict_items([('cell', 9676622023), ('age', 23), ('Height', 5.6)])\n"
     ]
    }
   ],
   "source": [
    "print ii"
   ]
  },
  {
   "cell_type": "code",
   "execution_count": 56,
   "metadata": {},
   "outputs": [
    {
     "name": "stdout",
     "output_type": "stream",
     "text": [
      "1 5\n",
      "2 6\n",
      "3 7\n",
      "4 8\n"
     ]
    }
   ],
   "source": [
    "l1=[1,2,3,4]\n",
    "l2=[5,6,7,8]\n",
    "# [6,8,10,12]\n",
    "res=[]\n",
    "i=0\n",
    "while i<len(l1):\n",
    "    print l1[i],l2[i]\n",
    "    i=i+1"
   ]
  },
  {
   "cell_type": "code",
   "execution_count": 57,
   "metadata": {},
   "outputs": [
    {
     "name": "stdout",
     "output_type": "stream",
     "text": [
      "6\n",
      "8\n",
      "10\n",
      "12\n"
     ]
    }
   ],
   "source": [
    "l1=[1,2,3,4]\n",
    "l2=[5,6,7,8]\n",
    "# [6,8,10,12]\n",
    "res=[]\n",
    "i=0\n",
    "while i<len(l1):\n",
    "    print l1[i]+l2[i]\n",
    "    i=i+1"
   ]
  },
  {
   "cell_type": "code",
   "execution_count": 58,
   "metadata": {},
   "outputs": [
    {
     "name": "stdout",
     "output_type": "stream",
     "text": [
      "[6, 8, 10, 12]\n"
     ]
    }
   ],
   "source": [
    "l1=[1,2,3,4]\n",
    "l2=[5,6,7,8]\n",
    "# [6,8,10,12]\n",
    "res=[]\n",
    "i=0\n",
    "while i<len(l1):\n",
    "    res.append(l1[i]+l2[i])\n",
    "    i=i+1\n",
    "print res"
   ]
  },
  {
   "cell_type": "code",
   "execution_count": 59,
   "metadata": {},
   "outputs": [
    {
     "name": "stdout",
     "output_type": "stream",
     "text": [
      "[(1, 5), (2, 6), (3, 7), (4, 8)]\n"
     ]
    }
   ],
   "source": [
    "l1=[1,2,3,4]\n",
    "l2=[5,6,7,8]\n",
    "# [6,8,10,12]\n",
    "print zip(l1,l2)"
   ]
  },
  {
   "cell_type": "code",
   "execution_count": 61,
   "metadata": {},
   "outputs": [
    {
     "name": "stdout",
     "output_type": "stream",
     "text": [
      "[(1, 5, 9), (2, 6, 10), (3, 7, 11), (4, 8, 12)]\n"
     ]
    }
   ],
   "source": [
    "l1=[1,2,3,4]\n",
    "l2=[5,6,7,8]\n",
    "l3=[9,10,11,12]\n",
    "# [6,8,10,12]\n",
    "print zip(l1,l2,l3)"
   ]
  },
  {
   "cell_type": "code",
   "execution_count": 63,
   "metadata": {},
   "outputs": [
    {
     "name": "stdout",
     "output_type": "stream",
     "text": [
      "[6, 8, 10, 12]\n"
     ]
    }
   ],
   "source": [
    "l1=[1,2,3,4]\n",
    "l2=[5,6,7,8]\n",
    "#l3=[9,10,11,12]\n",
    "# [6,8,10,12]\n",
    "res=[]\n",
    "for i in zip(l1,l2):\n",
    "    res.append(sum(i))\n",
    "print res\n",
    "    "
   ]
  },
  {
   "cell_type": "code",
   "execution_count": 64,
   "metadata": {},
   "outputs": [
    {
     "name": "stdout",
     "output_type": "stream",
     "text": [
      "[6, 8, 10, 12]\n"
     ]
    }
   ],
   "source": [
    "l1=[1,2,3,4]\n",
    "l2=[5,6,7,8]\n",
    "#l3=[9,10,11,12]\n",
    "# [6,8,10,12]\n",
    "'''\n",
    "res=[]\n",
    "for i in zip(l1,l2):\n",
    "    res.append(sum(i))\n",
    "print res\n",
    "'''\n",
    "print [sum(i) for i in zip(l1,l2)]\n",
    "    "
   ]
  },
  {
   "cell_type": "code",
   "execution_count": 65,
   "metadata": {},
   "outputs": [
    {
     "name": "stdout",
     "output_type": "stream",
     "text": [
      "[6, 8, 10, 12]\n"
     ]
    }
   ],
   "source": [
    "l1=[1,2,3,4]\n",
    "l2=[5,6,7,8]\n",
    "#l3=[9,10,11,12]\n",
    "# [6,8,10,12]\n",
    "'''\n",
    "res=[]\n",
    "for i in zip(l1,l2):\n",
    "    res.append(sum(i))\n",
    "print res\n",
    "'''\n",
    "print [i+j for i,j in zip(l1,l2)]\n",
    "    "
   ]
  },
  {
   "cell_type": "code",
   "execution_count": 66,
   "metadata": {},
   "outputs": [
    {
     "name": "stdout",
     "output_type": "stream",
     "text": [
      "[(1, 5, 9), (2, 6, 10), (3, 7, 11)]\n"
     ]
    }
   ],
   "source": [
    "l1=[1,2,3,4]\n",
    "l2=[5,6,7,8]\n",
    "print zip(l1,l2,[9,10,11])"
   ]
  },
  {
   "cell_type": "code",
   "execution_count": 68,
   "metadata": {},
   "outputs": [
    {
     "name": "stdout",
     "output_type": "stream",
     "text": [
      "[1, 2, 3, 4, 5, 6, 7, 8, 9, 10, 11, 12, 13, 14, 15, 16, 17, 18, 19]\n"
     ]
    }
   ],
   "source": [
    "l1=range(1,20)\n",
    "print l1"
   ]
  },
  {
   "cell_type": "code",
   "execution_count": 70,
   "metadata": {},
   "outputs": [
    {
     "name": "stdout",
     "output_type": "stream",
     "text": [
      "['ODD', 'EVEN', 'ODD', 'EVEN', 'ODD', 'EVEN', 'ODD', 'EVEN', 'ODD', 'EVEN', 'ODD', 'EVEN', 'ODD', 'EVEN', 'ODD', 'EVEN', 'ODD', 'EVEN', 'ODD']\n"
     ]
    }
   ],
   "source": [
    "def check_even(x):\n",
    "    return \"EVEN\" if x%2==0 else \"ODD\"\n",
    "print [check_even(i)  for i in range(1,20)]"
   ]
  },
  {
   "cell_type": "code",
   "execution_count": 71,
   "metadata": {},
   "outputs": [
    {
     "name": "stdout",
     "output_type": "stream",
     "text": [
      "<type 'function'>\n",
      "<type 'function'>\n",
      "['ODD', 'EVEN', 'ODD', 'EVEN', 'ODD', 'EVEN', 'ODD', 'EVEN', 'ODD', 'EVEN', 'ODD', 'EVEN', 'ODD', 'EVEN', 'ODD', 'EVEN', 'ODD', 'EVEN', 'ODD']\n"
     ]
    }
   ],
   "source": [
    "def check_even(x):\n",
    "    return \"EVEN\" if x%2==0 else \"ODD\"\n",
    "check_even1 = lambda x: \"EVEN\" if x%2==0 else \"ODD\"\n",
    "print type(check_even1)\n",
    "print type(check_even)\n",
    "print [check_even(i)  for i in range(1,20)]"
   ]
  },
  {
   "cell_type": "code",
   "execution_count": 72,
   "metadata": {},
   "outputs": [
    {
     "name": "stdout",
     "output_type": "stream",
     "text": [
      "['ODD', 'EVEN', 'ODD', 'EVEN', 'ODD', 'EVEN', 'ODD', 'EVEN', 'ODD', 'EVEN', 'ODD', 'EVEN', 'ODD', 'EVEN', 'ODD', 'EVEN', 'ODD', 'EVEN', 'ODD']\n"
     ]
    }
   ],
   "source": [
    "check_even1 = lambda x: \"EVEN\" if x%2==0 else \"ODD\"\n",
    "print [check_even1(i)  for i in range(1,20)]"
   ]
  },
  {
   "cell_type": "code",
   "execution_count": 73,
   "metadata": {},
   "outputs": [
    {
     "name": "stdout",
     "output_type": "stream",
     "text": [
      "[12, 14, 16, 18, 20, 22, 24, 26, 28]\n"
     ]
    }
   ],
   "source": [
    "def fun(x,y):\n",
    "    return x+y\n",
    "f=lambda  x,y:x+y\n",
    "print [fun(i,j) for i,j in zip(range(1,10),range(11,20))]"
   ]
  },
  {
   "cell_type": "code",
   "execution_count": 74,
   "metadata": {},
   "outputs": [
    {
     "name": "stdout",
     "output_type": "stream",
     "text": [
      "[12, 14, 16, 18, 20, 22, 24, 26, 28]\n"
     ]
    }
   ],
   "source": [
    "f=lambda  x,y:x+y\n",
    "print [f(i,j) for i,j in zip(range(1,10),range(11,20))]"
   ]
  },
  {
   "cell_type": "code",
   "execution_count": 75,
   "metadata": {},
   "outputs": [
    {
     "name": "stdout",
     "output_type": "stream",
     "text": [
      "[6, 8, 10, 12]\n"
     ]
    }
   ],
   "source": [
    "l1=[1,2,3,4]\n",
    "l2=[5,6,7,8]\n",
    "f=lambda  x,y:x+y\n",
    "print [f(i,j) for i,j in zip(l1,l2)]"
   ]
  },
  {
   "cell_type": "code",
   "execution_count": 76,
   "metadata": {},
   "outputs": [
    {
     "name": "stdout",
     "output_type": "stream",
     "text": [
      "[6, 8, 10, 12]\n"
     ]
    }
   ],
   "source": [
    "l1=[1,2,3,4]\n",
    "l2=[5,6,7,8]\n",
    "f=lambda  x,y:x+y\n",
    "#print [f(i,j) for i,j in zip(l1,l2)]\n",
    "print map(f,l1,l2)\n",
    "#f(1,5),f[2,6],f(3,7),f(4,8)"
   ]
  },
  {
   "cell_type": "code",
   "execution_count": 77,
   "metadata": {},
   "outputs": [
    {
     "name": "stdout",
     "output_type": "stream",
     "text": [
      "[6, 8, 10, 12]\n"
     ]
    }
   ],
   "source": [
    "l1=[1,2,3,4]\n",
    "l2=[5,6,7,8]\n",
    "#f=lambda  x,y:x+y\n",
    "#print [f(i,j) for i,j in zip(l1,l2)]\n",
    "print map(lambda  x,y:x+y,l1,l2)\n",
    "#f(1,5),f[2,6],f(3,7),f(4,8)"
   ]
  },
  {
   "cell_type": "code",
   "execution_count": 78,
   "metadata": {},
   "outputs": [
    {
     "name": "stdout",
     "output_type": "stream",
     "text": [
      "[None, None, None, None]\n"
     ]
    }
   ],
   "source": [
    "def fun(x,y):\n",
    "    res=x+y\n",
    "l1=[1,2,3,4]\n",
    "l2=[5,6,7,8]\n",
    "print map(fun,l1,l2)"
   ]
  },
  {
   "cell_type": "code",
   "execution_count": 79,
   "metadata": {},
   "outputs": [
    {
     "name": "stdout",
     "output_type": "stream",
     "text": [
      "[6, 8, 10, 12]\n"
     ]
    }
   ],
   "source": [
    "def fun(x,y):\n",
    "    res=x+y\n",
    "    return res\n",
    "l1=[1,2,3,4]\n",
    "l2=[5,6,7,8]\n",
    "print map(fun,l1,l2)"
   ]
  },
  {
   "cell_type": "code",
   "execution_count": 80,
   "metadata": {},
   "outputs": [
    {
     "name": "stdout",
     "output_type": "stream",
     "text": [
      "[(6, -4, 5, 0), (8, -4, 12, 0), (10, -4, 21, 0), (12, -4, 32, 0)]\n"
     ]
    }
   ],
   "source": [
    "l1=[1,2,3,4]\n",
    "l2=[5,6,7,8]\n",
    "#f=lambda  x,y:x+y\n",
    "#print [f(i,j) for i,j in zip(l1,l2)]\n",
    "print map(lambda  x,y:(x+y,x-y,x*y,x/y),l1,l2)\n",
    "#f(1,5),f[2,6],f(3,7),f(4,8)"
   ]
  },
  {
   "cell_type": "code",
   "execution_count": null,
   "metadata": {
    "collapsed": true
   },
   "outputs": [],
   "source": [
    "# tuple comprehensions, dictionary comprehensions, list comprehensions\n",
    "print (f(i,j) for i,j in zip(l1,l2))"
   ]
  }
 ],
 "metadata": {
  "kernelspec": {
   "display_name": "Python 2",
   "language": "python",
   "name": "python2"
  },
  "language_info": {
   "codemirror_mode": {
    "name": "ipython",
    "version": 2
   },
   "file_extension": ".py",
   "mimetype": "text/x-python",
   "name": "python",
   "nbconvert_exporter": "python",
   "pygments_lexer": "ipython2",
   "version": "2.7.14"
  }
 },
 "nbformat": 4,
 "nbformat_minor": 2
}
