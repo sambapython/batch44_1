{
 "cells": [
  {
   "cell_type": "code",
   "execution_count": 1,
   "metadata": {},
   "outputs": [
    {
     "name": "stdout",
     "output_type": "stream",
     "text": [
      "Enter a number:12\n",
      "this is even\n"
     ]
    }
   ],
   "source": [
    "a=raw_input(\"Enter a number:\")\n",
    "a=int(a)\n",
    "if a%2==0:\n",
    "    print \"this is even\"\n",
    "else:\n",
    "    print \"odd\""
   ]
  },
  {
   "cell_type": "code",
   "execution_count": 2,
   "metadata": {},
   "outputs": [
    {
     "name": "stdout",
     "output_type": "stream",
     "text": [
      "Enter a number:7\n",
      "[2, 3, 4, 5, 6]\n"
     ]
    }
   ],
   "source": [
    "\"\"\"\n",
    "7\n",
    "(1,7) 2,6\n",
    "\"\"\"\n",
    "a=raw_input(\"Enter a number:\")\n",
    "a=int(a)\n",
    "print range(2,7)"
   ]
  },
  {
   "cell_type": "code",
   "execution_count": 3,
   "metadata": {},
   "outputs": [
    {
     "name": "stdout",
     "output_type": "stream",
     "text": [
      "Enter a number:10\n",
      "[2, 3, 4, 5, 6, 7, 8, 9]\n"
     ]
    }
   ],
   "source": [
    "\"\"\"\n",
    "7\n",
    "(1,7) 2,6\n",
    "\"\"\"\n",
    "a=raw_input(\"Enter a number:\")\n",
    "a=int(a)\n",
    "print range(2,a)"
   ]
  },
  {
   "cell_type": "code",
   "execution_count": 4,
   "metadata": {},
   "outputs": [
    {
     "name": "stdout",
     "output_type": "stream",
     "text": [
      "Enter a number:29\n",
      "[2, 3, 4, 5, 6, 7, 8, 9, 10, 11, 12, 13, 14, 15, 16, 17, 18, 19, 20, 21, 22, 23, 24, 25, 26, 27, 28]\n"
     ]
    }
   ],
   "source": [
    "\"\"\"\n",
    "7\n",
    "(1,7) 2,6\n",
    "\"\"\"\n",
    "a=raw_input(\"Enter a number:\")\n",
    "a=int(a)\n",
    "print range(2,a)"
   ]
  },
  {
   "cell_type": "code",
   "execution_count": 5,
   "metadata": {},
   "outputs": [
    {
     "name": "stdout",
     "output_type": "stream",
     "text": [
      "Enter a number:10\n",
      "not a prime number\n"
     ]
    }
   ],
   "source": [
    "a=raw_input(\"Enter a number:\")\n",
    "a=int(a)\n",
    "for i in range(2,a):\n",
    "    if a%i==0:\n",
    "        print \"not a prime number\"\n",
    "        break\n",
    "    else:\n",
    "        print \"prime number\""
   ]
  },
  {
   "cell_type": "code",
   "execution_count": 6,
   "metadata": {},
   "outputs": [
    {
     "name": "stdout",
     "output_type": "stream",
     "text": [
      "Enter a number:25\n",
      "prime number\n",
      "prime number\n",
      "prime number\n",
      "not a prime number\n"
     ]
    }
   ],
   "source": [
    "a=raw_input(\"Enter a number:\")\n",
    "a=int(a)\n",
    "for i in range(2,a):\n",
    "    if a%i==0:\n",
    "        print \"not a prime number\"\n",
    "        break\n",
    "    else:\n",
    "        print \"prime number\""
   ]
  },
  {
   "cell_type": "code",
   "execution_count": 7,
   "metadata": {},
   "outputs": [
    {
     "name": "stdout",
     "output_type": "stream",
     "text": [
      "2\n"
     ]
    }
   ],
   "source": [
    "s=\"python program\"\n",
    "p_count=0\n",
    "for i in s:\n",
    "    if i==\"p\":\n",
    "        p_count=p_count+1\n",
    "print p_count"
   ]
  },
  {
   "cell_type": "code",
   "execution_count": 8,
   "metadata": {},
   "outputs": [
    {
     "name": "stdout",
     "output_type": "stream",
     "text": [
      "11\n"
     ]
    }
   ],
   "source": [
    "# 16\n",
    "fact_count=0\n",
    "for i in range(1,17):\n",
    "    if 16%i:\n",
    "        fact_count = fact_count+1\n",
    "print fact_count\n",
    "    "
   ]
  },
  {
   "cell_type": "code",
   "execution_count": 9,
   "metadata": {},
   "outputs": [
    {
     "name": "stdout",
     "output_type": "stream",
     "text": [
      "11\n"
     ]
    }
   ],
   "source": [
    "# 16\n",
    "fact_count=0\n",
    "for i in range(2,16):\n",
    "    if 16%i:\n",
    "        fact_count = fact_count+1\n",
    "print fact_count\n",
    "    "
   ]
  },
  {
   "cell_type": "code",
   "execution_count": 10,
   "metadata": {},
   "outputs": [
    {
     "name": "stdout",
     "output_type": "stream",
     "text": [
      "Find p in 2 times\n"
     ]
    }
   ],
   "source": [
    "s=\"python program\"\n",
    "p_count=0\n",
    "for i in s:\n",
    "    if i==\"p\":\n",
    "        p_count=p_count+1\n",
    "if p_count==0:\n",
    "    print \"did not find p\"\n",
    "else:\n",
    "    print \"Find p in %s times\"%p_count\n",
    "    "
   ]
  },
  {
   "cell_type": "code",
   "execution_count": 11,
   "metadata": {},
   "outputs": [
    {
     "name": "stdout",
     "output_type": "stream",
     "text": [
      "Enter a number:12\n",
      "it's not a prime number\n"
     ]
    }
   ],
   "source": [
    "a=raw_input(\"Enter a number:\")\n",
    "a=int(a)\n",
    "fact = 0\n",
    "for i in range(2,a):\n",
    "    if a%i==0:\n",
    "        fact = fact+1\n",
    "if fact==0:\n",
    "    print \"It's a prime number\"\n",
    "else:\n",
    "    print \"it's not a prime number\""
   ]
  },
  {
   "cell_type": "code",
   "execution_count": 12,
   "metadata": {},
   "outputs": [
    {
     "name": "stdout",
     "output_type": "stream",
     "text": [
      "Enter a number:23\n",
      "It's a prime number\n"
     ]
    }
   ],
   "source": [
    "a=raw_input(\"Enter a number:\")\n",
    "a=int(a)\n",
    "fact = 0\n",
    "for i in range(2,a):\n",
    "    if a%i==0:\n",
    "        fact = fact+1\n",
    "if fact==0:\n",
    "    print \"It's a prime number\"\n",
    "else:\n",
    "    print \"it's not a prime number\""
   ]
  },
  {
   "cell_type": "code",
   "execution_count": 13,
   "metadata": {},
   "outputs": [
    {
     "name": "stdout",
     "output_type": "stream",
     "text": [
      "Enter a number:234567654327\n"
     ]
    },
    {
     "ename": "MemoryError",
     "evalue": "",
     "output_type": "error",
     "traceback": [
      "\u001b[0;31m---------------------------------------------------------------------------\u001b[0m",
      "\u001b[0;31mMemoryError\u001b[0m                               Traceback (most recent call last)",
      "\u001b[0;32m<ipython-input-13-eb7c1846fce2>\u001b[0m in \u001b[0;36m<module>\u001b[0;34m()\u001b[0m\n\u001b[1;32m      2\u001b[0m \u001b[0ma\u001b[0m\u001b[0;34m=\u001b[0m\u001b[0mint\u001b[0m\u001b[0;34m(\u001b[0m\u001b[0ma\u001b[0m\u001b[0;34m)\u001b[0m\u001b[0;34m\u001b[0m\u001b[0m\n\u001b[1;32m      3\u001b[0m \u001b[0mfact\u001b[0m \u001b[0;34m=\u001b[0m \u001b[0;36m0\u001b[0m\u001b[0;34m\u001b[0m\u001b[0m\n\u001b[0;32m----> 4\u001b[0;31m \u001b[0;32mfor\u001b[0m \u001b[0mi\u001b[0m \u001b[0;32min\u001b[0m \u001b[0mrange\u001b[0m\u001b[0;34m(\u001b[0m\u001b[0;36m2\u001b[0m\u001b[0;34m,\u001b[0m\u001b[0ma\u001b[0m\u001b[0;34m)\u001b[0m\u001b[0;34m:\u001b[0m\u001b[0;34m\u001b[0m\u001b[0m\n\u001b[0m\u001b[1;32m      5\u001b[0m     \u001b[0;32mif\u001b[0m \u001b[0ma\u001b[0m\u001b[0;34m%\u001b[0m\u001b[0mi\u001b[0m\u001b[0;34m==\u001b[0m\u001b[0;36m0\u001b[0m\u001b[0;34m:\u001b[0m\u001b[0;34m\u001b[0m\u001b[0m\n\u001b[1;32m      6\u001b[0m         \u001b[0mfact\u001b[0m \u001b[0;34m=\u001b[0m \u001b[0mfact\u001b[0m\u001b[0;34m+\u001b[0m\u001b[0;36m1\u001b[0m\u001b[0;34m\u001b[0m\u001b[0m\n",
      "\u001b[0;31mMemoryError\u001b[0m: "
     ]
    }
   ],
   "source": [
    "a=raw_input(\"Enter a number:\")\n",
    "a=int(a)\n",
    "fact = 0\n",
    "for i in range(2,a):\n",
    "    if a%i==0:\n",
    "        fact = fact+1\n",
    "if fact==0:\n",
    "    print \"It's a prime number\"\n",
    "else:\n",
    "    print \"it's not a prime number\""
   ]
  },
  {
   "cell_type": "code",
   "execution_count": 1,
   "metadata": {},
   "outputs": [
    {
     "name": "stdout",
     "output_type": "stream",
     "text": [
      "Enter a number:203\n",
      "it's not a prime number\n"
     ]
    }
   ],
   "source": [
    "a=raw_input(\"Enter a number:\")\n",
    "a=int(a)\n",
    "fact = 0\n",
    "for i in xrange(2,a):\n",
    "    if a%i==0:\n",
    "        fact = fact+1\n",
    "if fact==0:\n",
    "    print \"It's a prime number\"\n",
    "else:\n",
    "    print \"it's not a prime number\""
   ]
  },
  {
   "cell_type": "code",
   "execution_count": 2,
   "metadata": {},
   "outputs": [
    {
     "name": "stdout",
     "output_type": "stream",
     "text": [
      "Enter a number:12\n",
      "2\n",
      "3\n",
      "4\n",
      "5\n",
      "6\n",
      "7\n",
      "8\n",
      "9\n",
      "10\n",
      "11\n",
      "it's not a prime number\n"
     ]
    }
   ],
   "source": [
    "a=raw_input(\"Enter a number:\")\n",
    "a=int(a)\n",
    "fact = 0\n",
    "for i in xrange(2,a):\n",
    "    print i\n",
    "    if a%i==0:\n",
    "        fact = fact+1\n",
    "if fact==0:\n",
    "    print \"It's a prime number\"\n",
    "else:\n",
    "    print \"it's not a prime number\""
   ]
  },
  {
   "cell_type": "code",
   "execution_count": 3,
   "metadata": {},
   "outputs": [
    {
     "name": "stdout",
     "output_type": "stream",
     "text": [
      "Enter a number:25\n",
      "2\n",
      "3\n",
      "4\n",
      "5\n",
      "6\n",
      "7\n",
      "8\n",
      "9\n",
      "10\n",
      "11\n",
      "12\n",
      "13\n",
      "14\n",
      "15\n",
      "16\n",
      "17\n",
      "18\n",
      "19\n",
      "20\n",
      "21\n",
      "22\n",
      "23\n",
      "24\n",
      "it's not a prime number\n"
     ]
    }
   ],
   "source": [
    "a=raw_input(\"Enter a number:\")\n",
    "a=int(a)\n",
    "fact = 0\n",
    "for i in xrange(2,a):\n",
    "    print i\n",
    "    if a%i==0:\n",
    "        fact = fact+1\n",
    "if fact==0:\n",
    "    print \"It's a prime number\"\n",
    "else:\n",
    "    print \"it's not a prime number\""
   ]
  },
  {
   "cell_type": "code",
   "execution_count": 4,
   "metadata": {},
   "outputs": [
    {
     "name": "stdout",
     "output_type": "stream",
     "text": [
      "Enter a number:2345678765432345678\n",
      "2\n",
      "it's not a prime number\n"
     ]
    }
   ],
   "source": [
    "a=raw_input(\"Enter a number:\")\n",
    "a=int(a)\n",
    "fact = 0\n",
    "for i in xrange(2,a):\n",
    "    print i\n",
    "    if a%i==0:\n",
    "        fact = fact+1\n",
    "        break\n",
    "if fact==0:\n",
    "    print \"It's a prime number\"\n",
    "else:\n",
    "    print \"it's not a prime number\""
   ]
  },
  {
   "cell_type": "code",
   "execution_count": 5,
   "metadata": {},
   "outputs": [
    {
     "name": "stdout",
     "output_type": "stream",
     "text": [
      "Enter a number:17\n",
      "2\n",
      "3\n",
      "4\n",
      "5\n",
      "6\n",
      "7\n",
      "It's a prime number\n"
     ]
    }
   ],
   "source": [
    "a=raw_input(\"Enter a number:\")\n",
    "a=int(a)\n",
    "fact = 0\n",
    "for i in xrange(2,a/2):\n",
    "    print i\n",
    "    if a%i==0:\n",
    "        fact = fact+1\n",
    "        break\n",
    "if fact==0:\n",
    "    print \"It's a prime number\"\n",
    "else:\n",
    "    print \"it's not a prime number\""
   ]
  },
  {
   "cell_type": "code",
   "execution_count": 6,
   "metadata": {},
   "outputs": [
    {
     "name": "stdout",
     "output_type": "stream",
     "text": [
      "Enter a number:25\n",
      "2\n",
      "3\n",
      "4\n",
      "5\n",
      "it's not a prime number\n"
     ]
    }
   ],
   "source": [
    "a=raw_input(\"Enter a number:\")\n",
    "a=int(a)\n",
    "fact = 0\n",
    "for i in xrange(2,a/2):\n",
    "    print i\n",
    "    if a%i==0:\n",
    "        fact = fact+1\n",
    "        break\n",
    "if fact==0:\n",
    "    print \"It's a prime number\"\n",
    "else:\n",
    "    print \"it's not a prime number\""
   ]
  },
  {
   "cell_type": "code",
   "execution_count": 7,
   "metadata": {},
   "outputs": [
    {
     "name": "stdout",
     "output_type": "stream",
     "text": [
      "else block\n"
     ]
    }
   ],
   "source": [
    "for i in \"python\":\n",
    "    if i==\"z\":\n",
    "        break\n",
    "else:\n",
    "    print \"else block\"\n",
    "    "
   ]
  },
  {
   "cell_type": "code",
   "execution_count": 8,
   "metadata": {
    "collapsed": true
   },
   "outputs": [],
   "source": [
    "for i in \"pyzthon\":\n",
    "    if i==\"z\":\n",
    "        break\n",
    "else:\n",
    "    print \"else block\"\n",
    "    "
   ]
  },
  {
   "cell_type": "code",
   "execution_count": 9,
   "metadata": {},
   "outputs": [
    {
     "name": "stdout",
     "output_type": "stream",
     "text": [
      "Enter a number:12\n",
      "2\n",
      "not a prime number\n"
     ]
    }
   ],
   "source": [
    "a=raw_input(\"Enter a number:\")\n",
    "a=int(a)\n",
    "\n",
    "for i in xrange(2,a/2):\n",
    "    print i\n",
    "    if a%i==0:\n",
    "        print \"not a prime number\"\n",
    "        break\n",
    "else:\n",
    "    print \"it's a prime number\"\n"
   ]
  },
  {
   "cell_type": "code",
   "execution_count": 10,
   "metadata": {},
   "outputs": [
    {
     "name": "stdout",
     "output_type": "stream",
     "text": [
      "Enter a number:23\n",
      "2\n",
      "3\n",
      "4\n",
      "5\n",
      "6\n",
      "7\n",
      "8\n",
      "9\n",
      "10\n",
      "it's a prime number\n"
     ]
    }
   ],
   "source": [
    "a=raw_input(\"Enter a number:\")\n",
    "a=int(a)\n",
    "\n",
    "for i in xrange(2,a/2):\n",
    "    print i\n",
    "    if a%i==0:\n",
    "        print \"not a prime number\"\n",
    "        break\n",
    "else:\n",
    "    print \"it's a prime number\"\n"
   ]
  },
  {
   "cell_type": "code",
   "execution_count": 11,
   "metadata": {},
   "outputs": [
    {
     "name": "stdout",
     "output_type": "stream",
     "text": [
      "Enter a letter:y\n",
      "Given letter y there in s\n"
     ]
    }
   ],
   "source": [
    "s=\"python\"\n",
    "l=raw_input(\"Enter a letter:\")\n",
    "c=0\n",
    "for i in s:\n",
    "    if i==l:\n",
    "        c=c+1\n",
    "if c==0:\n",
    "    print \"Given letter %s not there in s\"%l\n",
    "else:\n",
    "    print \"Given letter %s there in s\"%l"
   ]
  },
  {
   "cell_type": "code",
   "execution_count": 12,
   "metadata": {},
   "outputs": [
    {
     "name": "stdout",
     "output_type": "stream",
     "text": [
      "Enter a letter:z\n",
      "Given letter z not there in s\n"
     ]
    }
   ],
   "source": [
    "s=\"python\"\n",
    "l=raw_input(\"Enter a letter:\")\n",
    "c=0\n",
    "for i in s:\n",
    "    if i==l:\n",
    "        c=c+1\n",
    "if c==0:\n",
    "    print \"Given letter %s not there in s\"%l\n",
    "else:\n",
    "    print \"Given letter %s there in s\"%l"
   ]
  },
  {
   "cell_type": "code",
   "execution_count": 13,
   "metadata": {},
   "outputs": [
    {
     "name": "stdout",
     "output_type": "stream",
     "text": [
      "Enter a letter:p\n",
      "Given letter p there in s\n"
     ]
    }
   ],
   "source": [
    "s=\"python\"\n",
    "l=raw_input(\"Enter a letter:\")\n",
    "\n",
    "for i in s:\n",
    "    if i==l:\n",
    "        print \"Given letter %s there in s\"%l\n",
    "        break\n",
    "else:\n",
    "    print \"Given letter %s not there in s\"%l\n",
    "        \n"
   ]
  },
  {
   "cell_type": "code",
   "execution_count": 14,
   "metadata": {},
   "outputs": [
    {
     "name": "stdout",
     "output_type": "stream",
     "text": [
      "Enter a letter:z\n",
      "Given letter z not there in s\n"
     ]
    }
   ],
   "source": [
    "s=\"python\"\n",
    "l=raw_input(\"Enter a letter:\")\n",
    "\n",
    "for i in s:\n",
    "    if i==l:\n",
    "        print \"Given letter %s there in s\"%l\n",
    "        break\n",
    "else:\n",
    "    print \"Given letter %s not there in s\"%l\n",
    "        \n"
   ]
  },
  {
   "cell_type": "code",
   "execution_count": 15,
   "metadata": {},
   "outputs": [
    {
     "name": "stdout",
     "output_type": "stream",
     "text": [
      "program started\n",
      "Other statements in program\n",
      "program ended\n"
     ]
    }
   ],
   "source": [
    "print \"program started\"\n",
    "def fun():\n",
    "    print \"function started\"\n",
    "    print \"this is function\"\n",
    "    print \"function ended\"\n",
    "print \"Other statements in program\"\n",
    "print \"program ended\""
   ]
  },
  {
   "cell_type": "code",
   "execution_count": 16,
   "metadata": {},
   "outputs": [
    {
     "name": "stdout",
     "output_type": "stream",
     "text": [
      "program started\n",
      "Other statements in program\n",
      "function started\n",
      "this is function\n",
      "function ended\n",
      "program ended\n"
     ]
    }
   ],
   "source": [
    "print \"program started\"\n",
    "def fun():\n",
    "    print \"function started\"\n",
    "    print \"this is function\"\n",
    "    print \"function ended\"\n",
    "    \n",
    "print \"Other statements in program\"\n",
    "fun()\n",
    "print \"program ended\""
   ]
  },
  {
   "cell_type": "code",
   "execution_count": 17,
   "metadata": {},
   "outputs": [
    {
     "name": "stdout",
     "output_type": "stream",
     "text": [
      "program started\n",
      "Other statements in program\n",
      "function started\n",
      "this is function\n",
      "function ended\n",
      "program ended\n",
      "function started\n",
      "this is function\n",
      "function ended\n",
      "function started\n",
      "this is function\n",
      "function ended\n"
     ]
    }
   ],
   "source": [
    "print \"program started\"\n",
    "def fun():\n",
    "    print \"function started\"\n",
    "    print \"this is function\"\n",
    "    print \"function ended\"\n",
    "    \n",
    "print \"Other statements in program\"\n",
    "fun()\n",
    "print \"program ended\"\n",
    "fun()\n",
    "fun()"
   ]
  },
  {
   "cell_type": "code",
   "execution_count": 18,
   "metadata": {},
   "outputs": [
    {
     "name": "stdout",
     "output_type": "stream",
     "text": [
      "program started\n",
      "Other statements in program\n",
      "a=100, b=200\n",
      "result= 300\n",
      "program ended\n"
     ]
    }
   ],
   "source": [
    "print \"program started\"\n",
    "def fun(a,b):\n",
    "    # a,b are parameters\n",
    "    print \"a=%s, b=%s\"%(a,b)\n",
    "    c=a+b\n",
    "    print \"result=\",c   \n",
    "print \"Other statements in program\"\n",
    "fun(100,200)\n",
    "print \"program ended\"\n"
   ]
  },
  {
   "cell_type": "code",
   "execution_count": 19,
   "metadata": {},
   "outputs": [
    {
     "name": "stdout",
     "output_type": "stream",
     "text": [
      "program started\n",
      "Other statements in program\n"
     ]
    },
    {
     "ename": "TypeError",
     "evalue": "fun() takes exactly 2 arguments (3 given)",
     "output_type": "error",
     "traceback": [
      "\u001b[0;31m---------------------------------------------------------------------------\u001b[0m",
      "\u001b[0;31mTypeError\u001b[0m                                 Traceback (most recent call last)",
      "\u001b[0;32m<ipython-input-19-f90164bbe46b>\u001b[0m in \u001b[0;36m<module>\u001b[0;34m()\u001b[0m\n\u001b[1;32m      6\u001b[0m     \u001b[0;32mprint\u001b[0m \u001b[0;34m\"result=\"\u001b[0m\u001b[0;34m,\u001b[0m\u001b[0mc\u001b[0m\u001b[0;34m\u001b[0m\u001b[0m\n\u001b[1;32m      7\u001b[0m \u001b[0;32mprint\u001b[0m \u001b[0;34m\"Other statements in program\"\u001b[0m\u001b[0;34m\u001b[0m\u001b[0m\n\u001b[0;32m----> 8\u001b[0;31m \u001b[0mfun\u001b[0m\u001b[0;34m(\u001b[0m\u001b[0;36m100\u001b[0m\u001b[0;34m,\u001b[0m\u001b[0;36m200\u001b[0m\u001b[0;34m,\u001b[0m\u001b[0;36m300\u001b[0m\u001b[0;34m)\u001b[0m\u001b[0;34m\u001b[0m\u001b[0m\n\u001b[0m\u001b[1;32m      9\u001b[0m \u001b[0;31m# 100,200,300 are arguments\u001b[0m\u001b[0;34m\u001b[0m\u001b[0;34m\u001b[0m\u001b[0m\n\u001b[1;32m     10\u001b[0m \u001b[0;32mprint\u001b[0m \u001b[0;34m\"program ended\"\u001b[0m\u001b[0;34m\u001b[0m\u001b[0m\n",
      "\u001b[0;31mTypeError\u001b[0m: fun() takes exactly 2 arguments (3 given)"
     ]
    }
   ],
   "source": [
    "print \"program started\"\n",
    "def fun(a,b):\n",
    "    # a,b are parameters\n",
    "    print \"a=%s, b=%s\"%(a,b)\n",
    "    c=a+b\n",
    "    print \"result=\",c   \n",
    "print \"Other statements in program\"\n",
    "fun(100,200,300)\n",
    "# 100,200,300 are arguments\n",
    "print \"program ended\"\n"
   ]
  },
  {
   "cell_type": "code",
   "execution_count": 20,
   "metadata": {},
   "outputs": [
    {
     "name": "stdout",
     "output_type": "stream",
     "text": [
      "program started\n",
      "Other statements in program\n"
     ]
    },
    {
     "ename": "TypeError",
     "evalue": "fun() takes exactly 2 arguments (1 given)",
     "output_type": "error",
     "traceback": [
      "\u001b[0;31m---------------------------------------------------------------------------\u001b[0m",
      "\u001b[0;31mTypeError\u001b[0m                                 Traceback (most recent call last)",
      "\u001b[0;32m<ipython-input-20-4a19e85fdb90>\u001b[0m in \u001b[0;36m<module>\u001b[0;34m()\u001b[0m\n\u001b[1;32m      6\u001b[0m     \u001b[0;32mprint\u001b[0m \u001b[0;34m\"result=\"\u001b[0m\u001b[0;34m,\u001b[0m\u001b[0mc\u001b[0m\u001b[0;34m\u001b[0m\u001b[0m\n\u001b[1;32m      7\u001b[0m \u001b[0;32mprint\u001b[0m \u001b[0;34m\"Other statements in program\"\u001b[0m\u001b[0;34m\u001b[0m\u001b[0m\n\u001b[0;32m----> 8\u001b[0;31m \u001b[0mfun\u001b[0m\u001b[0;34m(\u001b[0m\u001b[0;36m100\u001b[0m\u001b[0;34m)\u001b[0m\u001b[0;34m\u001b[0m\u001b[0m\n\u001b[0m\u001b[1;32m      9\u001b[0m \u001b[0;31m# 100,200,300 are arguments\u001b[0m\u001b[0;34m\u001b[0m\u001b[0;34m\u001b[0m\u001b[0m\n\u001b[1;32m     10\u001b[0m \u001b[0;32mprint\u001b[0m \u001b[0;34m\"program ended\"\u001b[0m\u001b[0;34m\u001b[0m\u001b[0m\n",
      "\u001b[0;31mTypeError\u001b[0m: fun() takes exactly 2 arguments (1 given)"
     ]
    }
   ],
   "source": [
    "print \"program started\"\n",
    "def fun(a,b):\n",
    "    # a,b are parameters\n",
    "    print \"a=%s, b=%s\"%(a,b)\n",
    "    c=a+b\n",
    "    print \"result=\",c   \n",
    "print \"Other statements in program\"\n",
    "fun(100)\n",
    "# 100,200,300 are arguments\n",
    "print \"program ended\"\n"
   ]
  },
  {
   "cell_type": "code",
   "execution_count": 21,
   "metadata": {},
   "outputs": [
    {
     "name": "stdout",
     "output_type": "stream",
     "text": [
      "program started\n",
      "Other statements in program\n",
      "a=100, b=200\n",
      "result= 300\n",
      "program ended\n"
     ]
    }
   ],
   "source": [
    "print \"program started\"\n",
    "def fun(a,b,c,d,e,f):\n",
    "    # a,b are parameters\n",
    "    print \"a=%s, b=%s\"%(a,b)\n",
    "    c=a+b\n",
    "    print \"result=\",c   \n",
    "print \"Other statements in program\"\n",
    "fun(100,200,0,0,0,0)\n",
    "# 100,200,300 are arguments\n",
    "print \"program ended\"\n"
   ]
  },
  {
   "cell_type": "code",
   "execution_count": 22,
   "metadata": {},
   "outputs": [
    {
     "name": "stdout",
     "output_type": "stream",
     "text": [
      "program started\n",
      "Other statements in program\n"
     ]
    },
    {
     "ename": "TypeError",
     "evalue": "fun() takes exactly 6 arguments (2 given)",
     "output_type": "error",
     "traceback": [
      "\u001b[0;31m---------------------------------------------------------------------------\u001b[0m",
      "\u001b[0;31mTypeError\u001b[0m                                 Traceback (most recent call last)",
      "\u001b[0;32m<ipython-input-22-7b62e49b36db>\u001b[0m in \u001b[0;36m<module>\u001b[0;34m()\u001b[0m\n\u001b[1;32m      6\u001b[0m     \u001b[0;32mprint\u001b[0m \u001b[0;34m\"result=\"\u001b[0m\u001b[0;34m,\u001b[0m\u001b[0mc\u001b[0m\u001b[0;34m\u001b[0m\u001b[0m\n\u001b[1;32m      7\u001b[0m \u001b[0;32mprint\u001b[0m \u001b[0;34m\"Other statements in program\"\u001b[0m\u001b[0;34m\u001b[0m\u001b[0m\n\u001b[0;32m----> 8\u001b[0;31m \u001b[0mfun\u001b[0m\u001b[0;34m(\u001b[0m\u001b[0;36m100\u001b[0m\u001b[0;34m,\u001b[0m\u001b[0;36m200\u001b[0m\u001b[0;34m)\u001b[0m\u001b[0;34m\u001b[0m\u001b[0m\n\u001b[0m\u001b[1;32m      9\u001b[0m \u001b[0;31m# 100,200,300 are arguments\u001b[0m\u001b[0;34m\u001b[0m\u001b[0;34m\u001b[0m\u001b[0m\n\u001b[1;32m     10\u001b[0m \u001b[0;32mprint\u001b[0m \u001b[0;34m\"program ended\"\u001b[0m\u001b[0;34m\u001b[0m\u001b[0m\n",
      "\u001b[0;31mTypeError\u001b[0m: fun() takes exactly 6 arguments (2 given)"
     ]
    }
   ],
   "source": [
    "print \"program started\"\n",
    "def fun(a,b,c,d,e,f):\n",
    "    # a,b are parameters\n",
    "    print \"a=%s, b=%s\"%(a,b)\n",
    "    c=a+b\n",
    "    print \"result=\",c   \n",
    "print \"Other statements in program\"\n",
    "fun(100,200)\n",
    "# 100,200,300 are arguments\n",
    "print \"program ended\"\n"
   ]
  },
  {
   "cell_type": "code",
   "execution_count": 23,
   "metadata": {},
   "outputs": [
    {
     "name": "stdout",
     "output_type": "stream",
     "text": [
      "program started\n",
      "Other statements in program\n",
      "a=100, b=200, c=300, d=0, e=0, f=0\n",
      "result= 300\n",
      "program ended\n"
     ]
    }
   ],
   "source": [
    "print \"program started\"\n",
    "# default argument\n",
    "def fun(a,b,c=0,d=0,e=0,f=0):\n",
    "    # a,b are mandatory parameters\n",
    "    # s,d,e are optional parameters\n",
    "    print \"a=%s, b=%s, c=%s, d=%s, e=%s, f=%s\"%(a,b,c,d,e,f)\n",
    "    c=a+b\n",
    "    print \"result=\",c   \n",
    "print \"Other statements in program\"\n",
    "fun(100,200,300)\n",
    "# 100,200,300 are arguments\n",
    "print \"program ended\"\n"
   ]
  },
  {
   "cell_type": "code",
   "execution_count": 24,
   "metadata": {},
   "outputs": [
    {
     "name": "stdout",
     "output_type": "stream",
     "text": [
      "program started\n",
      "Other statements in program\n",
      "a=100, b=200, c=300, d=0, e=0, f=0\n",
      "result= 300\n",
      "a=10, b=20, c=0, d=0, e=0, f=0\n",
      "result= 30\n",
      "a=10, b=20, c=30, d=0, e=0, f=0\n",
      "result= 30\n",
      "a=10, b=20, c=30, d=40, e=0, f=0\n",
      "result= 30\n",
      "a=10, b=20, c=30, d=40, e=50, f=0\n",
      "result= 30\n",
      "a=10, b=20, c=30, d=40, e=50, f=60\n",
      "result= 30\n",
      "program ended\n"
     ]
    }
   ],
   "source": [
    "print \"program started\"\n",
    "# default argument\n",
    "def fun(a,b,c=0,d=0,e=0,f=0):\n",
    "    # a,b are mandatory parameters\n",
    "    # s,d,e are optional parameters\n",
    "    print \"a=%s, b=%s, c=%s, d=%s, e=%s, f=%s\"%(a,b,c,d,e,f)\n",
    "    c=a+b\n",
    "    print \"result=\",c   \n",
    "print \"Other statements in program\"\n",
    "fun(100,200,300)\n",
    "# 100,200,300 are arguments\n",
    "fun(10,20)\n",
    "fun(10,20,30)\n",
    "fun(10,20,30,40)\n",
    "fun(10,20,30,40,50)\n",
    "fun(10,20,30,40,50,60)\n",
    "print \"program ended\"\n"
   ]
  },
  {
   "cell_type": "code",
   "execution_count": 25,
   "metadata": {},
   "outputs": [
    {
     "name": "stdout",
     "output_type": "stream",
     "text": [
      "program started\n",
      "Other statements in program\n",
      "a=100, b=200, c=300, d=0, e=0, f=0\n",
      "result= 300\n",
      "a=10, b=20, c=0, d=0, e=0, f=0\n",
      "result= 30\n",
      "a=10, b=20, c=30, d=0, e=0, f=0\n",
      "result= 30\n",
      "a=10, b=20, c=30, d=40, e=0, f=0\n",
      "result= 30\n",
      "a=10, b=20, c=30, d=40, e=50, f=0\n",
      "result= 30\n",
      "a=10, b=20, c=30, d=40, e=50, f=60\n",
      "result= 30\n"
     ]
    },
    {
     "ename": "TypeError",
     "evalue": "fun() takes at most 6 arguments (7 given)",
     "output_type": "error",
     "traceback": [
      "\u001b[0;31m---------------------------------------------------------------------------\u001b[0m",
      "\u001b[0;31mTypeError\u001b[0m                                 Traceback (most recent call last)",
      "\u001b[0;32m<ipython-input-25-baa8f4f7c15a>\u001b[0m in \u001b[0;36m<module>\u001b[0;34m()\u001b[0m\n\u001b[1;32m     15\u001b[0m \u001b[0mfun\u001b[0m\u001b[0;34m(\u001b[0m\u001b[0;36m10\u001b[0m\u001b[0;34m,\u001b[0m\u001b[0;36m20\u001b[0m\u001b[0;34m,\u001b[0m\u001b[0;36m30\u001b[0m\u001b[0;34m,\u001b[0m\u001b[0;36m40\u001b[0m\u001b[0;34m,\u001b[0m\u001b[0;36m50\u001b[0m\u001b[0;34m)\u001b[0m\u001b[0;34m\u001b[0m\u001b[0m\n\u001b[1;32m     16\u001b[0m \u001b[0mfun\u001b[0m\u001b[0;34m(\u001b[0m\u001b[0;36m10\u001b[0m\u001b[0;34m,\u001b[0m\u001b[0;36m20\u001b[0m\u001b[0;34m,\u001b[0m\u001b[0;36m30\u001b[0m\u001b[0;34m,\u001b[0m\u001b[0;36m40\u001b[0m\u001b[0;34m,\u001b[0m\u001b[0;36m50\u001b[0m\u001b[0;34m,\u001b[0m\u001b[0;36m60\u001b[0m\u001b[0;34m)\u001b[0m\u001b[0;34m\u001b[0m\u001b[0m\n\u001b[0;32m---> 17\u001b[0;31m \u001b[0mfun\u001b[0m\u001b[0;34m(\u001b[0m\u001b[0;36m10\u001b[0m\u001b[0;34m,\u001b[0m\u001b[0;36m20\u001b[0m\u001b[0;34m,\u001b[0m\u001b[0;36m30\u001b[0m\u001b[0;34m,\u001b[0m\u001b[0;36m40\u001b[0m\u001b[0;34m,\u001b[0m\u001b[0;36m50\u001b[0m\u001b[0;34m,\u001b[0m\u001b[0;36m60\u001b[0m\u001b[0;34m,\u001b[0m\u001b[0;36m70\u001b[0m\u001b[0;34m)\u001b[0m\u001b[0;34m\u001b[0m\u001b[0m\n\u001b[0m\u001b[1;32m     18\u001b[0m \u001b[0;32mprint\u001b[0m \u001b[0;34m\"program ended\"\u001b[0m\u001b[0;34m\u001b[0m\u001b[0m\n",
      "\u001b[0;31mTypeError\u001b[0m: fun() takes at most 6 arguments (7 given)"
     ]
    }
   ],
   "source": [
    "print \"program started\"\n",
    "# default argument\n",
    "def fun(a,b,c=0,d=0,e=0,f=0):\n",
    "    # a,b are mandatory parameters\n",
    "    # s,d,e are optional parameters\n",
    "    print \"a=%s, b=%s, c=%s, d=%s, e=%s, f=%s\"%(a,b,c,d,e,f)\n",
    "    c=a+b\n",
    "    print \"result=\",c   \n",
    "print \"Other statements in program\"\n",
    "fun(100,200,300)\n",
    "# 100,200,300 are arguments\n",
    "fun(10,20)\n",
    "fun(10,20,30)\n",
    "fun(10,20,30,40)\n",
    "fun(10,20,30,40,50)\n",
    "fun(10,20,30,40,50,60)\n",
    "fun(10,20,30,40,50,60,70)\n",
    "print \"program ended\"\n"
   ]
  },
  {
   "cell_type": "code",
   "execution_count": 26,
   "metadata": {},
   "outputs": [
    {
     "name": "stdout",
     "output_type": "stream",
     "text": [
      "program started\n",
      "Other statements in program\n",
      "a=100, b=200, c=300, d=0, e=0, f=0\n",
      "result= 300\n",
      "a=10, b=20, c=0, d=0, e=0, f=0\n",
      "result= 30\n",
      "a=10, b=20, c=30, d=0, e=0, f=0\n",
      "result= 30\n",
      "a=10, b=20, c=30, d=40, e=0, f=0\n",
      "result= 30\n",
      "a=10, b=20, c=30, d=40, e=50, f=0\n",
      "result= 30\n",
      "a=10, b=20, c=30, d=40, e=50, f=60\n",
      "result= 30\n"
     ]
    },
    {
     "ename": "TypeError",
     "evalue": "fun() takes at least 2 arguments (1 given)",
     "output_type": "error",
     "traceback": [
      "\u001b[0;31m---------------------------------------------------------------------------\u001b[0m",
      "\u001b[0;31mTypeError\u001b[0m                                 Traceback (most recent call last)",
      "\u001b[0;32m<ipython-input-26-c9994669d407>\u001b[0m in \u001b[0;36m<module>\u001b[0;34m()\u001b[0m\n\u001b[1;32m     15\u001b[0m \u001b[0mfun\u001b[0m\u001b[0;34m(\u001b[0m\u001b[0;36m10\u001b[0m\u001b[0;34m,\u001b[0m\u001b[0;36m20\u001b[0m\u001b[0;34m,\u001b[0m\u001b[0;36m30\u001b[0m\u001b[0;34m,\u001b[0m\u001b[0;36m40\u001b[0m\u001b[0;34m,\u001b[0m\u001b[0;36m50\u001b[0m\u001b[0;34m)\u001b[0m\u001b[0;34m\u001b[0m\u001b[0m\n\u001b[1;32m     16\u001b[0m \u001b[0mfun\u001b[0m\u001b[0;34m(\u001b[0m\u001b[0;36m10\u001b[0m\u001b[0;34m,\u001b[0m\u001b[0;36m20\u001b[0m\u001b[0;34m,\u001b[0m\u001b[0;36m30\u001b[0m\u001b[0;34m,\u001b[0m\u001b[0;36m40\u001b[0m\u001b[0;34m,\u001b[0m\u001b[0;36m50\u001b[0m\u001b[0;34m,\u001b[0m\u001b[0;36m60\u001b[0m\u001b[0;34m)\u001b[0m\u001b[0;34m\u001b[0m\u001b[0m\n\u001b[0;32m---> 17\u001b[0;31m \u001b[0mfun\u001b[0m\u001b[0;34m(\u001b[0m\u001b[0;36m100\u001b[0m\u001b[0;34m)\u001b[0m\u001b[0;34m\u001b[0m\u001b[0m\n\u001b[0m\u001b[1;32m     18\u001b[0m \u001b[0;32mprint\u001b[0m \u001b[0;34m\"program ended\"\u001b[0m\u001b[0;34m\u001b[0m\u001b[0m\n",
      "\u001b[0;31mTypeError\u001b[0m: fun() takes at least 2 arguments (1 given)"
     ]
    }
   ],
   "source": [
    "print \"program started\"\n",
    "# default argument\n",
    "def fun(a,b,c=0,d=0,e=0,f=0):\n",
    "    # a,b are mandatory parameters\n",
    "    # s,d,e are optional parameters\n",
    "    print \"a=%s, b=%s, c=%s, d=%s, e=%s, f=%s\"%(a,b,c,d,e,f)\n",
    "    c=a+b\n",
    "    print \"result=\",c   \n",
    "print \"Other statements in program\"\n",
    "fun(100,200,300)\n",
    "# 100,200,300 are arguments\n",
    "fun(10,20)\n",
    "fun(10,20,30)\n",
    "fun(10,20,30,40)\n",
    "fun(10,20,30,40,50)\n",
    "fun(10,20,30,40,50,60)\n",
    "fun(100)\n",
    "print \"program ended\"\n"
   ]
  },
  {
   "cell_type": "code",
   "execution_count": 27,
   "metadata": {},
   "outputs": [
    {
     "name": "stdout",
     "output_type": "stream",
     "text": [
      "program started\n",
      "Other statements in program\n",
      "a=100, b=200, c=300, d=0, e=0, f=0\n",
      "result= 300\n",
      "program ended\n"
     ]
    }
   ],
   "source": [
    "print \"program started\"\n",
    "def fun(a,b,c=0,d=0,e=0,f=0):\n",
    "    \n",
    "    print \"a=%s, b=%s, c=%s, d=%s, e=%s, f=%s\"%(a,b,c,d,e,f)\n",
    "    c=a+b\n",
    "    print \"result=\",c   \n",
    "print \"Other statements in program\"\n",
    "fun(100,200,300)\n",
    "print \"program ended\"\n"
   ]
  },
  {
   "cell_type": "code",
   "execution_count": 28,
   "metadata": {},
   "outputs": [
    {
     "ename": "SyntaxError",
     "evalue": "invalid syntax (<ipython-input-28-6fb22bd04cc4>, line 8)",
     "output_type": "error",
     "traceback": [
      "\u001b[0;36m  File \u001b[0;32m\"<ipython-input-28-6fb22bd04cc4>\"\u001b[0;36m, line \u001b[0;32m8\u001b[0m\n\u001b[0;31m    fun(100,200,,,300)\u001b[0m\n\u001b[0m                ^\u001b[0m\n\u001b[0;31mSyntaxError\u001b[0m\u001b[0;31m:\u001b[0m invalid syntax\n"
     ]
    }
   ],
   "source": [
    "print \"program started\"\n",
    "def fun(a,b,c=0,d=0,e=0,f=0):\n",
    "    \n",
    "    print \"a=%s, b=%s, c=%s, d=%s, e=%s, f=%s\"%(a,b,c,d,e,f)\n",
    "    c=a+b\n",
    "    print \"result=\",c   \n",
    "print \"Other statements in program\"\n",
    "fun(100,200,,,300)\n",
    "print \"program ended\"\n"
   ]
  },
  {
   "cell_type": "code",
   "execution_count": 29,
   "metadata": {},
   "outputs": [
    {
     "name": "stdout",
     "output_type": "stream",
     "text": [
      "program started\n",
      "Other statements in program\n",
      "a=100, b=200, c=0, d=0, e=300, f=0\n",
      "result= 300\n",
      "program ended\n"
     ]
    }
   ],
   "source": [
    "print \"program started\"\n",
    "def fun(a,b,c=0,d=0,e=0,f=0):\n",
    "    \n",
    "    print \"a=%s, b=%s, c=%s, d=%s, e=%s, f=%s\"%(a,b,c,d,e,f)\n",
    "    c=a+b\n",
    "    print \"result=\",c   \n",
    "print \"Other statements in program\"\n",
    "fun(100,200,0,0,300)\n",
    "print \"program ended\"\n"
   ]
  },
  {
   "cell_type": "code",
   "execution_count": 30,
   "metadata": {
    "collapsed": true
   },
   "outputs": [],
   "source": [
    "import pandas as pd"
   ]
  },
  {
   "cell_type": "code",
   "execution_count": 31,
   "metadata": {
    "collapsed": true
   },
   "outputs": [],
   "source": [
    "pd.read_csv?"
   ]
  },
  {
   "cell_type": "code",
   "execution_count": 32,
   "metadata": {},
   "outputs": [
    {
     "name": "stdout",
     "output_type": "stream",
     "text": [
      "program started\n",
      "Other statements in program\n",
      "a=100, b=200, c=0, d=0, e=0, f=0\n",
      "result= 300\n",
      "program ended\n"
     ]
    }
   ],
   "source": [
    "print \"program started\"\n",
    "def fun(a,b,c=0,d=0,e=0,f=0):\n",
    "    \n",
    "    print \"a=%s, b=%s, c=%s, d=%s, e=%s, f=%s\"%(a,b,c,d,e,f)\n",
    "    c=a+b\n",
    "    print \"result=\",c   \n",
    "print \"Other statements in program\"\n",
    "fun(100,200)\n",
    "print \"program ended\""
   ]
  },
  {
   "cell_type": "code",
   "execution_count": 33,
   "metadata": {},
   "outputs": [
    {
     "name": "stdout",
     "output_type": "stream",
     "text": [
      "program started\n",
      "Other statements in program\n",
      "a=100, b=200, c=0, d=0, e=0, f=0\n",
      "result= 300\n",
      "program ended\n"
     ]
    }
   ],
   "source": [
    "print \"program started\"\n",
    "def fun(a,b,c=0,d=0,e=0,f=0):\n",
    "    \n",
    "    print \"a=%s, b=%s, c=%s, d=%s, e=%s, f=%s\"%(a,b,c,d,e,f)\n",
    "    c=a+b\n",
    "    print \"result=\",c   \n",
    "print \"Other statements in program\"\n",
    "fun(100,200)\n",
    "print \"program ended\""
   ]
  },
  {
   "cell_type": "code",
   "execution_count": 35,
   "metadata": {},
   "outputs": [
    {
     "name": "stdout",
     "output_type": "stream",
     "text": [
      "program started\n",
      "Other statements in program\n",
      "a=100, b=200, c=0, d=0, e=300, f=0\n",
      "result= 600\n",
      "program ended\n"
     ]
    }
   ],
   "source": [
    "print \"program started\"\n",
    "def fun(a,b,c=0,d=0,e=0,f=0):\n",
    "    \n",
    "    print \"a=%s, b=%s, c=%s, d=%s, e=%s, f=%s\"%(a,b,c,d,e,f)\n",
    "    c=a+b+c+d+e\n",
    "    print \"result=\",c   \n",
    "print \"Other statements in program\"\n",
    "fun(100,200,e=300)\n",
    "print \"program ended\""
   ]
  },
  {
   "cell_type": "code",
   "execution_count": 36,
   "metadata": {},
   "outputs": [
    {
     "name": "stdout",
     "output_type": "stream",
     "text": [
      "program started\n",
      "Other statements in program\n",
      "a=100, b=200, c=50, d=20, e=300, f=400\n",
      "result= 670\n",
      "program ended\n"
     ]
    }
   ],
   "source": [
    "print \"program started\"\n",
    "def fun(a,b,c=0,d=0,e=0,f=0):\n",
    "    \n",
    "    print \"a=%s, b=%s, c=%s, d=%s, e=%s, f=%s\"%(a,b,c,d,e,f)\n",
    "    c=a+b+c+d+e\n",
    "    print \"result=\",c   \n",
    "print \"Other statements in program\"\n",
    "#keyword arguments\n",
    "fun(100,200,e=300,f=400,d=20,c=50)\n",
    "print \"program ended\""
   ]
  },
  {
   "cell_type": "code",
   "execution_count": 37,
   "metadata": {},
   "outputs": [
    {
     "name": "stdout",
     "output_type": "stream",
     "text": [
      "program started\n",
      "Other statements in program\n",
      "a=200, b=100, c=50, d=20, e=300, f=400\n",
      "result= 670\n",
      "program ended\n"
     ]
    }
   ],
   "source": [
    "print \"program started\"\n",
    "def fun(a,b,c=0,d=0,e=0,f=0):\n",
    "    \n",
    "    print \"a=%s, b=%s, c=%s, d=%s, e=%s, f=%s\"%(a,b,c,d,e,f)\n",
    "    c=a+b+c+d+e\n",
    "    print \"result=\",c   \n",
    "print \"Other statements in program\"\n",
    "#keyword arguments\n",
    "fun(b=100,a=200,e=300,f=400,d=20,c=50)\n",
    "print \"program ended\""
   ]
  },
  {
   "cell_type": "code",
   "execution_count": null,
   "metadata": {
    "collapsed": true
   },
   "outputs": [],
   "source": []
  }
 ],
 "metadata": {
  "kernelspec": {
   "display_name": "Python 2",
   "language": "python",
   "name": "python2"
  },
  "language_info": {
   "codemirror_mode": {
    "name": "ipython",
    "version": 2
   },
   "file_extension": ".py",
   "mimetype": "text/x-python",
   "name": "python",
   "nbconvert_exporter": "python",
   "pygments_lexer": "ipython2",
   "version": "2.7.14"
  }
 },
 "nbformat": 4,
 "nbformat_minor": 2
}
