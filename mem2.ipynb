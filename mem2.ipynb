{
 "cells": [
  {
   "cell_type": "code",
   "execution_count": 3,
   "metadata": {
    "collapsed": true
   },
   "outputs": [],
   "source": [
    "s1=\"python1 \"\n",
    "s2=s1\n",
    "s3=\"python1 \"\n",
    "s4=\"python program\""
   ]
  },
  {
   "cell_type": "code",
   "execution_count": 4,
   "metadata": {},
   "outputs": [
    {
     "name": "stdout",
     "output_type": "stream",
     "text": [
      "python1  139727097126800\n",
      "python1  139727097126800\n",
      "python1  139727097280048\n"
     ]
    }
   ],
   "source": [
    "print s1,id(s1)\n",
    "print s2,id(s2)\n",
    "print s3, id(s3)"
   ]
  },
  {
   "cell_type": "code",
   "execution_count": 5,
   "metadata": {},
   "outputs": [
    {
     "name": "stdout",
     "output_type": "stream",
     "text": [
      "p 139727659827688\n",
      "p 139727659827688\n",
      "p 139727659827688\n"
     ]
    }
   ],
   "source": [
    "print s1[0],id(s1[0])\n",
    "print s2[0],id(s2[0])\n",
    "print s3[0], id(s3[0])"
   ]
  },
  {
   "cell_type": "code",
   "execution_count": 6,
   "metadata": {},
   "outputs": [
    {
     "name": "stdout",
     "output_type": "stream",
     "text": [
      "p 139727659827688\n",
      "p 139727659827688\n",
      "p 139727659827688\n",
      "p 139727659827688\n"
     ]
    }
   ],
   "source": [
    "print s1[0],id(s1[0])\n",
    "print s2[0],id(s2[0])\n",
    "print s3[0], id(s3[0])\n",
    "print s4[0], id(s4[0])"
   ]
  },
  {
   "cell_type": "code",
   "execution_count": 7,
   "metadata": {},
   "outputs": [
    {
     "name": "stdout",
     "output_type": "stream",
     "text": [
      "p 139727659827688\n",
      "p 139727659827688\n",
      "p 139727659827688\n",
      "p 139727659827688\n",
      "p 139727659827688\n"
     ]
    }
   ],
   "source": [
    "print s1[0],id(s1[0])\n",
    "print s2[0],id(s2[0])\n",
    "print s3[0], id(s3[0])\n",
    "print s4[0], id(s4[0])\n",
    "print s4[7], id(s4[7])"
   ]
  },
  {
   "cell_type": "code",
   "execution_count": 8,
   "metadata": {},
   "outputs": [
    {
     "name": "stdout",
     "output_type": "stream",
     "text": [
      "139727507966576 [1000, 2000, 3000]\n",
      "139727507966576 [1000, 2000, 3000]\n",
      "139727433335584 [1000, 2000, 3000]\n"
     ]
    }
   ],
   "source": [
    "l1=[1000,2000,3000]\n",
    "l2=l1\n",
    "l3=[1000,2000,3000]\n",
    "print id(l1),l1\n",
    "print id(l2),l2\n",
    "print id(l3),l3"
   ]
  },
  {
   "cell_type": "code",
   "execution_count": 9,
   "metadata": {},
   "outputs": [
    {
     "name": "stdout",
     "output_type": "stream",
     "text": [
      "94850214414864 1000\n",
      "94850214414864 1000\n",
      "94850213675264 1000\n"
     ]
    }
   ],
   "source": [
    "l1=[1000,2000,3000]\n",
    "l2=l1\n",
    "l3=[1000,2000,3000]\n",
    "print id(l1[0]),l1[0]\n",
    "print id(l2[0]),l2[0]\n",
    "print id(l3[0]),l3[0]"
   ]
  },
  {
   "cell_type": "code",
   "execution_count": 10,
   "metadata": {},
   "outputs": [
    {
     "name": "stdout",
     "output_type": "stream",
     "text": [
      "139727097183120 [1000, 2000, 3000]\n",
      "139727097183120 [1000, 2000, 3000]\n",
      "139727097181536 [1000, 2000, 3000]\n",
      "2000 94850213675216\n",
      "2000 94850213675216\n"
     ]
    }
   ],
   "source": [
    "a=1000\n",
    "b=2000\n",
    "c=3000\n",
    "l1=[a,2000,3000]\n",
    "l2=l1\n",
    "l3=[1000,b,3000]\n",
    "print id(l1),l1\n",
    "print id(l2),l2\n",
    "print id(l3),l3\n",
    "print l3[1],id(l3[1])\n",
    "print b,id(b)"
   ]
  },
  {
   "cell_type": "code",
   "execution_count": 11,
   "metadata": {},
   "outputs": [
    {
     "name": "stdout",
     "output_type": "stream",
     "text": [
      "139727097282112\n",
      "139727088463920\n"
     ]
    }
   ],
   "source": [
    "s=\"python \"\n",
    "s1=\"python \"\n",
    "print id(s)\n",
    "print id(s1)"
   ]
  },
  {
   "cell_type": "code",
   "execution_count": 12,
   "metadata": {},
   "outputs": [
    {
     "name": "stdout",
     "output_type": "stream",
     "text": [
      "139727659925056\n",
      "139727659925056\n"
     ]
    }
   ],
   "source": [
    "s=\"python \"\n",
    "s1=\"python \"\n",
    "print id(s[6])\n",
    "print id(s1[6])"
   ]
  },
  {
   "cell_type": "code",
   "execution_count": 13,
   "metadata": {},
   "outputs": [
    {
     "name": "stdout",
     "output_type": "stream",
     "text": [
      "p 139727659827688\n",
      "p 139727659827688\n"
     ]
    }
   ],
   "source": [
    "s=\"python\"\n",
    "l=[\"p\",\"y\",\"t\",\"h\",\"o\",\"n\"]\n",
    "print s[0],id(s[0])\n",
    "print l[0],id(l[0])"
   ]
  },
  {
   "cell_type": "code",
   "execution_count": 14,
   "metadata": {},
   "outputs": [
    {
     "name": "stdout",
     "output_type": "stream",
     "text": [
      "p 139727659827688\n",
      "p 139727659827688\n",
      "ja\n",
      "['j', 'a']\n"
     ]
    }
   ],
   "source": [
    "s=\"python\"\n",
    "l=[\"p\",\"y\",\"t\",\"h\",\"o\",\"n\"]\n",
    "print s[0],id(s[0])\n",
    "print l[0],id(l[0])\n",
    "s=\"ja\"\n",
    "l=[\"j\",\"a\"]\n",
    "print s\n",
    "print l"
   ]
  },
  {
   "cell_type": "code",
   "execution_count": 16,
   "metadata": {},
   "outputs": [
    {
     "name": "stdout",
     "output_type": "stream",
     "text": [
      "p 139727659827688\n",
      "p 139727659827688\n",
      "ja\n",
      "['j', 'a']\n",
      "['t', 'a']\n"
     ]
    }
   ],
   "source": [
    "s=\"python\"\n",
    "l=[\"p\",\"y\",\"t\",\"h\",\"o\",\"n\"]\n",
    "print s[0],id(s[0])\n",
    "print l[0],id(l[0])\n",
    "s=\"ja\"\n",
    "l=[\"j\",\"a\"]\n",
    "print s\n",
    "print l\n",
    "l[0]=\"t\"\n",
    "print l"
   ]
  },
  {
   "cell_type": "code",
   "execution_count": 17,
   "metadata": {},
   "outputs": [
    {
     "name": "stdout",
     "output_type": "stream",
     "text": [
      "p 139727659827688\n",
      "p 139727659827688\n",
      "ja\n",
      "['j', 'a']\n",
      "['t', 'a']\n"
     ]
    },
    {
     "ename": "TypeError",
     "evalue": "'str' object does not support item assignment",
     "output_type": "error",
     "traceback": [
      "\u001b[0;31m---------------------------------------------------------------------------\u001b[0m",
      "\u001b[0;31mTypeError\u001b[0m                                 Traceback (most recent call last)",
      "\u001b[0;32m<ipython-input-17-7db51d359bc7>\u001b[0m in \u001b[0;36m<module>\u001b[0;34m()\u001b[0m\n\u001b[1;32m      9\u001b[0m \u001b[0ml\u001b[0m\u001b[0;34m[\u001b[0m\u001b[0;36m0\u001b[0m\u001b[0;34m]\u001b[0m\u001b[0;34m=\u001b[0m\u001b[0;34m\"t\"\u001b[0m\u001b[0;34m\u001b[0m\u001b[0m\n\u001b[1;32m     10\u001b[0m \u001b[0;32mprint\u001b[0m \u001b[0ml\u001b[0m\u001b[0;34m\u001b[0m\u001b[0m\n\u001b[0;32m---> 11\u001b[0;31m \u001b[0ms\u001b[0m\u001b[0;34m[\u001b[0m\u001b[0;36m0\u001b[0m\u001b[0;34m]\u001b[0m\u001b[0;34m=\u001b[0m\u001b[0;34m\"t\"\u001b[0m\u001b[0;34m\u001b[0m\u001b[0m\n\u001b[0m\u001b[1;32m     12\u001b[0m \u001b[0;32mprint\u001b[0m \u001b[0ms\u001b[0m\u001b[0;34m\u001b[0m\u001b[0m\n",
      "\u001b[0;31mTypeError\u001b[0m: 'str' object does not support item assignment"
     ]
    }
   ],
   "source": [
    "s=\"python\"\n",
    "l=[\"p\",\"y\",\"t\",\"h\",\"o\",\"n\"]\n",
    "print s[0],id(s[0])\n",
    "print l[0],id(l[0])\n",
    "s=\"ja\"\n",
    "l=[\"j\",\"a\"]\n",
    "print s\n",
    "print l\n",
    "l[0]=\"t\"\n",
    "print l\n",
    "s[0]=\"t\"\n",
    "print s"
   ]
  },
  {
   "cell_type": "code",
   "execution_count": null,
   "metadata": {
    "collapsed": true
   },
   "outputs": [],
   "source": []
  }
 ],
 "metadata": {
  "kernelspec": {
   "display_name": "Python 2",
   "language": "python",
   "name": "python2"
  },
  "language_info": {
   "codemirror_mode": {
    "name": "ipython",
    "version": 2
   },
   "file_extension": ".py",
   "mimetype": "text/x-python",
   "name": "python",
   "nbconvert_exporter": "python",
   "pygments_lexer": "ipython2",
   "version": "2.7.14"
  }
 },
 "nbformat": 4,
 "nbformat_minor": 2
}
