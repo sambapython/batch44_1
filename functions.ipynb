{
 "cells": [
  {
   "cell_type": "code",
   "execution_count": 1,
   "metadata": {
    "collapsed": true
   },
   "outputs": [],
   "source": [
    "def fun(a,b):\n",
    "    print \"a=%s, b=%s\"%(a,b)\n",
    "    c=a+b\n",
    "    print \"res=\",c"
   ]
  },
  {
   "cell_type": "code",
   "execution_count": 2,
   "metadata": {},
   "outputs": [
    {
     "name": "stdout",
     "output_type": "stream",
     "text": [
      "a=10, b=20\n",
      "res= 30\n"
     ]
    }
   ],
   "source": [
    "fun(10,20)"
   ]
  },
  {
   "cell_type": "code",
   "execution_count": 3,
   "metadata": {},
   "outputs": [
    {
     "ename": "TypeError",
     "evalue": "fun() takes exactly 2 arguments (3 given)",
     "output_type": "error",
     "traceback": [
      "\u001b[0;31m---------------------------------------------------------------------------\u001b[0m",
      "\u001b[0;31mTypeError\u001b[0m                                 Traceback (most recent call last)",
      "\u001b[0;32m<ipython-input-3-338f53dc39d0>\u001b[0m in \u001b[0;36m<module>\u001b[0;34m()\u001b[0m\n\u001b[0;32m----> 1\u001b[0;31m \u001b[0mfun\u001b[0m\u001b[0;34m(\u001b[0m\u001b[0;36m10\u001b[0m\u001b[0;34m,\u001b[0m\u001b[0;36m20\u001b[0m\u001b[0;34m,\u001b[0m\u001b[0;36m30\u001b[0m\u001b[0;34m)\u001b[0m\u001b[0;34m\u001b[0m\u001b[0m\n\u001b[0m",
      "\u001b[0;31mTypeError\u001b[0m: fun() takes exactly 2 arguments (3 given)"
     ]
    }
   ],
   "source": [
    "fun(10,20,30)"
   ]
  },
  {
   "cell_type": "code",
   "execution_count": 4,
   "metadata": {},
   "outputs": [
    {
     "ename": "TypeError",
     "evalue": "fun() takes exactly 2 arguments (1 given)",
     "output_type": "error",
     "traceback": [
      "\u001b[0;31m---------------------------------------------------------------------------\u001b[0m",
      "\u001b[0;31mTypeError\u001b[0m                                 Traceback (most recent call last)",
      "\u001b[0;32m<ipython-input-4-09f29c495abe>\u001b[0m in \u001b[0;36m<module>\u001b[0;34m()\u001b[0m\n\u001b[0;32m----> 1\u001b[0;31m \u001b[0mfun\u001b[0m\u001b[0;34m(\u001b[0m\u001b[0;36m10\u001b[0m\u001b[0;34m)\u001b[0m\u001b[0;34m\u001b[0m\u001b[0m\n\u001b[0m",
      "\u001b[0;31mTypeError\u001b[0m: fun() takes exactly 2 arguments (1 given)"
     ]
    }
   ],
   "source": [
    "fun(10)"
   ]
  },
  {
   "cell_type": "code",
   "execution_count": 5,
   "metadata": {},
   "outputs": [
    {
     "name": "stdout",
     "output_type": "stream",
     "text": [
      "a=10, b=20\n",
      "res= 30\n"
     ]
    }
   ],
   "source": [
    "def fun(a,b,c=0,d=0):\n",
    "    print \"a=%s, b=%s\"%(a,b)\n",
    "    c=a+b\n",
    "    print \"res=\",c\n",
    "fun(10,20,30)"
   ]
  },
  {
   "cell_type": "code",
   "execution_count": 7,
   "metadata": {},
   "outputs": [
    {
     "name": "stdout",
     "output_type": "stream",
     "text": [
      "a=30, b=40, c=10, d=50\n",
      "res= 70\n"
     ]
    }
   ],
   "source": [
    "def fun(a,b,c=0,d=0):\n",
    "    print \"a=%s, b=%s, c=%s, d=%s\"%(a,b,c,d)\n",
    "    c=a+b\n",
    "    print \"res=\",c\n",
    "fun(b=40,a=30,d=50,c=10)"
   ]
  },
  {
   "cell_type": "code",
   "execution_count": 9,
   "metadata": {},
   "outputs": [
    {
     "name": "stdout",
     "output_type": "stream",
     "text": [
      "10 20\n",
      "res= 30\n",
      "100 200\n",
      "res= 300\n"
     ]
    },
    {
     "ename": "NameError",
     "evalue": "name 'a' is not defined",
     "output_type": "error",
     "traceback": [
      "\u001b[0;31m---------------------------------------------------------------------------\u001b[0m",
      "\u001b[0;31mNameError\u001b[0m                                 Traceback (most recent call last)",
      "\u001b[0;32m<ipython-input-9-793a85bf7c78>\u001b[0m in \u001b[0;36m<module>\u001b[0;34m()\u001b[0m\n\u001b[1;32m      5\u001b[0m \u001b[0mfun\u001b[0m\u001b[0;34m(\u001b[0m\u001b[0;36m10\u001b[0m\u001b[0;34m,\u001b[0m\u001b[0;36m20\u001b[0m\u001b[0;34m)\u001b[0m\u001b[0;34m\u001b[0m\u001b[0m\n\u001b[1;32m      6\u001b[0m \u001b[0mfun\u001b[0m\u001b[0;34m(\u001b[0m\u001b[0;36m100\u001b[0m\u001b[0;34m,\u001b[0m\u001b[0;36m200\u001b[0m\u001b[0;34m)\u001b[0m\u001b[0;34m\u001b[0m\u001b[0m\n\u001b[0;32m----> 7\u001b[0;31m \u001b[0;32mprint\u001b[0m \u001b[0;34m\"a=%s\"\u001b[0m\u001b[0;34m%\u001b[0m\u001b[0ma\u001b[0m\u001b[0;34m\u001b[0m\u001b[0m\n\u001b[0m\u001b[1;32m      8\u001b[0m \u001b[0;32mprint\u001b[0m \u001b[0;34m\"b=%s\"\u001b[0m\u001b[0;34m%\u001b[0m\u001b[0mb\u001b[0m\u001b[0;34m\u001b[0m\u001b[0m\n\u001b[1;32m      9\u001b[0m \u001b[0;32mprint\u001b[0m \u001b[0;34m\"c=%s\"\u001b[0m\u001b[0;34m%\u001b[0m\u001b[0mc\u001b[0m\u001b[0;34m\u001b[0m\u001b[0m\n",
      "\u001b[0;31mNameError\u001b[0m: name 'a' is not defined"
     ]
    }
   ],
   "source": [
    "def fun(a,b):\n",
    "    print a,b\n",
    "    c=a+b\n",
    "    print \"res=\",c\n",
    "fun(10,20)\n",
    "fun(100,200)\n",
    "print \"a=%s\"%a\n",
    "print \"b=%s\"%b\n",
    "print \"c=%s\"%c"
   ]
  },
  {
   "cell_type": "code",
   "execution_count": 10,
   "metadata": {
    "collapsed": true
   },
   "outputs": [],
   "source": [
    "def fun(a,b):\n",
    "    print a,b\n",
    "f1=fun"
   ]
  },
  {
   "cell_type": "code",
   "execution_count": 11,
   "metadata": {},
   "outputs": [
    {
     "name": "stdout",
     "output_type": "stream",
     "text": [
      "<function fun at 0x7fdc487298c0>\n",
      "<function fun at 0x7fdc487298c0>\n"
     ]
    }
   ],
   "source": [
    "def fun(a,b):\n",
    "    print a,b\n",
    "f1=fun\n",
    "print fun\n",
    "print f1"
   ]
  },
  {
   "cell_type": "code",
   "execution_count": 12,
   "metadata": {},
   "outputs": [
    {
     "name": "stdout",
     "output_type": "stream",
     "text": [
      "<function fun at 0x7fdc48729938> 140584085002552\n",
      "<function fun at 0x7fdc48729938> 140584085002552\n"
     ]
    }
   ],
   "source": [
    "def fun(a,b):\n",
    "    print a,b\n",
    "f1=fun\n",
    "print fun,id(fun)\n",
    "print f1,id(f1)"
   ]
  },
  {
   "cell_type": "code",
   "execution_count": 13,
   "metadata": {},
   "outputs": [
    {
     "name": "stdout",
     "output_type": "stream",
     "text": [
      "<function fun at 0x7fdc487299b0> 140584085002672\n",
      "<function fun at 0x7fdc487299b0> 140584085002672\n",
      "10 20\n",
      "100 200\n"
     ]
    }
   ],
   "source": [
    "def fun(a,b):\n",
    "    print a,b\n",
    "f1=fun\n",
    "print fun,id(fun)\n",
    "print f1,id(f1)\n",
    "fun(10,20)\n",
    "f1(100,200)"
   ]
  },
  {
   "cell_type": "code",
   "execution_count": 14,
   "metadata": {},
   "outputs": [
    {
     "name": "stdout",
     "output_type": "stream",
     "text": [
      "10 20\n"
     ]
    },
    {
     "ename": "NameError",
     "evalue": "name 'a' is not defined",
     "output_type": "error",
     "traceback": [
      "\u001b[0;31m---------------------------------------------------------------------------\u001b[0m",
      "\u001b[0;31mNameError\u001b[0m                                 Traceback (most recent call last)",
      "\u001b[0;32m<ipython-input-14-8b701161e758>\u001b[0m in \u001b[0;36m<module>\u001b[0;34m()\u001b[0m\n\u001b[1;32m      2\u001b[0m     \u001b[0;32mprint\u001b[0m \u001b[0ma\u001b[0m\u001b[0;34m,\u001b[0m\u001b[0mb\u001b[0m\u001b[0;34m\u001b[0m\u001b[0m\n\u001b[1;32m      3\u001b[0m \u001b[0mfun\u001b[0m\u001b[0;34m(\u001b[0m\u001b[0;36m10\u001b[0m\u001b[0;34m,\u001b[0m\u001b[0;36m20\u001b[0m\u001b[0;34m)\u001b[0m\u001b[0;34m\u001b[0m\u001b[0m\n\u001b[0;32m----> 4\u001b[0;31m \u001b[0;32mprint\u001b[0m \u001b[0ma\u001b[0m\u001b[0;34m\u001b[0m\u001b[0m\n\u001b[0m",
      "\u001b[0;31mNameError\u001b[0m: name 'a' is not defined"
     ]
    }
   ],
   "source": [
    "def fun(a,b):\n",
    "    print a,b\n",
    "fun(10,20)\n",
    "print a"
   ]
  },
  {
   "cell_type": "code",
   "execution_count": 15,
   "metadata": {},
   "outputs": [
    {
     "name": "stdout",
     "output_type": "stream",
     "text": [
      "a value before function call: 100\n",
      "values inside function\n",
      "a=10, b=20\n",
      "a value after function call: 100\n"
     ]
    }
   ],
   "source": [
    "a=100\n",
    "print \"a value before function call:\",a\n",
    "def fun(a,b):\n",
    "    print \"values inside function\"\n",
    "    print \"a=%s, b=%s\"%(a,b)\n",
    "fun(10,20)\n",
    "print \"a value after function call:\",a"
   ]
  },
  {
   "cell_type": "code",
   "execution_count": 16,
   "metadata": {},
   "outputs": [
    {
     "name": "stdout",
     "output_type": "stream",
     "text": [
      "a value before function call: 100\n",
      "b value before function call: 200\n",
      "c value before function call: 300\n",
      "values inside function\n",
      "a=10, b=20,c=300\n",
      "a value after function call: 100\n",
      "b value after function call: 200\n",
      "c value after function call: 300\n"
     ]
    }
   ],
   "source": [
    "a=100\n",
    "b=200\n",
    "c=300\n",
    "print \"a value before function call:\",a\n",
    "print \"b value before function call:\",b\n",
    "print \"c value before function call:\",c\n",
    "def fun(a,b):\n",
    "    print \"values inside function\"\n",
    "    print \"a=%s, b=%s,c=%s\"%(a,b,c)\n",
    "fun(10,20)\n",
    "print \"a value after function call:\",a\n",
    "print \"b value after function call:\",b\n",
    "print \"c value after function call:\",c"
   ]
  },
  {
   "cell_type": "code",
   "execution_count": 17,
   "metadata": {},
   "outputs": [
    {
     "name": "stdout",
     "output_type": "stream",
     "text": [
      "a value before function call: 100\n",
      "b value before function call: 200\n",
      "c value before function call: 300\n",
      "values inside function\n",
      "a=10, b=20,c=1000\n",
      "a value after function call: 100\n",
      "b value after function call: 200\n",
      "c value after function call: 300\n"
     ]
    }
   ],
   "source": [
    "a=100\n",
    "b=200\n",
    "c=300\n",
    "print \"a value before function call:\",a\n",
    "print \"b value before function call:\",b\n",
    "print \"c value before function call:\",c\n",
    "def fun(a,b):\n",
    "    c=1000\n",
    "    print \"values inside function\"\n",
    "    print \"a=%s, b=%s,c=%s\"%(a,b,c)\n",
    "fun(10,20)\n",
    "print \"a value after function call:\",a\n",
    "print \"b value after function call:\",b\n",
    "print \"c value after function call:\",c"
   ]
  },
  {
   "cell_type": "code",
   "execution_count": null,
   "metadata": {
    "collapsed": true
   },
   "outputs": [],
   "source": [
    "a=100\n",
    "b=200\n",
    "c=300\n",
    "print \"a value before function call:\",a\n",
    "print \"b value before function call:\",b\n",
    "print \"c value before function call:\",c\n",
    "def fun(a,b):\n",
    "    global c\n",
    "    global d\n",
    "    d=2000\n",
    "    c=1000\n",
    "    print \"values inside function\"\n",
    "    print \"a=%s, b=%s,c=%s,d=%s\"%(a,b,c,d)\n",
    "fun(10,20)\n",
    "print \"a value after function call:\",a\n",
    "print \"b value after function call:\",b\n",
    "print \"c value after function call:\",c\n",
    "print \"d value after function call:\",d"
   ]
  },
  {
   "cell_type": "code",
   "execution_count": 18,
   "metadata": {},
   "outputs": [
    {
     "name": "stdout",
     "output_type": "stream",
     "text": [
      "a value before function call: 100\n",
      "b value before function call: 200\n",
      "c value before function call: 300\n",
      "values inside function\n",
      "a=10, b=20,c=1000,d=2000,e=500\n",
      "a value after function call: 100\n",
      "b value after function call: 200\n",
      "c value after function call: 1000\n",
      "d value after function call: 2000\n"
     ]
    }
   ],
   "source": [
    "a=100\n",
    "b=200\n",
    "c=300\n",
    "print \"a value before function call:\",a\n",
    "print \"b value before function call:\",b\n",
    "print \"c value before function call:\",c\n",
    "def fun(a,b):\n",
    "    global c\n",
    "    global d\n",
    "    d=2000\n",
    "    c=1000\n",
    "    e=500\n",
    "    print \"values inside function\"\n",
    "    print \"a=%s, b=%s,c=%s,d=%s,e=%s\"%(a,b,c,d,e)\n",
    "fun(10,20)\n",
    "print \"a value after function call:\",a\n",
    "print \"b value after function call:\",b\n",
    "print \"c value after function call:\",c\n",
    "print \"d value after function call:\",d"
   ]
  },
  {
   "cell_type": "code",
   "execution_count": null,
   "metadata": {
    "collapsed": true
   },
   "outputs": [],
   "source": [
    "a=100\n",
    "def fun():\n",
    "    a=10\n",
    "    print \"a inside fun:\",a\n",
    "fun()"
   ]
  },
  {
   "cell_type": "code",
   "execution_count": 19,
   "metadata": {},
   "outputs": [
    {
     "name": "stdout",
     "output_type": "stream",
     "text": [
      "f= <function fun at 0x7fdc4cf41b18>\n",
      "f1= None\n"
     ]
    }
   ],
   "source": [
    "def fun(a,b):\n",
    "    c=a+b\n",
    "    \n",
    "f=fun\n",
    "f1=fun(10,20)\n",
    "print \"f=\",f\n",
    "print \"f1=\",f1"
   ]
  },
  {
   "cell_type": "code",
   "execution_count": 20,
   "metadata": {},
   "outputs": [
    {
     "name": "stdout",
     "output_type": "stream",
     "text": [
      "a=10,b=20\n",
      "c= 30\n",
      "f= <function fun at 0x7fdc48729a28>\n",
      "f1= None\n"
     ]
    }
   ],
   "source": [
    "def fun(a,b):\n",
    "    print \"a=%s,b=%s\"%(a,b)\n",
    "    c=a+b\n",
    "    print \"c=\",c\n",
    "    \n",
    "f=fun\n",
    "f1=fun(10,20)\n",
    "print \"f=\",f\n",
    "print \"f1=\",f1"
   ]
  },
  {
   "cell_type": "code",
   "execution_count": 21,
   "metadata": {},
   "outputs": [
    {
     "name": "stdout",
     "output_type": "stream",
     "text": [
      "a=10,b=20\n",
      "c= 30\n",
      "f= <function fun at 0x7fdc487296e0>\n",
      "f1= 1020\n"
     ]
    }
   ],
   "source": [
    "def fun(a,b):\n",
    "    print \"a=%s,b=%s\"%(a,b)\n",
    "    c=a+b\n",
    "    print \"c=\",c\n",
    "    return \"1020\"\n",
    "    \n",
    "f=fun\n",
    "f1=fun(10,20)\n",
    "print \"f=\",f\n",
    "print \"f1=\",f1"
   ]
  },
  {
   "cell_type": "code",
   "execution_count": 22,
   "metadata": {},
   "outputs": [
    {
     "name": "stdout",
     "output_type": "stream",
     "text": [
      "a=10,b=20\n",
      "c= 30\n",
      "d= -10\n",
      "e= 200\n",
      "f= <function fun at 0x7fdc48729aa0>\n",
      "f1= abcd\n"
     ]
    }
   ],
   "source": [
    "def fun(a,b):\n",
    "    print \"a=%s,b=%s\"%(a,b)\n",
    "    c=a+b\n",
    "    print \"c=\",c\n",
    "    d=a-b\n",
    "    print \"d=\",d\n",
    "    e=a*b\n",
    "    print \"e=\",e\n",
    "    return \"abcd\"\n",
    "    \n",
    "f=fun\n",
    "f1=fun(10,20)\n",
    "print \"f=\",f\n",
    "print \"f1=\",f1"
   ]
  },
  {
   "cell_type": "code",
   "execution_count": 24,
   "metadata": {},
   "outputs": [
    {
     "name": "stdout",
     "output_type": "stream",
     "text": [
      "a=10,b=20\n",
      "c= 30\n",
      "d= -10\n",
      "e= 200\n",
      "f= <function fun at 0x7fdc48729cf8>\n",
      "f1= 30\n"
     ]
    }
   ],
   "source": [
    "def fun(a,b):\n",
    "    print \"a=%s,b=%s\"%(a,b)\n",
    "    c=a+b\n",
    "    print \"c=\",c\n",
    "    d=a-b\n",
    "    print \"d=\",d\n",
    "    e=a*b\n",
    "    print \"e=\",e\n",
    "    return c\n",
    "    \n",
    "f=fun\n",
    "f1=fun(10,20)\n",
    "print \"f=\",f\n",
    "print \"f1=\",f1"
   ]
  },
  {
   "cell_type": "code",
   "execution_count": 25,
   "metadata": {},
   "outputs": [
    {
     "name": "stdout",
     "output_type": "stream",
     "text": [
      "a=10,b=20\n",
      "c= 30\n",
      "d= -10\n",
      "e= 200\n",
      "f= <function fun at 0x7fdc48729b90>\n",
      "f1= (30, -10)\n"
     ]
    }
   ],
   "source": [
    "def fun(a,b):\n",
    "    print \"a=%s,b=%s\"%(a,b)\n",
    "    c=a+b\n",
    "    print \"c=\",c\n",
    "    d=a-b\n",
    "    print \"d=\",d\n",
    "    e=a*b\n",
    "    print \"e=\",e\n",
    "    return c,d\n",
    "    \n",
    "f=fun\n",
    "f1=fun(10,20)\n",
    "print \"f=\",f\n",
    "print \"f1=\",f1"
   ]
  },
  {
   "cell_type": "code",
   "execution_count": 26,
   "metadata": {},
   "outputs": [
    {
     "name": "stdout",
     "output_type": "stream",
     "text": [
      "a=10,b=20\n",
      "c= 30\n",
      "d= -10\n",
      "e= 200\n",
      "f= <function fun at 0x7fdc48729c08>\n",
      "f1= (30, -10, 200)\n"
     ]
    }
   ],
   "source": [
    "def fun(a,b):\n",
    "    print \"a=%s,b=%s\"%(a,b)\n",
    "    c=a+b\n",
    "    print \"c=\",c\n",
    "    d=a-b\n",
    "    print \"d=\",d\n",
    "    e=a*b\n",
    "    print \"e=\",e\n",
    "    return c,d,e\n",
    "    \n",
    "f=fun\n",
    "f1=fun(10,20)\n",
    "print \"f=\",f\n",
    "print \"f1=\",f1"
   ]
  },
  {
   "cell_type": "code",
   "execution_count": 27,
   "metadata": {},
   "outputs": [
    {
     "name": "stdout",
     "output_type": "stream",
     "text": [
      "()\n",
      "(10,)\n",
      "(10, 20)\n",
      "(10, 20, 30, 450, 50, 50, 60, 670, 70, 70, 80)\n"
     ]
    }
   ],
   "source": [
    "def fun(*a):\n",
    "    print a\n",
    "fun()\n",
    "fun(10)\n",
    "fun(10,20)\n",
    "fun(10,20,30,450,50,50,60,670,70,70,80)"
   ]
  },
  {
   "cell_type": "code",
   "execution_count": 28,
   "metadata": {},
   "outputs": [
    {
     "ename": "TypeError",
     "evalue": "fun() got an unexpected keyword argument 'c'",
     "output_type": "error",
     "traceback": [
      "\u001b[0;31m---------------------------------------------------------------------------\u001b[0m",
      "\u001b[0;31mTypeError\u001b[0m                                 Traceback (most recent call last)",
      "\u001b[0;32m<ipython-input-28-bb20ca4fe261>\u001b[0m in \u001b[0;36m<module>\u001b[0;34m()\u001b[0m\n\u001b[1;32m      1\u001b[0m \u001b[0;32mdef\u001b[0m \u001b[0mfun\u001b[0m\u001b[0;34m(\u001b[0m\u001b[0;34m*\u001b[0m\u001b[0ma\u001b[0m\u001b[0;34m)\u001b[0m\u001b[0;34m:\u001b[0m\u001b[0;34m\u001b[0m\u001b[0m\n\u001b[1;32m      2\u001b[0m     \u001b[0;32mprint\u001b[0m \u001b[0ma\u001b[0m\u001b[0;34m\u001b[0m\u001b[0m\n\u001b[0;32m----> 3\u001b[0;31m \u001b[0mfun\u001b[0m\u001b[0;34m(\u001b[0m\u001b[0mc\u001b[0m\u001b[0;34m=\u001b[0m\u001b[0;36m100\u001b[0m\u001b[0;34m,\u001b[0m\u001b[0md\u001b[0m\u001b[0;34m=\u001b[0m\u001b[0;36m200\u001b[0m\u001b[0;34m,\u001b[0m\u001b[0me\u001b[0m\u001b[0;34m=\u001b[0m\u001b[0;36m300\u001b[0m\u001b[0;34m,\u001b[0m\u001b[0mf\u001b[0m\u001b[0;34m=\u001b[0m\u001b[0;36m500\u001b[0m\u001b[0;34m)\u001b[0m\u001b[0;34m\u001b[0m\u001b[0m\n\u001b[0m",
      "\u001b[0;31mTypeError\u001b[0m: fun() got an unexpected keyword argument 'c'"
     ]
    }
   ],
   "source": [
    "def fun(*a):\n",
    "    print a\n",
    "fun(c=100,d=200,e=300,f=500)"
   ]
  },
  {
   "cell_type": "code",
   "execution_count": null,
   "metadata": {
    "collapsed": true
   },
   "outputs": [],
   "source": []
  }
 ],
 "metadata": {
  "kernelspec": {
   "display_name": "Python 2",
   "language": "python",
   "name": "python2"
  },
  "language_info": {
   "codemirror_mode": {
    "name": "ipython",
    "version": 2
   },
   "file_extension": ".py",
   "mimetype": "text/x-python",
   "name": "python",
   "nbconvert_exporter": "python",
   "pygments_lexer": "ipython2",
   "version": "2.7.14"
  }
 },
 "nbformat": 4,
 "nbformat_minor": 2
}
