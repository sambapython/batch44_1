{
 "cells": [
  {
   "cell_type": "code",
   "execution_count": 1,
   "metadata": {},
   "outputs": [
    {
     "name": "stdout",
     "output_type": "stream",
     "text": [
      "210\n"
     ]
    },
    {
     "ename": "TypeError",
     "evalue": "fun() takes exactly 2 arguments (3 given)",
     "output_type": "error",
     "traceback": [
      "\u001b[0;31m---------------------------------------------------------------------------\u001b[0m",
      "\u001b[0;31mTypeError\u001b[0m                                 Traceback (most recent call last)",
      "\u001b[0;32m<ipython-input-1-45a819910322>\u001b[0m in \u001b[0;36m<module>\u001b[0;34m()\u001b[0m\n\u001b[1;32m      4\u001b[0m     \u001b[0;32mreturn\u001b[0m \u001b[0ma\u001b[0m\u001b[0;34m+\u001b[0m\u001b[0mb\u001b[0m\u001b[0;34m\u001b[0m\u001b[0m\n\u001b[1;32m      5\u001b[0m \u001b[0;32mprint\u001b[0m \u001b[0mfun\u001b[0m\u001b[0;34m(\u001b[0m\u001b[0;36m10\u001b[0m\u001b[0;34m,\u001b[0m\u001b[0;36m200\u001b[0m\u001b[0;34m)\u001b[0m\u001b[0;34m\u001b[0m\u001b[0m\n\u001b[0;32m----> 6\u001b[0;31m \u001b[0;32mprint\u001b[0m \u001b[0mfun\u001b[0m\u001b[0;34m(\u001b[0m\u001b[0;36m10\u001b[0m\u001b[0;34m,\u001b[0m\u001b[0;36m20\u001b[0m\u001b[0;34m,\u001b[0m\u001b[0;36m30\u001b[0m\u001b[0;34m)\u001b[0m\u001b[0;34m\u001b[0m\u001b[0m\n\u001b[0m\u001b[1;32m      7\u001b[0m \u001b[0;34m\u001b[0m\u001b[0m\n",
      "\u001b[0;31mTypeError\u001b[0m: fun() takes exactly 2 arguments (3 given)"
     ]
    }
   ],
   "source": [
    "# method overloading, method overriding, operator\n",
    "# method overloading: calling method with different number of arguments, but the logic should be same\n",
    "def fun(a,b):\n",
    "    return a+b\n",
    "print fun(10,200)\n",
    "print fun(10,20,30)\n",
    "\n"
   ]
  },
  {
   "cell_type": "code",
   "execution_count": 2,
   "metadata": {},
   "outputs": [
    {
     "name": "stdout",
     "output_type": "stream",
     "text": [
      "210\n",
      "60\n"
     ]
    }
   ],
   "source": [
    "# method overloading: calling method with different number of arguments, but the logic should be same\n",
    "def fun(a,b,c=0):\n",
    "    return a+b+c\n",
    "print fun(10,200)\n",
    "print fun(10,20,30)"
   ]
  },
  {
   "cell_type": "code",
   "execution_count": 4,
   "metadata": {},
   "outputs": [
    {
     "name": "stdout",
     "output_type": "stream",
     "text": [
      "210\n",
      "60\n"
     ]
    }
   ],
   "source": [
    "# method overloading: calling method with different number of arguments, but the logic should be same\n",
    "def fun(*c):\n",
    "    return sum(c)\n",
    "print fun(10,200)\n",
    "print fun(10,20,30)"
   ]
  },
  {
   "cell_type": "code",
   "execution_count": 6,
   "metadata": {},
   "outputs": [
    {
     "name": "stdout",
     "output_type": "stream",
     "text": [
      "{'passport': '23456', 'name': 'E1', 'pan': None, 'address': 'ad4'}\n"
     ]
    }
   ],
   "source": [
    "class Emp:\n",
    "    def __init__(self, name,address, pan=None, passport=None):\n",
    "        self.name=name\n",
    "        self.address= address\n",
    "        self.pan=pan\n",
    "        self.passport=passport\n",
    "    def get(self):\n",
    "        return self.__dict__\n",
    "anil=Emp(\"ani kumar\",\"ad1\")\n",
    "aj = Emp(\"ajaya\",\"ad2\",\"12345\")\n",
    "pavan=Emp(\"pavan\",\"ad3\",\"12345\",\"1234\")\n",
    "e1=Emp(\"E1\",\"ad4\",passport=\"23456\")\n",
    "print e1.get()"
   ]
  },
  {
   "cell_type": "code",
   "execution_count": 7,
   "metadata": {},
   "outputs": [
    {
     "name": "stdout",
     "output_type": "stream",
     "text": [
      "{'passport': '23456', 'name': 'E1', 'pan': None, 'address': 'ad4'}\n",
      "{'passport': '1234', 'name': 'pavan', 'pan': '12345', 'address': 'ad3'}\n"
     ]
    }
   ],
   "source": [
    "class Emp:\n",
    "    def __init__(self, name,address, pan=None, passport=None):\n",
    "        self.name=name\n",
    "        self.address= address\n",
    "        self.pan=pan\n",
    "        self.passport=passport\n",
    "    def get(self):\n",
    "        return self.__dict__\n",
    "anil=Emp(\"ani kumar\",\"ad1\")\n",
    "aj = Emp(\"ajaya\",\"ad2\",\"12345\")\n",
    "pavan=Emp(\"pavan\",\"ad3\",\"12345\",\"1234\")\n",
    "e1=Emp(\"E1\",\"ad4\",passport=\"23456\")\n",
    "print e1.get()\n",
    "print pavan.get()"
   ]
  },
  {
   "cell_type": "code",
   "execution_count": 8,
   "metadata": {},
   "outputs": [
    {
     "name": "stdout",
     "output_type": "stream",
     "text": [
      "30\n",
      "str1str1\n",
      "(1+2j)\n"
     ]
    }
   ],
   "source": [
    "# operator oveloading: Single operator will act differntly for defferent kind of data\n",
    "print 10+20\n",
    "print \"str1\"+\"str1\"\n",
    "print 1+2j"
   ]
  },
  {
   "cell_type": "code",
   "execution_count": 9,
   "metadata": {},
   "outputs": [
    {
     "name": "stdout",
     "output_type": "stream",
     "text": [
      "30\n"
     ]
    },
    {
     "ename": "TypeError",
     "evalue": "unsupported operand type(s) for +: 'instance' and 'instance'",
     "output_type": "error",
     "traceback": [
      "\u001b[0;31m---------------------------------------------------------------------------\u001b[0m",
      "\u001b[0;31mTypeError\u001b[0m                                 Traceback (most recent call last)",
      "\u001b[0;32m<ipython-input-9-4c65b1c709ce>\u001b[0m in \u001b[0;36m<module>\u001b[0;34m()\u001b[0m\n\u001b[1;32m     12\u001b[0m \u001b[0mb\u001b[0m\u001b[0;34m=\u001b[0m\u001b[0;36m20\u001b[0m\u001b[0;34m\u001b[0m\u001b[0m\n\u001b[1;32m     13\u001b[0m \u001b[0;32mprint\u001b[0m \u001b[0ma\u001b[0m\u001b[0;34m+\u001b[0m\u001b[0mb\u001b[0m\u001b[0;34m\u001b[0m\u001b[0m\n\u001b[0;32m---> 14\u001b[0;31m \u001b[0;32mprint\u001b[0m \u001b[0manil\u001b[0m\u001b[0;34m+\u001b[0m\u001b[0majay\u001b[0m\u001b[0;34m\u001b[0m\u001b[0m\n\u001b[0m",
      "\u001b[0;31mTypeError\u001b[0m: unsupported operand type(s) for +: 'instance' and 'instance'"
     ]
    }
   ],
   "source": [
    "class Emp:\n",
    "    def __init__(self, name,address, pan=None, passport=None):\n",
    "        self.name=name\n",
    "        self.address= address\n",
    "        self.pan=pan\n",
    "        self.passport=passport\n",
    "    def get(self):\n",
    "        return self.__dict__\n",
    "anil=Emp(\"ani kumar\",\"ad1\")\n",
    "ajay = Emp(\"ajaya\",\"ad2\",\"12345\")\n",
    "a=10\n",
    "b=20\n",
    "print a+b\n",
    "print anil+ajay"
   ]
  },
  {
   "cell_type": "code",
   "execution_count": 10,
   "metadata": {},
   "outputs": [
    {
     "ename": "TypeError",
     "evalue": "unsupported operand type(s) for +: 'dict' and 'dict'",
     "output_type": "error",
     "traceback": [
      "\u001b[0;31m---------------------------------------------------------------------------\u001b[0m",
      "\u001b[0;31mTypeError\u001b[0m                                 Traceback (most recent call last)",
      "\u001b[0;32m<ipython-input-10-0cc183cfea5c>\u001b[0m in \u001b[0;36m<module>\u001b[0;34m()\u001b[0m\n\u001b[1;32m      1\u001b[0m \u001b[0md1\u001b[0m\u001b[0;34m=\u001b[0m\u001b[0;34m{\u001b[0m\u001b[0;36m1\u001b[0m\u001b[0;34m:\u001b[0m\u001b[0;36m2\u001b[0m\u001b[0;34m}\u001b[0m\u001b[0;34m\u001b[0m\u001b[0m\n\u001b[1;32m      2\u001b[0m \u001b[0md2\u001b[0m\u001b[0;34m=\u001b[0m\u001b[0;34m{\u001b[0m\u001b[0;36m3\u001b[0m\u001b[0;34m:\u001b[0m\u001b[0;36m4\u001b[0m\u001b[0;34m}\u001b[0m\u001b[0;34m\u001b[0m\u001b[0m\n\u001b[0;32m----> 3\u001b[0;31m \u001b[0;32mprint\u001b[0m \u001b[0md1\u001b[0m\u001b[0;34m+\u001b[0m\u001b[0md2\u001b[0m\u001b[0;34m\u001b[0m\u001b[0m\n\u001b[0m",
      "\u001b[0;31mTypeError\u001b[0m: unsupported operand type(s) for +: 'dict' and 'dict'"
     ]
    }
   ],
   "source": [
    "d1={1:2}\n",
    "d2={3:4}\n",
    "print d1+d2"
   ]
  },
  {
   "cell_type": "code",
   "execution_count": 11,
   "metadata": {},
   "outputs": [
    {
     "name": "stdout",
     "output_type": "stream",
     "text": [
      "p\n",
      "y\n",
      "t\n",
      "h\n",
      "o\n",
      "n\n"
     ]
    }
   ],
   "source": [
    "for i in \"python\":\n",
    "    print i"
   ]
  },
  {
   "cell_type": "code",
   "execution_count": 12,
   "metadata": {},
   "outputs": [
    {
     "ename": "TypeError",
     "evalue": "'int' object is not iterable",
     "output_type": "error",
     "traceback": [
      "\u001b[0;31m---------------------------------------------------------------------------\u001b[0m",
      "\u001b[0;31mTypeError\u001b[0m                                 Traceback (most recent call last)",
      "\u001b[0;32m<ipython-input-12-fadf14133441>\u001b[0m in \u001b[0;36m<module>\u001b[0;34m()\u001b[0m\n\u001b[0;32m----> 1\u001b[0;31m \u001b[0;32mfor\u001b[0m \u001b[0mi\u001b[0m \u001b[0;32min\u001b[0m \u001b[0;36m100\u001b[0m\u001b[0;34m:\u001b[0m\u001b[0;34m\u001b[0m\u001b[0m\n\u001b[0m\u001b[1;32m      2\u001b[0m     \u001b[0;32mprint\u001b[0m \u001b[0mi\u001b[0m\u001b[0;34m\u001b[0m\u001b[0m\n",
      "\u001b[0;31mTypeError\u001b[0m: 'int' object is not iterable"
     ]
    }
   ],
   "source": [
    "for i in 100:\n",
    "    print i"
   ]
  },
  {
   "cell_type": "code",
   "execution_count": 13,
   "metadata": {},
   "outputs": [
    {
     "name": "stdout",
     "output_type": "stream",
     "text": [
      "30\n"
     ]
    },
    {
     "ename": "TypeError",
     "evalue": "unsupported operand type(s) for +: 'instance' and 'instance'",
     "output_type": "error",
     "traceback": [
      "\u001b[0;31m---------------------------------------------------------------------------\u001b[0m",
      "\u001b[0;31mTypeError\u001b[0m                                 Traceback (most recent call last)",
      "\u001b[0;32m<ipython-input-13-4c65b1c709ce>\u001b[0m in \u001b[0;36m<module>\u001b[0;34m()\u001b[0m\n\u001b[1;32m     12\u001b[0m \u001b[0mb\u001b[0m\u001b[0;34m=\u001b[0m\u001b[0;36m20\u001b[0m\u001b[0;34m\u001b[0m\u001b[0m\n\u001b[1;32m     13\u001b[0m \u001b[0;32mprint\u001b[0m \u001b[0ma\u001b[0m\u001b[0;34m+\u001b[0m\u001b[0mb\u001b[0m\u001b[0;34m\u001b[0m\u001b[0m\n\u001b[0;32m---> 14\u001b[0;31m \u001b[0;32mprint\u001b[0m \u001b[0manil\u001b[0m\u001b[0;34m+\u001b[0m\u001b[0majay\u001b[0m\u001b[0;34m\u001b[0m\u001b[0m\n\u001b[0m",
      "\u001b[0;31mTypeError\u001b[0m: unsupported operand type(s) for +: 'instance' and 'instance'"
     ]
    }
   ],
   "source": [
    "class Emp:\n",
    "    def __init__(self, name,address, pan=None, passport=None):\n",
    "        self.name=name\n",
    "        self.address= address\n",
    "        self.pan=pan\n",
    "        self.passport=passport\n",
    "    def get(self):\n",
    "        return self.__dict__\n",
    "anil=Emp(\"ani kumar\",\"ad1\")\n",
    "ajay = Emp(\"ajaya\",\"ad2\",\"12345\")\n",
    "a=10\n",
    "b=20\n",
    "print a+b\n",
    "print anil+ajay"
   ]
  },
  {
   "cell_type": "code",
   "execution_count": 14,
   "metadata": {},
   "outputs": [
    {
     "name": "stdout",
     "output_type": "stream",
     "text": [
      "30\n"
     ]
    },
    {
     "ename": "AttributeError",
     "evalue": "Emp instance has no attribute '__len__'",
     "output_type": "error",
     "traceback": [
      "\u001b[0;31m---------------------------------------------------------------------------\u001b[0m",
      "\u001b[0;31mAttributeError\u001b[0m                            Traceback (most recent call last)",
      "\u001b[0;32m<ipython-input-14-70f801bfd7db>\u001b[0m in \u001b[0;36m<module>\u001b[0;34m()\u001b[0m\n\u001b[1;32m     12\u001b[0m \u001b[0mb\u001b[0m\u001b[0;34m=\u001b[0m\u001b[0;36m20\u001b[0m\u001b[0;34m\u001b[0m\u001b[0m\n\u001b[1;32m     13\u001b[0m \u001b[0;32mprint\u001b[0m \u001b[0ma\u001b[0m\u001b[0;34m+\u001b[0m\u001b[0mb\u001b[0m\u001b[0;34m\u001b[0m\u001b[0m\n\u001b[0;32m---> 14\u001b[0;31m \u001b[0;32mprint\u001b[0m \u001b[0mlen\u001b[0m\u001b[0;34m(\u001b[0m\u001b[0manil\u001b[0m\u001b[0;34m)\u001b[0m\u001b[0;34m\u001b[0m\u001b[0m\n\u001b[0m\u001b[1;32m     15\u001b[0m \u001b[0;32mprint\u001b[0m \u001b[0manil\u001b[0m\u001b[0;34m+\u001b[0m\u001b[0majay\u001b[0m\u001b[0;34m\u001b[0m\u001b[0m\n",
      "\u001b[0;31mAttributeError\u001b[0m: Emp instance has no attribute '__len__'"
     ]
    }
   ],
   "source": [
    "class Emp:\n",
    "    def __init__(self, name,address, pan=None, passport=None):\n",
    "        self.name=name\n",
    "        self.address= address\n",
    "        self.pan=pan\n",
    "        self.passport=passport\n",
    "    def get(self):\n",
    "        return self.__dict__\n",
    "anil=Emp(\"ani kumar\",\"ad1\")\n",
    "ajay = Emp(\"ajaya\",\"ad2\",\"12345\")\n",
    "a=10\n",
    "b=20\n",
    "print a+b\n",
    "print len(anil)\n",
    "print anil+ajay\n"
   ]
  },
  {
   "cell_type": "code",
   "execution_count": 16,
   "metadata": {},
   "outputs": [
    {
     "name": "stdout",
     "output_type": "stream",
     "text": [
      "30\n"
     ]
    },
    {
     "ename": "TypeError",
     "evalue": "unsupported operand type(s) for +: 'instance' and 'instance'",
     "output_type": "error",
     "traceback": [
      "\u001b[0;31m---------------------------------------------------------------------------\u001b[0m",
      "\u001b[0;31mTypeError\u001b[0m                                 Traceback (most recent call last)",
      "\u001b[0;32m<ipython-input-16-e3d27b08d2fb>\u001b[0m in \u001b[0;36m<module>\u001b[0;34m()\u001b[0m\n\u001b[1;32m     13\u001b[0m \u001b[0;34m\u001b[0m\u001b[0m\n\u001b[1;32m     14\u001b[0m \u001b[0;32mprint\u001b[0m \u001b[0mlen\u001b[0m\u001b[0;34m(\u001b[0m\u001b[0manil\u001b[0m\u001b[0;34m)\u001b[0m\u001b[0;34m\u001b[0m\u001b[0m\n\u001b[0;32m---> 15\u001b[0;31m \u001b[0;32mprint\u001b[0m \u001b[0manil\u001b[0m\u001b[0;34m+\u001b[0m\u001b[0majay\u001b[0m\u001b[0;34m\u001b[0m\u001b[0m\n\u001b[0m",
      "\u001b[0;31mTypeError\u001b[0m: unsupported operand type(s) for +: 'instance' and 'instance'"
     ]
    }
   ],
   "source": [
    "class Emp:\n",
    "    def __init__(self, name,address, pan=None, passport=None):\n",
    "        self.name=name\n",
    "        self.address= address\n",
    "        self.pan=pan\n",
    "        self.passport=passport\n",
    "    def get(self):\n",
    "        return self.__dict__\n",
    "    def __len__(self):\n",
    "        return 30\n",
    "anil=Emp(\"ani kumar\",\"ad1\")\n",
    "ajay = Emp(\"ajaya\",\"ad2\",\"12345\")\n",
    "\n",
    "print len(anil)\n",
    "print anil+ajay\n"
   ]
  },
  {
   "cell_type": "code",
   "execution_count": 17,
   "metadata": {},
   "outputs": [
    {
     "name": "stdout",
     "output_type": "stream",
     "text": [
      "4\n"
     ]
    },
    {
     "ename": "TypeError",
     "evalue": "unsupported operand type(s) for +: 'instance' and 'instance'",
     "output_type": "error",
     "traceback": [
      "\u001b[0;31m---------------------------------------------------------------------------\u001b[0m",
      "\u001b[0;31mTypeError\u001b[0m                                 Traceback (most recent call last)",
      "\u001b[0;32m<ipython-input-17-1a1bc4a95a25>\u001b[0m in \u001b[0;36m<module>\u001b[0;34m()\u001b[0m\n\u001b[1;32m     13\u001b[0m \u001b[0;34m\u001b[0m\u001b[0m\n\u001b[1;32m     14\u001b[0m \u001b[0;32mprint\u001b[0m \u001b[0mlen\u001b[0m\u001b[0;34m(\u001b[0m\u001b[0manil\u001b[0m\u001b[0;34m)\u001b[0m\u001b[0;34m\u001b[0m\u001b[0m\n\u001b[0;32m---> 15\u001b[0;31m \u001b[0;32mprint\u001b[0m \u001b[0manil\u001b[0m\u001b[0;34m+\u001b[0m\u001b[0majay\u001b[0m\u001b[0;34m\u001b[0m\u001b[0m\n\u001b[0m",
      "\u001b[0;31mTypeError\u001b[0m: unsupported operand type(s) for +: 'instance' and 'instance'"
     ]
    }
   ],
   "source": [
    "class Emp:\n",
    "    def __init__(self, name,address, pan=None, passport=None):\n",
    "        self.name=name\n",
    "        self.address= address\n",
    "        self.pan=pan\n",
    "        self.passport=passport\n",
    "    def get(self):\n",
    "        return self.__dict__\n",
    "    def __len__(self):\n",
    "        return len(self.__dict__)\n",
    "anil=Emp(\"ani kumar\",\"ad1\")\n",
    "ajay = Emp(\"ajaya\",\"ad2\",\"12345\")\n",
    "\n",
    "print len(anil)\n",
    "print anil+ajay\n"
   ]
  },
  {
   "cell_type": "code",
   "execution_count": 18,
   "metadata": {},
   "outputs": [
    {
     "name": "stdout",
     "output_type": "stream",
     "text": [
      "4\n",
      "20\n"
     ]
    }
   ],
   "source": [
    "class Emp:\n",
    "    def __init__(self, name,address, pan=None, passport=None):\n",
    "        self.name=name\n",
    "        self.address= address\n",
    "        self.pan=pan\n",
    "        self.passport=passport\n",
    "    def get(self):\n",
    "        return self.__dict__\n",
    "    def __len__(self):\n",
    "        return len(self.__dict__)\n",
    "    def __add__(self1,self2):\n",
    "        return 20\n",
    "anil=Emp(\"ani kumar\",\"ad1\")\n",
    "ajay = Emp(\"ajaya\",\"ad2\",\"12345\")\n",
    "\n",
    "print len(anil)\n",
    "print anil+ajay\n"
   ]
  },
  {
   "cell_type": "code",
   "execution_count": 19,
   "metadata": {},
   "outputs": [
    {
     "name": "stdout",
     "output_type": "stream",
     "text": [
      "4\n",
      "({'passport': None, 'name': 'ani kumar', 'pan': None, 'address': 'ad1'}, {'passport': None, 'name': 'ajaya', 'pan': '12345', 'address': 'ad2'})\n"
     ]
    }
   ],
   "source": [
    "class Emp:\n",
    "    def __init__(self, name,address, pan=None, passport=None):\n",
    "        self.name=name\n",
    "        self.address= address\n",
    "        self.pan=pan\n",
    "        self.passport=passport\n",
    "    def get(self):\n",
    "        return self.__dict__\n",
    "    def __len__(self):\n",
    "        return len(self.__dict__)\n",
    "    def __add__(self1,self2):\n",
    "        return self1.__dict__, self2.__dict__\n",
    "anil=Emp(\"ani kumar\",\"ad1\")\n",
    "ajay = Emp(\"ajaya\",\"ad2\",\"12345\")\n",
    "\n",
    "print len(anil)\n",
    "print anil+ajay\n"
   ]
  },
  {
   "cell_type": "code",
   "execution_count": 20,
   "metadata": {},
   "outputs": [
    {
     "name": "stdout",
     "output_type": "stream",
     "text": [
      "ani kumar\n",
      "4\n",
      "({'passport': None, 'name': 'ani kumar', 'pan': None, 'address': 'ad1'}, {'passport': None, 'name': 'ajaya', 'pan': '12345', 'address': 'ad2'})\n"
     ]
    }
   ],
   "source": [
    "class Emp:\n",
    "    def __init__(self, name,address, pan=None, passport=None):\n",
    "        self.name=name\n",
    "        self.address= address\n",
    "        self.pan=pan\n",
    "        self.passport=passport\n",
    "    def get(self):\n",
    "        return self.__dict__\n",
    "    def __len__(self):\n",
    "        return len(self.__dict__)\n",
    "    def __add__(self1,self2):\n",
    "        return self1.__dict__, self2.__dict__\n",
    "anil=Emp(\"ani kumar\",\"ad1\")\n",
    "ajay = Emp(\"ajaya\",\"ad2\",\"12345\")\n",
    "print anil.name\n",
    "print len(anil)\n",
    "print anil+ajay\n",
    "#-, __sub__\n",
    "#*, __mul__\n",
    "#/, __div__\n",
    "#sum, __sum__\n"
   ]
  },
  {
   "cell_type": "code",
   "execution_count": 21,
   "metadata": {},
   "outputs": [
    {
     "name": "stdout",
     "output_type": "stream",
     "text": [
      "ani kumar\n",
      "4\n",
      "({'passport': None, 'name': 'ani kumar', 'pan': None, 'address': 'ad1'}, {'passport': None, 'name': 'ajaya', 'pan': '12345', 'address': 'ad2'})\n"
     ]
    },
    {
     "ename": "AttributeError",
     "evalue": "Emp instance has no attribute '__getitem__'",
     "output_type": "error",
     "traceback": [
      "\u001b[0;31m---------------------------------------------------------------------------\u001b[0m",
      "\u001b[0;31mAttributeError\u001b[0m                            Traceback (most recent call last)",
      "\u001b[0;32m<ipython-input-21-a79a27494526>\u001b[0m in \u001b[0;36m<module>\u001b[0;34m()\u001b[0m\n\u001b[1;32m     20\u001b[0m \u001b[0;31m#/, __div__\u001b[0m\u001b[0;34m\u001b[0m\u001b[0;34m\u001b[0m\u001b[0m\n\u001b[1;32m     21\u001b[0m \u001b[0;31m#sum, __sum__\u001b[0m\u001b[0;34m\u001b[0m\u001b[0;34m\u001b[0m\u001b[0m\n\u001b[0;32m---> 22\u001b[0;31m \u001b[0;32mprint\u001b[0m \u001b[0manil\u001b[0m\u001b[0;34m[\u001b[0m\u001b[0;34m'name'\u001b[0m\u001b[0;34m]\u001b[0m\u001b[0;34m\u001b[0m\u001b[0m\n\u001b[0m",
      "\u001b[0;31mAttributeError\u001b[0m: Emp instance has no attribute '__getitem__'"
     ]
    }
   ],
   "source": [
    "class Emp:\n",
    "    def __init__(self, name,address, pan=None, passport=None):\n",
    "        self.name=name\n",
    "        self.address= address\n",
    "        self.pan=pan\n",
    "        self.passport=passport\n",
    "    def get(self):\n",
    "        return self.__dict__\n",
    "    def __len__(self):\n",
    "        return len(self.__dict__)\n",
    "    def __add__(self1,self2):\n",
    "        return self1.__dict__, self2.__dict__\n",
    "anil=Emp(\"ani kumar\",\"ad1\")\n",
    "ajay = Emp(\"ajaya\",\"ad2\",\"12345\")\n",
    "print anil.name\n",
    "print len(anil)\n",
    "print anil+ajay\n",
    "#-, __sub__\n",
    "#*, __mul__\n",
    "#/, __div__\n",
    "#sum, __sum__\n",
    "print anil['name']"
   ]
  },
  {
   "cell_type": "code",
   "execution_count": 22,
   "metadata": {},
   "outputs": [
    {
     "ename": "TypeError",
     "evalue": "iteration over non-sequence",
     "output_type": "error",
     "traceback": [
      "\u001b[0;31m---------------------------------------------------------------------------\u001b[0m",
      "\u001b[0;31mTypeError\u001b[0m                                 Traceback (most recent call last)",
      "\u001b[0;32m<ipython-input-22-d1cde9483ce1>\u001b[0m in \u001b[0;36m<module>\u001b[0;34m()\u001b[0m\n\u001b[1;32m     13\u001b[0m \u001b[0manil\u001b[0m\u001b[0;34m=\u001b[0m\u001b[0mEmp\u001b[0m\u001b[0;34m(\u001b[0m\u001b[0;34m\"ani kumar\"\u001b[0m\u001b[0;34m,\u001b[0m\u001b[0;34m\"ad1\"\u001b[0m\u001b[0;34m)\u001b[0m\u001b[0;34m\u001b[0m\u001b[0m\n\u001b[1;32m     14\u001b[0m \u001b[0majay\u001b[0m \u001b[0;34m=\u001b[0m \u001b[0mEmp\u001b[0m\u001b[0;34m(\u001b[0m\u001b[0;34m\"ajaya\"\u001b[0m\u001b[0;34m,\u001b[0m\u001b[0;34m\"ad2\"\u001b[0m\u001b[0;34m,\u001b[0m\u001b[0;34m\"12345\"\u001b[0m\u001b[0;34m)\u001b[0m\u001b[0;34m\u001b[0m\u001b[0m\n\u001b[0;32m---> 15\u001b[0;31m \u001b[0;32mfor\u001b[0m \u001b[0mi\u001b[0m \u001b[0;32min\u001b[0m \u001b[0manil\u001b[0m\u001b[0;34m:\u001b[0m\u001b[0;34m\u001b[0m\u001b[0m\n\u001b[0m\u001b[1;32m     16\u001b[0m     \u001b[0;32mprint\u001b[0m \u001b[0mi\u001b[0m\u001b[0;34m\u001b[0m\u001b[0m\n",
      "\u001b[0;31mTypeError\u001b[0m: iteration over non-sequence"
     ]
    }
   ],
   "source": [
    "class Emp:\n",
    "    def __init__(self, name,address, pan=None, passport=None):\n",
    "        self.name=name\n",
    "        self.address= address\n",
    "        self.pan=pan\n",
    "        self.passport=passport\n",
    "    def get(self):\n",
    "        return self.__dict__\n",
    "    def __len__(self):\n",
    "        return len(self.__dict__)\n",
    "    def __add__(self1,self2):\n",
    "        return self1.__dict__, self2.__dict__\n",
    "anil=Emp(\"ani kumar\",\"ad1\")\n",
    "ajay = Emp(\"ajaya\",\"ad2\",\"12345\")\n",
    "for i in anil:\n",
    "    print i"
   ]
  },
  {
   "cell_type": "code",
   "execution_count": 23,
   "metadata": {},
   "outputs": [
    {
     "name": "stdout",
     "output_type": "stream",
     "text": [
      "iter called\n",
      "0\n",
      "1\n",
      "2\n",
      "3\n",
      "4\n",
      "5\n",
      "6\n",
      "7\n",
      "8\n",
      "9\n"
     ]
    }
   ],
   "source": [
    "class Emp:\n",
    "    def __init__(self, name,address, pan=None, passport=None):\n",
    "        self.name=name\n",
    "        self.address= address\n",
    "        self.pan=pan\n",
    "        self.passport=passport\n",
    "    def get(self):\n",
    "        return self.__dict__\n",
    "    def __len__(self):\n",
    "        return len(self.__dict__)\n",
    "    def __add__(self1,self2):\n",
    "        return self1.__dict__, self2.__dict__\n",
    "    def __iter__(self):\n",
    "        print \"iter called\"\n",
    "        for i in range(10):\n",
    "            yield i\n",
    "anil=Emp(\"ani kumar\",\"ad1\")\n",
    "ajay = Emp(\"ajaya\",\"ad2\",\"12345\")\n",
    "for i in anil:\n",
    "    print i"
   ]
  },
  {
   "cell_type": "code",
   "execution_count": 24,
   "metadata": {},
   "outputs": [
    {
     "name": "stdout",
     "output_type": "stream",
     "text": [
      "iter called\n",
      "('passport', None)\n",
      "('name', 'ani kumar')\n",
      "('pan', None)\n",
      "('address', 'ad1')\n"
     ]
    }
   ],
   "source": [
    "class Emp:\n",
    "    def __init__(self, name,address, pan=None, passport=None):\n",
    "        self.name=name\n",
    "        self.address= address\n",
    "        self.pan=pan\n",
    "        self.passport=passport\n",
    "    def get(self):\n",
    "        return self.__dict__\n",
    "    def __len__(self):\n",
    "        return len(self.__dict__)\n",
    "    def __add__(self1,self2):\n",
    "        return self1.__dict__, self2.__dict__\n",
    "    def __iter__(self):\n",
    "        print \"iter called\"\n",
    "        for i in self.__dict__.viewitems():\n",
    "            yield i\n",
    "anil=Emp(\"ani kumar\",\"ad1\")\n",
    "ajay = Emp(\"ajaya\",\"ad2\",\"12345\")\n",
    "for i in anil:\n",
    "    print i"
   ]
  },
  {
   "cell_type": "code",
   "execution_count": 25,
   "metadata": {},
   "outputs": [
    {
     "name": "stdout",
     "output_type": "stream",
     "text": [
      "p\n",
      "y\n",
      "t\n"
     ]
    }
   ],
   "source": [
    "for i in \"pyt\":\n",
    "    print i"
   ]
  },
  {
   "cell_type": "code",
   "execution_count": 26,
   "metadata": {},
   "outputs": [
    {
     "ename": "TypeError",
     "evalue": "'int' object is not iterable",
     "output_type": "error",
     "traceback": [
      "\u001b[0;31m---------------------------------------------------------------------------\u001b[0m",
      "\u001b[0;31mTypeError\u001b[0m                                 Traceback (most recent call last)",
      "\u001b[0;32m<ipython-input-26-fadf14133441>\u001b[0m in \u001b[0;36m<module>\u001b[0;34m()\u001b[0m\n\u001b[0;32m----> 1\u001b[0;31m \u001b[0;32mfor\u001b[0m \u001b[0mi\u001b[0m \u001b[0;32min\u001b[0m \u001b[0;36m100\u001b[0m\u001b[0;34m:\u001b[0m\u001b[0;34m\u001b[0m\u001b[0m\n\u001b[0m\u001b[1;32m      2\u001b[0m     \u001b[0;32mprint\u001b[0m \u001b[0mi\u001b[0m\u001b[0;34m\u001b[0m\u001b[0m\n",
      "\u001b[0;31mTypeError\u001b[0m: 'int' object is not iterable"
     ]
    }
   ],
   "source": [
    "for i in 100:\n",
    "    print i"
   ]
  },
  {
   "cell_type": "code",
   "execution_count": 29,
   "metadata": {},
   "outputs": [],
   "source": [
    "class Emp(object):\n",
    "    def __new__(cls,name,address, pan=None, passport=None):\n",
    "        \n",
    "        return None\n",
    "    def __init__(self, name,address, pan=None, passport=None):\n",
    "        self.name=name\n",
    "        self.address= address\n",
    "        self.pan=pan\n",
    "        self.passport=passport\n",
    "    def get(self):\n",
    "        return self.__dict__\n",
    "anil=Emp(\"ani kumar\",\"ad1\")\n",
    "aj = Emp(\"ajaya\",\"ad2\",\"12345\")\n",
    "pavan=Emp(\"pavan\",\"ad3\",\"12345\",\"1234\")\n",
    "e1=Emp(\"E1\",\"ad4\",passport=\"23456\")"
   ]
  },
  {
   "cell_type": "code",
   "execution_count": 30,
   "metadata": {},
   "outputs": [
    {
     "ename": "AttributeError",
     "evalue": "'NoneType' object has no attribute 'get'",
     "output_type": "error",
     "traceback": [
      "\u001b[0;31m---------------------------------------------------------------------------\u001b[0m",
      "\u001b[0;31mAttributeError\u001b[0m                            Traceback (most recent call last)",
      "\u001b[0;32m<ipython-input-30-4865f3165c14>\u001b[0m in \u001b[0;36m<module>\u001b[0;34m()\u001b[0m\n\u001b[1;32m     14\u001b[0m \u001b[0mpavan\u001b[0m\u001b[0;34m=\u001b[0m\u001b[0mEmp\u001b[0m\u001b[0;34m(\u001b[0m\u001b[0;34m\"pavan\"\u001b[0m\u001b[0;34m,\u001b[0m\u001b[0;34m\"ad3\"\u001b[0m\u001b[0;34m,\u001b[0m\u001b[0;34m\"12345\"\u001b[0m\u001b[0;34m,\u001b[0m\u001b[0;34m\"1234\"\u001b[0m\u001b[0;34m)\u001b[0m\u001b[0;34m\u001b[0m\u001b[0m\n\u001b[1;32m     15\u001b[0m \u001b[0me1\u001b[0m\u001b[0;34m=\u001b[0m\u001b[0mEmp\u001b[0m\u001b[0;34m(\u001b[0m\u001b[0;34m\"E1\"\u001b[0m\u001b[0;34m,\u001b[0m\u001b[0;34m\"ad4\"\u001b[0m\u001b[0;34m,\u001b[0m\u001b[0mpassport\u001b[0m\u001b[0;34m=\u001b[0m\u001b[0;34m\"23456\"\u001b[0m\u001b[0;34m)\u001b[0m\u001b[0;34m\u001b[0m\u001b[0m\n\u001b[0;32m---> 16\u001b[0;31m \u001b[0manil\u001b[0m\u001b[0;34m.\u001b[0m\u001b[0mget\u001b[0m\u001b[0;34m(\u001b[0m\u001b[0;34m)\u001b[0m\u001b[0;34m\u001b[0m\u001b[0m\n\u001b[0m",
      "\u001b[0;31mAttributeError\u001b[0m: 'NoneType' object has no attribute 'get'"
     ]
    }
   ],
   "source": [
    "class Emp(object):\n",
    "    def __new__(cls,name,address, pan=None, passport=None):\n",
    "        \n",
    "        return None\n",
    "    def __init__(self, name,address, pan=None, passport=None):\n",
    "        self.name=name\n",
    "        self.address= address\n",
    "        self.pan=pan\n",
    "        self.passport=passport\n",
    "    def get(self):\n",
    "        return self.__dict__\n",
    "anil=Emp(\"ani kumar\",\"ad1\")\n",
    "aj = Emp(\"ajaya\",\"ad2\",\"12345\")\n",
    "pavan=Emp(\"pavan\",\"ad3\",\"12345\",\"1234\")\n",
    "e1=Emp(\"E1\",\"ad4\",passport=\"23456\")\n",
    "anil.get()"
   ]
  },
  {
   "cell_type": "code",
   "execution_count": 31,
   "metadata": {},
   "outputs": [
    {
     "name": "stderr",
     "output_type": "stream",
     "text": [
      "/home/khyaathi-python/anaconda2/lib/python2.7/site-packages/ipykernel_launcher.py:3: DeprecationWarning: object() takes no parameters\n",
      "  This is separate from the ipykernel package so we can avoid doing imports until\n"
     ]
    },
    {
     "data": {
      "text/plain": [
       "{'address': 'ad1', 'name': 'ani kumar', 'pan': None, 'passport': None}"
      ]
     },
     "execution_count": 31,
     "metadata": {},
     "output_type": "execute_result"
    }
   ],
   "source": [
    "class Emp(object):\n",
    "    def __new__(cls,name,address, pan=None, passport=None):\n",
    "        obj=object.__new__(cls,name,address, pan=passport)\n",
    "        return obj\n",
    "    def __init__(self, name,address, pan=None, passport=None):\n",
    "        self.name=name\n",
    "        self.address= address\n",
    "        self.pan=pan\n",
    "        self.passport=passport\n",
    "    def get(self):\n",
    "        return self.__dict__\n",
    "anil=Emp(\"ani kumar\",\"ad1\")\n",
    "aj = Emp(\"ajaya\",\"ad2\",\"12345\")\n",
    "pavan=Emp(\"pavan\",\"ad3\",\"12345\",\"1234\")\n",
    "e1=Emp(\"E1\",\"ad4\",passport=\"23456\")\n",
    "anil.get()"
   ]
  },
  {
   "cell_type": "code",
   "execution_count": 32,
   "metadata": {},
   "outputs": [
    {
     "name": "stderr",
     "output_type": "stream",
     "text": [
      "/home/khyaathi-python/anaconda2/lib/python2.7/site-packages/ipykernel_launcher.py:5: DeprecationWarning: object() takes no parameters\n",
      "  \"\"\"\n"
     ]
    },
    {
     "data": {
      "text/plain": [
       "{'address': 'ad1', 'name': 'ani kumar', 'pan': None, 'passport': None}"
      ]
     },
     "execution_count": 32,
     "metadata": {},
     "output_type": "execute_result"
    }
   ],
   "source": [
    "class Emp(object):\n",
    "    obj_count=0\n",
    "    def __new__(cls,name,address, pan=None, passport=None):\n",
    "        if cls.obj_count==0:\n",
    "            obj=object.__new__(cls,name,address, pan=passport)\n",
    "            cls.obj_count = cls.obj_count+1\n",
    "            return obj\n",
    "        else:\n",
    "            raise Exception(\"Allowed to create only one instance\")\n",
    "    def __init__(self, name,address, pan=None, passport=None):\n",
    "        self.name=name\n",
    "        self.address= address\n",
    "        self.pan=pan\n",
    "        self.passport=passport\n",
    "    def get(self):\n",
    "        return self.__dict__\n",
    "anil=Emp(\"ani kumar\",\"ad1\")\n",
    "anil.get()"
   ]
  },
  {
   "cell_type": "code",
   "execution_count": 33,
   "metadata": {},
   "outputs": [
    {
     "name": "stderr",
     "output_type": "stream",
     "text": [
      "/home/khyaathi-python/anaconda2/lib/python2.7/site-packages/ipykernel_launcher.py:5: DeprecationWarning: object() takes no parameters\n",
      "  \"\"\"\n"
     ]
    },
    {
     "ename": "Exception",
     "evalue": "Allowed to create only one instance",
     "output_type": "error",
     "traceback": [
      "\u001b[0;31m---------------------------------------------------------------------------\u001b[0m",
      "\u001b[0;31mException\u001b[0m                                 Traceback (most recent call last)",
      "\u001b[0;32m<ipython-input-33-f54af88206a9>\u001b[0m in \u001b[0;36m<module>\u001b[0;34m()\u001b[0m\n\u001b[1;32m     17\u001b[0m \u001b[0manil\u001b[0m\u001b[0;34m=\u001b[0m\u001b[0mEmp\u001b[0m\u001b[0;34m(\u001b[0m\u001b[0;34m\"ani kumar\"\u001b[0m\u001b[0;34m,\u001b[0m\u001b[0;34m\"ad1\"\u001b[0m\u001b[0;34m)\u001b[0m\u001b[0;34m\u001b[0m\u001b[0m\n\u001b[1;32m     18\u001b[0m \u001b[0manil\u001b[0m\u001b[0;34m.\u001b[0m\u001b[0mget\u001b[0m\u001b[0;34m(\u001b[0m\u001b[0;34m)\u001b[0m\u001b[0;34m\u001b[0m\u001b[0m\n\u001b[0;32m---> 19\u001b[0;31m \u001b[0maj\u001b[0m \u001b[0;34m=\u001b[0m \u001b[0mEmp\u001b[0m\u001b[0;34m(\u001b[0m\u001b[0;34m\"ajaya\"\u001b[0m\u001b[0;34m,\u001b[0m\u001b[0;34m\"ad2\"\u001b[0m\u001b[0;34m,\u001b[0m\u001b[0;34m\"12345\"\u001b[0m\u001b[0;34m)\u001b[0m\u001b[0;34m\u001b[0m\u001b[0m\n\u001b[0m",
      "\u001b[0;32m<ipython-input-33-f54af88206a9>\u001b[0m in \u001b[0;36m__new__\u001b[0;34m(cls, name, address, pan, passport)\u001b[0m\n\u001b[1;32m      7\u001b[0m             \u001b[0;32mreturn\u001b[0m \u001b[0mobj\u001b[0m\u001b[0;34m\u001b[0m\u001b[0m\n\u001b[1;32m      8\u001b[0m         \u001b[0;32melse\u001b[0m\u001b[0;34m:\u001b[0m\u001b[0;34m\u001b[0m\u001b[0m\n\u001b[0;32m----> 9\u001b[0;31m             \u001b[0;32mraise\u001b[0m \u001b[0mException\u001b[0m\u001b[0;34m(\u001b[0m\u001b[0;34m\"Allowed to create only one instance\"\u001b[0m\u001b[0;34m)\u001b[0m\u001b[0;34m\u001b[0m\u001b[0m\n\u001b[0m\u001b[1;32m     10\u001b[0m     \u001b[0;32mdef\u001b[0m \u001b[0m__init__\u001b[0m\u001b[0;34m(\u001b[0m\u001b[0mself\u001b[0m\u001b[0;34m,\u001b[0m \u001b[0mname\u001b[0m\u001b[0;34m,\u001b[0m\u001b[0maddress\u001b[0m\u001b[0;34m,\u001b[0m \u001b[0mpan\u001b[0m\u001b[0;34m=\u001b[0m\u001b[0mNone\u001b[0m\u001b[0;34m,\u001b[0m \u001b[0mpassport\u001b[0m\u001b[0;34m=\u001b[0m\u001b[0mNone\u001b[0m\u001b[0;34m)\u001b[0m\u001b[0;34m:\u001b[0m\u001b[0;34m\u001b[0m\u001b[0m\n\u001b[1;32m     11\u001b[0m         \u001b[0mself\u001b[0m\u001b[0;34m.\u001b[0m\u001b[0mname\u001b[0m\u001b[0;34m=\u001b[0m\u001b[0mname\u001b[0m\u001b[0;34m\u001b[0m\u001b[0m\n",
      "\u001b[0;31mException\u001b[0m: Allowed to create only one instance"
     ]
    }
   ],
   "source": [
    "class Emp(object):\n",
    "    obj_count=0\n",
    "    def __new__(cls,name,address, pan=None, passport=None):\n",
    "        if cls.obj_count==0:\n",
    "            obj=object.__new__(cls,name,address, pan=passport)\n",
    "            cls.obj_count = cls.obj_count+1\n",
    "            return obj\n",
    "        else:\n",
    "            raise Exception(\"Allowed to create only one instance\")\n",
    "    def __init__(self, name,address, pan=None, passport=None):\n",
    "        self.name=name\n",
    "        self.address= address\n",
    "        self.pan=pan\n",
    "        self.passport=passport\n",
    "    def get(self):\n",
    "        return self.__dict__\n",
    "anil=Emp(\"ani kumar\",\"ad1\")\n",
    "anil.get()\n",
    "aj = Emp(\"ajaya\",\"ad2\",\"12345\")\n"
   ]
  },
  {
   "cell_type": "code",
   "execution_count": null,
   "metadata": {
    "collapsed": true
   },
   "outputs": [],
   "source": []
  }
 ],
 "metadata": {
  "kernelspec": {
   "display_name": "Python 2",
   "language": "python",
   "name": "python2"
  },
  "language_info": {
   "codemirror_mode": {
    "name": "ipython",
    "version": 2
   },
   "file_extension": ".py",
   "mimetype": "text/x-python",
   "name": "python",
   "nbconvert_exporter": "python",
   "pygments_lexer": "ipython2",
   "version": "2.7.14"
  }
 },
 "nbformat": 4,
 "nbformat_minor": 2
}
