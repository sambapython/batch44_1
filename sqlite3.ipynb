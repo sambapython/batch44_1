{
 "cells": [
  {
   "cell_type": "code",
   "execution_count": 1,
   "metadata": {
    "collapsed": true
   },
   "outputs": [],
   "source": [
    "#app\n",
    "# managing a databases\n",
    "# managing data(managing the data opertions)"
   ]
  },
  {
   "cell_type": "code",
   "execution_count": 2,
   "metadata": {
    "collapsed": true
   },
   "outputs": [],
   "source": [
    "#table"
   ]
  },
  {
   "cell_type": "code",
   "execution_count": 3,
   "metadata": {
    "collapsed": true
   },
   "outputs": [],
   "source": [
    "import sqlite3\n",
    "con = sqlite3.connect(\"db1.db\")"
   ]
  },
  {
   "cell_type": "code",
   "execution_count": 4,
   "metadata": {
    "collapsed": true
   },
   "outputs": [],
   "source": [
    "cur=con.cursor()"
   ]
  },
  {
   "cell_type": "code",
   "execution_count": 5,
   "metadata": {},
   "outputs": [
    {
     "data": {
      "text/plain": [
       "<sqlite3.Cursor at 0x7f4ab1a52a40>"
      ]
     },
     "execution_count": 5,
     "metadata": {},
     "output_type": "execute_result"
    }
   ],
   "source": [
    "q=\"create table customer(id int, name varchar(250))\"\n",
    "cur.execute(q)"
   ]
  },
  {
   "cell_type": "code",
   "execution_count": 7,
   "metadata": {},
   "outputs": [
    {
     "data": {
      "text/plain": [
       "<sqlite3.Cursor at 0x7f4ab1a52a40>"
      ]
     },
     "execution_count": 7,
     "metadata": {},
     "output_type": "execute_result"
    }
   ],
   "source": [
    "cur.execute(\"insert into customer(id,name) values(1,'anil')\")"
   ]
  },
  {
   "cell_type": "code",
   "execution_count": 8,
   "metadata": {
    "collapsed": true
   },
   "outputs": [],
   "source": [
    "con.commit()"
   ]
  },
  {
   "cell_type": "code",
   "execution_count": 10,
   "metadata": {
    "collapsed": true
   },
   "outputs": [],
   "source": [
    "names=[\"anil\",\"jayaram\",\"chaithrika\",\"sushma\",\"pavan\",\"sathish\"]\n",
    "import random\n",
    "for i in range(2,101):\n",
    "    q=\"insert into customer(id, name) values(%s,'%s')\"%(i,random.choice(names))\n",
    "    cur.execute(q)\n",
    "con.commit()\n",
    "    "
   ]
  },
  {
   "cell_type": "code",
   "execution_count": 12,
   "metadata": {},
   "outputs": [
    {
     "data": {
      "text/plain": [
       "<sqlite3.Cursor at 0x7f4ab1a52a40>"
      ]
     },
     "execution_count": 12,
     "metadata": {},
     "output_type": "execute_result"
    }
   ],
   "source": [
    "q=\"select * from customer\"\n",
    "cur.execute(q)"
   ]
  },
  {
   "cell_type": "code",
   "execution_count": 13,
   "metadata": {},
   "outputs": [
    {
     "data": {
      "text/plain": [
       "(1, u'anil')"
      ]
     },
     "execution_count": 13,
     "metadata": {},
     "output_type": "execute_result"
    }
   ],
   "source": [
    "cur.fetchone()"
   ]
  },
  {
   "cell_type": "code",
   "execution_count": 14,
   "metadata": {},
   "outputs": [
    {
     "data": {
      "text/plain": [
       "[(2, u'jayaram'),\n",
       " (3, u'chaithrika'),\n",
       " (4, u'anil'),\n",
       " (5, u'chaithrika'),\n",
       " (6, u'chaithrika'),\n",
       " (7, u'sathish'),\n",
       " (8, u'pavan'),\n",
       " (9, u'jayaram'),\n",
       " (10, u'sathish'),\n",
       " (11, u'anil'),\n",
       " (12, u'jayaram'),\n",
       " (13, u'jayaram'),\n",
       " (14, u'sathish'),\n",
       " (15, u'sushma'),\n",
       " (16, u'sushma'),\n",
       " (17, u'sathish'),\n",
       " (18, u'pavan'),\n",
       " (19, u'sushma'),\n",
       " (20, u'pavan'),\n",
       " (21, u'anil'),\n",
       " (22, u'chaithrika'),\n",
       " (23, u'pavan'),\n",
       " (24, u'jayaram'),\n",
       " (25, u'jayaram'),\n",
       " (26, u'pavan'),\n",
       " (27, u'pavan'),\n",
       " (28, u'chaithrika'),\n",
       " (29, u'sushma'),\n",
       " (30, u'chaithrika'),\n",
       " (31, u'sathish'),\n",
       " (32, u'anil'),\n",
       " (33, u'anil'),\n",
       " (34, u'pavan'),\n",
       " (35, u'jayaram'),\n",
       " (36, u'anil'),\n",
       " (37, u'chaithrika'),\n",
       " (38, u'jayaram'),\n",
       " (39, u'jayaram'),\n",
       " (40, u'chaithrika'),\n",
       " (41, u'jayaram'),\n",
       " (42, u'sathish'),\n",
       " (43, u'sathish'),\n",
       " (44, u'sathish'),\n",
       " (45, u'sathish'),\n",
       " (46, u'chaithrika'),\n",
       " (47, u'jayaram'),\n",
       " (48, u'sushma'),\n",
       " (49, u'jayaram'),\n",
       " (50, u'sathish'),\n",
       " (51, u'pavan'),\n",
       " (52, u'anil'),\n",
       " (53, u'anil'),\n",
       " (54, u'pavan'),\n",
       " (55, u'anil'),\n",
       " (56, u'sushma'),\n",
       " (57, u'chaithrika'),\n",
       " (58, u'pavan'),\n",
       " (59, u'chaithrika'),\n",
       " (60, u'sushma'),\n",
       " (61, u'anil'),\n",
       " (62, u'pavan'),\n",
       " (63, u'sushma'),\n",
       " (64, u'jayaram'),\n",
       " (65, u'pavan'),\n",
       " (66, u'jayaram'),\n",
       " (67, u'sushma'),\n",
       " (68, u'chaithrika'),\n",
       " (69, u'chaithrika'),\n",
       " (70, u'pavan'),\n",
       " (71, u'chaithrika'),\n",
       " (72, u'chaithrika'),\n",
       " (73, u'jayaram'),\n",
       " (74, u'sushma'),\n",
       " (75, u'anil'),\n",
       " (76, u'sathish'),\n",
       " (77, u'pavan'),\n",
       " (78, u'sushma'),\n",
       " (79, u'sathish'),\n",
       " (80, u'anil'),\n",
       " (81, u'sushma'),\n",
       " (82, u'sathish'),\n",
       " (83, u'jayaram'),\n",
       " (84, u'chaithrika'),\n",
       " (85, u'anil'),\n",
       " (86, u'jayaram'),\n",
       " (87, u'jayaram'),\n",
       " (88, u'sathish'),\n",
       " (89, u'pavan'),\n",
       " (90, u'jayaram'),\n",
       " (91, u'jayaram'),\n",
       " (92, u'sushma'),\n",
       " (93, u'chaithrika'),\n",
       " (94, u'pavan'),\n",
       " (95, u'pavan'),\n",
       " (96, u'sushma'),\n",
       " (97, u'jayaram'),\n",
       " (98, u'chaithrika'),\n",
       " (99, u'sushma'),\n",
       " (100, u'sathish')]"
      ]
     },
     "execution_count": 14,
     "metadata": {},
     "output_type": "execute_result"
    }
   ],
   "source": [
    "cur.fetchall()"
   ]
  },
  {
   "cell_type": "code",
   "execution_count": 2,
   "metadata": {},
   "outputs": [],
   "source": [
    "import sqlite3\n",
    "con = sqlite3.connect(\"db1.db\")\n",
    "cur=con.cursor()\n",
    "q=\"update customer set name='modidified_name' where id=7\"\n",
    "cur.execute(q)\n",
    "con.commit()"
   ]
  },
  {
   "cell_type": "code",
   "execution_count": 3,
   "metadata": {
    "collapsed": true
   },
   "outputs": [],
   "source": [
    "q=\"delete from customer where id=7\"\n",
    "cur.execute(q)\n",
    "con.commit()"
   ]
  },
  {
   "cell_type": "code",
   "execution_count": 4,
   "metadata": {},
   "outputs": [
    {
     "name": "stdout",
     "output_type": "stream",
     "text": [
      "Enter record id:6\n",
      "[(6, u'chaithrika')]\n"
     ]
    }
   ],
   "source": [
    "rec_id=raw_input(\"Enter record id:\")\n",
    "cur.execute(\"select * from customer where id=%s\"%rec_id)\n",
    "data = cur.fetchall()\n",
    "if data:\n",
    "    print data\n",
    "else:\n",
    "    print \"No records found\""
   ]
  },
  {
   "cell_type": "code",
   "execution_count": 5,
   "metadata": {},
   "outputs": [
    {
     "name": "stdout",
     "output_type": "stream",
     "text": [
      "Enter record id:8\n",
      "[(8, u'pavan')]\n"
     ]
    }
   ],
   "source": [
    "rec_id=raw_input(\"Enter record id:\")\n",
    "cur.execute(\"select * from customer where id=%s\"%rec_id)\n",
    "data = cur.fetchall()\n",
    "if data:\n",
    "    print data\n",
    "else:\n",
    "    print \"No records found\""
   ]
  },
  {
   "cell_type": "code",
   "execution_count": 6,
   "metadata": {},
   "outputs": [
    {
     "name": "stdout",
     "output_type": "stream",
     "text": [
      "Enter record id:7\n",
      "No records found\n"
     ]
    }
   ],
   "source": [
    "rec_id=raw_input(\"Enter record id:\")\n",
    "cur.execute(\"select * from customer where id=%s\"%rec_id)\n",
    "data = cur.fetchall()\n",
    "if data:\n",
    "    print data\n",
    "else:\n",
    "    print \"No records found\""
   ]
  },
  {
   "cell_type": "code",
   "execution_count": 7,
   "metadata": {},
   "outputs": [
    {
     "name": "stdout",
     "output_type": "stream",
     "text": [
      "Enter record id:200\n",
      "No records found\n"
     ]
    }
   ],
   "source": [
    "rec_id=raw_input(\"Enter record id:\")\n",
    "cur.execute(\"select * from customer where id=%s\"%rec_id)\n",
    "data = cur.fetchall()\n",
    "if data:\n",
    "    print data\n",
    "else:\n",
    "    print \"No records found\""
   ]
  },
  {
   "cell_type": "code",
   "execution_count": 8,
   "metadata": {},
   "outputs": [
    {
     "name": "stdout",
     "output_type": "stream",
     "text": [
      "Enter record id:6\n",
      "id=6, name=chaithrika\n"
     ]
    }
   ],
   "source": [
    "rec_id=raw_input(\"Enter record id:\")\n",
    "cur.execute(\"select id,name from customer where id=%s\"%rec_id)\n",
    "data = cur.fetchone()\n",
    "if data:\n",
    "    print \"id=%s, name=%s\"%(data[0],data[1])\n",
    "else:\n",
    "    print \"No records found\""
   ]
  },
  {
   "cell_type": "code",
   "execution_count": 9,
   "metadata": {
    "collapsed": true
   },
   "outputs": [],
   "source": [
    "import psycopg2\n",
    "con = psycopg2.connect(database=\"batch44\",user=\"postgres\",password=\"root\",port=5432,host=\"localhost\")\n",
    "cur=con.cursor()\n",
    "q=\"create table customer(id int, name varchar(250))\"\n",
    "cur.execute(q)\n",
    "names=[\"anil\",\"jayaram\",\"chaithrika\",\"sushma\",\"pavan\",\"sathish\"]\n",
    "import random\n",
    "for i in range(2,101):\n",
    "    q=\"insert into customer(id, name) values(%s,'%s')\"%(i,random.choice(names))\n",
    "    cur.execute(q)\n",
    "con.commit()"
   ]
  },
  {
   "cell_type": "code",
   "execution_count": 10,
   "metadata": {},
   "outputs": [
    {
     "name": "stdout",
     "output_type": "stream",
     "text": [
      "Enter record id:6\n",
      "[(6, 'sushma')]\n"
     ]
    }
   ],
   "source": [
    "rec_id=raw_input(\"Enter record id:\")\n",
    "cur.execute(\"select * from customer where id=%s\"%rec_id)\n",
    "data = cur.fetchall()\n",
    "if data:\n",
    "    print data\n",
    "else:\n",
    "    print \"No records found\""
   ]
  },
  {
   "cell_type": "code",
   "execution_count": 11,
   "metadata": {},
   "outputs": [
    {
     "name": "stdout",
     "output_type": "stream",
     "text": [
      "Enter record id:8\n",
      "id=8, name=anil\n"
     ]
    }
   ],
   "source": [
    "rec_id=raw_input(\"Enter record id:\")\n",
    "cur.execute(\"select id,name from customer where id=%s\"%rec_id)\n",
    "data = cur.fetchone()\n",
    "if data:\n",
    "    print \"id=%s, name=%s\"%(data[0],data[1])\n",
    "else:\n",
    "    print \"No records found\""
   ]
  },
  {
   "cell_type": "code",
   "execution_count": 12,
   "metadata": {},
   "outputs": [
    {
     "data": {
      "text/plain": [
       "'\\n1. Login\\n2. register a user\\nenter an option:1\\n    Enter username:\\n    Enter password:\\nif loged in successfully show the below menu else show an error message and above menu\\nMenu:\\n\\n    1. Register a customer\\n    2. Modify customer status and next meeting time\\n    3. delte customer\\n    4. reports\\n    Q. quit\\n    Enter an option: 1\\n        Show fields required to insert\\n        name, email, phonenumber, address, status(new, notinterested, interested, nextcall, createddate, createduser,\\n        updatedate, updateuser, deletedate, deleteduser)\\n    collect the information\\n'"
      ]
     },
     "execution_count": 12,
     "metadata": {},
     "output_type": "execute_result"
    }
   ],
   "source": [
    "\"\"\"\n",
    "1. Login\n",
    "2. register a user\n",
    "enter an option:1\n",
    "    Enter username:\n",
    "    Enter password:\n",
    "if loged in successfully show the below menu else show an error message and above menu\n",
    "Menu:\n",
    "\n",
    "    1. Register a customer\n",
    "    2. Modify customer status and next meeting time\n",
    "    3. delte customer\n",
    "    4. reports\n",
    "    Q. quit\n",
    "    Enter an option: 1\n",
    "        Show fields required to insert\n",
    "        name, email, phonenumber, address, status(new, notinterested, interested, nextcall), scheduleddate, \n",
    "        createddate, createduser,\n",
    "        updatedate, updateuser, deletedate, deleteduser)\n",
    "    collect the information\n",
    "\"\"\""
   ]
  },
  {
   "cell_type": "code",
   "execution_count": 14,
   "metadata": {},
   "outputs": [
    {
     "data": {
      "text/plain": [
       "1522807675.175365"
      ]
     },
     "execution_count": 14,
     "metadata": {},
     "output_type": "execute_result"
    }
   ],
   "source": [
    "import time\n",
    "time.time()"
   ]
  },
  {
   "cell_type": "code",
   "execution_count": 17,
   "metadata": {},
   "outputs": [
    {
     "data": {
      "text/plain": [
       "datetime.datetime(2018, 4, 4, 7, 38, 27, 827942)"
      ]
     },
     "execution_count": 17,
     "metadata": {},
     "output_type": "execute_result"
    }
   ],
   "source": [
    "from datetime import datetime\n",
    "datetime.now()"
   ]
  },
  {
   "cell_type": "code",
   "execution_count": 18,
   "metadata": {},
   "outputs": [
    {
     "data": {
      "text/plain": [
       "'2018-04-04 07:38:39.120138'"
      ]
     },
     "execution_count": 18,
     "metadata": {},
     "output_type": "execute_result"
    }
   ],
   "source": [
    "from datetime import datetime\n",
    "\"%s\"%datetime.now()"
   ]
  },
  {
   "cell_type": "code",
   "execution_count": 19,
   "metadata": {
    "collapsed": true
   },
   "outputs": [],
   "source": [
    "t1=datetime.now()\n",
    "t2=datetime.now()"
   ]
  },
  {
   "cell_type": "code",
   "execution_count": 20,
   "metadata": {},
   "outputs": [
    {
     "name": "stdout",
     "output_type": "stream",
     "text": [
      "2018-04-04 07:39:34.784603\n"
     ]
    }
   ],
   "source": [
    "print t1"
   ]
  },
  {
   "cell_type": "code",
   "execution_count": 21,
   "metadata": {},
   "outputs": [
    {
     "name": "stdout",
     "output_type": "stream",
     "text": [
      "2018-04-04 07:39:34.784655\n"
     ]
    }
   ],
   "source": [
    "print t2"
   ]
  },
  {
   "cell_type": "code",
   "execution_count": 22,
   "metadata": {},
   "outputs": [
    {
     "data": {
      "text/plain": [
       "True"
      ]
     },
     "execution_count": 22,
     "metadata": {},
     "output_type": "execute_result"
    }
   ],
   "source": [
    "t2>t1"
   ]
  },
  {
   "cell_type": "code",
   "execution_count": 34,
   "metadata": {},
   "outputs": [],
   "source": [
    "s=\"2018-04-04 07:39\"\n",
    "d1=datetime.strptime(s, \"%Y-%m-%d %H:%M\")\n"
   ]
  },
  {
   "cell_type": "code",
   "execution_count": 35,
   "metadata": {},
   "outputs": [
    {
     "data": {
      "text/plain": [
       "datetime.date(2018, 4, 4)"
      ]
     },
     "execution_count": 35,
     "metadata": {},
     "output_type": "execute_result"
    }
   ],
   "source": [
    "d1.date()"
   ]
  },
  {
   "cell_type": "code",
   "execution_count": 36,
   "metadata": {},
   "outputs": [
    {
     "data": {
      "text/plain": [
       "4"
      ]
     },
     "execution_count": 36,
     "metadata": {},
     "output_type": "execute_result"
    }
   ],
   "source": [
    "d1.day"
   ]
  },
  {
   "cell_type": "code",
   "execution_count": 37,
   "metadata": {},
   "outputs": [
    {
     "data": {
      "text/plain": [
       "7"
      ]
     },
     "execution_count": 37,
     "metadata": {},
     "output_type": "execute_result"
    }
   ],
   "source": [
    "d1.hour"
   ]
  },
  {
   "cell_type": "code",
   "execution_count": 39,
   "metadata": {},
   "outputs": [
    {
     "data": {
      "text/plain": [
       "datetime.datetime(2018, 4, 4, 7, 45, 31, 647232)"
      ]
     },
     "execution_count": 39,
     "metadata": {},
     "output_type": "execute_result"
    }
   ],
   "source": [
    "datetime.today()"
   ]
  },
  {
   "cell_type": "code",
   "execution_count": 42,
   "metadata": {},
   "outputs": [
    {
     "data": {
      "text/plain": [
       "2"
      ]
     },
     "execution_count": 42,
     "metadata": {},
     "output_type": "execute_result"
    }
   ],
   "source": [
    "d1.weekday()"
   ]
  },
  {
   "cell_type": "code",
   "execution_count": 43,
   "metadata": {
    "collapsed": true
   },
   "outputs": [],
   "source": [
    "d1.weekday?"
   ]
  },
  {
   "cell_type": "code",
   "execution_count": 44,
   "metadata": {
    "collapsed": true
   },
   "outputs": [],
   "source": [
    "today = datetime.today()"
   ]
  },
  {
   "cell_type": "code",
   "execution_count": 45,
   "metadata": {},
   "outputs": [
    {
     "name": "stdout",
     "output_type": "stream",
     "text": [
      "2018-04-04 07:47:05.072229\n"
     ]
    }
   ],
   "source": [
    "print today"
   ]
  },
  {
   "cell_type": "code",
   "execution_count": 47,
   "metadata": {},
   "outputs": [
    {
     "data": {
      "text/plain": [
       "datetime.date(2018, 4, 4)"
      ]
     },
     "execution_count": 47,
     "metadata": {},
     "output_type": "execute_result"
    }
   ],
   "source": [
    "today.date()"
   ]
  },
  {
   "cell_type": "code",
   "execution_count": 48,
   "metadata": {},
   "outputs": [
    {
     "ename": "AttributeError",
     "evalue": "type object 'datetime.datetime' has no attribute 'timedelta'",
     "output_type": "error",
     "traceback": [
      "\u001b[0;31m---------------------------------------------------------------------------\u001b[0m",
      "\u001b[0;31mAttributeError\u001b[0m                            Traceback (most recent call last)",
      "\u001b[0;32m<ipython-input-48-d3e762b5dc95>\u001b[0m in \u001b[0;36m<module>\u001b[0;34m()\u001b[0m\n\u001b[0;32m----> 1\u001b[0;31m \u001b[0mtoday\u001b[0m\u001b[0;34m.\u001b[0m\u001b[0mdate\u001b[0m\u001b[0;34m(\u001b[0m\u001b[0;34m)\u001b[0m\u001b[0;34m+\u001b[0m\u001b[0mdatetime\u001b[0m\u001b[0;34m.\u001b[0m\u001b[0mtimedelta\u001b[0m\u001b[0;34m(\u001b[0m\u001b[0mhours\u001b[0m\u001b[0;34m=\u001b[0m\u001b[0;36m24\u001b[0m\u001b[0;34m)\u001b[0m\u001b[0;34m\u001b[0m\u001b[0m\n\u001b[0m",
      "\u001b[0;31mAttributeError\u001b[0m: type object 'datetime.datetime' has no attribute 'timedelta'"
     ]
    }
   ],
   "source": [
    "today.date()+datetime.timedelta(hours=24)"
   ]
  },
  {
   "cell_type": "code",
   "execution_count": 49,
   "metadata": {
    "collapsed": true
   },
   "outputs": [],
   "source": [
    "from datetime import timedelta"
   ]
  },
  {
   "cell_type": "code",
   "execution_count": 50,
   "metadata": {},
   "outputs": [
    {
     "data": {
      "text/plain": [
       "datetime.date(2018, 4, 5)"
      ]
     },
     "execution_count": 50,
     "metadata": {},
     "output_type": "execute_result"
    }
   ],
   "source": [
    "today.date()+timedelta(hours=24)"
   ]
  },
  {
   "cell_type": "code",
   "execution_count": 52,
   "metadata": {},
   "outputs": [
    {
     "data": {
      "text/plain": [
       "datetime.date(2018, 4, 5)"
      ]
     },
     "execution_count": 52,
     "metadata": {},
     "output_type": "execute_result"
    }
   ],
   "source": [
    "today.date()+timedelta(days=1)"
   ]
  },
  {
   "cell_type": "code",
   "execution_count": 54,
   "metadata": {},
   "outputs": [
    {
     "name": "stdout",
     "output_type": "stream",
     "text": [
      "False\n"
     ]
    }
   ],
   "source": [
    "s=\"2018-04-5\"\n",
    "nextday = today.date()+timedelta(days=1)\n",
    "print nextday == s"
   ]
  },
  {
   "cell_type": "code",
   "execution_count": 56,
   "metadata": {},
   "outputs": [
    {
     "name": "stdout",
     "output_type": "stream",
     "text": [
      "2018-04-05\n",
      "2018-04-05 00:00:00\n",
      "False\n"
     ]
    }
   ],
   "source": [
    "s=\"2018-04-5\"\n",
    "date_scheduled = datetime.strptime(s,\"%Y-%m-%d\")\n",
    "nextday = today.date()+timedelta(days=1)\n",
    "print nextday\n",
    "print date_scheduled\n",
    "print nextday == date_scheduled"
   ]
  },
  {
   "cell_type": "code",
   "execution_count": 58,
   "metadata": {},
   "outputs": [
    {
     "name": "stdout",
     "output_type": "stream",
     "text": [
      "2018-04-05\n",
      "2018-04-05\n"
     ]
    }
   ],
   "source": [
    "s=\"2018-04-05\"\n",
    "nextday = today.date()+timedelta(days=1)\n",
    "s1=\"%s\"%nextday\n",
    "print s\n",
    "print s1"
   ]
  },
  {
   "cell_type": "code",
   "execution_count": 59,
   "metadata": {},
   "outputs": [
    {
     "name": "stdout",
     "output_type": "stream",
     "text": [
      "2018-04-05\n",
      "2018-04-05\n",
      "True\n"
     ]
    }
   ],
   "source": [
    "s=\"2018-04-05\"\n",
    "nextday = today.date()+timedelta(days=1)\n",
    "s1=\"%s\"%nextday\n",
    "print s\n",
    "print s1\n",
    "print s==s1"
   ]
  },
  {
   "cell_type": "code",
   "execution_count": 61,
   "metadata": {},
   "outputs": [
    {
     "name": "stdout",
     "output_type": "stream",
     "text": [
      "2018-04-05\n"
     ]
    }
   ],
   "source": [
    "s=\"2018-04-5\"\n",
    "nextday = today.date()+timedelta(days=1, hours=0, minutes=0, seconds=0)\n",
    "print nextday"
   ]
  },
  {
   "cell_type": "code",
   "execution_count": 62,
   "metadata": {},
   "outputs": [
    {
     "name": "stdout",
     "output_type": "stream",
     "text": [
      "2018-04-05\n",
      "2018-04-05\n",
      "True\n",
      "2018-04-04 07:56:55.014844\n"
     ]
    }
   ],
   "source": [
    "s=\"2018-04-05\"\n",
    "nextday = today.date()+timedelta(days=1)\n",
    "s1=\"%s\"%nextday\n",
    "print s\n",
    "print s1\n",
    "print s==s1\n",
    "print datetime.today()"
   ]
  },
  {
   "cell_type": "code",
   "execution_count": 63,
   "metadata": {},
   "outputs": [
    {
     "name": "stdout",
     "output_type": "stream",
     "text": [
      "2018-04-04\n"
     ]
    }
   ],
   "source": [
    "print datetime.today().date()"
   ]
  },
  {
   "cell_type": "code",
   "execution_count": null,
   "metadata": {
    "collapsed": true
   },
   "outputs": [],
   "source": []
  }
 ],
 "metadata": {
  "kernelspec": {
   "display_name": "Python 2",
   "language": "python",
   "name": "python2"
  },
  "language_info": {
   "codemirror_mode": {
    "name": "ipython",
    "version": 2
   },
   "file_extension": ".py",
   "mimetype": "text/x-python",
   "name": "python",
   "nbconvert_exporter": "python",
   "pygments_lexer": "ipython2",
   "version": "2.7.14"
  }
 },
 "nbformat": 4,
 "nbformat_minor": 2
}
