{
 "cells": [
  {
   "cell_type": "code",
   "execution_count": 1,
   "metadata": {
    "collapsed": true
   },
   "outputs": [],
   "source": [
    "#app\n",
    "# managing a databases\n",
    "# managing data(managing the data opertions)"
   ]
  },
  {
   "cell_type": "code",
   "execution_count": 2,
   "metadata": {
    "collapsed": true
   },
   "outputs": [],
   "source": [
    "#table"
   ]
  },
  {
   "cell_type": "code",
   "execution_count": 3,
   "metadata": {
    "collapsed": true
   },
   "outputs": [],
   "source": [
    "import sqlite3\n",
    "con = sqlite3.connect(\"db1.db\")"
   ]
  },
  {
   "cell_type": "code",
   "execution_count": 4,
   "metadata": {
    "collapsed": true
   },
   "outputs": [],
   "source": [
    "cur=con.cursor()"
   ]
  },
  {
   "cell_type": "code",
   "execution_count": 5,
   "metadata": {},
   "outputs": [
    {
     "data": {
      "text/plain": [
       "<sqlite3.Cursor at 0x7f4ab1a52a40>"
      ]
     },
     "execution_count": 5,
     "metadata": {},
     "output_type": "execute_result"
    }
   ],
   "source": [
    "q=\"create table customer(id int, name varchar(250))\"\n",
    "cur.execute(q)"
   ]
  },
  {
   "cell_type": "code",
   "execution_count": 7,
   "metadata": {},
   "outputs": [
    {
     "data": {
      "text/plain": [
       "<sqlite3.Cursor at 0x7f4ab1a52a40>"
      ]
     },
     "execution_count": 7,
     "metadata": {},
     "output_type": "execute_result"
    }
   ],
   "source": [
    "cur.execute(\"insert into customer(id,name) values(1,'anil')\")"
   ]
  },
  {
   "cell_type": "code",
   "execution_count": 8,
   "metadata": {
    "collapsed": true
   },
   "outputs": [],
   "source": [
    "con.commit()"
   ]
  },
  {
   "cell_type": "code",
   "execution_count": 10,
   "metadata": {
    "collapsed": true
   },
   "outputs": [],
   "source": [
    "names=[\"anil\",\"jayaram\",\"chaithrika\",\"sushma\",\"pavan\",\"sathish\"]\n",
    "import random\n",
    "for i in range(2,101):\n",
    "    q=\"insert into customer(id, name) values(%s,'%s')\"%(i,random.choice(names))\n",
    "    cur.execute(q)\n",
    "con.commit()\n",
    "    "
   ]
  },
  {
   "cell_type": "code",
   "execution_count": 12,
   "metadata": {},
   "outputs": [
    {
     "data": {
      "text/plain": [
       "<sqlite3.Cursor at 0x7f4ab1a52a40>"
      ]
     },
     "execution_count": 12,
     "metadata": {},
     "output_type": "execute_result"
    }
   ],
   "source": [
    "q=\"select * from customer\"\n",
    "cur.execute(q)"
   ]
  },
  {
   "cell_type": "code",
   "execution_count": 13,
   "metadata": {},
   "outputs": [
    {
     "data": {
      "text/plain": [
       "(1, u'anil')"
      ]
     },
     "execution_count": 13,
     "metadata": {},
     "output_type": "execute_result"
    }
   ],
   "source": [
    "cur.fetchone()"
   ]
  },
  {
   "cell_type": "code",
   "execution_count": 14,
   "metadata": {},
   "outputs": [
    {
     "data": {
      "text/plain": [
       "[(2, u'jayaram'),\n",
       " (3, u'chaithrika'),\n",
       " (4, u'anil'),\n",
       " (5, u'chaithrika'),\n",
       " (6, u'chaithrika'),\n",
       " (7, u'sathish'),\n",
       " (8, u'pavan'),\n",
       " (9, u'jayaram'),\n",
       " (10, u'sathish'),\n",
       " (11, u'anil'),\n",
       " (12, u'jayaram'),\n",
       " (13, u'jayaram'),\n",
       " (14, u'sathish'),\n",
       " (15, u'sushma'),\n",
       " (16, u'sushma'),\n",
       " (17, u'sathish'),\n",
       " (18, u'pavan'),\n",
       " (19, u'sushma'),\n",
       " (20, u'pavan'),\n",
       " (21, u'anil'),\n",
       " (22, u'chaithrika'),\n",
       " (23, u'pavan'),\n",
       " (24, u'jayaram'),\n",
       " (25, u'jayaram'),\n",
       " (26, u'pavan'),\n",
       " (27, u'pavan'),\n",
       " (28, u'chaithrika'),\n",
       " (29, u'sushma'),\n",
       " (30, u'chaithrika'),\n",
       " (31, u'sathish'),\n",
       " (32, u'anil'),\n",
       " (33, u'anil'),\n",
       " (34, u'pavan'),\n",
       " (35, u'jayaram'),\n",
       " (36, u'anil'),\n",
       " (37, u'chaithrika'),\n",
       " (38, u'jayaram'),\n",
       " (39, u'jayaram'),\n",
       " (40, u'chaithrika'),\n",
       " (41, u'jayaram'),\n",
       " (42, u'sathish'),\n",
       " (43, u'sathish'),\n",
       " (44, u'sathish'),\n",
       " (45, u'sathish'),\n",
       " (46, u'chaithrika'),\n",
       " (47, u'jayaram'),\n",
       " (48, u'sushma'),\n",
       " (49, u'jayaram'),\n",
       " (50, u'sathish'),\n",
       " (51, u'pavan'),\n",
       " (52, u'anil'),\n",
       " (53, u'anil'),\n",
       " (54, u'pavan'),\n",
       " (55, u'anil'),\n",
       " (56, u'sushma'),\n",
       " (57, u'chaithrika'),\n",
       " (58, u'pavan'),\n",
       " (59, u'chaithrika'),\n",
       " (60, u'sushma'),\n",
       " (61, u'anil'),\n",
       " (62, u'pavan'),\n",
       " (63, u'sushma'),\n",
       " (64, u'jayaram'),\n",
       " (65, u'pavan'),\n",
       " (66, u'jayaram'),\n",
       " (67, u'sushma'),\n",
       " (68, u'chaithrika'),\n",
       " (69, u'chaithrika'),\n",
       " (70, u'pavan'),\n",
       " (71, u'chaithrika'),\n",
       " (72, u'chaithrika'),\n",
       " (73, u'jayaram'),\n",
       " (74, u'sushma'),\n",
       " (75, u'anil'),\n",
       " (76, u'sathish'),\n",
       " (77, u'pavan'),\n",
       " (78, u'sushma'),\n",
       " (79, u'sathish'),\n",
       " (80, u'anil'),\n",
       " (81, u'sushma'),\n",
       " (82, u'sathish'),\n",
       " (83, u'jayaram'),\n",
       " (84, u'chaithrika'),\n",
       " (85, u'anil'),\n",
       " (86, u'jayaram'),\n",
       " (87, u'jayaram'),\n",
       " (88, u'sathish'),\n",
       " (89, u'pavan'),\n",
       " (90, u'jayaram'),\n",
       " (91, u'jayaram'),\n",
       " (92, u'sushma'),\n",
       " (93, u'chaithrika'),\n",
       " (94, u'pavan'),\n",
       " (95, u'pavan'),\n",
       " (96, u'sushma'),\n",
       " (97, u'jayaram'),\n",
       " (98, u'chaithrika'),\n",
       " (99, u'sushma'),\n",
       " (100, u'sathish')]"
      ]
     },
     "execution_count": 14,
     "metadata": {},
     "output_type": "execute_result"
    }
   ],
   "source": [
    "cur.fetchall()"
   ]
  },
  {
   "cell_type": "code",
   "execution_count": null,
   "metadata": {
    "collapsed": true
   },
   "outputs": [],
   "source": []
  }
 ],
 "metadata": {
  "kernelspec": {
   "display_name": "Python 2",
   "language": "python",
   "name": "python2"
  },
  "language_info": {
   "codemirror_mode": {
    "name": "ipython",
    "version": 2
   },
   "file_extension": ".py",
   "mimetype": "text/x-python",
   "name": "python",
   "nbconvert_exporter": "python",
   "pygments_lexer": "ipython2",
   "version": "2.7.14"
  }
 },
 "nbformat": 4,
 "nbformat_minor": 2
}
