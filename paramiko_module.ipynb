{
 "cells": [
  {
   "cell_type": "code",
   "execution_count": 19,
   "metadata": {},
   "outputs": [],
   "source": [
    "import paramiko as pmk\n",
    "ssh = pmk.SSHClient()\n",
    "ssh.set_missing_host_key_policy(pmk.AutoAddPolicy())\n",
    "password=\"pythonkhyaathi\"\n",
    "ssh.connect(\"127.0.0.1\",username=\"khyaathi-python\",password=password)"
   ]
  },
  {
   "cell_type": "code",
   "execution_count": 4,
   "metadata": {},
   "outputs": [
    {
     "data": {
      "text/plain": [
       "(<paramiko.ChannelFile from <paramiko.Channel 0 (closed) -> <paramiko.Transport at 0xb0b6acd0L (cipher aes128-ctr, 128 bits) (active; 0 open channel(s))>>>,\n",
       " <paramiko.ChannelFile from <paramiko.Channel 0 (closed) -> <paramiko.Transport at 0xb0b6acd0L (cipher aes128-ctr, 128 bits) (active; 0 open channel(s))>>>,\n",
       " <paramiko.ChannelFile from <paramiko.Channel 0 (closed) -> <paramiko.Transport at 0xb0b6acd0L (cipher aes128-ctr, 128 bits) (active; 0 open channel(s))>>>)"
      ]
     },
     "execution_count": 4,
     "metadata": {},
     "output_type": "execute_result"
    }
   ],
   "source": [
    "ssh.exec_command(\"mkdri remote\")"
   ]
  },
  {
   "cell_type": "code",
   "execution_count": 5,
   "metadata": {
    "collapsed": true
   },
   "outputs": [],
   "source": [
    "inp, outp, err = ssh.exec_command(\"mkdri local\")"
   ]
  },
  {
   "cell_type": "code",
   "execution_count": 6,
   "metadata": {},
   "outputs": [
    {
     "data": {
      "text/plain": [
       "'bash: mkdri: command not found\\n'"
      ]
     },
     "execution_count": 6,
     "metadata": {},
     "output_type": "execute_result"
    }
   ],
   "source": [
    "err.read()"
   ]
  },
  {
   "cell_type": "code",
   "execution_count": 7,
   "metadata": {
    "collapsed": true
   },
   "outputs": [],
   "source": [
    "inp, outp, err = ssh.exec_command(\"mkdir local\")"
   ]
  },
  {
   "cell_type": "code",
   "execution_count": 8,
   "metadata": {},
   "outputs": [
    {
     "data": {
      "text/plain": [
       "''"
      ]
     },
     "execution_count": 8,
     "metadata": {},
     "output_type": "execute_result"
    }
   ],
   "source": [
    "err.read()"
   ]
  },
  {
   "cell_type": "code",
   "execution_count": 9,
   "metadata": {
    "collapsed": true
   },
   "outputs": [],
   "source": [
    "inp, outp, err = ssh.exec_command(\"mkdir remote\")"
   ]
  },
  {
   "cell_type": "code",
   "execution_count": 10,
   "metadata": {
    "collapsed": true
   },
   "outputs": [],
   "source": [
    "inp, outp, err = ssh.exec_command(\"ls -l\")"
   ]
  },
  {
   "cell_type": "code",
   "execution_count": 11,
   "metadata": {
    "collapsed": true
   },
   "outputs": [],
   "source": [
    "resp = outp.read()"
   ]
  },
  {
   "cell_type": "code",
   "execution_count": 12,
   "metadata": {},
   "outputs": [
    {
     "name": "stdout",
     "output_type": "stream",
     "text": [
      "total 496\n",
      "-rw-r--r--  1 khyaathi-python khyaathi-python   282 Feb 17 10:35 a.html\n",
      "drwxr-xr-x 22 khyaathi-python khyaathi-python  4096 Dec  1 09:51 anaconda2\n",
      "-rw-r--r--  1 khyaathi-python khyaathi-python     0 Dec 28 09:03 app1.py\n",
      "-rw-r--r--  1 khyaathi-python khyaathi-python    21 Dec 28 09:02 app.py\n",
      "-rw-r--r--  1 khyaathi-python khyaathi-python 37152 Feb 17 10:55 app structure.jpg\n",
      "-rw-r--r--  1 khyaathi-python khyaathi-python    14 Feb 27 09:21 a.py\n",
      "-rw-r--r--  1 khyaathi-python khyaathi-python   104 Feb 10 08:24 data1.csv\n",
      "-rw-r--r--  1 khyaathi-python khyaathi-python   784 Apr 10 09:44 deployment.txt\n",
      "drwxr-xr-x  4 khyaathi-python khyaathi-python  4096 Apr  9 17:04 Desktop\n",
      "drwxr-xr-x 14 khyaathi-python khyaathi-python  4096 Apr  3 21:28 django1\n",
      "-rw-r--r--  1 khyaathi-python khyaathi-python  1361 Feb 18 10:25 django content\n",
      "drwxr-xr-x  2 khyaathi-python khyaathi-python  4096 Feb 10 08:25 Documents\n",
      "drwxr-xr-x  5 khyaathi-python khyaathi-python 12288 Apr 14 07:23 Downloads\n",
      "-rw-r--r--  1 khyaathi-python khyaathi-python  8980 Nov 29 14:53 examples.desktop\n",
      "-rw-r--r--  1 khyaathi-python khyaathi-python    73 Mar 30 07:48 f3.py\n",
      "-rw-r--r--  1 khyaathi-python khyaathi-python   288 Mar 30 07:44 f3.pyc\n",
      "-rw-r--r--  1 khyaathi-python khyaathi-python    58 Mar 30 07:32 f4.py\n",
      "-rw-r--r--  1 khyaathi-python khyaathi-python   282 Mar 30 07:34 f4.pyc\n",
      "-rw-r--r--  1 khyaathi-python khyaathi-python    29 Dec 27 07:57 file3.py\n",
      "-rw-r--r--  1 khyaathi-python khyaathi-python   148 Dec 27 07:59 file3.pyc\n",
      "-rw-r--r--  1 khyaathi-python khyaathi-python     0 Dec 20 10:20 first.py\n",
      "-rw-r--r--  1 khyaathi-python khyaathi-python 57578 Mar  9 09:07 functions4.ipynb\n",
      "-rw-r--r--  1 khyaathi-python khyaathi-python    20 Dec 20 10:17 hello.py\n",
      "-rw-r--r--  1 khyaathi-python khyaathi-python     0 Jan 23 08:33 hr.py\n",
      "-rw-r--r--  1 khyaathi-python khyaathi-python 10753 Mar 18 10:22 images.jpeg\n",
      "-rw-r--r--  1 khyaathi-python khyaathi-python  5147 Mar 18 10:03 index.jpeg\n",
      "-rw-r--r--  1 khyaathi-python khyaathi-python 44030 Feb 24 09:25 int mem.jpg\n",
      "drwxrwxr-x  2 khyaathi-python khyaathi-python  4096 Apr 16 07:33 local\n",
      "-rw-r--r--  1 khyaathi-python khyaathi-python     0 Dec  3 09:22 log.py\n",
      "drwxr-xr-x  2 khyaathi-python khyaathi-python  4096 Jan 25 22:01 Madan python\n",
      "drwxr-xr-x  2 khyaathi-python khyaathi-python  4096 Nov 29 15:02 Music\n",
      "-rw-r--r--  1 khyaathi-python khyaathi-python   354 Dec 14 08:37 pgadmin.log\n",
      "drwxr-xr-x  2 khyaathi-python khyaathi-python  4096 Nov 29 15:02 Pictures\n",
      "drwxr-xr-x  4 khyaathi-python khyaathi-python  4096 Feb 11 09:23 proj_batch41\n",
      "-rw-r--r--  1 khyaathi-python khyaathi-python 20232 Feb 11 09:33 proj_batch41.zip\n",
      "drwxr-xr-x  2 khyaathi-python khyaathi-python  4096 Nov 29 15:02 Public\n",
      "-rw-r--r--  1 khyaathi-python khyaathi-python     5 Dec 28 09:04 pur.py\n",
      "drwxr-xr-x 13 khyaathi-python khyaathi-python  4096 Apr 11 10:02 pythonexamples\n",
      "-rw-r--r--  1 khyaathi-python khyaathi-python   269 Dec 20 10:39 readinput.py\n",
      "drwxrwxr-x  2 khyaathi-python khyaathi-python  4096 Apr 16 07:33 remote\n",
      "-rw-r--r--  1 khyaathi-python khyaathi-python     5 Dec 28 09:04 sales.py\n",
      "-rw-r--r--  1 khyaathi-python khyaathi-python     0 Dec  3 08:45 service.py\n",
      "-rw-r--r--  1 khyaathi-python khyaathi-python 58443 Feb 24 09:25 string mem.jpg\n",
      "drwxr-xr-x  2 khyaathi-python khyaathi-python  4096 Nov 29 15:02 Templates\n",
      "-rw-r--r--  1 khyaathi-python khyaathi-python   154 Dec  3 07:45 udata.csv\n",
      "-rw-r--r--  1 khyaathi-python khyaathi-python  1486 Dec  8 07:23 Untitled1.ipynb\n",
      "-rw-r--r--  1 khyaathi-python khyaathi-python  8284 Dec  9 08:01 Untitled2.ipynb\n",
      "-rw-r--r--  1 khyaathi-python khyaathi-python 12454 Dec 16 10:50 Untitled3.ipynb\n",
      "-rw-r--r--  1 khyaathi-python khyaathi-python  9783 Dec 17 11:43 Untitled4.ipynb\n",
      "-rw-r--r--  1 khyaathi-python khyaathi-python  6021 Dec 28 09:13 Untitled5.ipynb\n",
      "-rw-r--r--  1 khyaathi-python khyaathi-python  7469 Jan 23 08:27 Untitled6.ipynb\n",
      "-rw-r--r--  1 khyaathi-python khyaathi-python   582 Feb 10 10:40 Untitled7.ipynb\n",
      "-rw-r--r--  1 khyaathi-python khyaathi-python  1753 Feb 10 11:09 Untitled8.ipynb\n",
      "-rw-r--r--  1 khyaathi-python khyaathi-python 31143 Dec  3 14:04 Untitled.ipynb\n",
      "drwxr-xr-x  2 khyaathi-python khyaathi-python  4096 Nov 29 15:02 Videos\n",
      "-rw-r--r--  1 khyaathi-python khyaathi-python     0 Jan 23 08:34 war.py\n",
      "\n"
     ]
    }
   ],
   "source": [
    "print resp"
   ]
  },
  {
   "cell_type": "code",
   "execution_count": 13,
   "metadata": {},
   "outputs": [
    {
     "data": {
      "text/plain": [
       "True"
      ]
     },
     "execution_count": 13,
     "metadata": {},
     "output_type": "execute_result"
    }
   ],
   "source": [
    "\"local\" in resp"
   ]
  },
  {
   "cell_type": "code",
   "execution_count": 14,
   "metadata": {},
   "outputs": [
    {
     "data": {
      "text/plain": [
       "True"
      ]
     },
     "execution_count": 14,
     "metadata": {},
     "output_type": "execute_result"
    }
   ],
   "source": [
    "\"remote\" in resp"
   ]
  },
  {
   "cell_type": "code",
   "execution_count": 15,
   "metadata": {},
   "outputs": [
    {
     "name": "stdout",
     "output_type": "stream",
     "text": [
      "True\n",
      "True\n"
     ]
    }
   ],
   "source": [
    "inp, outp, err = ssh.exec_command(\"ls\")\n",
    "resp=outp.read()\n",
    "print \"local\" in resp\n",
    "print \"remote\" in resp"
   ]
  },
  {
   "cell_type": "code",
   "execution_count": 16,
   "metadata": {
    "collapsed": true
   },
   "outputs": [],
   "source": [
    "inp, outp, err = ssh.exec_command(\" sudo ls /proc\")"
   ]
  },
  {
   "cell_type": "code",
   "execution_count": 17,
   "metadata": {},
   "outputs": [
    {
     "name": "stdout",
     "output_type": "stream",
     "text": [
      "sudo: no tty present and no askpass program specified\n",
      "\n"
     ]
    }
   ],
   "source": [
    "print err.read()"
   ]
  },
  {
   "cell_type": "code",
   "execution_count": 20,
   "metadata": {},
   "outputs": [],
   "source": [
    "inp, outp, err = ssh.exec_command(\"echo  %s|sudo -S ls /proc\"%password)"
   ]
  },
  {
   "cell_type": "code",
   "execution_count": 21,
   "metadata": {},
   "outputs": [
    {
     "data": {
      "text/plain": [
       "'[sudo] password for khyaathi-python: '"
      ]
     },
     "execution_count": 21,
     "metadata": {},
     "output_type": "execute_result"
    }
   ],
   "source": [
    "err.read()"
   ]
  },
  {
   "cell_type": "code",
   "execution_count": 22,
   "metadata": {
    "collapsed": true
   },
   "outputs": [],
   "source": [
    "resp = outp.read()"
   ]
  },
  {
   "cell_type": "code",
   "execution_count": 23,
   "metadata": {},
   "outputs": [
    {
     "name": "stdout",
     "output_type": "stream",
     "text": [
      "1\n",
      "10\n",
      "11\n",
      "113\n",
      "114\n",
      "115\n",
      "12\n",
      "13\n",
      "14\n",
      "1443\n",
      "1466\n",
      "1488\n",
      "15\n",
      "1532\n",
      "155\n",
      "15574\n",
      "16\n",
      "1630\n",
      "1631\n",
      "1632\n",
      "1633\n",
      "1634\n",
      "165\n",
      "166\n",
      "167\n",
      "168\n",
      "17\n",
      "1701\n",
      "1732\n",
      "1744\n",
      "1752\n",
      "18\n",
      "1805\n",
      "1813\n",
      "18669\n",
      "19\n",
      "190\n",
      "191\n",
      "2\n",
      "20\n",
      "2006\n",
      "2034\n",
      "20386\n",
      "2039\n",
      "2051\n",
      "2094\n",
      "2097\n",
      "21\n",
      "2139\n",
      "21659\n",
      "21664\n",
      "21680\n",
      "21751\n",
      "2184\n",
      "2186\n",
      "2195\n",
      "2196\n",
      "22\n",
      "2200\n",
      "2205\n",
      "2216\n",
      "22189\n",
      "22202\n",
      "22260\n",
      "2228\n",
      "223\n",
      "2240\n",
      "22408\n",
      "2244\n",
      "22505\n",
      "2261\n",
      "2262\n",
      "2267\n",
      "22675\n",
      "22738\n",
      "2275\n",
      "2279\n",
      "22803\n",
      "2289\n",
      "2295\n",
      "23\n",
      "2300\n",
      "23081\n",
      "23082\n",
      "23084\n",
      "2315\n",
      "23152\n",
      "23153\n",
      "232\n",
      "23251\n",
      "23362\n",
      "23426\n",
      "23431\n",
      "23434\n",
      "23438\n",
      "24\n",
      "2415\n",
      "2429\n",
      "2431\n",
      "2476\n",
      "2477\n",
      "2479\n",
      "25\n",
      "2520\n",
      "2526\n",
      "253\n",
      "2540\n",
      "2570\n",
      "2571\n",
      "2576\n",
      "2581\n",
      "2587\n",
      "2591\n",
      "26\n",
      "2601\n",
      "2606\n",
      "2608\n",
      "2615\n",
      "2619\n",
      "2620\n",
      "2623\n",
      "2628\n",
      "2630\n",
      "2655\n",
      "2657\n",
      "2660\n",
      "2673\n",
      "27\n",
      "2770\n",
      "2773\n",
      "2780\n",
      "2788\n",
      "2793\n",
      "2797\n",
      "28\n",
      "2801\n",
      "2806\n",
      "2813\n",
      "2824\n",
      "2833\n",
      "2841\n",
      "2861\n",
      "2901\n",
      "2941\n",
      "2948\n",
      "2952\n",
      "2960\n",
      "3\n",
      "3060\n",
      "32\n",
      "33\n",
      "3363\n",
      "34\n",
      "344\n",
      "3989\n",
      "4028\n",
      "479\n",
      "4884\n",
      "4896\n",
      "4897\n",
      "5\n",
      "582\n",
      "584\n",
      "591\n",
      "592\n",
      "594\n",
      "599\n",
      "602\n",
      "658\n",
      "659\n",
      "661\n",
      "663\n",
      "666\n",
      "7\n",
      "7116\n",
      "7163\n",
      "7177\n",
      "7182\n",
      "73\n",
      "74\n",
      "75\n",
      "76\n",
      "77\n",
      "78\n",
      "79\n",
      "795\n",
      "8\n",
      "80\n",
      "802\n",
      "81\n",
      "819\n",
      "82\n",
      "83\n",
      "84\n",
      "843\n",
      "844\n",
      "85\n",
      "86\n",
      "869\n",
      "9\n",
      "902\n",
      "906\n",
      "913\n",
      "92\n",
      "928\n",
      "acpi\n",
      "asound\n",
      "buddyinfo\n",
      "bus\n",
      "cgroups\n",
      "cmdline\n",
      "consoles\n",
      "cpuinfo\n",
      "crypto\n",
      "devices\n",
      "diskstats\n",
      "dma\n",
      "driver\n",
      "execdomains\n",
      "fb\n",
      "filesystems\n",
      "fs\n",
      "interrupts\n",
      "iomem\n",
      "ioports\n",
      "irq\n",
      "kallsyms\n",
      "kcore\n",
      "keys\n",
      "key-users\n",
      "kmsg\n",
      "kpagecgroup\n",
      "kpagecount\n",
      "kpageflags\n",
      "loadavg\n",
      "locks\n",
      "mdstat\n",
      "meminfo\n",
      "misc\n",
      "modules\n",
      "mounts\n",
      "mtrr\n",
      "net\n",
      "pagetypeinfo\n",
      "partitions\n",
      "sched_debug\n",
      "schedstat\n",
      "scsi\n",
      "self\n",
      "slabinfo\n",
      "softirqs\n",
      "stat\n",
      "swaps\n",
      "sys\n",
      "sysrq-trigger\n",
      "sysvipc\n",
      "thread-self\n",
      "timer_list\n",
      "timer_stats\n",
      "tty\n",
      "uptime\n",
      "version\n",
      "version_signature\n",
      "vmallocinfo\n",
      "vmstat\n",
      "zoneinfo\n",
      "\n"
     ]
    }
   ],
   "source": [
    "print resp"
   ]
  },
  {
   "cell_type": "code",
   "execution_count": 25,
   "metadata": {},
   "outputs": [],
   "source": [
    "sftp = ssh.open_sftp()"
   ]
  },
  {
   "cell_type": "code",
   "execution_count": 26,
   "metadata": {},
   "outputs": [
    {
     "name": "stdout",
     "output_type": "stream",
     "text": [
      "<paramiko.sftp_client.SFTPClient object at 0x7f87b82ae050>\n"
     ]
    }
   ],
   "source": [
    "print sftp"
   ]
  },
  {
   "cell_type": "code",
   "execution_count": 27,
   "metadata": {},
   "outputs": [
    {
     "data": {
      "text/plain": [
       "<SFTPAttributes: [ size=21 uid=1000 gid=1000 mode=0100664 atime=1523844755 mtime=1523844755 ]>"
      ]
     },
     "execution_count": 27,
     "metadata": {},
     "output_type": "execute_result"
    }
   ],
   "source": [
    "#put to transfer local to remote\n",
    "#get to transfer remote to local\n",
    "sftp.put(\"/home/khyaathi-python/local/a.py\",\"/home/khyaathi-python/remote/aremote.py\")"
   ]
  },
  {
   "cell_type": "code",
   "execution_count": 28,
   "metadata": {
    "collapsed": true
   },
   "outputs": [],
   "source": [
    "sftp.get(\"/home/khyaathi-python/remote/aremote.py\",\"/home/khyaathi-python/local/alocal.py\")"
   ]
  },
  {
   "cell_type": "code",
   "execution_count": 29,
   "metadata": {
    "collapsed": true
   },
   "outputs": [],
   "source": [
    "ssh.close()"
   ]
  },
  {
   "cell_type": "code",
   "execution_count": 30,
   "metadata": {},
   "outputs": [
    {
     "ename": "NoValidConnectionsError",
     "evalue": "[Errno None] Unable to connect to port 22 on 127.0.0.1",
     "output_type": "error",
     "traceback": [
      "\u001b[0;31m---------------------------------------------------------------------------\u001b[0m",
      "\u001b[0;31mNoValidConnectionsError\u001b[0m                   Traceback (most recent call last)",
      "\u001b[0;32m<ipython-input-30-b4d8b915d2a2>\u001b[0m in \u001b[0;36m<module>\u001b[0;34m()\u001b[0m\n\u001b[0;32m----> 1\u001b[0;31m \u001b[0mssh\u001b[0m\u001b[0;34m.\u001b[0m\u001b[0mconnect\u001b[0m\u001b[0;34m(\u001b[0m\u001b[0;34m\"127.0.0.1\"\u001b[0m\u001b[0;34m,\u001b[0m\u001b[0musername\u001b[0m\u001b[0;34m=\u001b[0m\u001b[0;34m\"khyaathi-python\"\u001b[0m\u001b[0;34m,\u001b[0m\u001b[0mpassword\u001b[0m\u001b[0;34m=\u001b[0m\u001b[0mpassword\u001b[0m\u001b[0;34m)\u001b[0m\u001b[0;34m\u001b[0m\u001b[0m\n\u001b[0m",
      "\u001b[0;32m/home/khyaathi-python/anaconda2/lib/python2.7/site-packages/paramiko/client.pyc\u001b[0m in \u001b[0;36mconnect\u001b[0;34m(self, hostname, port, username, password, pkey, key_filename, timeout, allow_agent, look_for_keys, compress, sock, gss_auth, gss_kex, gss_deleg_creds, gss_host, banner_timeout, auth_timeout, gss_trust_dns, passphrase)\u001b[0m\n\u001b[1;32m    355\u001b[0m             \u001b[0;31m# (socket.error)\u001b[0m\u001b[0;34m\u001b[0m\u001b[0;34m\u001b[0m\u001b[0m\n\u001b[1;32m    356\u001b[0m             \u001b[0;32mif\u001b[0m \u001b[0mlen\u001b[0m\u001b[0;34m(\u001b[0m\u001b[0merrors\u001b[0m\u001b[0;34m)\u001b[0m \u001b[0;34m==\u001b[0m \u001b[0mlen\u001b[0m\u001b[0;34m(\u001b[0m\u001b[0mto_try\u001b[0m\u001b[0;34m)\u001b[0m\u001b[0;34m:\u001b[0m\u001b[0;34m\u001b[0m\u001b[0m\n\u001b[0;32m--> 357\u001b[0;31m                 \u001b[0;32mraise\u001b[0m \u001b[0mNoValidConnectionsError\u001b[0m\u001b[0;34m(\u001b[0m\u001b[0merrors\u001b[0m\u001b[0;34m)\u001b[0m\u001b[0;34m\u001b[0m\u001b[0m\n\u001b[0m\u001b[1;32m    358\u001b[0m \u001b[0;34m\u001b[0m\u001b[0m\n\u001b[1;32m    359\u001b[0m         t = self._transport = Transport(\n",
      "\u001b[0;31mNoValidConnectionsError\u001b[0m: [Errno None] Unable to connect to port 22 on 127.0.0.1"
     ]
    }
   ],
   "source": [
    "ssh.connect(\"127.0.0.1\",username=\"khyaathi-python\",password=password)"
   ]
  },
  {
   "cell_type": "code",
   "execution_count": 31,
   "metadata": {
    "collapsed": true
   },
   "outputs": [],
   "source": [
    "ssh.connect(\"127.0.0.1\",username=\"khyaathi-python\",password=password)"
   ]
  },
  {
   "cell_type": "code",
   "execution_count": 32,
   "metadata": {
    "collapsed": true
   },
   "outputs": [],
   "source": [
    "ssh.connect"
   ]
  },
  {
   "cell_type": "code",
   "execution_count": 33,
   "metadata": {
    "collapsed": true
   },
   "outputs": [],
   "source": [
    "ssh.close()"
   ]
  },
  {
   "cell_type": "code",
   "execution_count": 34,
   "metadata": {},
   "outputs": [
    {
     "name": "stderr",
     "output_type": "stream",
     "text": [
      "No handlers could be found for logger \"paramiko.transport\"\n"
     ]
    },
    {
     "ename": "SSHException",
     "evalue": "Error reading SSH protocol banner",
     "output_type": "error",
     "traceback": [
      "\u001b[0;31m---------------------------------------------------------------------------\u001b[0m",
      "\u001b[0;31mSSHException\u001b[0m                              Traceback (most recent call last)",
      "\u001b[0;32m<ipython-input-34-e6fcd18abf35>\u001b[0m in \u001b[0;36m<module>\u001b[0;34m()\u001b[0m\n\u001b[0;32m----> 1\u001b[0;31m \u001b[0mssh\u001b[0m\u001b[0;34m.\u001b[0m\u001b[0mconnect\u001b[0m\u001b[0;34m(\u001b[0m\u001b[0;34m\"khyaathipython\"\u001b[0m\u001b[0;34m,\u001b[0m\u001b[0mport\u001b[0m\u001b[0;34m=\u001b[0m\u001b[0;36m8899\u001b[0m\u001b[0;34m,\u001b[0m\u001b[0musername\u001b[0m\u001b[0;34m=\u001b[0m\u001b[0;34m\"khyaathi-python\"\u001b[0m\u001b[0;34m,\u001b[0m\u001b[0mpassword\u001b[0m\u001b[0;34m=\u001b[0m\u001b[0mpassword\u001b[0m\u001b[0;34m)\u001b[0m\u001b[0;34m\u001b[0m\u001b[0m\n\u001b[0m",
      "\u001b[0;32m/home/khyaathi-python/anaconda2/lib/python2.7/site-packages/paramiko/client.pyc\u001b[0m in \u001b[0;36mconnect\u001b[0;34m(self, hostname, port, username, password, pkey, key_filename, timeout, allow_agent, look_for_keys, compress, sock, gss_auth, gss_kex, gss_deleg_creds, gss_host, banner_timeout, auth_timeout, gss_trust_dns, passphrase)\u001b[0m\n\u001b[1;32m    390\u001b[0m             \u001b[0msec_opts\u001b[0m\u001b[0;34m.\u001b[0m\u001b[0mkey_types\u001b[0m \u001b[0;34m=\u001b[0m \u001b[0;34m[\u001b[0m\u001b[0mkeytype\u001b[0m\u001b[0;34m]\u001b[0m \u001b[0;34m+\u001b[0m \u001b[0mother_types\u001b[0m\u001b[0;34m\u001b[0m\u001b[0m\n\u001b[1;32m    391\u001b[0m \u001b[0;34m\u001b[0m\u001b[0m\n\u001b[0;32m--> 392\u001b[0;31m         \u001b[0mt\u001b[0m\u001b[0;34m.\u001b[0m\u001b[0mstart_client\u001b[0m\u001b[0;34m(\u001b[0m\u001b[0mtimeout\u001b[0m\u001b[0;34m=\u001b[0m\u001b[0mtimeout\u001b[0m\u001b[0;34m)\u001b[0m\u001b[0;34m\u001b[0m\u001b[0m\n\u001b[0m\u001b[1;32m    393\u001b[0m \u001b[0;34m\u001b[0m\u001b[0m\n\u001b[1;32m    394\u001b[0m         \u001b[0;31m# If GSS-API Key Exchange is performed we are not required to check the\u001b[0m\u001b[0;34m\u001b[0m\u001b[0;34m\u001b[0m\u001b[0m\n",
      "\u001b[0;32m/home/khyaathi-python/anaconda2/lib/python2.7/site-packages/paramiko/transport.pyc\u001b[0m in \u001b[0;36mstart_client\u001b[0;34m(self, event, timeout)\u001b[0m\n\u001b[1;32m    543\u001b[0m                 \u001b[0me\u001b[0m \u001b[0;34m=\u001b[0m \u001b[0mself\u001b[0m\u001b[0;34m.\u001b[0m\u001b[0mget_exception\u001b[0m\u001b[0;34m(\u001b[0m\u001b[0;34m)\u001b[0m\u001b[0;34m\u001b[0m\u001b[0m\n\u001b[1;32m    544\u001b[0m                 \u001b[0;32mif\u001b[0m \u001b[0me\u001b[0m \u001b[0;32mis\u001b[0m \u001b[0;32mnot\u001b[0m \u001b[0mNone\u001b[0m\u001b[0;34m:\u001b[0m\u001b[0;34m\u001b[0m\u001b[0m\n\u001b[0;32m--> 545\u001b[0;31m                     \u001b[0;32mraise\u001b[0m \u001b[0me\u001b[0m\u001b[0;34m\u001b[0m\u001b[0m\n\u001b[0m\u001b[1;32m    546\u001b[0m                 \u001b[0;32mraise\u001b[0m \u001b[0mSSHException\u001b[0m\u001b[0;34m(\u001b[0m\u001b[0;34m'Negotiation failed.'\u001b[0m\u001b[0;34m)\u001b[0m\u001b[0;34m\u001b[0m\u001b[0m\n\u001b[1;32m    547\u001b[0m             if (\n",
      "\u001b[0;31mSSHException\u001b[0m: Error reading SSH protocol banner"
     ]
    }
   ],
   "source": [
    "ssh.connect(\"khyaathipython\",port=8899,username=\"khyaathi-python\",password=password)"
   ]
  },
  {
   "cell_type": "code",
   "execution_count": null,
   "metadata": {
    "collapsed": true
   },
   "outputs": [],
   "source": []
  }
 ],
 "metadata": {
  "kernelspec": {
   "display_name": "Python 2",
   "language": "python",
   "name": "python2"
  },
  "language_info": {
   "codemirror_mode": {
    "name": "ipython",
    "version": 2
   },
   "file_extension": ".py",
   "mimetype": "text/x-python",
   "name": "python",
   "nbconvert_exporter": "python",
   "pygments_lexer": "ipython2",
   "version": "2.7.14"
  }
 },
 "nbformat": 4,
 "nbformat_minor": 2
}
