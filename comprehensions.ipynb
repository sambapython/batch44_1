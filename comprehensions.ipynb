{
 "cells": [
  {
   "cell_type": "code",
   "execution_count": 1,
   "metadata": {},
   "outputs": [
    {
     "name": "stdout",
     "output_type": "stream",
     "text": [
      "[11, 12, 13, 14]\n"
     ]
    }
   ],
   "source": [
    "l1=[1,2,3,4]\n",
    "print [i+10 for i  in l1]"
   ]
  },
  {
   "cell_type": "code",
   "execution_count": 2,
   "metadata": {},
   "outputs": [
    {
     "ename": "TypeError",
     "evalue": "cannot concatenate 'str' and 'int' objects",
     "output_type": "error",
     "traceback": [
      "\u001b[0;31m---------------------------------------------------------------------------\u001b[0m",
      "\u001b[0;31mTypeError\u001b[0m                                 Traceback (most recent call last)",
      "\u001b[0;32m<ipython-input-2-96a790a15436>\u001b[0m in \u001b[0;36m<module>\u001b[0;34m()\u001b[0m\n\u001b[1;32m      1\u001b[0m \u001b[0ml1\u001b[0m\u001b[0;34m=\u001b[0m\u001b[0;34m[\u001b[0m\u001b[0;36m1\u001b[0m\u001b[0;34m,\u001b[0m\u001b[0;36m2\u001b[0m\u001b[0;34m,\u001b[0m\u001b[0;34m\"r1\"\u001b[0m\u001b[0;34m,\u001b[0m\u001b[0;36m3\u001b[0m\u001b[0;34m,\u001b[0m\u001b[0;36m4\u001b[0m\u001b[0;34m,\u001b[0m\u001b[0;34m\"r2\"\u001b[0m\u001b[0;34m]\u001b[0m\u001b[0;34m\u001b[0m\u001b[0m\n\u001b[0;32m----> 2\u001b[0;31m \u001b[0;32mprint\u001b[0m \u001b[0;34m[\u001b[0m\u001b[0mi\u001b[0m\u001b[0;34m+\u001b[0m\u001b[0;36m10\u001b[0m \u001b[0;32mfor\u001b[0m \u001b[0mi\u001b[0m  \u001b[0;32min\u001b[0m \u001b[0ml1\u001b[0m\u001b[0;34m]\u001b[0m\u001b[0;34m\u001b[0m\u001b[0m\n\u001b[0m",
      "\u001b[0;31mTypeError\u001b[0m: cannot concatenate 'str' and 'int' objects"
     ]
    }
   ],
   "source": [
    "l1=[1,2,\"r1\",3,4,\"r2\"]\n",
    "print [i+10 for i  in l1]"
   ]
  },
  {
   "cell_type": "code",
   "execution_count": 4,
   "metadata": {},
   "outputs": [
    {
     "name": "stdout",
     "output_type": "stream",
     "text": [
      "[11, 12, 13, 14]\n"
     ]
    }
   ],
   "source": [
    "l1=[1,2,\"r1\",3,4,\"r2\"]\n",
    "print [i+10 for i  in l1 if isinstance(i,(int,float))]"
   ]
  },
  {
   "cell_type": "code",
   "execution_count": 5,
   "metadata": {},
   "outputs": [
    {
     "name": "stdout",
     "output_type": "stream",
     "text": [
      "[11, 12, 'r1', 13, 14, 'r2']\n"
     ]
    }
   ],
   "source": [
    "l1=[1,2,\"r1\",3,4,\"r2\"]\n",
    "print [i+10 if isinstance(i,(int,float)) else i for i  in l1]"
   ]
  },
  {
   "cell_type": "code",
   "execution_count": 6,
   "metadata": {},
   "outputs": [
    {
     "name": "stdout",
     "output_type": "stream",
     "text": [
      "<generator object <genexpr> at 0x7ffb6843fe10>\n"
     ]
    }
   ],
   "source": [
    "l1=[1,2,\"r1\",3,4,\"r2\"]\n",
    "print (i+10 if isinstance(i,(int,float)) else i for i  in l1)"
   ]
  },
  {
   "cell_type": "code",
   "execution_count": 7,
   "metadata": {},
   "outputs": [
    {
     "name": "stdout",
     "output_type": "stream",
     "text": [
      "11\n",
      "12\n",
      "r1\n",
      "13\n",
      "14\n",
      "r2\n"
     ]
    }
   ],
   "source": [
    "l1=[1,2,\"r1\",3,4,\"r2\"]\n",
    "res = (i+10 if isinstance(i,(int,float)) else i for i  in l1)\n",
    "for i in res:\n",
    "    print i"
   ]
  },
  {
   "cell_type": "code",
   "execution_count": 11,
   "metadata": {
    "scrolled": true
   },
   "outputs": [
    {
     "name": "stdout",
     "output_type": "stream",
     "text": [
      "[11, 12, 'r1', 13, 14, 'r2']\n",
      "11\n",
      "12\n",
      "r1\n",
      "13\n",
      "14\n",
      "r2\n",
      "**************************************************\n",
      "<generator object <genexpr> at 0x7ffb6843fe10>\n",
      "11\n",
      "12\n",
      "r1\n",
      "13\n",
      "14\n",
      "r2\n"
     ]
    }
   ],
   "source": [
    "l1=[1,2,\"r1\",3,4,\"r2\"]\n",
    "res=[i+10 if isinstance(i,(int,float)) else i for i  in l1]\n",
    "print res\n",
    "for i in res:\n",
    "    print i\n",
    "print \"*\"*50\n",
    "l1=[1,2,\"r1\",3,4,\"r2\"]\n",
    "res = (i+10 if isinstance(i,(int,float)) else i for i  in l1)\n",
    "print res\n",
    "for i in res:\n",
    "    print i"
   ]
  },
  {
   "cell_type": "code",
   "execution_count": 12,
   "metadata": {},
   "outputs": [
    {
     "name": "stdout",
     "output_type": "stream",
     "text": [
      "[11, 12, 'r1', 13, 14, 'r2']\n",
      "11\n",
      "12\n",
      "r1\n",
      "13\n",
      "14\n",
      "r2\n",
      "**************************************************\n",
      "<type 'generator'>\n",
      "<generator object <genexpr> at 0x7ffb6843fe10>\n",
      "11\n",
      "12\n",
      "r1\n",
      "13\n",
      "14\n",
      "r2\n"
     ]
    }
   ],
   "source": [
    "l1=[1,2,\"r1\",3,4,\"r2\"]\n",
    "res=[i+10 if isinstance(i,(int,float)) else i for i  in l1]\n",
    "print res\n",
    "for i in res:\n",
    "    print i\n",
    "print \"*\"*50\n",
    "l1=[1,2,\"r1\",3,4,\"r2\"]\n",
    "res = (i+10 if isinstance(i,(int,float)) else i for i  in l1)\n",
    "print type(res)\n",
    "print res\n",
    "for i in res:\n",
    "    print i"
   ]
  },
  {
   "cell_type": "code",
   "execution_count": 13,
   "metadata": {},
   "outputs": [
    {
     "name": "stdout",
     "output_type": "stream",
     "text": [
      "[10, 12, 14, 16, 18, 20, 22, 24, 26, 28]\n"
     ]
    }
   ],
   "source": [
    "def fun(x,y):\n",
    "    return x+y\n",
    "print map(fun,range(10),range(10,20))"
   ]
  },
  {
   "cell_type": "code",
   "execution_count": 14,
   "metadata": {},
   "outputs": [
    {
     "name": "stdout",
     "output_type": "stream",
     "text": [
      "[10, 12, 14, 16, 18, 20, 22, 24, 26, 28]\n"
     ]
    }
   ],
   "source": [
    "print map(lambda x,y:x+y,range(10),range(10,20))"
   ]
  },
  {
   "cell_type": "code",
   "execution_count": 15,
   "metadata": {},
   "outputs": [
    {
     "ename": "TypeError",
     "evalue": "object of type 'generator' has no len()",
     "output_type": "error",
     "traceback": [
      "\u001b[0;31m---------------------------------------------------------------------------\u001b[0m",
      "\u001b[0;31mTypeError\u001b[0m                                 Traceback (most recent call last)",
      "\u001b[0;32m<ipython-input-15-b72a0dfb11c5>\u001b[0m in \u001b[0;36m<module>\u001b[0;34m()\u001b[0m\n\u001b[1;32m      1\u001b[0m \u001b[0mres\u001b[0m \u001b[0;34m=\u001b[0m \u001b[0;34m(\u001b[0m\u001b[0mi\u001b[0m\u001b[0;34m+\u001b[0m\u001b[0;36m10\u001b[0m \u001b[0;32mif\u001b[0m \u001b[0misinstance\u001b[0m\u001b[0;34m(\u001b[0m\u001b[0mi\u001b[0m\u001b[0;34m,\u001b[0m\u001b[0;34m(\u001b[0m\u001b[0mint\u001b[0m\u001b[0;34m,\u001b[0m\u001b[0mfloat\u001b[0m\u001b[0;34m)\u001b[0m\u001b[0;34m)\u001b[0m \u001b[0;32melse\u001b[0m \u001b[0mi\u001b[0m \u001b[0;32mfor\u001b[0m \u001b[0mi\u001b[0m  \u001b[0;32min\u001b[0m \u001b[0ml1\u001b[0m\u001b[0;34m)\u001b[0m\u001b[0;34m\u001b[0m\u001b[0m\n\u001b[0;32m----> 2\u001b[0;31m \u001b[0mlen\u001b[0m\u001b[0;34m(\u001b[0m\u001b[0mres\u001b[0m\u001b[0;34m)\u001b[0m\u001b[0;34m\u001b[0m\u001b[0m\n\u001b[0m",
      "\u001b[0;31mTypeError\u001b[0m: object of type 'generator' has no len()"
     ]
    }
   ],
   "source": [
    "res = (i+10 if isinstance(i,(int,float)) else i for i  in l1)\n",
    "len(res)"
   ]
  },
  {
   "cell_type": "code",
   "execution_count": 16,
   "metadata": {},
   "outputs": [
    {
     "name": "stdout",
     "output_type": "stream",
     "text": [
      "11\n",
      "12\n",
      "the value changed\n",
      "13\n",
      "14\n",
      "r2\n"
     ]
    }
   ],
   "source": [
    "res = (i+10 if isinstance(i,(int,float)) else i for i  in l1)\n",
    "j=0\n",
    "for i in res:\n",
    "    if j==2:\n",
    "        print \"the value changed\"\n",
    "    else:\n",
    "        print i\n",
    "    j=j+1"
   ]
  },
  {
   "cell_type": "code",
   "execution_count": 17,
   "metadata": {},
   "outputs": [
    {
     "name": "stdout",
     "output_type": "stream",
     "text": [
      "11\n",
      "12\n",
      "the value changed\n",
      "13\n",
      "the value changed\n",
      "r2\n"
     ]
    }
   ],
   "source": [
    "res = (i+10 if isinstance(i,(int,float)) else i for i  in l1)\n",
    "j=0\n",
    "for i in res:\n",
    "    if j in [2,4]:\n",
    "        print \"the value changed\"\n",
    "    else:\n",
    "        print i\n",
    "    j=j+1"
   ]
  },
  {
   "cell_type": "code",
   "execution_count": 18,
   "metadata": {},
   "outputs": [
    {
     "name": "stdout",
     "output_type": "stream",
     "text": [
      "11\n",
      "12\n",
      "r1\n",
      "13\n",
      "14\n",
      "r2\n"
     ]
    }
   ],
   "source": [
    "res = (i+10 if isinstance(i,(int,float)) else i for i  in l1)\n",
    "for i in res:\n",
    "    print i"
   ]
  },
  {
   "cell_type": "code",
   "execution_count": 19,
   "metadata": {
    "collapsed": true
   },
   "outputs": [],
   "source": [
    "for i in res:\n",
    "    print i"
   ]
  },
  {
   "cell_type": "code",
   "execution_count": 20,
   "metadata": {
    "collapsed": true
   },
   "outputs": [],
   "source": [
    "res=range(100)"
   ]
  },
  {
   "cell_type": "code",
   "execution_count": 21,
   "metadata": {},
   "outputs": [
    {
     "ename": "MemoryError",
     "evalue": "",
     "output_type": "error",
     "traceback": [
      "\u001b[0;31m---------------------------------------------------------------------------\u001b[0m",
      "\u001b[0;31mMemoryError\u001b[0m                               Traceback (most recent call last)",
      "\u001b[0;32m<ipython-input-21-6ae615420b7e>\u001b[0m in \u001b[0;36m<module>\u001b[0;34m()\u001b[0m\n\u001b[0;32m----> 1\u001b[0;31m \u001b[0mres\u001b[0m\u001b[0;34m=\u001b[0m\u001b[0mrange\u001b[0m\u001b[0;34m(\u001b[0m\u001b[0;36m1320000000\u001b[0m\u001b[0;34m)\u001b[0m\u001b[0;34m\u001b[0m\u001b[0m\n\u001b[0m",
      "\u001b[0;31mMemoryError\u001b[0m: "
     ]
    }
   ],
   "source": [
    "res=range(1320000000)"
   ]
  },
  {
   "cell_type": "code",
   "execution_count": 22,
   "metadata": {},
   "outputs": [
    {
     "name": "stdout",
     "output_type": "stream",
     "text": [
      "{1: 2, 3: 4, 5: 6}\n",
      "{'k3': 'v3', 'k2': 'v2', 'k1': 'v1'}\n"
     ]
    }
   ],
   "source": [
    "a={1:2,3:4,5:6}\n",
    "a1=dict([(\"k1\",\"v1\"),(\"k2\",\"v2\"),(\"k3\",\"v3\")])\n",
    "print a\n",
    "print a1"
   ]
  },
  {
   "cell_type": "code",
   "execution_count": 23,
   "metadata": {},
   "outputs": [
    {
     "name": "stdout",
     "output_type": "stream",
     "text": [
      "{1: 2, 3: 4, 5: 6}\n",
      "{'k3': 'v3', 'k2': 'v2', 'k1': 'v1'}\n",
      "xrange(10)\n",
      "<generator object <genexpr> at 0x7ffb6843ff00>\n"
     ]
    }
   ],
   "source": [
    "a={1:2,3:4,5:6}\n",
    "a1=dict([(\"k1\",\"v1\"),(\"k2\",\"v2\"),(\"k3\",\"v3\")])\n",
    "print a\n",
    "print a1\n",
    "keys=xrange(10)\n",
    "values=(i**2 for i in keys)\n",
    "print keys\n",
    "print values\n"
   ]
  },
  {
   "cell_type": "code",
   "execution_count": 25,
   "metadata": {},
   "outputs": [
    {
     "name": "stdout",
     "output_type": "stream",
     "text": [
      "{1: 2, 3: 4, 5: 6}\n",
      "{'k3': 'v3', 'k2': 'v2', 'k1': 'v1'}\n",
      "xrange(10)\n",
      "<generator object <genexpr> at 0x7ffb6843feb0>\n",
      "{0: 0, 1: 1, 2: 4, 3: 9, 4: 16, 5: 25, 6: 36, 7: 49, 8: 64, 9: 81}\n"
     ]
    }
   ],
   "source": [
    "a={1:2,3:4,5:6}\n",
    "a1=dict([(\"k1\",\"v1\"),(\"k2\",\"v2\"),(\"k3\",\"v3\")])\n",
    "print a\n",
    "print a1\n",
    "keys=xrange(10)\n",
    "values=(i**2 for i in keys)\n",
    "print keys\n",
    "print values\n",
    "d={} #d=dict()\n",
    "for k,v in zip(keys,values):\n",
    "    d.update({k:v})\n",
    "print d"
   ]
  },
  {
   "cell_type": "code",
   "execution_count": 26,
   "metadata": {},
   "outputs": [
    {
     "name": "stdout",
     "output_type": "stream",
     "text": [
      "{1: 2, 3: 4, 5: 6}\n",
      "{'k3': 'v3', 'k2': 'v2', 'k1': 'v1'}\n",
      "xrange(10)\n",
      "<generator object <genexpr> at 0x7ffb6843ff50>\n",
      "{0: 0, 1: 1, 2: 4, 3: 9, 4: 16, 5: 25, 6: 36, 7: 49, 8: 64, 9: 81}\n"
     ]
    }
   ],
   "source": [
    "a={1:2,3:4,5:6}\n",
    "a1=dict([(\"k1\",\"v1\"),(\"k2\",\"v2\"),(\"k3\",\"v3\")])\n",
    "print a\n",
    "print a1\n",
    "keys=xrange(10)\n",
    "values=(i**2 for i in keys)\n",
    "print keys\n",
    "print values\n",
    "'''\n",
    "d={} #d=dict()\n",
    "for k,v in zip(keys,values):\n",
    "    d.update({k:v})\n",
    "'''\n",
    "print {k:v for k,v in zip(keys,values)}\n"
   ]
  },
  {
   "cell_type": "code",
   "execution_count": 27,
   "metadata": {},
   "outputs": [
    {
     "name": "stdout",
     "output_type": "stream",
     "text": [
      "1522289886.78\n"
     ]
    }
   ],
   "source": [
    "import time\n",
    "start=time.time()\n",
    "print start"
   ]
  },
  {
   "cell_type": "code",
   "execution_count": 28,
   "metadata": {},
   "outputs": [
    {
     "name": "stdout",
     "output_type": "stream",
     "text": [
      "1522289902.94\n"
     ]
    }
   ],
   "source": [
    "import time\n",
    "start=time.time()\n",
    "print start"
   ]
  },
  {
   "cell_type": "code",
   "execution_count": 30,
   "metadata": {},
   "outputs": [
    {
     "name": "stdout",
     "output_type": "stream",
     "text": [
      "0.00177407264709\n"
     ]
    }
   ],
   "source": [
    "import time\n",
    "start=time.time()\n",
    "res = []\n",
    "for i in xrange(10000):\n",
    "    res.append(i+10)\n",
    "end=time.time()\n",
    "print end-start"
   ]
  },
  {
   "cell_type": "code",
   "execution_count": 31,
   "metadata": {},
   "outputs": [
    {
     "name": "stdout",
     "output_type": "stream",
     "text": [
      "0.00483703613281\n"
     ]
    }
   ],
   "source": [
    "import time\n",
    "start=time.time()\n",
    "res =[i+10 for i in xrange(10000)]\n",
    "end=time.time()\n",
    "print end-start"
   ]
  },
  {
   "cell_type": "code",
   "execution_count": 32,
   "metadata": {},
   "outputs": [
    {
     "name": "stdout",
     "output_type": "stream",
     "text": [
      "0.269083976746\n"
     ]
    }
   ],
   "source": [
    "import time\n",
    "start=time.time()\n",
    "res = []\n",
    "for i in xrange(1000000):\n",
    "    res.append(i+10)\n",
    "end=time.time()\n",
    "print end-start"
   ]
  },
  {
   "cell_type": "code",
   "execution_count": 33,
   "metadata": {},
   "outputs": [
    {
     "name": "stdout",
     "output_type": "stream",
     "text": [
      "0.170356035233\n"
     ]
    }
   ],
   "source": [
    "import time\n",
    "start=time.time()\n",
    "res =[i+10 for i in xrange(1000000)]\n",
    "end=time.time()\n",
    "print end-start"
   ]
  },
  {
   "cell_type": "code",
   "execution_count": 34,
   "metadata": {},
   "outputs": [
    {
     "name": "stdout",
     "output_type": "stream",
     "text": [
      "0.0246880054474\n"
     ]
    }
   ],
   "source": [
    "import time\n",
    "start=time.time()\n",
    "res =(i+10 for i in xrange(1000000))\n",
    "end=time.time()\n",
    "print end-start"
   ]
  },
  {
   "cell_type": "code",
   "execution_count": 35,
   "metadata": {},
   "outputs": [
    {
     "name": "stdout",
     "output_type": "stream",
     "text": [
      "[1, 2, 3, 4, 5]\n"
     ]
    }
   ],
   "source": [
    "l1=[1,2,3,4]\n",
    "print l1+[5]"
   ]
  },
  {
   "cell_type": "code",
   "execution_count": 36,
   "metadata": {},
   "outputs": [
    {
     "name": "stdout",
     "output_type": "stream",
     "text": [
      "[1, 2, 3, 4, 5]\n"
     ]
    }
   ],
   "source": [
    "l1=[1,2,3,4]\n",
    "l1.append(5)\n",
    "print l1"
   ]
  },
  {
   "cell_type": "code",
   "execution_count": null,
   "metadata": {
    "collapsed": true
   },
   "outputs": [],
   "source": [
    "# observe 35 aqnd 36 celss what is the difference"
   ]
  }
 ],
 "metadata": {
  "kernelspec": {
   "display_name": "Python 2",
   "language": "python",
   "name": "python2"
  },
  "language_info": {
   "codemirror_mode": {
    "name": "ipython",
    "version": 2
   },
   "file_extension": ".py",
   "mimetype": "text/x-python",
   "name": "python",
   "nbconvert_exporter": "python",
   "pygments_lexer": "ipython2",
   "version": "2.7.14"
  }
 },
 "nbformat": 4,
 "nbformat_minor": 2
}
