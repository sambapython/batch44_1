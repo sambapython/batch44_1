{
 "cells": [
  {
   "cell_type": "code",
   "execution_count": 2,
   "metadata": {},
   "outputs": [
    {
     "name": "stdout",
     "output_type": "stream",
     "text": [
      "('Anil kumar', 23, 'ad1')\n"
     ]
    }
   ],
   "source": [
    "class Emp:\n",
    "    company_name=\"Khyaathi\"\n",
    "    company_address = \"Maithrivanam\"\n",
    "    def set_emp(self, name,age,address):\n",
    "        self.name=name\n",
    "        self.age=age\n",
    "        self.address=address\n",
    "    def get(self):\n",
    "        return self.name, self.age, self.address\n",
    "anil=Emp()\n",
    "anil.set_emp(\"Anil kumar\",23,\"ad1\")\n",
    "print anil.get()\n"
   ]
  },
  {
   "cell_type": "code",
   "execution_count": 3,
   "metadata": {},
   "outputs": [
    {
     "name": "stdout",
     "output_type": "stream",
     "text": [
      "2000\n"
     ]
    }
   ],
   "source": [
    "class c1:\n",
    "    global a1\n",
    "    a1=2000\n",
    "print a1"
   ]
  },
  {
   "cell_type": "code",
   "execution_count": 4,
   "metadata": {},
   "outputs": [
    {
     "name": "stdout",
     "output_type": "stream",
     "text": [
      "('Anil kumar', 23, 'ad1')\n"
     ]
    },
    {
     "ename": "AttributeError",
     "evalue": "Emp instance has no attribute 'name'",
     "output_type": "error",
     "traceback": [
      "\u001b[0;31m---------------------------------------------------------------------------\u001b[0m",
      "\u001b[0;31mAttributeError\u001b[0m                            Traceback (most recent call last)",
      "\u001b[0;32m<ipython-input-4-f232586b26d6>\u001b[0m in \u001b[0;36m<module>\u001b[0;34m()\u001b[0m\n\u001b[1;32m     12\u001b[0m \u001b[0;32mprint\u001b[0m \u001b[0manil\u001b[0m\u001b[0;34m.\u001b[0m\u001b[0mget\u001b[0m\u001b[0;34m(\u001b[0m\u001b[0;34m)\u001b[0m\u001b[0;34m\u001b[0m\u001b[0m\n\u001b[1;32m     13\u001b[0m \u001b[0mjay\u001b[0m\u001b[0;34m=\u001b[0m\u001b[0mEmp\u001b[0m\u001b[0;34m(\u001b[0m\u001b[0;34m)\u001b[0m\u001b[0;34m\u001b[0m\u001b[0m\n\u001b[0;32m---> 14\u001b[0;31m \u001b[0;32mprint\u001b[0m \u001b[0mjay\u001b[0m\u001b[0;34m.\u001b[0m\u001b[0mget\u001b[0m\u001b[0;34m(\u001b[0m\u001b[0;34m)\u001b[0m\u001b[0;34m\u001b[0m\u001b[0m\n\u001b[0m",
      "\u001b[0;32m<ipython-input-4-f232586b26d6>\u001b[0m in \u001b[0;36mget\u001b[0;34m(self)\u001b[0m\n\u001b[1;32m      7\u001b[0m         \u001b[0mself\u001b[0m\u001b[0;34m.\u001b[0m\u001b[0maddress\u001b[0m\u001b[0;34m=\u001b[0m\u001b[0maddress\u001b[0m\u001b[0;34m\u001b[0m\u001b[0m\n\u001b[1;32m      8\u001b[0m     \u001b[0;32mdef\u001b[0m \u001b[0mget\u001b[0m\u001b[0;34m(\u001b[0m\u001b[0mself\u001b[0m\u001b[0;34m)\u001b[0m\u001b[0;34m:\u001b[0m\u001b[0;34m\u001b[0m\u001b[0m\n\u001b[0;32m----> 9\u001b[0;31m         \u001b[0;32mreturn\u001b[0m \u001b[0mself\u001b[0m\u001b[0;34m.\u001b[0m\u001b[0mname\u001b[0m\u001b[0;34m,\u001b[0m \u001b[0mself\u001b[0m\u001b[0;34m.\u001b[0m\u001b[0mage\u001b[0m\u001b[0;34m,\u001b[0m \u001b[0mself\u001b[0m\u001b[0;34m.\u001b[0m\u001b[0maddress\u001b[0m\u001b[0;34m\u001b[0m\u001b[0m\n\u001b[0m\u001b[1;32m     10\u001b[0m \u001b[0manil\u001b[0m\u001b[0;34m=\u001b[0m\u001b[0mEmp\u001b[0m\u001b[0;34m(\u001b[0m\u001b[0;34m)\u001b[0m\u001b[0;34m\u001b[0m\u001b[0m\n\u001b[1;32m     11\u001b[0m \u001b[0manil\u001b[0m\u001b[0;34m.\u001b[0m\u001b[0mset_emp\u001b[0m\u001b[0;34m(\u001b[0m\u001b[0;34m\"Anil kumar\"\u001b[0m\u001b[0;34m,\u001b[0m\u001b[0;36m23\u001b[0m\u001b[0;34m,\u001b[0m\u001b[0;34m\"ad1\"\u001b[0m\u001b[0;34m)\u001b[0m\u001b[0;34m\u001b[0m\u001b[0m\n",
      "\u001b[0;31mAttributeError\u001b[0m: Emp instance has no attribute 'name'"
     ]
    }
   ],
   "source": [
    "class Emp:\n",
    "    company_name=\"Khyaathi\"\n",
    "    company_address = \"Maithrivanam\"\n",
    "    def set_emp(self, name,age,address):\n",
    "        self.name=name\n",
    "        self.age=age\n",
    "        self.address=address\n",
    "    def get(self):\n",
    "        return self.name, self.age, self.address\n",
    "anil=Emp()\n",
    "anil.set_emp(\"Anil kumar\",23,\"ad1\")\n",
    "print anil.get()\n",
    "jay=Emp()\n",
    "print jay.get()"
   ]
  },
  {
   "cell_type": "code",
   "execution_count": 5,
   "metadata": {},
   "outputs": [
    {
     "name": "stdout",
     "output_type": "stream",
     "text": [
      "this is constructor\n"
     ]
    }
   ],
   "source": [
    "# constructor concept\n",
    "\n",
    "class Emp:\n",
    "    def __init__(self):\n",
    "        print \"this is constructor\"\n",
    "    def get(self):\n",
    "        print \"this is get method\"\n",
    "anil=Emp()"
   ]
  },
  {
   "cell_type": "code",
   "execution_count": 6,
   "metadata": {},
   "outputs": [
    {
     "ename": "TypeError",
     "evalue": "__init__() takes exactly 4 arguments (1 given)",
     "output_type": "error",
     "traceback": [
      "\u001b[0;31m---------------------------------------------------------------------------\u001b[0m",
      "\u001b[0;31mTypeError\u001b[0m                                 Traceback (most recent call last)",
      "\u001b[0;32m<ipython-input-6-3998902f6b1f>\u001b[0m in \u001b[0;36m<module>\u001b[0;34m()\u001b[0m\n\u001b[1;32m     18\u001b[0m \u001b[0mobj\u001b[0m\u001b[0;34m.\u001b[0m\u001b[0m__init__\u001b[0m\u001b[0;34m(\u001b[0m\u001b[0;34m)\u001b[0m\u001b[0;34m\u001b[0m\u001b[0m\n\u001b[1;32m     19\u001b[0m \"\"\"\n\u001b[0;32m---> 20\u001b[0;31m \u001b[0manil\u001b[0m\u001b[0;34m=\u001b[0m\u001b[0mEmp\u001b[0m\u001b[0;34m(\u001b[0m\u001b[0;34m)\u001b[0m\u001b[0;34m\u001b[0m\u001b[0m\n\u001b[0m",
      "\u001b[0;31mTypeError\u001b[0m: __init__() takes exactly 4 arguments (1 given)"
     ]
    }
   ],
   "source": [
    "# constructor concept\n",
    "\n",
    "class Emp:\n",
    "    company_name=\"Khyaathi\"\n",
    "    company_address = \"Maithrivanam\"\n",
    "    def __init__(self,name,age,ad):\n",
    "        print \"this is constructor\"\n",
    "        self.name=name\n",
    "        self.age=age\n",
    "        self.address=ad\n",
    "    def get(self):\n",
    "        print \"this is get method\"\n",
    "        return self.name, self.age,self.address\n",
    "# it will call a method __new__: this __new__ method creates a dataobject and return it.\n",
    "#By taking that dataobject, the constructor gets call with the data object\n",
    "\"\"\"\n",
    "obj=__new__()\n",
    "obj.__init__()\n",
    "\"\"\"\n",
    "anil=Emp()\n"
   ]
  },
  {
   "cell_type": "code",
   "execution_count": 7,
   "metadata": {},
   "outputs": [
    {
     "name": "stdout",
     "output_type": "stream",
     "text": [
      "this is constructor\n",
      "this is get method\n",
      "('Anil kunar', 23, 'ad1')\n"
     ]
    }
   ],
   "source": [
    "# constructor concept\n",
    "\n",
    "class Emp:\n",
    "    company_name=\"Khyaathi\"\n",
    "    company_address = \"Maithrivanam\"\n",
    "    def __init__(self,name,age,ad):\n",
    "        print \"this is constructor\"\n",
    "        self.name=name\n",
    "        self.age=age\n",
    "        self.address=ad\n",
    "    def get(self):\n",
    "        print \"this is get method\"\n",
    "        return self.name, self.age,self.address\n",
    "# it will call a method __new__: this __new__ method creates a dataobject and return it.\n",
    "#By taking that dataobject, the constructor gets call with the data object\n",
    "\"\"\"\n",
    "obj=__new__()\n",
    "obj.__init__()\n",
    "\"\"\"\n",
    "anil=Emp(\"Anil kunar\",23,\"ad1\")\n",
    "print anil.get()"
   ]
  },
  {
   "cell_type": "code",
   "execution_count": 8,
   "metadata": {},
   "outputs": [
    {
     "name": "stdout",
     "output_type": "stream",
     "text": [
      "this is constructor\n",
      "this is get method\n",
      "('Anil kunar', 23, 'ad1')\n"
     ]
    },
    {
     "ename": "TypeError",
     "evalue": "__init__() takes exactly 4 arguments (1 given)",
     "output_type": "error",
     "traceback": [
      "\u001b[0;31m---------------------------------------------------------------------------\u001b[0m",
      "\u001b[0;31mTypeError\u001b[0m                                 Traceback (most recent call last)",
      "\u001b[0;32m<ipython-input-8-c6fd4d2ce563>\u001b[0m in \u001b[0;36m<module>\u001b[0;34m()\u001b[0m\n\u001b[1;32m     20\u001b[0m \u001b[0manil\u001b[0m\u001b[0;34m=\u001b[0m\u001b[0mEmp\u001b[0m\u001b[0;34m(\u001b[0m\u001b[0;34m\"Anil kunar\"\u001b[0m\u001b[0;34m,\u001b[0m\u001b[0;36m23\u001b[0m\u001b[0;34m,\u001b[0m\u001b[0;34m\"ad1\"\u001b[0m\u001b[0;34m)\u001b[0m\u001b[0;34m\u001b[0m\u001b[0m\n\u001b[1;32m     21\u001b[0m \u001b[0;32mprint\u001b[0m \u001b[0manil\u001b[0m\u001b[0;34m.\u001b[0m\u001b[0mget\u001b[0m\u001b[0;34m(\u001b[0m\u001b[0;34m)\u001b[0m\u001b[0;34m\u001b[0m\u001b[0m\n\u001b[0;32m---> 22\u001b[0;31m \u001b[0mjay\u001b[0m\u001b[0;34m=\u001b[0m\u001b[0mEmp\u001b[0m\u001b[0;34m(\u001b[0m\u001b[0;34m)\u001b[0m\u001b[0;34m\u001b[0m\u001b[0m\n\u001b[0m",
      "\u001b[0;31mTypeError\u001b[0m: __init__() takes exactly 4 arguments (1 given)"
     ]
    }
   ],
   "source": [
    "# constructor concept\n",
    "\n",
    "class Emp:\n",
    "    company_name=\"Khyaathi\"\n",
    "    company_address = \"Maithrivanam\"\n",
    "    def __init__(self,name,age,ad):\n",
    "        print \"this is constructor\"\n",
    "        self.name=name\n",
    "        self.age=age\n",
    "        self.address=ad\n",
    "    def get(self):\n",
    "        print \"this is get method\"\n",
    "        return self.name, self.age,self.address\n",
    "# it will call a method __new__: this __new__ method creates a dataobject and return it.\n",
    "#By taking that dataobject, the constructor gets call with the data object\n",
    "\"\"\"\n",
    "obj=__new__()\n",
    "obj.__init__()\n",
    "\"\"\"\n",
    "anil=Emp(\"Anil kunar\",23,\"ad1\")\n",
    "print anil.get()\n",
    "jay=Emp()"
   ]
  },
  {
   "cell_type": "code",
   "execution_count": 9,
   "metadata": {},
   "outputs": [
    {
     "name": "stdout",
     "output_type": "stream",
     "text": [
      "this is constructor\n",
      "this is get method\n",
      "('Anil kunar', 23, 'ad1')\n",
      "this is constructor\n",
      "this is get method\n",
      "('Jayaram', 24, 'ad2')\n"
     ]
    }
   ],
   "source": [
    "# constructor concept\n",
    "\n",
    "class Emp:\n",
    "    company_name=\"Khyaathi\"\n",
    "    company_address = \"Maithrivanam\"\n",
    "    def __init__(self,name,age,ad):\n",
    "        print \"this is constructor\"\n",
    "        self.name=name\n",
    "        self.age=age\n",
    "        self.address=ad\n",
    "    def get(self):\n",
    "        print \"this is get method\"\n",
    "        return self.name, self.age,self.address\n",
    "# it will call a method __new__: this __new__ method creates a dataobject and return it.\n",
    "#By taking that dataobject, the constructor gets call with the data object\n",
    "\"\"\"\n",
    "obj=__new__()\n",
    "obj.__init__()\n",
    "\"\"\"\n",
    "anil=Emp(\"Anil kunar\",23,\"ad1\")\n",
    "print anil.get()\n",
    "jay=Emp(\"Jayaram\",24,\"ad2\")\n",
    "print jay.get()"
   ]
  },
  {
   "cell_type": "code",
   "execution_count": 10,
   "metadata": {},
   "outputs": [
    {
     "name": "stdout",
     "output_type": "stream",
     "text": [
      "this is class\n",
      "creating instances\n",
      "this is constructor\n",
      "this is constructor\n",
      "this is constructor\n"
     ]
    }
   ],
   "source": [
    "class Emp:\n",
    "    print \"this is class\"\n",
    "    def __init__(self):\n",
    "        print \"this is constructor\"\n",
    "print \"creating instances\"\n",
    "o1=Emp()\n",
    "o2=Emp()\n",
    "o3=Emp()"
   ]
  },
  {
   "cell_type": "code",
   "execution_count": 11,
   "metadata": {},
   "outputs": [
    {
     "name": "stdout",
     "output_type": "stream",
     "text": [
      "this is class\n",
      "creating instances\n"
     ]
    },
    {
     "ename": "TypeError",
     "evalue": "__init__() takes exactly 1 argument (2 given)",
     "output_type": "error",
     "traceback": [
      "\u001b[0;31m---------------------------------------------------------------------------\u001b[0m",
      "\u001b[0;31mTypeError\u001b[0m                                 Traceback (most recent call last)",
      "\u001b[0;32m<ipython-input-11-baf89d0e18c2>\u001b[0m in \u001b[0;36m<module>\u001b[0;34m()\u001b[0m\n\u001b[1;32m      4\u001b[0m         \u001b[0;32mprint\u001b[0m \u001b[0;34m\"this is constructor\"\u001b[0m\u001b[0;34m\u001b[0m\u001b[0m\n\u001b[1;32m      5\u001b[0m \u001b[0;32mprint\u001b[0m \u001b[0;34m\"creating instances\"\u001b[0m\u001b[0;34m\u001b[0m\u001b[0m\n\u001b[0;32m----> 6\u001b[0;31m \u001b[0mo1\u001b[0m\u001b[0;34m=\u001b[0m\u001b[0mEmp\u001b[0m\u001b[0;34m(\u001b[0m\u001b[0;34m\"anil kumar\"\u001b[0m\u001b[0;34m)\u001b[0m\u001b[0;34m\u001b[0m\u001b[0m\n\u001b[0m\u001b[1;32m      7\u001b[0m \u001b[0mo2\u001b[0m\u001b[0;34m=\u001b[0m\u001b[0mEmp\u001b[0m\u001b[0;34m(\u001b[0m\u001b[0;34m)\u001b[0m\u001b[0;34m\u001b[0m\u001b[0m\n\u001b[1;32m      8\u001b[0m \u001b[0mo3\u001b[0m\u001b[0;34m=\u001b[0m\u001b[0mEmp\u001b[0m\u001b[0;34m(\u001b[0m\u001b[0;34m)\u001b[0m\u001b[0;34m\u001b[0m\u001b[0m\n",
      "\u001b[0;31mTypeError\u001b[0m: __init__() takes exactly 1 argument (2 given)"
     ]
    }
   ],
   "source": [
    "class Emp:\n",
    "    print \"this is class\"\n",
    "    def __init__(self):\n",
    "        print \"this is constructor\"\n",
    "print \"creating instances\"\n",
    "o1=Emp(\"anil kumar\")\n",
    "o2=Emp()\n",
    "o3=Emp()"
   ]
  },
  {
   "cell_type": "code",
   "execution_count": 12,
   "metadata": {},
   "outputs": [
    {
     "name": "stdout",
     "output_type": "stream",
     "text": [
      "this is class\n",
      "creating instances\n"
     ]
    },
    {
     "ename": "TypeError",
     "evalue": "this constructor takes no arguments",
     "output_type": "error",
     "traceback": [
      "\u001b[0;31m---------------------------------------------------------------------------\u001b[0m",
      "\u001b[0;31mTypeError\u001b[0m                                 Traceback (most recent call last)",
      "\u001b[0;32m<ipython-input-12-4d462b39bbbb>\u001b[0m in \u001b[0;36m<module>\u001b[0;34m()\u001b[0m\n\u001b[1;32m      2\u001b[0m     \u001b[0;32mprint\u001b[0m \u001b[0;34m\"this is class\"\u001b[0m\u001b[0;34m\u001b[0m\u001b[0m\n\u001b[1;32m      3\u001b[0m \u001b[0;32mprint\u001b[0m \u001b[0;34m\"creating instances\"\u001b[0m\u001b[0;34m\u001b[0m\u001b[0m\n\u001b[0;32m----> 4\u001b[0;31m \u001b[0mo1\u001b[0m\u001b[0;34m=\u001b[0m\u001b[0mEmp\u001b[0m\u001b[0;34m(\u001b[0m\u001b[0;34m\"anil kumar\"\u001b[0m\u001b[0;34m)\u001b[0m\u001b[0;34m\u001b[0m\u001b[0m\n\u001b[0m\u001b[1;32m      5\u001b[0m \u001b[0mo2\u001b[0m\u001b[0;34m=\u001b[0m\u001b[0mEmp\u001b[0m\u001b[0;34m(\u001b[0m\u001b[0;34m)\u001b[0m\u001b[0;34m\u001b[0m\u001b[0m\n\u001b[1;32m      6\u001b[0m \u001b[0mo3\u001b[0m\u001b[0;34m=\u001b[0m\u001b[0mEmp\u001b[0m\u001b[0;34m(\u001b[0m\u001b[0;34m)\u001b[0m\u001b[0;34m\u001b[0m\u001b[0m\n",
      "\u001b[0;31mTypeError\u001b[0m: this constructor takes no arguments"
     ]
    }
   ],
   "source": [
    "class Emp:\n",
    "    print \"this is class\"\n",
    "    \n",
    "print \"creating instances\"\n",
    "o1=Emp(\"anil kumar\")\n",
    "o2=Emp()\n",
    "o3=Emp()"
   ]
  },
  {
   "cell_type": "code",
   "execution_count": 14,
   "metadata": {},
   "outputs": [
    {
     "name": "stdout",
     "output_type": "stream",
     "text": [
      "this is class\n",
      "creating instances\n"
     ]
    }
   ],
   "source": [
    "class Emp:\n",
    "    print \"this is class\"\n",
    "    \n",
    "print \"creating instances\"\n",
    "o1=Emp()\n",
    "o2=Emp()\n",
    "o3=Emp()"
   ]
  },
  {
   "cell_type": "code",
   "execution_count": 16,
   "metadata": {},
   "outputs": [
    {
     "name": "stdout",
     "output_type": "stream",
     "text": [
      "o1= <__main__.Emp instance at 0x7fccac408518>\n",
      "Emp= __main__.Emp\n",
      "this is an instance method\n",
      "self= <__main__.Emp instance at 0x7fccac408518>\n",
      "this is class method\n",
      "self= __main__.Emp\n"
     ]
    },
    {
     "ename": "TypeError",
     "evalue": "sta() takes exactly 1 argument (0 given)",
     "output_type": "error",
     "traceback": [
      "\u001b[0;31m---------------------------------------------------------------------------\u001b[0m",
      "\u001b[0;31mTypeError\u001b[0m                                 Traceback (most recent call last)",
      "\u001b[0;32m<ipython-input-16-e5ceb182eb14>\u001b[0m in \u001b[0;36m<module>\u001b[0;34m()\u001b[0m\n\u001b[1;32m     21\u001b[0m \u001b[0mo1\u001b[0m\u001b[0;34m.\u001b[0m\u001b[0mget\u001b[0m\u001b[0;34m(\u001b[0m\u001b[0;34m)\u001b[0m\u001b[0;34m\u001b[0m\u001b[0m\n\u001b[1;32m     22\u001b[0m \u001b[0mo1\u001b[0m\u001b[0;34m.\u001b[0m\u001b[0mclm\u001b[0m\u001b[0;34m(\u001b[0m\u001b[0;34m)\u001b[0m\u001b[0;34m\u001b[0m\u001b[0m\n\u001b[0;32m---> 23\u001b[0;31m \u001b[0mo1\u001b[0m\u001b[0;34m.\u001b[0m\u001b[0msta\u001b[0m\u001b[0;34m(\u001b[0m\u001b[0;34m)\u001b[0m\u001b[0;34m\u001b[0m\u001b[0m\n\u001b[0m",
      "\u001b[0;31mTypeError\u001b[0m: sta() takes exactly 1 argument (0 given)"
     ]
    }
   ],
   "source": [
    "# class method, instance method, static method\n",
    "class Emp:\n",
    "    company=\"Khyaathi\"\n",
    "    def __init__(self, name, age):\n",
    "        self.name=name\n",
    "        self.age=age\n",
    "        \n",
    "    def get(self):\n",
    "        print \"this is an instance method\"\n",
    "        print \"self=\",self\n",
    "        \n",
    "    @classmethod\n",
    "    def clm(self):\n",
    "        print \"this is class method\"\n",
    "        print \"self=\",self\n",
    "        \n",
    "    @staticmethod\n",
    "    def sta(self):\n",
    "        print \"this is static method\"\n",
    "        print \"self=\",self\n",
    "        \n",
    "o1=Emp(\"Anil kumar\",23)\n",
    "print \"o1=\",o1\n",
    "print \"Emp=\",Emp\n",
    "# data object o1 pass as a first argument internally\n",
    "o1.get()\n",
    "# class object Emp pass as a first argument internally\n",
    "o1.clm()\n",
    "# nothing going to pass as a first argument internally\n",
    "o1.sta()"
   ]
  },
  {
   "cell_type": "code",
   "execution_count": 17,
   "metadata": {},
   "outputs": [
    {
     "name": "stdout",
     "output_type": "stream",
     "text": [
      "o1= <__main__.Emp instance at 0x7fccac408758>\n",
      "Emp= __main__.Emp\n",
      "this is an instance method\n",
      "self= <__main__.Emp instance at 0x7fccac408758>\n",
      "this is class method\n",
      "self= __main__.Emp\n",
      "this is static method\n",
      "self= 10\n"
     ]
    }
   ],
   "source": [
    "# class method, instance method, static method\n",
    "class Emp:\n",
    "    company=\"Khyaathi\"\n",
    "    def __init__(self, name, age):\n",
    "        self.name=name\n",
    "        self.age=age\n",
    "        \n",
    "    def get(self):\n",
    "        print \"this is an instance method\"\n",
    "        print \"self=\",self\n",
    "        \n",
    "    @classmethod\n",
    "    def clm(self):\n",
    "        print \"this is class method\"\n",
    "        print \"self=\",self\n",
    "        \n",
    "    @staticmethod\n",
    "    def sta(self):\n",
    "        print \"this is static method\"\n",
    "        print \"self=\",self\n",
    "        \n",
    "o1=Emp(\"Anil kumar\",23)\n",
    "print \"o1=\",o1\n",
    "print \"Emp=\",Emp\n",
    "# data object o1 pass as a first argument internally\n",
    "o1.get()\n",
    "# class object Emp pass as a first argument internally\n",
    "o1.clm()\n",
    "# nothing going to pass as a first argument internally\n",
    "o1.sta(10)"
   ]
  },
  {
   "cell_type": "code",
   "execution_count": 20,
   "metadata": {},
   "outputs": [
    {
     "name": "stdout",
     "output_type": "stream",
     "text": [
      " o1= <__main__.Emp instance at 0x7fccac408ea8>\n",
      "Emp= __main__.Emp\n",
      "this is an instance method\n",
      "self= <__main__.Emp instance at 0x7fccac408ea8>\n",
      "this is class method\n",
      "cls= __main__.Emp\n",
      "this is static method\n",
      "a= 10 b= 20\n"
     ]
    }
   ],
   "source": [
    "# class method, instance method, static method\n",
    "class Emp:\n",
    "    company=\"Khyaathi\"\n",
    "    def __init__(self, name, age):\n",
    "        self.name=name\n",
    "        self.age=age\n",
    "        \n",
    "    def get(self):\n",
    "        print \"this is an instance method\"\n",
    "        print \"self=\",self\n",
    "        \n",
    "    @classmethod\n",
    "    def clm(cls):\n",
    "        print \"this is class method\"\n",
    "        print \"cls=\",cls\n",
    "        \n",
    "    @staticmethod\n",
    "    def sta(a,b):\n",
    "        print \"this is static method\"\n",
    "        print \"a=\",a,\"b=\",b\n",
    "        \n",
    "o1=Emp(\"Anil kumar\",23)\n",
    "print \"o1=\",o1\n",
    "print \"Emp=\",Emp\n",
    "# data object o1 pass as a first argument internally\n",
    "o1.get()\n",
    "# class object Emp pass as a first argument internally\n",
    "o1.clm()\n",
    "# nothing going to pass as a first argument internally\n",
    "o1.sta(10,20)"
   ]
  },
  {
   "cell_type": "code",
   "execution_count": 21,
   "metadata": {},
   "outputs": [
    {
     "name": "stdout",
     "output_type": "stream",
     "text": [
      "this is class method\n",
      "cls= __main__.Emp\n"
     ]
    }
   ],
   "source": [
    "# class method, instance method, static method\n",
    "class Emp:\n",
    "    company=\"Khyaathi\"\n",
    "    def __init__(self, name, age):\n",
    "        self.name=name\n",
    "        self.age=age\n",
    "        \n",
    "    def get(self):\n",
    "        print \"this is an instance method\"\n",
    "        print \"self=\",self\n",
    "        \n",
    "    @classmethod\n",
    "    def clm(cls):\n",
    "        print \"this is class method\"\n",
    "        print \"cls=\",cls\n",
    "        \n",
    "    @staticmethod\n",
    "    def sta(a,b):\n",
    "        print \"this is static method\"\n",
    "        print \"self=\",self\n",
    "Emp.clm()"
   ]
  },
  {
   "cell_type": "code",
   "execution_count": 23,
   "metadata": {},
   "outputs": [
    {
     "name": "stdout",
     "output_type": "stream",
     "text": [
      " this is class method\n",
      "cls= __main__.Emp\n",
      "this is static method\n",
      "a= 10 b= 20\n"
     ]
    }
   ],
   "source": [
    "# class method, instance method, static method\n",
    "class Emp:\n",
    "    company=\"Khyaathi\"\n",
    "    def __init__(self, name, age):\n",
    "        self.name=name\n",
    "        self.age=age\n",
    "        \n",
    "    def get(self):\n",
    "        print \"this is an instance method\"\n",
    "        print \"self=\",self\n",
    "        \n",
    "    @classmethod\n",
    "    def clm(cls):\n",
    "        print \"this is class method\"\n",
    "        print \"cls=\",cls\n",
    "        \n",
    "    @staticmethod\n",
    "    def sta(a,b):\n",
    "        print \"this is static method\"\n",
    "        print \"a=\",a,\"b=\",b\n",
    "Emp.clm()\n",
    "Emp.sta(10,20)"
   ]
  },
  {
   "cell_type": "code",
   "execution_count": 26,
   "metadata": {},
   "outputs": [
    {
     "name": "stdout",
     "output_type": "stream",
     "text": [
      "('Anil', 23, 'Khyaathi')\n",
      "Khyaathi\n"
     ]
    }
   ],
   "source": [
    "# class method, instance method, static method\n",
    "class Emp:\n",
    "    company=\"Khyaathi\"\n",
    "    def __init__(self, name, age):\n",
    "        self.name=name\n",
    "        self.age=age\n",
    "        \n",
    "    def get(self):\n",
    "        return self.name,self.age,self.company\n",
    "    @classmethod\n",
    "    def get_company(cls):\n",
    "        return cls.company\n",
    "o1=Emp(\"Anil\",23)\n",
    "print o1.get()\n",
    "print o1.get_company()"
   ]
  },
  {
   "cell_type": "code",
   "execution_count": 27,
   "metadata": {},
   "outputs": [
    {
     "name": "stdout",
     "output_type": "stream",
     "text": [
      "('Anil', 23, 'Khyaathi')\n"
     ]
    },
    {
     "ename": "AttributeError",
     "evalue": "class Emp has no attribute 'name'",
     "output_type": "error",
     "traceback": [
      "\u001b[0;31m---------------------------------------------------------------------------\u001b[0m",
      "\u001b[0;31mAttributeError\u001b[0m                            Traceback (most recent call last)",
      "\u001b[0;32m<ipython-input-27-e92bfce24312>\u001b[0m in \u001b[0;36m<module>\u001b[0;34m()\u001b[0m\n\u001b[1;32m     13\u001b[0m \u001b[0mo1\u001b[0m\u001b[0;34m=\u001b[0m\u001b[0mEmp\u001b[0m\u001b[0;34m(\u001b[0m\u001b[0;34m\"Anil\"\u001b[0m\u001b[0;34m,\u001b[0m\u001b[0;36m23\u001b[0m\u001b[0;34m)\u001b[0m\u001b[0;34m\u001b[0m\u001b[0m\n\u001b[1;32m     14\u001b[0m \u001b[0;32mprint\u001b[0m \u001b[0mo1\u001b[0m\u001b[0;34m.\u001b[0m\u001b[0mget\u001b[0m\u001b[0;34m(\u001b[0m\u001b[0;34m)\u001b[0m\u001b[0;34m\u001b[0m\u001b[0m\n\u001b[0;32m---> 15\u001b[0;31m \u001b[0;32mprint\u001b[0m \u001b[0mo1\u001b[0m\u001b[0;34m.\u001b[0m\u001b[0mget_company\u001b[0m\u001b[0;34m(\u001b[0m\u001b[0;34m)\u001b[0m\u001b[0;34m\u001b[0m\u001b[0m\n\u001b[0m",
      "\u001b[0;32m<ipython-input-27-e92bfce24312>\u001b[0m in \u001b[0;36mget_company\u001b[0;34m(cls)\u001b[0m\n\u001b[1;32m     10\u001b[0m     \u001b[0;34m@\u001b[0m\u001b[0mclassmethod\u001b[0m\u001b[0;34m\u001b[0m\u001b[0m\n\u001b[1;32m     11\u001b[0m     \u001b[0;32mdef\u001b[0m \u001b[0mget_company\u001b[0m\u001b[0;34m(\u001b[0m\u001b[0mcls\u001b[0m\u001b[0;34m)\u001b[0m\u001b[0;34m:\u001b[0m\u001b[0;34m\u001b[0m\u001b[0m\n\u001b[0;32m---> 12\u001b[0;31m         \u001b[0;32mreturn\u001b[0m \u001b[0mcls\u001b[0m\u001b[0;34m.\u001b[0m\u001b[0mcompany\u001b[0m\u001b[0;34m,\u001b[0m \u001b[0mcls\u001b[0m\u001b[0;34m.\u001b[0m\u001b[0mname\u001b[0m\u001b[0;34m\u001b[0m\u001b[0m\n\u001b[0m\u001b[1;32m     13\u001b[0m \u001b[0mo1\u001b[0m\u001b[0;34m=\u001b[0m\u001b[0mEmp\u001b[0m\u001b[0;34m(\u001b[0m\u001b[0;34m\"Anil\"\u001b[0m\u001b[0;34m,\u001b[0m\u001b[0;36m23\u001b[0m\u001b[0;34m)\u001b[0m\u001b[0;34m\u001b[0m\u001b[0m\n\u001b[1;32m     14\u001b[0m \u001b[0;32mprint\u001b[0m \u001b[0mo1\u001b[0m\u001b[0;34m.\u001b[0m\u001b[0mget\u001b[0m\u001b[0;34m(\u001b[0m\u001b[0;34m)\u001b[0m\u001b[0;34m\u001b[0m\u001b[0m\n",
      "\u001b[0;31mAttributeError\u001b[0m: class Emp has no attribute 'name'"
     ]
    }
   ],
   "source": [
    "# class method, instance method, static method\n",
    "class Emp:\n",
    "    company=\"Khyaathi\"\n",
    "    def __init__(self, name, age):\n",
    "        self.name=name\n",
    "        self.age=age\n",
    "        \n",
    "    def get(self):\n",
    "        return self.name,self.age,self.company\n",
    "    @classmethod\n",
    "    def get_company(cls):\n",
    "        return cls.company, cls.name\n",
    "o1=Emp(\"Anil\",23)\n",
    "print o1.get()\n",
    "print o1.get_company()"
   ]
  },
  {
   "cell_type": "code",
   "execution_count": null,
   "metadata": {
    "collapsed": true
   },
   "outputs": [],
   "source": []
  }
 ],
 "metadata": {
  "kernelspec": {
   "display_name": "Python 2",
   "language": "python",
   "name": "python2"
  },
  "language_info": {
   "codemirror_mode": {
    "name": "ipython",
    "version": 2
   },
   "file_extension": ".py",
   "mimetype": "text/x-python",
   "name": "python",
   "nbconvert_exporter": "python",
   "pygments_lexer": "ipython2",
   "version": "2.7.14"
  }
 },
 "nbformat": 4,
 "nbformat_minor": 2
}
