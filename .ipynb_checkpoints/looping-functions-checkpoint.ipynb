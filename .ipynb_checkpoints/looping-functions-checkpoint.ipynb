{
 "cells": [
  {
   "cell_type": "code",
   "execution_count": 1,
   "metadata": {},
   "outputs": [
    {
     "name": "stdout",
     "output_type": "stream",
     "text": [
      "Enter a number:12\n",
      "this is even\n"
     ]
    }
   ],
   "source": [
    "a=raw_input(\"Enter a number:\")\n",
    "a=int(a)\n",
    "if a%2==0:\n",
    "    print \"this is even\"\n",
    "else:\n",
    "    print \"odd\""
   ]
  },
  {
   "cell_type": "code",
   "execution_count": 2,
   "metadata": {},
   "outputs": [
    {
     "name": "stdout",
     "output_type": "stream",
     "text": [
      "Enter a number:7\n",
      "[2, 3, 4, 5, 6]\n"
     ]
    }
   ],
   "source": [
    "\"\"\"\n",
    "7\n",
    "(1,7) 2,6\n",
    "\"\"\"\n",
    "a=raw_input(\"Enter a number:\")\n",
    "a=int(a)\n",
    "print range(2,7)"
   ]
  },
  {
   "cell_type": "code",
   "execution_count": 3,
   "metadata": {},
   "outputs": [
    {
     "name": "stdout",
     "output_type": "stream",
     "text": [
      "Enter a number:10\n",
      "[2, 3, 4, 5, 6, 7, 8, 9]\n"
     ]
    }
   ],
   "source": [
    "\"\"\"\n",
    "7\n",
    "(1,7) 2,6\n",
    "\"\"\"\n",
    "a=raw_input(\"Enter a number:\")\n",
    "a=int(a)\n",
    "print range(2,a)"
   ]
  },
  {
   "cell_type": "code",
   "execution_count": 4,
   "metadata": {},
   "outputs": [
    {
     "name": "stdout",
     "output_type": "stream",
     "text": [
      "Enter a number:29\n",
      "[2, 3, 4, 5, 6, 7, 8, 9, 10, 11, 12, 13, 14, 15, 16, 17, 18, 19, 20, 21, 22, 23, 24, 25, 26, 27, 28]\n"
     ]
    }
   ],
   "source": [
    "\"\"\"\n",
    "7\n",
    "(1,7) 2,6\n",
    "\"\"\"\n",
    "a=raw_input(\"Enter a number:\")\n",
    "a=int(a)\n",
    "print range(2,a)"
   ]
  },
  {
   "cell_type": "code",
   "execution_count": 5,
   "metadata": {},
   "outputs": [
    {
     "name": "stdout",
     "output_type": "stream",
     "text": [
      "Enter a number:10\n",
      "not a prime number\n"
     ]
    }
   ],
   "source": [
    "a=raw_input(\"Enter a number:\")\n",
    "a=int(a)\n",
    "for i in range(2,a):\n",
    "    if a%i==0:\n",
    "        print \"not a prime number\"\n",
    "        break\n",
    "    else:\n",
    "        print \"prime number\""
   ]
  },
  {
   "cell_type": "code",
   "execution_count": 6,
   "metadata": {},
   "outputs": [
    {
     "name": "stdout",
     "output_type": "stream",
     "text": [
      "Enter a number:25\n",
      "prime number\n",
      "prime number\n",
      "prime number\n",
      "not a prime number\n"
     ]
    }
   ],
   "source": [
    "a=raw_input(\"Enter a number:\")\n",
    "a=int(a)\n",
    "for i in range(2,a):\n",
    "    if a%i==0:\n",
    "        print \"not a prime number\"\n",
    "        break\n",
    "    else:\n",
    "        print \"prime number\""
   ]
  },
  {
   "cell_type": "code",
   "execution_count": 7,
   "metadata": {},
   "outputs": [
    {
     "name": "stdout",
     "output_type": "stream",
     "text": [
      "2\n"
     ]
    }
   ],
   "source": [
    "s=\"python program\"\n",
    "p_count=0\n",
    "for i in s:\n",
    "    if i==\"p\":\n",
    "        p_count=p_count+1\n",
    "print p_count"
   ]
  },
  {
   "cell_type": "code",
   "execution_count": 8,
   "metadata": {},
   "outputs": [
    {
     "name": "stdout",
     "output_type": "stream",
     "text": [
      "11\n"
     ]
    }
   ],
   "source": [
    "# 16\n",
    "fact_count=0\n",
    "for i in range(1,17):\n",
    "    if 16%i:\n",
    "        fact_count = fact_count+1\n",
    "print fact_count\n",
    "    "
   ]
  },
  {
   "cell_type": "code",
   "execution_count": 9,
   "metadata": {},
   "outputs": [
    {
     "name": "stdout",
     "output_type": "stream",
     "text": [
      "11\n"
     ]
    }
   ],
   "source": [
    "# 16\n",
    "fact_count=0\n",
    "for i in range(2,16):\n",
    "    if 16%i:\n",
    "        fact_count = fact_count+1\n",
    "print fact_count\n",
    "    "
   ]
  },
  {
   "cell_type": "code",
   "execution_count": 10,
   "metadata": {},
   "outputs": [
    {
     "name": "stdout",
     "output_type": "stream",
     "text": [
      "Find p in 2 times\n"
     ]
    }
   ],
   "source": [
    "s=\"python program\"\n",
    "p_count=0\n",
    "for i in s:\n",
    "    if i==\"p\":\n",
    "        p_count=p_count+1\n",
    "if p_count==0:\n",
    "    print \"did not find p\"\n",
    "else:\n",
    "    print \"Find p in %s times\"%p_count\n",
    "    "
   ]
  },
  {
   "cell_type": "code",
   "execution_count": 11,
   "metadata": {},
   "outputs": [
    {
     "name": "stdout",
     "output_type": "stream",
     "text": [
      "Enter a number:12\n",
      "it's not a prime number\n"
     ]
    }
   ],
   "source": [
    "a=raw_input(\"Enter a number:\")\n",
    "a=int(a)\n",
    "fact = 0\n",
    "for i in range(2,a):\n",
    "    if a%i==0:\n",
    "        fact = fact+1\n",
    "if fact==0:\n",
    "    print \"It's a prime number\"\n",
    "else:\n",
    "    print \"it's not a prime number\""
   ]
  },
  {
   "cell_type": "code",
   "execution_count": 12,
   "metadata": {},
   "outputs": [
    {
     "name": "stdout",
     "output_type": "stream",
     "text": [
      "Enter a number:23\n",
      "It's a prime number\n"
     ]
    }
   ],
   "source": [
    "a=raw_input(\"Enter a number:\")\n",
    "a=int(a)\n",
    "fact = 0\n",
    "for i in range(2,a):\n",
    "    if a%i==0:\n",
    "        fact = fact+1\n",
    "if fact==0:\n",
    "    print \"It's a prime number\"\n",
    "else:\n",
    "    print \"it's not a prime number\""
   ]
  },
  {
   "cell_type": "code",
   "execution_count": 13,
   "metadata": {},
   "outputs": [
    {
     "name": "stdout",
     "output_type": "stream",
     "text": [
      "Enter a number:234567654327\n"
     ]
    },
    {
     "ename": "MemoryError",
     "evalue": "",
     "output_type": "error",
     "traceback": [
      "\u001b[0;31m---------------------------------------------------------------------------\u001b[0m",
      "\u001b[0;31mMemoryError\u001b[0m                               Traceback (most recent call last)",
      "\u001b[0;32m<ipython-input-13-eb7c1846fce2>\u001b[0m in \u001b[0;36m<module>\u001b[0;34m()\u001b[0m\n\u001b[1;32m      2\u001b[0m \u001b[0ma\u001b[0m\u001b[0;34m=\u001b[0m\u001b[0mint\u001b[0m\u001b[0;34m(\u001b[0m\u001b[0ma\u001b[0m\u001b[0;34m)\u001b[0m\u001b[0;34m\u001b[0m\u001b[0m\n\u001b[1;32m      3\u001b[0m \u001b[0mfact\u001b[0m \u001b[0;34m=\u001b[0m \u001b[0;36m0\u001b[0m\u001b[0;34m\u001b[0m\u001b[0m\n\u001b[0;32m----> 4\u001b[0;31m \u001b[0;32mfor\u001b[0m \u001b[0mi\u001b[0m \u001b[0;32min\u001b[0m \u001b[0mrange\u001b[0m\u001b[0;34m(\u001b[0m\u001b[0;36m2\u001b[0m\u001b[0;34m,\u001b[0m\u001b[0ma\u001b[0m\u001b[0;34m)\u001b[0m\u001b[0;34m:\u001b[0m\u001b[0;34m\u001b[0m\u001b[0m\n\u001b[0m\u001b[1;32m      5\u001b[0m     \u001b[0;32mif\u001b[0m \u001b[0ma\u001b[0m\u001b[0;34m%\u001b[0m\u001b[0mi\u001b[0m\u001b[0;34m==\u001b[0m\u001b[0;36m0\u001b[0m\u001b[0;34m:\u001b[0m\u001b[0;34m\u001b[0m\u001b[0m\n\u001b[1;32m      6\u001b[0m         \u001b[0mfact\u001b[0m \u001b[0;34m=\u001b[0m \u001b[0mfact\u001b[0m\u001b[0;34m+\u001b[0m\u001b[0;36m1\u001b[0m\u001b[0;34m\u001b[0m\u001b[0m\n",
      "\u001b[0;31mMemoryError\u001b[0m: "
     ]
    }
   ],
   "source": [
    "a=raw_input(\"Enter a number:\")\n",
    "a=int(a)\n",
    "fact = 0\n",
    "for i in range(2,a):\n",
    "    if a%i==0:\n",
    "        fact = fact+1\n",
    "if fact==0:\n",
    "    print \"It's a prime number\"\n",
    "else:\n",
    "    print \"it's not a prime number\""
   ]
  },
  {
   "cell_type": "code",
   "execution_count": 1,
   "metadata": {},
   "outputs": [
    {
     "name": "stdout",
     "output_type": "stream",
     "text": [
      "Enter a number:203\n",
      "it's not a prime number\n"
     ]
    }
   ],
   "source": [
    "a=raw_input(\"Enter a number:\")\n",
    "a=int(a)\n",
    "fact = 0\n",
    "for i in xrange(2,a):\n",
    "    if a%i==0:\n",
    "        fact = fact+1\n",
    "if fact==0:\n",
    "    print \"It's a prime number\"\n",
    "else:\n",
    "    print \"it's not a prime number\""
   ]
  },
  {
   "cell_type": "code",
   "execution_count": 2,
   "metadata": {},
   "outputs": [
    {
     "name": "stdout",
     "output_type": "stream",
     "text": [
      "Enter a number:12\n",
      "2\n",
      "3\n",
      "4\n",
      "5\n",
      "6\n",
      "7\n",
      "8\n",
      "9\n",
      "10\n",
      "11\n",
      "it's not a prime number\n"
     ]
    }
   ],
   "source": [
    "a=raw_input(\"Enter a number:\")\n",
    "a=int(a)\n",
    "fact = 0\n",
    "for i in xrange(2,a):\n",
    "    print i\n",
    "    if a%i==0:\n",
    "        fact = fact+1\n",
    "if fact==0:\n",
    "    print \"It's a prime number\"\n",
    "else:\n",
    "    print \"it's not a prime number\""
   ]
  },
  {
   "cell_type": "code",
   "execution_count": 3,
   "metadata": {},
   "outputs": [
    {
     "name": "stdout",
     "output_type": "stream",
     "text": [
      "Enter a number:25\n",
      "2\n",
      "3\n",
      "4\n",
      "5\n",
      "6\n",
      "7\n",
      "8\n",
      "9\n",
      "10\n",
      "11\n",
      "12\n",
      "13\n",
      "14\n",
      "15\n",
      "16\n",
      "17\n",
      "18\n",
      "19\n",
      "20\n",
      "21\n",
      "22\n",
      "23\n",
      "24\n",
      "it's not a prime number\n"
     ]
    }
   ],
   "source": [
    "a=raw_input(\"Enter a number:\")\n",
    "a=int(a)\n",
    "fact = 0\n",
    "for i in xrange(2,a):\n",
    "    print i\n",
    "    if a%i==0:\n",
    "        fact = fact+1\n",
    "if fact==0:\n",
    "    print \"It's a prime number\"\n",
    "else:\n",
    "    print \"it's not a prime number\""
   ]
  },
  {
   "cell_type": "code",
   "execution_count": null,
   "metadata": {
    "collapsed": true
   },
   "outputs": [],
   "source": []
  }
 ],
 "metadata": {
  "kernelspec": {
   "display_name": "Python 2",
   "language": "python",
   "name": "python2"
  },
  "language_info": {
   "codemirror_mode": {
    "name": "ipython",
    "version": 2
   },
   "file_extension": ".py",
   "mimetype": "text/x-python",
   "name": "python",
   "nbconvert_exporter": "python",
   "pygments_lexer": "ipython2",
   "version": "2.7.14"
  }
 },
 "nbformat": 4,
 "nbformat_minor": 2
}
