{
 "cells": [
  {
   "cell_type": "code",
   "execution_count": 1,
   "metadata": {
    "collapsed": true
   },
   "outputs": [],
   "source": [
    "a=10"
   ]
  },
  {
   "cell_type": "code",
   "execution_count": 2,
   "metadata": {},
   "outputs": [
    {
     "name": "stdout",
     "output_type": "stream",
     "text": [
      "python\n"
     ]
    }
   ],
   "source": [
    "print \"python\""
   ]
  },
  {
   "cell_type": "code",
   "execution_count": 3,
   "metadata": {},
   "outputs": [
    {
     "name": "stdout",
     "output_type": "stream",
     "text": [
      "10\n"
     ]
    }
   ],
   "source": [
    "print a"
   ]
  },
  {
   "cell_type": "code",
   "execution_count": 4,
   "metadata": {
    "collapsed": true
   },
   "outputs": [],
   "source": [
    "a=1000"
   ]
  },
  {
   "cell_type": "code",
   "execution_count": 5,
   "metadata": {},
   "outputs": [
    {
     "name": "stdout",
     "output_type": "stream",
     "text": [
      "1000\n"
     ]
    }
   ],
   "source": [
    "print a"
   ]
  },
  {
   "cell_type": "code",
   "execution_count": 6,
   "metadata": {},
   "outputs": [
    {
     "name": "stdout",
     "output_type": "stream",
     "text": [
      "st1\n",
      "st2\n",
      "st3\n",
      "st4\n",
      "st5\n",
      "st6\n"
     ]
    }
   ],
   "source": [
    "print \"st1\"\n",
    "print \"st2\"\n",
    "print \"st3\"\n",
    "print \"st4\"\n",
    "print \"st5\"\n",
    "print \"st6\"\n"
   ]
  },
  {
   "cell_type": "code",
   "execution_count": 7,
   "metadata": {},
   "outputs": [
    {
     "name": "stdout",
     "output_type": "stream",
     "text": [
      "a is big\n",
      "b is big\n"
     ]
    }
   ],
   "source": [
    "a=100\n",
    "b=200\n",
    "print \"a is big\"\n",
    "print \"b is big\""
   ]
  },
  {
   "cell_type": "code",
   "execution_count": 8,
   "metadata": {},
   "outputs": [
    {
     "name": "stdout",
     "output_type": "stream",
     "text": [
      "300\n",
      "-100\n",
      "20000\n"
     ]
    }
   ],
   "source": [
    "c=a+b\n",
    "d=a-b\n",
    "e=a*b\n",
    "print c\n",
    "print d\n",
    "print e"
   ]
  },
  {
   "cell_type": "code",
   "execution_count": 9,
   "metadata": {},
   "outputs": [
    {
     "name": "stdout",
     "output_type": "stream",
     "text": [
      "b is big\n"
     ]
    }
   ],
   "source": [
    "a=100\n",
    "b=200\n",
    "if a>b:\n",
    "    print \"a is big\"\n",
    "else:\n",
    "    print \"b is big\""
   ]
  },
  {
   "cell_type": "code",
   "execution_count": 10,
   "metadata": {},
   "outputs": [
    {
     "name": "stdout",
     "output_type": "stream",
     "text": [
      "a is big\n"
     ]
    }
   ],
   "source": [
    "a=1000\n",
    "b=200\n",
    "if a>b:\n",
    "    print \"a is big\"\n",
    "else:\n",
    "    print \"b is big\""
   ]
  },
  {
   "cell_type": "code",
   "execution_count": 11,
   "metadata": {},
   "outputs": [
    {
     "name": "stdout",
     "output_type": "stream",
     "text": [
      "st1\n",
      "st2\n",
      "st3\n",
      "st4\n",
      "st5\n",
      "st6\n"
     ]
    }
   ],
   "source": [
    "#looping, while, for, else break continue \n",
    "print \"st1\"\n",
    "print \"st2\"\n",
    "print \"st3\"\n",
    "print \"st4\"\n",
    "print \"st5\"\n",
    "print \"st6\"\n"
   ]
  },
  {
   "cell_type": "code",
   "execution_count": 12,
   "metadata": {},
   "outputs": [
    {
     "name": "stdout",
     "output_type": "stream",
     "text": [
      "st1\n",
      "st2\n",
      "st3\n",
      "st4\n",
      "st5\n",
      "st6\n"
     ]
    }
   ],
   "source": [
    "for i in range(1,200):\n",
    "    print \"st%\"%i"
   ]
  },
  {
   "cell_type": "code",
   "execution_count": 15,
   "metadata": {},
   "outputs": [
    {
     "name": "stdout",
     "output_type": "stream",
     "text": [
      "program started\n",
      "a=10, b=20\n",
      "res= 30\n",
      "some statment\n",
      "a=100, b=200\n",
      "res= 300\n",
      "some more statements\n",
      "a=1000, b=2000\n",
      "res= 3000\n",
      "some other more statements\n",
      "a=10000, b=20000\n",
      "res= 30000\n",
      "other statements in prorgram\n",
      "program ended\n"
     ]
    }
   ],
   "source": [
    "# function\n",
    "print \"program started\"\n",
    "a=10\n",
    "b=20\n",
    "print \"a=%s, b=%s\"%(a,b)\n",
    "res=a+b\n",
    "print \"res=\",res\n",
    "print \"some statment\"\n",
    "a=100\n",
    "b=200\n",
    "print \"a=%s, b=%s\"%(a,b)\n",
    "res=a+b\n",
    "print \"res=\",res\n",
    "print \"some more statements\"\n",
    "a=1000\n",
    "b=2000\n",
    "print \"a=%s, b=%s\"%(a,b)\n",
    "res=a+b\n",
    "print \"res=\",res\n",
    "print \"some other more statements\"\n",
    "a=10000\n",
    "b=20000\n",
    "print \"a=%s, b=%s\"%(a,b)\n",
    "res=a+b\n",
    "print \"res=\",res\n",
    "print \"other statements in prorgram\"\n",
    "print \"program ended\""
   ]
  },
  {
   "cell_type": "code",
   "execution_count": 16,
   "metadata": {},
   "outputs": [
    {
     "name": "stdout",
     "output_type": "stream",
     "text": [
      "program started\n",
      "a=10, b=20\n",
      "res= 30\n",
      "some statment\n",
      "a=100, b=200\n",
      "res= 300\n",
      "some more statements\n",
      "a=1000, b=2000\n",
      "res= 3000\n",
      "some other more statements\n",
      "a=10000, b=20000\n",
      "res= 30000\n",
      "other statements in prorgram\n",
      "program ended\n"
     ]
    }
   ],
   "source": [
    "# function\n",
    "def fun(a,b):\n",
    "    print \"a=%s, b=%s\"%(a,b)\n",
    "    res=a+b\n",
    "    print \"res=\",res\n",
    "print \"program started\"\n",
    "fun(10,20)\n",
    "print \"some statment\"\n",
    "fun(100,200)\n",
    "print \"some more statements\"\n",
    "fun(1000,2000)\n",
    "print \"some other more statements\"\n",
    "fun(10000,20000)\n",
    "print \"other statements in prorgram\"\n",
    "print \"program ended\""
   ]
  },
  {
   "cell_type": "code",
   "execution_count": 1,
   "metadata": {},
   "outputs": [
    {
     "name": "stdout",
     "output_type": "stream",
     "text": [
      "program started\n",
      "a=10, b=20\n",
      "summation= 30\n",
      "some statment\n",
      "a=100, b=200\n",
      "summation= 300\n",
      "some more statements\n",
      "a=1000, b=2000\n",
      "summation= 3000\n",
      "some other more statements\n",
      "a=10000, b=20000\n",
      "summation= 30000\n",
      "other statements in prorgram\n",
      "program ended\n"
     ]
    }
   ],
   "source": [
    "# function\n",
    "print \"program started\"\n",
    "a=10\n",
    "b=20\n",
    "print \"a=%s, b=%s\"%(a,b)\n",
    "res=a+b\n",
    "print \"summation=\",res\n",
    "print \"some statment\"\n",
    "a=100\n",
    "b=200\n",
    "print \"a=%s, b=%s\"%(a,b)\n",
    "res=a+b\n",
    "print \"summation=\",res\n",
    "print \"some more statements\"\n",
    "a=1000\n",
    "b=2000\n",
    "print \"a=%s, b=%s\"%(a,b)\n",
    "res=a+b\n",
    "print \"summation=\",res\n",
    "print \"some other more statements\"\n",
    "a=10000\n",
    "b=20000\n",
    "print \"a=%s, b=%s\"%(a,b)\n",
    "res=a+b\n",
    "print \"summation=\",res\n",
    "print \"other statements in prorgram\"\n",
    "print \"program ended\""
   ]
  },
  {
   "cell_type": "code",
   "execution_count": 2,
   "metadata": {},
   "outputs": [
    {
     "name": "stdout",
     "output_type": "stream",
     "text": [
      "program started\n",
      "a=10, b=20\n",
      "summation= 30\n",
      "some statment\n",
      "a=100, b=200\n",
      "summation= 300\n",
      "some more statements\n",
      "a=1000, b=2000\n",
      "summation= 3000\n",
      "some other more statements\n",
      "a=10000, b=20000\n",
      "summation= 30000\n",
      "other statements in prorgram\n",
      "program ended\n"
     ]
    }
   ],
   "source": [
    "# function\n",
    "def fun(a,b):\n",
    "    print \"a=%s, b=%s\"%(a,b)\n",
    "    res=a+b\n",
    "    print \"summation=\",res\n",
    "print \"program started\"\n",
    "fun(10,20)\n",
    "print \"some statment\"\n",
    "fun(100,200)\n",
    "print \"some more statements\"\n",
    "fun(1000,2000)\n",
    "print \"some other more statements\"\n",
    "fun(10000,20000)\n",
    "print \"other statements in prorgram\"\n",
    "print \"program ended\""
   ]
  },
  {
   "cell_type": "code",
   "execution_count": 3,
   "metadata": {},
   "outputs": [
    {
     "data": {
      "image/png": "[encoded data removed]",
      "text/plain": [
       "<matplotlib.figure.Figure at 0x7fc1b43d0050>"
      ]
     },
     "metadata": {},
     "output_type": "display_data"
    }
   ],
   "source": [
    "import matplotlib.pyplot as plt\n",
    "plt.plot([1,2,3,4],[-3,67,-6,78])\n",
    "plt.show()"
   ]
  },
  {
   "cell_type": "code",
   "execution_count": 4,
   "metadata": {},
   "outputs": [
    {
     "name": "stdout",
     "output_type": "stream",
     "text": [
      "program started\n",
      "a=10, b=20\n",
      "summation= 30\n",
      "some statment\n",
      "a=100, b=200\n",
      "summation= 300\n",
      "some more statements\n",
      "a=1000, b=2000\n",
      "summation= 3000\n",
      "some other more statements\n",
      "a=10000, b=20000\n",
      "summation= 30000\n",
      "other statements in prorgram\n",
      "program ended\n"
     ]
    }
   ],
   "source": [
    "# function\n",
    "def fun(a,b):\n",
    "    print \"a=%s, b=%s\"%(a,b)\n",
    "    res=a+b\n",
    "    print \"summation=\",res\n",
    "print \"program started\"\n",
    "fun(10,20)\n",
    "print \"some statment\"\n",
    "fun(100,200)\n",
    "print \"some more statements\"\n",
    "fun(1000,2000)\n",
    "print \"some other more statements\"\n",
    "fun(10000,20000)\n",
    "print \"other statements in prorgram\"\n",
    "print \"program ended\""
   ]
  },
  {
   "cell_type": "code",
   "execution_count": 5,
   "metadata": {},
   "outputs": [
    {
     "name": "stdout",
     "output_type": "stream",
     "text": [
      "program started\n",
      "0\n",
      "program ended\n"
     ]
    }
   ],
   "source": [
    "print \"program started\"\n",
    "a=10\n",
    "b=20\n",
    "print a/b\n",
    "print \"program ended\""
   ]
  },
  {
   "cell_type": "code",
   "execution_count": 6,
   "metadata": {},
   "outputs": [
    {
     "name": "stdout",
     "output_type": "stream",
     "text": [
      "program started\n"
     ]
    },
    {
     "ename": "ZeroDivisionError",
     "evalue": "integer division or modulo by zero",
     "output_type": "error",
     "traceback": [
      "\u001b[0;31m---------------------------------------------------------------------------\u001b[0m",
      "\u001b[0;31mZeroDivisionError\u001b[0m                         Traceback (most recent call last)",
      "\u001b[0;32m<ipython-input-6-8d0d6f337981>\u001b[0m in \u001b[0;36m<module>\u001b[0;34m()\u001b[0m\n\u001b[1;32m      2\u001b[0m \u001b[0ma\u001b[0m\u001b[0;34m=\u001b[0m\u001b[0;36m10\u001b[0m\u001b[0;34m\u001b[0m\u001b[0m\n\u001b[1;32m      3\u001b[0m \u001b[0mb\u001b[0m\u001b[0;34m=\u001b[0m\u001b[0;36m0\u001b[0m\u001b[0;34m\u001b[0m\u001b[0m\n\u001b[0;32m----> 4\u001b[0;31m \u001b[0;32mprint\u001b[0m \u001b[0ma\u001b[0m\u001b[0;34m/\u001b[0m\u001b[0mb\u001b[0m\u001b[0;34m\u001b[0m\u001b[0m\n\u001b[0m\u001b[1;32m      5\u001b[0m \u001b[0;32mprint\u001b[0m \u001b[0;34m\"program ended\"\u001b[0m\u001b[0;34m\u001b[0m\u001b[0m\n",
      "\u001b[0;31mZeroDivisionError\u001b[0m: integer division or modulo by zero"
     ]
    }
   ],
   "source": [
    "print \"program started\"\n",
    "a=10\n",
    "b=0\n",
    "print a/b\n",
    "print \"program ended\""
   ]
  },
  {
   "cell_type": "code",
   "execution_count": 7,
   "metadata": {},
   "outputs": [
    {
     "name": "stdout",
     "output_type": "stream",
     "text": [
      "program started\n",
      "integer division or modulo by zero\n",
      "program ended\n"
     ]
    }
   ],
   "source": [
    "print \"program started\"\n",
    "a=10\n",
    "b=0\n",
    "try:\n",
    "    print a/b\n",
    "except Exception as err:\n",
    "    print err\n",
    "print \"program ended\""
   ]
  },
  {
   "cell_type": "code",
   "execution_count": 8,
   "metadata": {},
   "outputs": [
    {
     "name": "stdout",
     "output_type": "stream",
     "text": [
      "program started\n",
      "unsupported operand type(s) for /: 'int' and 'tuple'\n",
      "program ended\n"
     ]
    }
   ],
   "source": [
    "print \"program started\"\n",
    "a=10\n",
    "b=0,2345\n",
    "try:\n",
    "    print a/b\n",
    "except Exception as err:\n",
    "    print err\n",
    "print \"program ended\""
   ]
  },
  {
   "cell_type": "code",
   "execution_count": 9,
   "metadata": {},
   "outputs": [
    {
     "ename": "SyntaxError",
     "evalue": "invalid syntax (<ipython-input-9-28ea3b4dc21a>, line 3)",
     "output_type": "error",
     "traceback": [
      "\u001b[0;36m  File \u001b[0;32m\"<ipython-input-9-28ea3b4dc21a>\"\u001b[0;36m, line \u001b[0;32m3\u001b[0m\n\u001b[0;31m    b++\u001b[0m\n\u001b[0m       ^\u001b[0m\n\u001b[0;31mSyntaxError\u001b[0m\u001b[0;31m:\u001b[0m invalid syntax\n"
     ]
    }
   ],
   "source": [
    "print \"program started\"\n",
    "a=10\n",
    "b++\n",
    "try:\n",
    "    print a/b\n",
    "except Exception as err:\n",
    "    print err\n",
    "print \"program ended\""
   ]
  },
  {
   "cell_type": "code",
   "execution_count": 10,
   "metadata": {
    "collapsed": true
   },
   "outputs": [],
   "source": [
    "s=\"12,name1,96754343243\\n12,name2,96754343244\\n12,name3,96754343245\\n12,name4,96754343246\\n\""
   ]
  },
  {
   "cell_type": "code",
   "execution_count": 11,
   "metadata": {},
   "outputs": [
    {
     "name": "stdout",
     "output_type": "stream",
     "text": [
      "12,name1,96754343243\n",
      "12,name2,96754343244\n",
      "12,name3,96754343245\n",
      "12,name4,96754343246\n",
      "\n"
     ]
    }
   ],
   "source": [
    "print s"
   ]
  },
  {
   "cell_type": "code",
   "execution_count": 12,
   "metadata": {},
   "outputs": [
    {
     "name": "stdout",
     "output_type": "stream",
     "text": [
      "96754343243\n",
      "96754343244\n",
      "96754343245\n",
      "96754343246\n",
      "\n"
     ]
    }
   ],
   "source": [
    "for i in s.split(\"\\n\"):\n",
    "    print i.split(\",\")[-1]"
   ]
  },
  {
   "cell_type": "code",
   "execution_count": 15,
   "metadata": {},
   "outputs": [
    {
     "name": "stdout",
     "output_type": "stream",
     "text": [
      "name1\n",
      "name2\n",
      "name3\n",
      "name4\n"
     ]
    }
   ],
   "source": [
    "for i in s.split(\"\\n\"):\n",
    "    if i:\n",
    "        print i.split(\",\")[1]"
   ]
  },
  {
   "cell_type": "code",
   "execution_count": 16,
   "metadata": {},
   "outputs": [
    {
     "name": "stdout",
     "output_type": "stream",
     "text": [
      "12\n",
      "12\n",
      "12\n",
      "12\n"
     ]
    }
   ],
   "source": [
    "for i in s.split(\"\\n\"):\n",
    "    if i:\n",
    "        print i.split(\",\")[0]"
   ]
  },
  {
   "cell_type": "code",
   "execution_count": 18,
   "metadata": {},
   "outputs": [
    {
     "name": "stdout",
     "output_type": "stream",
     "text": [
      "12,name1,96754343243\n",
      "name2,12,96754343244\n",
      "name3,96754343245,12\n",
      "96754343246,12,name4\n",
      "\n"
     ]
    }
   ],
   "source": [
    "s=\"12,name1,96754343243\\nname2,12,96754343244\\nname3,96754343245,12\\n96754343246,12,name4\\n\"\n",
    "print s"
   ]
  },
  {
   "cell_type": "code",
   "execution_count": 19,
   "metadata": {},
   "outputs": [
    {
     "name": "stdout",
     "output_type": "stream",
     "text": [
      "['9675434324', '9675434324', '9675434324', '9675434324']\n"
     ]
    }
   ],
   "source": [
    "import re\n",
    "print re.findall(\"[0-9]{10}\",s)"
   ]
  },
  {
   "cell_type": "code",
   "execution_count": null,
   "metadata": {
    "collapsed": true
   },
   "outputs": [],
   "source": []
  }
 ],
 "metadata": {
  "kernelspec": {
   "display_name": "Python 2",
   "language": "python",
   "name": "python2"
  },
  "language_info": {
   "codemirror_mode": {
    "name": "ipython",
    "version": 2
   },
   "file_extension": ".py",
   "mimetype": "text/x-python",
   "name": "python",
   "nbconvert_exporter": "python",
   "pygments_lexer": "ipython2",
   "version": "2.7.14"
  }
 },
 "nbformat": 4,
 "nbformat_minor": 2
}
