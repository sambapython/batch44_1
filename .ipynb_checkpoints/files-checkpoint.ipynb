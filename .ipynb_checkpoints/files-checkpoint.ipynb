{
 "cells": [
  {
   "cell_type": "code",
   "execution_count": 1,
   "metadata": {
    "collapsed": true
   },
   "outputs": [],
   "source": [
    "f=open(\"data.csv\",\"w\")"
   ]
  },
  {
   "cell_type": "code",
   "execution_count": 2,
   "metadata": {
    "collapsed": true
   },
   "outputs": [],
   "source": [
    "f.write(\"some data\")"
   ]
  },
  {
   "cell_type": "code",
   "execution_count": 3,
   "metadata": {
    "collapsed": true
   },
   "outputs": [],
   "source": [
    "# refresh the buffer using two ways: f.close, f.flush\n",
    "# of you close a file you could not do any operation. If you flush a file you can do some operaions furthur"
   ]
  },
  {
   "cell_type": "code",
   "execution_count": 4,
   "metadata": {
    "collapsed": true
   },
   "outputs": [],
   "source": [
    "f.close()"
   ]
  },
  {
   "cell_type": "code",
   "execution_count": 5,
   "metadata": {},
   "outputs": [
    {
     "ename": "ValueError",
     "evalue": "I/O operation on closed file",
     "output_type": "error",
     "traceback": [
      "\u001b[0;31m---------------------------------------------------------------------------\u001b[0m",
      "\u001b[0;31mValueError\u001b[0m                                Traceback (most recent call last)",
      "\u001b[0;32m<ipython-input-5-d668ee170544>\u001b[0m in \u001b[0;36m<module>\u001b[0;34m()\u001b[0m\n\u001b[0;32m----> 1\u001b[0;31m \u001b[0mf\u001b[0m\u001b[0;34m.\u001b[0m\u001b[0mwrite\u001b[0m\u001b[0;34m(\u001b[0m\u001b[0;34m\"some more data after close\"\u001b[0m\u001b[0;34m)\u001b[0m\u001b[0;34m\u001b[0m\u001b[0m\n\u001b[0m",
      "\u001b[0;31mValueError\u001b[0m: I/O operation on closed file"
     ]
    }
   ],
   "source": [
    "f.write(\"some more data after close\")"
   ]
  },
  {
   "cell_type": "code",
   "execution_count": 6,
   "metadata": {
    "collapsed": true
   },
   "outputs": [],
   "source": [
    "f=open(\"data.csv\",\"w\")"
   ]
  },
  {
   "cell_type": "code",
   "execution_count": 7,
   "metadata": {
    "collapsed": true
   },
   "outputs": [],
   "source": [
    "f=open(\"data.csv\",\"w\")\n",
    "f.write(\"some data\")\n",
    "f.flush()"
   ]
  },
  {
   "cell_type": "code",
   "execution_count": 8,
   "metadata": {
    "collapsed": true
   },
   "outputs": [],
   "source": [
    "f.write(\"data after flush\")"
   ]
  },
  {
   "cell_type": "code",
   "execution_count": 9,
   "metadata": {
    "collapsed": true
   },
   "outputs": [],
   "source": [
    "f.close()"
   ]
  },
  {
   "cell_type": "code",
   "execution_count": 10,
   "metadata": {
    "collapsed": true
   },
   "outputs": [],
   "source": [
    "f=open(\"data.csv\",\"w\")\n",
    "f.write(\"some data\")\n",
    "f.flush()\n",
    "f.write(\"data after flush\")\n",
    "f.close()"
   ]
  },
  {
   "cell_type": "code",
   "execution_count": 11,
   "metadata": {
    "collapsed": true
   },
   "outputs": [],
   "source": [
    "f=open(\"data.csv\",\"a\")\n",
    "f.write(\"\\n content added at append mode\")"
   ]
  },
  {
   "cell_type": "code",
   "execution_count": 12,
   "metadata": {
    "collapsed": true
   },
   "outputs": [],
   "source": [
    "f.close()"
   ]
  },
  {
   "cell_type": "code",
   "execution_count": 13,
   "metadata": {
    "collapsed": true
   },
   "outputs": [],
   "source": [
    "f=open(\"data1.csv\",\"a\")\n",
    "f.write(\"some data\")\n",
    "f.close()"
   ]
  },
  {
   "cell_type": "code",
   "execution_count": 14,
   "metadata": {},
   "outputs": [
    {
     "name": "stdout",
     "output_type": "stream",
     "text": [
      "jayaram,34,60000\n",
      "anil,45,23000\n",
      "jayaram,56,23000\n",
      "Ravi,60,34000\n",
      "Dhanush,34,23000\n",
      "anil,56,45000\n",
      "anil,34,23000\n",
      "Dhanush,60,45000\n",
      "anil,34,23000\n",
      "ramesh,60,34000\n",
      "Ravi,34,34000\n",
      "Ravi,60,23000\n",
      "Dhanush,45,60000\n",
      "ramesh,56,34000\n",
      "Dhanush,45,60000\n",
      "Dhanush,45,60000\n",
      "ramesh,34,23000\n",
      "jayaram,56,45000\n",
      "Ravi,23,45000\n",
      "anil,23,23000\n",
      "anil,23,60000\n",
      "Dhanush,45,45000\n",
      "anil,34,23000\n",
      "ramesh,34,34000\n",
      "ramesh,45,45000\n",
      "ramesh,60,34000\n",
      "Dhanush,34,23000\n",
      "Dhanush,60,23000\n",
      "jayaram,34,23000\n",
      "Dhanush,60,23000\n",
      "anil,56,60000\n",
      "Ravi,23,34000\n",
      "Dhanush,34,60000\n",
      "Ravi,45,34000\n",
      "jayaram,23,34000\n",
      "Ravi,45,60000\n",
      "Dhanush,60,34000\n",
      "anil,60,45000\n",
      "Ravi,60,23000\n",
      "Ravi,34,23000\n",
      "anil,60,34000\n",
      "Dhanush,56,60000\n",
      "anil,45,23000\n",
      "Dhanush,34,60000\n",
      "anil,23,60000\n",
      "jayaram,56,23000\n",
      "Dhanush,56,23000\n",
      "Dhanush,60,23000\n",
      "Ravi,60,34000\n",
      "Ravi,34,45000\n",
      "Ravi,34,45000\n",
      "ramesh,45,45000\n",
      "Ravi,23,45000\n",
      "Ravi,60,34000\n",
      "Dhanush,34,60000\n",
      "jayaram,34,45000\n",
      "Ravi,60,34000\n",
      "ramesh,45,34000\n",
      "Dhanush,60,45000\n",
      "anil,56,60000\n",
      "Ravi,23,23000\n",
      "Dhanush,60,34000\n",
      "jayaram,45,23000\n",
      "jayaram,60,45000\n",
      "Ravi,34,60000\n",
      "anil,56,34000\n",
      "ramesh,60,60000\n",
      "ramesh,45,45000\n",
      "Ravi,60,60000\n",
      "ramesh,56,34000\n",
      "anil,56,34000\n",
      "ramesh,56,60000\n",
      "ramesh,60,23000\n",
      "ramesh,56,34000\n",
      "jayaram,45,60000\n",
      "jayaram,45,23000\n",
      "Ravi,56,60000\n",
      "Ravi,60,45000\n",
      "ramesh,23,23000\n",
      "jayaram,60,60000\n",
      "Dhanush,56,23000\n",
      "anil,34,23000\n",
      "Dhanush,56,45000\n",
      "anil,34,45000\n",
      "ramesh,60,45000\n",
      "jayaram,23,45000\n",
      "Ravi,60,23000\n",
      "jayaram,23,45000\n",
      "ramesh,45,34000\n",
      "ramesh,34,60000\n",
      "Ravi,60,23000\n",
      "jayaram,45,45000\n",
      "anil,23,34000\n",
      "ramesh,60,45000\n",
      "Ravi,45,23000\n",
      "ramesh,23,23000\n",
      "ramesh,34,45000\n",
      "Ravi,60,23000\n",
      "ramesh,45,45000\n",
      "ramesh,34,34000\n"
     ]
    }
   ],
   "source": [
    "import random\n",
    "names=[\"anil\",\"jayaram\",\"Dhanush\",\"ramesh\",\"Ravi\"]\n",
    "ages=[23,45,34,56,60]\n",
    "sals=[23000,34000,45000,60000]\n",
    "for i in range(100):\n",
    "    row= \"%s,%s,%s\"%(random.choice(names),random.choice(ages),random.choice(sals))\n",
    "    print row"
   ]
  },
  {
   "cell_type": "code",
   "execution_count": null,
   "metadata": {
    "collapsed": true
   },
   "outputs": [],
   "source": [
    "import random\n",
    "names=[\"anil\",\"jayaram\",\"Dhanush\",\"ramesh\",\"Ravi\"]\n",
    "ages=[23,45,34,56,60]\n",
    "sals=[23000,34000,45000,60000]\n",
    "for i in range(100):\n",
    "    row= \"%s,%s,%s\"%(random.choice(names),random.choice(ages),random.choice(sals))\n",
    "    f.write(row)\n",
    "f.close()"
   ]
  }
 ],
 "metadata": {
  "kernelspec": {
   "display_name": "Python 2",
   "language": "python",
   "name": "python2"
  },
  "language_info": {
   "codemirror_mode": {
    "name": "ipython",
    "version": 2
   },
   "file_extension": ".py",
   "mimetype": "text/x-python",
   "name": "python",
   "nbconvert_exporter": "python",
   "pygments_lexer": "ipython2",
   "version": "2.7.14"
  }
 },
 "nbformat": 4,
 "nbformat_minor": 2
}
