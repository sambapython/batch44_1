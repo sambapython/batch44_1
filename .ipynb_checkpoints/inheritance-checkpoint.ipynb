{
 "cells": [
  {
   "cell_type": "code",
   "execution_count": 1,
   "metadata": {},
   "outputs": [
    {
     "name": "stdout",
     "output_type": "stream",
     "text": [
      "this is op1 in c1\n"
     ]
    }
   ],
   "source": [
    "# calling the parent class properties in to child class\n",
    "class c1:\n",
    "    def op1(self):\n",
    "        print \"this is op1 in c1\"\n",
    "o1=c1()\n",
    "o1.op1()\n",
    "# this is not an inheritance"
   ]
  },
  {
   "cell_type": "code",
   "execution_count": 2,
   "metadata": {},
   "outputs": [
    {
     "name": "stdout",
     "output_type": "stream",
     "text": [
      "this is op2 in c2\n"
     ]
    }
   ],
   "source": [
    "# calling the parent class properties in to child class\n",
    "class c1:\n",
    "    def op1(self):\n",
    "        print \"this is op1 in c1\"\n",
    "class c2:\n",
    "    def op2(self):\n",
    "        print \"this is op2 in c2\"\n",
    "    def operations(self):\n",
    "        self.op2()\n",
    "o2=c2()\n",
    "o2.operations()\n",
    "# this is not an inheritance"
   ]
  },
  {
   "cell_type": "code",
   "execution_count": 3,
   "metadata": {},
   "outputs": [
    {
     "name": "stdout",
     "output_type": "stream",
     "text": [
      "this is op2 in c2\n"
     ]
    },
    {
     "ename": "AttributeError",
     "evalue": "c2 instance has no attribute 'op1'",
     "output_type": "error",
     "traceback": [
      "\u001b[0;31m---------------------------------------------------------------------------\u001b[0m",
      "\u001b[0;31mAttributeError\u001b[0m                            Traceback (most recent call last)",
      "\u001b[0;32m<ipython-input-3-7815d6805653>\u001b[0m in \u001b[0;36m<module>\u001b[0;34m()\u001b[0m\n\u001b[1;32m     10\u001b[0m         \u001b[0mself\u001b[0m\u001b[0;34m.\u001b[0m\u001b[0mop1\u001b[0m\u001b[0;34m(\u001b[0m\u001b[0;34m)\u001b[0m\u001b[0;34m\u001b[0m\u001b[0m\n\u001b[1;32m     11\u001b[0m \u001b[0mo2\u001b[0m\u001b[0;34m=\u001b[0m\u001b[0mc2\u001b[0m\u001b[0;34m(\u001b[0m\u001b[0;34m)\u001b[0m\u001b[0;34m\u001b[0m\u001b[0m\n\u001b[0;32m---> 12\u001b[0;31m \u001b[0mo2\u001b[0m\u001b[0;34m.\u001b[0m\u001b[0moperations\u001b[0m\u001b[0;34m(\u001b[0m\u001b[0;34m)\u001b[0m\u001b[0;34m\u001b[0m\u001b[0m\n\u001b[0m\u001b[1;32m     13\u001b[0m \u001b[0;31m# this is not an inheritance\u001b[0m\u001b[0;34m\u001b[0m\u001b[0;34m\u001b[0m\u001b[0m\n",
      "\u001b[0;32m<ipython-input-3-7815d6805653>\u001b[0m in \u001b[0;36moperations\u001b[0;34m(self)\u001b[0m\n\u001b[1;32m      8\u001b[0m     \u001b[0;32mdef\u001b[0m \u001b[0moperations\u001b[0m\u001b[0;34m(\u001b[0m\u001b[0mself\u001b[0m\u001b[0;34m)\u001b[0m\u001b[0;34m:\u001b[0m\u001b[0;34m\u001b[0m\u001b[0m\n\u001b[1;32m      9\u001b[0m         \u001b[0mself\u001b[0m\u001b[0;34m.\u001b[0m\u001b[0mop2\u001b[0m\u001b[0;34m(\u001b[0m\u001b[0;34m)\u001b[0m\u001b[0;34m\u001b[0m\u001b[0m\n\u001b[0;32m---> 10\u001b[0;31m         \u001b[0mself\u001b[0m\u001b[0;34m.\u001b[0m\u001b[0mop1\u001b[0m\u001b[0;34m(\u001b[0m\u001b[0;34m)\u001b[0m\u001b[0;34m\u001b[0m\u001b[0m\n\u001b[0m\u001b[1;32m     11\u001b[0m \u001b[0mo2\u001b[0m\u001b[0;34m=\u001b[0m\u001b[0mc2\u001b[0m\u001b[0;34m(\u001b[0m\u001b[0;34m)\u001b[0m\u001b[0;34m\u001b[0m\u001b[0m\n\u001b[1;32m     12\u001b[0m \u001b[0mo2\u001b[0m\u001b[0;34m.\u001b[0m\u001b[0moperations\u001b[0m\u001b[0;34m(\u001b[0m\u001b[0;34m)\u001b[0m\u001b[0;34m\u001b[0m\u001b[0m\n",
      "\u001b[0;31mAttributeError\u001b[0m: c2 instance has no attribute 'op1'"
     ]
    }
   ],
   "source": [
    "# calling the parent class properties in to child class\n",
    "class c1:\n",
    "    def op1(self):\n",
    "        print \"this is op1 in c1\"\n",
    "class c2:\n",
    "    def op2(self):\n",
    "        print \"this is op2 in c2\"\n",
    "    def operations(self):\n",
    "        self.op2()\n",
    "        self.op1()\n",
    "o2=c2()\n",
    "o2.operations()\n",
    "# this is not an inheritance"
   ]
  },
  {
   "cell_type": "code",
   "execution_count": 4,
   "metadata": {},
   "outputs": [
    {
     "name": "stdout",
     "output_type": "stream",
     "text": [
      "this is op2 in c2\n",
      "this is op1 in c1\n"
     ]
    }
   ],
   "source": [
    "# calling the parent class properties in to child class\n",
    "class c1:\n",
    "    def op1(self):\n",
    "        print \"this is op1 in c1\"\n",
    "class c2:\n",
    "    def op2(self):\n",
    "        print \"this is op2 in c2\"\n",
    "    def operations(self):\n",
    "        self.op2()\n",
    "        o1=c1()\n",
    "        o1.op1()\n",
    "o2=c2()\n",
    "o2.operations()\n",
    "# this is not an inheritance"
   ]
  },
  {
   "cell_type": "code",
   "execution_count": 5,
   "metadata": {},
   "outputs": [
    {
     "name": "stdout",
     "output_type": "stream",
     "text": [
      "this is op2 in c2\n",
      "this is op1 in c1\n"
     ]
    }
   ],
   "source": [
    "# calling the parent class properties in to child class using child class instance only.\n",
    "class c1:\n",
    "    def op1(self):\n",
    "        print \"this is op1 in c1\"\n",
    "class c2(c1):\n",
    "    def op2(self):\n",
    "        print \"this is op2 in c2\"\n",
    "    def operations(self):\n",
    "        self.op2()\n",
    "        self.op1()\n",
    "o2=c2()\n",
    "o2.operations()\n"
   ]
  },
  {
   "cell_type": "code",
   "execution_count": 6,
   "metadata": {},
   "outputs": [
    {
     "name": "stdout",
     "output_type": "stream",
     "text": [
      "this is op2 in c2\n",
      "this is op1 in c1\n"
     ]
    }
   ],
   "source": [
    "# calling the parent class properties in to child class using child class instance only.\n",
    "# To extend the functionalities of the class\n",
    "class c1:\n",
    "    def op1(self):\n",
    "        print \"this is op1 in c1\"\n",
    "class c2(c1):\n",
    "    def op2(self):\n",
    "        print \"this is op2 in c2\"\n",
    "    def operations(self):\n",
    "        self.op2()\n",
    "        self.op1()\n",
    "o2=c2()\n",
    "o2.operations()"
   ]
  },
  {
   "cell_type": "code",
   "execution_count": 7,
   "metadata": {},
   "outputs": [
    {
     "name": "stdout",
     "output_type": "stream",
     "text": [
      "salesdeliveryproicess\n"
     ]
    }
   ],
   "source": [
    "class sales:\n",
    "    def salesprocess(self):\n",
    "        print \"sales process\"\n",
    "    def salesinvoiceprocess(self):\n",
    "        print \"salesinvoiceprocess\"\n",
    "class SalesExtend(sales):\n",
    "    def salesdeliveryproicess(self):\n",
    "        print \"salesdeliveryproicess\"\n",
    "s=SalesExtend()\n",
    "s.salesdeliveryproicess()"
   ]
  },
  {
   "cell_type": "code",
   "execution_count": 8,
   "metadata": {},
   "outputs": [
    {
     "name": "stdout",
     "output_type": "stream",
     "text": [
      "sales process\n",
      "salesinvoiceprocess\n",
      "salesdeliveryproicess\n"
     ]
    }
   ],
   "source": [
    "class sales:\n",
    "    def salesprocess(self):\n",
    "        print \"sales process\"\n",
    "    def salesinvoiceprocess(self):\n",
    "        print \"salesinvoiceprocess\"\n",
    "class SalesExtend(sales):\n",
    "    def salesdeliveryproicess(self):\n",
    "        print \"salesdeliveryproicess\"\n",
    "s=SalesExtend()\n",
    "s.salesprocess()\n",
    "s.salesinvoiceprocess()\n",
    "s.salesdeliveryproicess()"
   ]
  },
  {
   "cell_type": "code",
   "execution_count": 9,
   "metadata": {},
   "outputs": [
    {
     "name": "stdout",
     "output_type": "stream",
     "text": [
      "this is op2 in c2\n",
      "this is op1 in c2\n"
     ]
    }
   ],
   "source": [
    "class c1:\n",
    "    def op1(self):\n",
    "        print \"this is op1 in c1\"\n",
    "class c2(c1):\n",
    "    # single level inheritance\n",
    "    def op1(self):\n",
    "        print \"this is op1 in c2\"\n",
    "    def op2(self):\n",
    "        print \"this is op2 in c2\"\n",
    "    def operations(self):\n",
    "        self.op2()\n",
    "        self.op1()\n",
    "o2=c2()\n",
    "o2.operations()"
   ]
  },
  {
   "cell_type": "code",
   "execution_count": 10,
   "metadata": {},
   "outputs": [
    {
     "name": "stdout",
     "output_type": "stream",
     "text": [
      "this is op2 in c2\n",
      "this is op1 in c2\n"
     ]
    },
    {
     "ename": "AttributeError",
     "evalue": "c2 instance has no attribute 'op3'",
     "output_type": "error",
     "traceback": [
      "\u001b[0;31m---------------------------------------------------------------------------\u001b[0m",
      "\u001b[0;31mAttributeError\u001b[0m                            Traceback (most recent call last)",
      "\u001b[0;32m<ipython-input-10-ce718437b1b4>\u001b[0m in \u001b[0;36m<module>\u001b[0;34m()\u001b[0m\n\u001b[1;32m     15\u001b[0m         \u001b[0mself\u001b[0m\u001b[0;34m.\u001b[0m\u001b[0mop3\u001b[0m\u001b[0;34m(\u001b[0m\u001b[0;34m)\u001b[0m\u001b[0;34m\u001b[0m\u001b[0m\n\u001b[1;32m     16\u001b[0m \u001b[0mo2\u001b[0m\u001b[0;34m=\u001b[0m\u001b[0mc2\u001b[0m\u001b[0;34m(\u001b[0m\u001b[0;34m)\u001b[0m\u001b[0;34m\u001b[0m\u001b[0m\n\u001b[0;32m---> 17\u001b[0;31m \u001b[0mo2\u001b[0m\u001b[0;34m.\u001b[0m\u001b[0moperations\u001b[0m\u001b[0;34m(\u001b[0m\u001b[0;34m)\u001b[0m\u001b[0;34m\u001b[0m\u001b[0m\n\u001b[0m",
      "\u001b[0;32m<ipython-input-10-ce718437b1b4>\u001b[0m in \u001b[0;36moperations\u001b[0;34m(self)\u001b[0m\n\u001b[1;32m     13\u001b[0m         \u001b[0mself\u001b[0m\u001b[0;34m.\u001b[0m\u001b[0mop2\u001b[0m\u001b[0;34m(\u001b[0m\u001b[0;34m)\u001b[0m\u001b[0;34m\u001b[0m\u001b[0m\n\u001b[1;32m     14\u001b[0m         \u001b[0mself\u001b[0m\u001b[0;34m.\u001b[0m\u001b[0mop1\u001b[0m\u001b[0;34m(\u001b[0m\u001b[0;34m)\u001b[0m\u001b[0;34m\u001b[0m\u001b[0m\n\u001b[0;32m---> 15\u001b[0;31m         \u001b[0mself\u001b[0m\u001b[0;34m.\u001b[0m\u001b[0mop3\u001b[0m\u001b[0;34m(\u001b[0m\u001b[0;34m)\u001b[0m\u001b[0;34m\u001b[0m\u001b[0m\n\u001b[0m\u001b[1;32m     16\u001b[0m \u001b[0mo2\u001b[0m\u001b[0;34m=\u001b[0m\u001b[0mc2\u001b[0m\u001b[0;34m(\u001b[0m\u001b[0;34m)\u001b[0m\u001b[0;34m\u001b[0m\u001b[0m\n\u001b[1;32m     17\u001b[0m \u001b[0mo2\u001b[0m\u001b[0;34m.\u001b[0m\u001b[0moperations\u001b[0m\u001b[0;34m(\u001b[0m\u001b[0;34m)\u001b[0m\u001b[0;34m\u001b[0m\u001b[0m\n",
      "\u001b[0;31mAttributeError\u001b[0m: c2 instance has no attribute 'op3'"
     ]
    }
   ],
   "source": [
    "class c1:\n",
    "    def op1(self):\n",
    "        print \"this is op1 in c1\"\n",
    "class c3:\n",
    "    def op3(self):\n",
    "        print \"this is op3 in c3\"\n",
    "class c2(c1):\n",
    "    def op1(self):\n",
    "        print \"this is op1 in c2\"\n",
    "    def op2(self):\n",
    "        print \"this is op2 in c2\"\n",
    "    def operations(self):\n",
    "        self.op2()\n",
    "        self.op1()\n",
    "        self.op3()\n",
    "o2=c2()\n",
    "o2.operations()"
   ]
  },
  {
   "cell_type": "code",
   "execution_count": 11,
   "metadata": {},
   "outputs": [
    {
     "name": "stdout",
     "output_type": "stream",
     "text": [
      "this is op2 in c2\n",
      "this is op1 in c2\n",
      "this is op3 in c3\n"
     ]
    }
   ],
   "source": [
    "class c1:\n",
    "    def op1(self):\n",
    "        print \"this is op1 in c1\"\n",
    "class c3:\n",
    "    def op3(self):\n",
    "        print \"this is op3 in c3\"\n",
    "class c2(c1,c3):\n",
    "    # multiple inheritance\n",
    "    def op1(self):\n",
    "        print \"this is op1 in c2\"\n",
    "    def op2(self):\n",
    "        print \"this is op2 in c2\"\n",
    "    def operations(self):\n",
    "        self.op2()\n",
    "        self.op1()\n",
    "        self.op3()\n",
    "o2=c2()\n",
    "o2.operations()"
   ]
  },
  {
   "cell_type": "code",
   "execution_count": 12,
   "metadata": {},
   "outputs": [
    {
     "name": "stdout",
     "output_type": "stream",
     "text": [
      "this is op2 in c2\n",
      "this is op1 in c1\n",
      "this is op3 in c1\n"
     ]
    }
   ],
   "source": [
    "class c1:\n",
    "    def op1(self):\n",
    "        print \"this is op1 in c1\"\n",
    "    def op3(self):\n",
    "        print \"this is op3 in c1\"\n",
    "class c3:\n",
    "    def op3(self):\n",
    "        print \"this is op3 in c3\"\n",
    "class c2(c1,c3):\n",
    "    def op2(self):\n",
    "        print \"this is op2 in c2\"\n",
    "    def operations(self):\n",
    "        self.op2()\n",
    "        self.op1()\n",
    "        self.op3()\n",
    "o2=c2()\n",
    "o2.operations()"
   ]
  },
  {
   "cell_type": "code",
   "execution_count": 13,
   "metadata": {},
   "outputs": [
    {
     "name": "stdout",
     "output_type": "stream",
     "text": [
      "this is op2 in c2\n",
      "this is op1 in c1\n",
      "this is op3 in c3\n"
     ]
    }
   ],
   "source": [
    "class c1:\n",
    "    def op1(self):\n",
    "        print \"this is op1 in c1\"\n",
    "    def op3(self):\n",
    "        print \"this is op3 in c1\"\n",
    "class c3:\n",
    "    def op3(self):\n",
    "        print \"this is op3 in c3\"\n",
    "class c2(c3,c1):\n",
    "    def op2(self):\n",
    "        print \"this is op2 in c2\"\n",
    "    def operations(self):\n",
    "        self.op2()\n",
    "        self.op1()\n",
    "        self.op3()\n",
    "o2=c2()\n",
    "o2.operations()"
   ]
  },
  {
   "cell_type": "code",
   "execution_count": 15,
   "metadata": {},
   "outputs": [
    {
     "name": "stdout",
     "output_type": "stream",
     "text": [
      "this is op2 in c2\n",
      "this is op1 in c1\n",
      "this is op3 in c2\n"
     ]
    }
   ],
   "source": [
    "class c1:\n",
    "    def op1(self):\n",
    "        print \"this is op1 in c1\"\n",
    "    def op3(self):\n",
    "        print \"this is op3 in c1\"\n",
    "class c3:\n",
    "    def op3(self):\n",
    "        print \"this is op3 in c3\"\n",
    "class c2(c3,c1):\n",
    "    def op3(self):\n",
    "        print \"this is op3 in c2\"\n",
    "    def op2(self):\n",
    "        print \"this is op2 in c2\"\n",
    "    def operations(self):\n",
    "        self.op2()\n",
    "        self.op1()\n",
    "        self.op3()\n",
    "o2=c2()\n",
    "o2.operations()"
   ]
  },
  {
   "cell_type": "code",
   "execution_count": 16,
   "metadata": {},
   "outputs": [
    {
     "name": "stdout",
     "output_type": "stream",
     "text": [
      "this is op2 in c2\n",
      "this is op1 in c1\n",
      "this is op3 in c3\n"
     ]
    }
   ],
   "source": [
    "class c1:\n",
    "    def op1(self):\n",
    "        print \"this is op1 in c1\"\n",
    "class c3(c1):\n",
    "    def op3(self):\n",
    "        print \"this is op3 in c3\"\n",
    "class c2(c3):\n",
    "    # multi level inheritance\n",
    "    def op2(self):\n",
    "        print \"this is op2 in c2\"\n",
    "    def operations(self):\n",
    "        self.op2()\n",
    "        self.op1()\n",
    "        self.op3()\n",
    "o2=c2()\n",
    "o2.operations()"
   ]
  },
  {
   "cell_type": "code",
   "execution_count": null,
   "metadata": {
    "collapsed": true
   },
   "outputs": [],
   "source": [
    "class c1:\n",
    "    def op1(self):\n",
    "        print \"this is op1 in c1\"\n",
    "class c2(c1):\n",
    "    def __init__(self,a,b):\n",
    "        self.a=a\n",
    "        self.b=b\n",
    "    def op2(self):\n",
    "        print \"this is op2 in c2\n",
    "    def get(self):\n",
    "        return self.a, self.b\n",
    "        "
   ]
  }
 ],
 "metadata": {
  "kernelspec": {
   "display_name": "Python 2",
   "language": "python",
   "name": "python2"
  },
  "language_info": {
   "codemirror_mode": {
    "name": "ipython",
    "version": 2
   },
   "file_extension": ".py",
   "mimetype": "text/x-python",
   "name": "python",
   "nbconvert_exporter": "python",
   "pygments_lexer": "ipython2",
   "version": "2.7.14"
  }
 },
 "nbformat": 4,
 "nbformat_minor": 2
}
