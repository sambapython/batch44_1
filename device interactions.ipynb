{
 "cells": [
  {
   "cell_type": "code",
   "execution_count": 1,
   "metadata": {},
   "outputs": [
    {
     "name": "stdout",
     "output_type": "stream",
     "text": [
      "batch44_repo0\n",
      "khyaathirepo1\n",
      "khyaathirepo2\n",
      "python_repo\n",
      "repo410\n",
      "repocreatedbyAPI\n",
      "repo_api\n",
      "batch44\n",
      "batch44_repo2\n",
      "batch44_repo1\n",
      "newrepo\n",
      "repo411\n",
      "batch44\n",
      "batch44_1\n",
      "django\n",
      "python\n",
      "r1234\n",
      "repo1\n",
      "repo123\n"
     ]
    }
   ],
   "source": [
    "from github import Github\n",
    "\n",
    "# First create a Github instance:\n",
    "username=\"gs9783@gmail.com\"\n",
    "password=\"samba1234\"\n",
    "\n",
    "# using username and password\n",
    "g = Github(username, password)\n",
    "\n",
    "# Then play with your Github objects:\n",
    "for repo in g.get_user().get_repos():\n",
    "    print(repo.name)"
   ]
  },
  {
   "cell_type": "code",
   "execution_count": 2,
   "metadata": {
    "collapsed": true
   },
   "outputs": [],
   "source": [
    "# user-> orgs-> reposi\n",
    "user = g.get_user()"
   ]
  },
  {
   "cell_type": "code",
   "execution_count": 4,
   "metadata": {},
   "outputs": [
    {
     "name": "stdout",
     "output_type": "stream",
     "text": [
      "['CHECK_AFTER_INIT_FLAG', '_CompletableGithubObject__complete', '_CompletableGithubObject__completed', '_GithubObject__makeSimpleAttribute', '_GithubObject__makeSimpleListAttribute', '_GithubObject__makeTransformedAttribute', '__class__', '__delattr__', '__dict__', '__doc__', '__eq__', '__format__', '__getattribute__', '__hash__', '__init__', '__module__', '__ne__', '__new__', '__reduce__', '__reduce_ex__', '__repr__', '__setattr__', '__sizeof__', '__str__', '__subclasshook__', '__weakref__', '_avatar_url', '_bio', '_blog', '_collaborators', '_company', '_completeIfNeeded', '_completeIfNotSet', '_created_at', '_disk_usage', '_email', '_events_url', '_followers', '_followers_url', '_following', '_following_url', '_gists_url', '_gravatar_id', '_headers', '_hireable', '_html_url', '_id', '_initAttributes', '_location', '_login', '_makeBoolAttribute', '_makeClassAttribute', '_makeDatetimeAttribute', '_makeDictAttribute', '_makeDictOfStringsToClassesAttribute', '_makeIntAttribute', '_makeListOfClassesAttribute', '_makeListOfIntsAttribute', '_makeListOfListOfStringsAttribute', '_makeListOfStringsAttribute', '_makeStringAttribute', '_makeTimestampAttribute', '_name', '_organizations_url', '_owned_private_repos', '_parentUrl', '_plan', '_private_gists', '_public_gists', '_public_repos', '_rawData', '_received_events_url', '_repos_url', '_requester', '_site_admin', '_starred_url', '_storeAndUseAttributes', '_subscriptions_url', '_total_private_repos', '_type', '_updated_at', '_url', '_useAttributes', 'accept_invitation', 'add_to_emails', 'add_to_following', 'add_to_starred', 'add_to_subscriptions', 'add_to_watched', 'avatar_url', 'bio', 'blog', 'collaborators', 'company', 'create_authorization', 'create_fork', 'create_gist', 'create_key', 'create_repo', 'created_at', 'disk_usage', 'edit', 'email', 'etag', 'events_url', 'followers', 'followers_url', 'following', 'following_url', 'get__repr__', 'get_authorization', 'get_authorizations', 'get_emails', 'get_events', 'get_followers', 'get_following', 'get_gists', 'get_issues', 'get_key', 'get_keys', 'get_notification', 'get_notifications', 'get_organization_events', 'get_orgs', 'get_repo', 'get_repos', 'get_starred', 'get_starred_gists', 'get_subscriptions', 'get_teams', 'get_user_issues', 'get_watched', 'gists_url', 'gravatar_id', 'has_in_following', 'has_in_starred', 'has_in_subscriptions', 'has_in_watched', 'hireable', 'html_url', 'id', 'last_modified', 'location', 'login', 'name', 'organizations_url', 'owned_private_repos', 'plan', 'private_gists', 'public_gists', 'public_repos', 'raw_data', 'raw_headers', 'received_events_url', 'remove_from_emails', 'remove_from_following', 'remove_from_starred', 'remove_from_subscriptions', 'remove_from_watched', 'repos_url', 'setCheckAfterInitFlag', 'site_admin', 'starred_url', 'subscriptions_url', 'total_private_repos', 'type', 'update', 'updated_at', 'url']\n"
     ]
    }
   ],
   "source": [
    "print dir(user)"
   ]
  },
  {
   "cell_type": "code",
   "execution_count": 7,
   "metadata": {},
   "outputs": [],
   "source": [
    "orgs = user.get_orgs()"
   ]
  },
  {
   "cell_type": "code",
   "execution_count": 10,
   "metadata": {},
   "outputs": [
    {
     "name": "stdout",
     "output_type": "stream",
     "text": [
      "None\n",
      "None\n",
      "None\n"
     ]
    }
   ],
   "source": [
    "for org in orgs:\n",
    "    print org.name"
   ]
  },
  {
   "cell_type": "code",
   "execution_count": 11,
   "metadata": {},
   "outputs": [
    {
     "data": {
      "text/plain": [
       "Organization(name=None, id=37465038)"
      ]
     },
     "execution_count": 11,
     "metadata": {},
     "output_type": "execute_result"
    }
   ],
   "source": [
    "org"
   ]
  },
  {
   "cell_type": "code",
   "execution_count": 13,
   "metadata": {},
   "outputs": [
    {
     "name": "stdout",
     "output_type": "stream",
     "text": [
      "['CHECK_AFTER_INIT_FLAG', '_CompletableGithubObject__complete', '_CompletableGithubObject__completed', '_GithubObject__makeSimpleAttribute', '_GithubObject__makeSimpleListAttribute', '_GithubObject__makeTransformedAttribute', '__class__', '__delattr__', '__dict__', '__doc__', '__eq__', '__format__', '__getattribute__', '__hash__', '__init__', '__module__', '__ne__', '__new__', '__reduce__', '__reduce_ex__', '__repr__', '__setattr__', '__sizeof__', '__str__', '__subclasshook__', '__weakref__', '_avatar_url', '_billing_email', '_blog', '_collaborators', '_company', '_completeIfNeeded', '_completeIfNotSet', '_created_at', '_disk_usage', '_email', '_events_url', '_followers', '_following', '_gravatar_id', '_headers', '_html_url', '_id', '_initAttributes', '_location', '_login', '_makeBoolAttribute', '_makeClassAttribute', '_makeDatetimeAttribute', '_makeDictAttribute', '_makeDictOfStringsToClassesAttribute', '_makeIntAttribute', '_makeListOfClassesAttribute', '_makeListOfIntsAttribute', '_makeListOfListOfStringsAttribute', '_makeListOfStringsAttribute', '_makeStringAttribute', '_makeTimestampAttribute', '_members_url', '_name', '_owned_private_repos', '_parentUrl', '_plan', '_private_gists', '_public_gists', '_public_members_url', '_public_repos', '_rawData', '_repos_url', '_requester', '_storeAndUseAttributes', '_total_private_repos', '_type', '_updated_at', '_url', '_useAttributes', 'add_to_public_members', 'avatar_url', 'billing_email', 'blog', 'collaborators', 'company', 'create_fork', 'create_repo', 'create_team', 'created_at', 'disk_usage', 'edit', 'email', 'etag', 'events_url', 'followers', 'following', 'get__repr__', 'get_events', 'get_issues', 'get_members', 'get_public_members', 'get_repo', 'get_repos', 'get_team', 'get_teams', 'gravatar_id', 'has_in_members', 'has_in_public_members', 'html_url', 'id', 'last_modified', 'location', 'login', 'members_url', 'name', 'owned_private_repos', 'plan', 'private_gists', 'public_gists', 'public_members_url', 'public_repos', 'raw_data', 'raw_headers', 'remove_from_members', 'remove_from_public_members', 'repos_url', 'setCheckAfterInitFlag', 'total_private_repos', 'type', 'update', 'updated_at', 'url']\n"
     ]
    }
   ],
   "source": [
    "print dir(org)"
   ]
  },
  {
   "cell_type": "code",
   "execution_count": 14,
   "metadata": {},
   "outputs": [
    {
     "data": {
      "text/plain": [
       "u'https://api.github.com/orgs/khyaathiinstitute'"
      ]
     },
     "execution_count": 14,
     "metadata": {},
     "output_type": "execute_result"
    }
   ],
   "source": [
    "org.url"
   ]
  },
  {
   "cell_type": "code",
   "execution_count": 15,
   "metadata": {},
   "outputs": [
    {
     "data": {
      "text/plain": [
       "Repository(full_name=\"khyaathiinstitute/batch44_auto\")"
      ]
     },
     "execution_count": 15,
     "metadata": {},
     "output_type": "execute_result"
    }
   ],
   "source": [
    "org.create_repo(\"batch44_auto\")"
   ]
  },
  {
   "cell_type": "code",
   "execution_count": 16,
   "metadata": {
    "collapsed": true
   },
   "outputs": [],
   "source": [
    "org.owned_private_repos?"
   ]
  },
  {
   "cell_type": "code",
   "execution_count": 17,
   "metadata": {
    "collapsed": true
   },
   "outputs": [],
   "source": [
    "def fun(a,b,c=0):\n",
    "    \"\"\"\n",
    "    to teach the doc string.\n",
    "    param: a, int, its an element\n",
    "    param:b, int,\n",
    "    examples:\n",
    "        fun(10,20)\n",
    "    fun(a,b[c])\n",
    "    return: int, summation of a,b,c\n",
    "    \"\"\"\n",
    "    return a+b+c\n"
   ]
  },
  {
   "cell_type": "code",
   "execution_count": 18,
   "metadata": {
    "collapsed": true
   },
   "outputs": [],
   "source": [
    "fun?"
   ]
  },
  {
   "cell_type": "code",
   "execution_count": 19,
   "metadata": {},
   "outputs": [
    {
     "name": "stdout",
     "output_type": "stream",
     "text": [
      "[{u'issues_url': u'https://api.github.com/repos/khyaathi/khyaathirepo1/issues{/number}', u'deployments_url': u'https://api.github.com/repos/khyaathi/khyaathirepo1/deployments', u'stargazers_count': 0, u'forks_url': u'https://api.github.com/repos/khyaathi/khyaathirepo1/forks', u'mirror_url': None, u'subscription_url': u'https://api.github.com/repos/khyaathi/khyaathirepo1/subscription', u'notifications_url': u'https://api.github.com/repos/khyaathi/khyaathirepo1/notifications{?since,all,participating}', u'collaborators_url': u'https://api.github.com/repos/khyaathi/khyaathirepo1/collaborators{/collaborator}', u'updated_at': u'2017-12-20T03:13:48Z', u'private': False, u'pulls_url': u'https://api.github.com/repos/khyaathi/khyaathirepo1/pulls{/number}', u'issue_comment_url': u'https://api.github.com/repos/khyaathi/khyaathirepo1/issues/comments{/number}', u'labels_url': u'https://api.github.com/repos/khyaathi/khyaathirepo1/labels{/name}', u'has_wiki': True, u'full_name': u'khyaathi/khyaathirepo1', u'owner': {u'following_url': u'https://api.github.com/users/khyaathi/following{/other_user}', u'events_url': u'https://api.github.com/users/khyaathi/events{/privacy}', u'organizations_url': u'https://api.github.com/users/khyaathi/orgs', u'url': u'https://api.github.com/users/khyaathi', u'gists_url': u'https://api.github.com/users/khyaathi/gists{/gist_id}', u'html_url': u'https://github.com/khyaathi', u'subscriptions_url': u'https://api.github.com/users/khyaathi/subscriptions', u'avatar_url': u'https://avatars2.githubusercontent.com/u/34699715?v=4', u'repos_url': u'https://api.github.com/users/khyaathi/repos', u'received_events_url': u'https://api.github.com/users/khyaathi/received_events', u'gravatar_id': u'', u'starred_url': u'https://api.github.com/users/khyaathi/starred{/owner}{/repo}', u'site_admin': False, u'login': u'khyaathi', u'type': u'Organization', u'id': 34699715, u'followers_url': u'https://api.github.com/users/khyaathi/followers'}, u'statuses_url': u'https://api.github.com/repos/khyaathi/khyaathirepo1/statuses/{sha}', u'id': 114837420, u'keys_url': u'https://api.github.com/repos/khyaathi/khyaathirepo1/keys{/key_id}', u'description': u'khyaathirepo1', u'tags_url': u'https://api.github.com/repos/khyaathi/khyaathirepo1/tags', u'archived': False, u'downloads_url': u'https://api.github.com/repos/khyaathi/khyaathirepo1/downloads', u'assignees_url': u'https://api.github.com/repos/khyaathi/khyaathirepo1/assignees{/user}', u'contents_url': u'https://api.github.com/repos/khyaathi/khyaathirepo1/contents/{+path}', u'has_pages': False, u'git_refs_url': u'https://api.github.com/repos/khyaathi/khyaathirepo1/git/refs{/sha}', u'open_issues_count': 0, u'has_projects': True, u'clone_url': u'https://github.com/khyaathi/khyaathirepo1.git', u'watchers_count': 0, u'git_tags_url': u'https://api.github.com/repos/khyaathi/khyaathirepo1/git/tags{/sha}', u'milestones_url': u'https://api.github.com/repos/khyaathi/khyaathirepo1/milestones{/number}', u'languages_url': u'https://api.github.com/repos/khyaathi/khyaathirepo1/languages', u'size': 0, u'homepage': None, u'fork': False, u'commits_url': u'https://api.github.com/repos/khyaathi/khyaathirepo1/commits{/sha}', u'releases_url': u'https://api.github.com/repos/khyaathi/khyaathirepo1/releases{/id}', u'issue_events_url': u'https://api.github.com/repos/khyaathi/khyaathirepo1/issues/events{/number}', u'archive_url': u'https://api.github.com/repos/khyaathi/khyaathirepo1/{archive_format}{/ref}', u'comments_url': u'https://api.github.com/repos/khyaathi/khyaathirepo1/comments{/number}', u'events_url': u'https://api.github.com/repos/khyaathi/khyaathirepo1/events', u'contributors_url': u'https://api.github.com/repos/khyaathi/khyaathirepo1/contributors', u'html_url': u'https://github.com/khyaathi/khyaathirepo1', u'forks': 0, u'compare_url': u'https://api.github.com/repos/khyaathi/khyaathirepo1/compare/{base}...{head}', u'open_issues': 0, u'watchers': 0, u'git_url': u'git://github.com/khyaathi/khyaathirepo1.git', u'svn_url': u'https://github.com/khyaathi/khyaathirepo1', u'merges_url': u'https://api.github.com/repos/khyaathi/khyaathirepo1/merges', u'has_issues': True, u'ssh_url': u'git@github.com:khyaathi/khyaathirepo1.git', u'blobs_url': u'https://api.github.com/repos/khyaathi/khyaathirepo1/git/blobs{/sha}', u'git_commits_url': u'https://api.github.com/repos/khyaathi/khyaathirepo1/git/commits{/sha}', u'hooks_url': u'https://api.github.com/repos/khyaathi/khyaathirepo1/hooks', u'has_downloads': True, u'license': None, u'name': u'khyaathirepo1', u'language': None, u'url': u'https://api.github.com/repos/khyaathi/khyaathirepo1', u'created_at': u'2017-12-20T03:13:48Z', u'pushed_at': u'2017-12-20T03:13:48Z', u'forks_count': 0, u'default_branch': u'master', u'teams_url': u'https://api.github.com/repos/khyaathi/khyaathirepo1/teams', u'trees_url': u'https://api.github.com/repos/khyaathi/khyaathirepo1/git/trees{/sha}', u'branches_url': u'https://api.github.com/repos/khyaathi/khyaathirepo1/branches{/branch}', u'subscribers_url': u'https://api.github.com/repos/khyaathi/khyaathirepo1/subscribers', u'permissions': {u'admin': True, u'push': True, u'pull': True}, u'stargazers_url': u'https://api.github.com/repos/khyaathi/khyaathirepo1/stargazers'}, {u'issues_url': u'https://api.github.com/repos/khyaathi/khyaathirepo2/issues{/number}', u'deployments_url': u'https://api.github.com/repos/khyaathi/khyaathirepo2/deployments', u'stargazers_count': 0, u'forks_url': u'https://api.github.com/repos/khyaathi/khyaathirepo2/forks', u'mirror_url': None, u'subscription_url': u'https://api.github.com/repos/khyaathi/khyaathirepo2/subscription', u'notifications_url': u'https://api.github.com/repos/khyaathi/khyaathirepo2/notifications{?since,all,participating}', u'collaborators_url': u'https://api.github.com/repos/khyaathi/khyaathirepo2/collaborators{/collaborator}', u'updated_at': u'2017-12-20T03:16:22Z', u'private': False, u'pulls_url': u'https://api.github.com/repos/khyaathi/khyaathirepo2/pulls{/number}', u'issue_comment_url': u'https://api.github.com/repos/khyaathi/khyaathirepo2/issues/comments{/number}', u'labels_url': u'https://api.github.com/repos/khyaathi/khyaathirepo2/labels{/name}', u'has_wiki': True, u'full_name': u'khyaathi/khyaathirepo2', u'owner': {u'following_url': u'https://api.github.com/users/khyaathi/following{/other_user}', u'events_url': u'https://api.github.com/users/khyaathi/events{/privacy}', u'organizations_url': u'https://api.github.com/users/khyaathi/orgs', u'url': u'https://api.github.com/users/khyaathi', u'gists_url': u'https://api.github.com/users/khyaathi/gists{/gist_id}', u'html_url': u'https://github.com/khyaathi', u'subscriptions_url': u'https://api.github.com/users/khyaathi/subscriptions', u'avatar_url': u'https://avatars2.githubusercontent.com/u/34699715?v=4', u'repos_url': u'https://api.github.com/users/khyaathi/repos', u'received_events_url': u'https://api.github.com/users/khyaathi/received_events', u'gravatar_id': u'', u'starred_url': u'https://api.github.com/users/khyaathi/starred{/owner}{/repo}', u'site_admin': False, u'login': u'khyaathi', u'type': u'Organization', u'id': 34699715, u'followers_url': u'https://api.github.com/users/khyaathi/followers'}, u'statuses_url': u'https://api.github.com/repos/khyaathi/khyaathirepo2/statuses/{sha}', u'id': 114837626, u'keys_url': u'https://api.github.com/repos/khyaathi/khyaathirepo2/keys{/key_id}', u'description': None, u'tags_url': u'https://api.github.com/repos/khyaathi/khyaathirepo2/tags', u'archived': False, u'downloads_url': u'https://api.github.com/repos/khyaathi/khyaathirepo2/downloads', u'assignees_url': u'https://api.github.com/repos/khyaathi/khyaathirepo2/assignees{/user}', u'contents_url': u'https://api.github.com/repos/khyaathi/khyaathirepo2/contents/{+path}', u'has_pages': False, u'git_refs_url': u'https://api.github.com/repos/khyaathi/khyaathirepo2/git/refs{/sha}', u'open_issues_count': 0, u'has_projects': True, u'clone_url': u'https://github.com/khyaathi/khyaathirepo2.git', u'watchers_count': 0, u'git_tags_url': u'https://api.github.com/repos/khyaathi/khyaathirepo2/git/tags{/sha}', u'milestones_url': u'https://api.github.com/repos/khyaathi/khyaathirepo2/milestones{/number}', u'languages_url': u'https://api.github.com/repos/khyaathi/khyaathirepo2/languages', u'size': 0, u'homepage': None, u'fork': False, u'commits_url': u'https://api.github.com/repos/khyaathi/khyaathirepo2/commits{/sha}', u'releases_url': u'https://api.github.com/repos/khyaathi/khyaathirepo2/releases{/id}', u'issue_events_url': u'https://api.github.com/repos/khyaathi/khyaathirepo2/issues/events{/number}', u'archive_url': u'https://api.github.com/repos/khyaathi/khyaathirepo2/{archive_format}{/ref}', u'comments_url': u'https://api.github.com/repos/khyaathi/khyaathirepo2/comments{/number}', u'events_url': u'https://api.github.com/repos/khyaathi/khyaathirepo2/events', u'contributors_url': u'https://api.github.com/repos/khyaathi/khyaathirepo2/contributors', u'html_url': u'https://github.com/khyaathi/khyaathirepo2', u'forks': 0, u'compare_url': u'https://api.github.com/repos/khyaathi/khyaathirepo2/compare/{base}...{head}', u'open_issues': 0, u'watchers': 0, u'git_url': u'git://github.com/khyaathi/khyaathirepo2.git', u'svn_url': u'https://github.com/khyaathi/khyaathirepo2', u'merges_url': u'https://api.github.com/repos/khyaathi/khyaathirepo2/merges', u'has_issues': True, u'ssh_url': u'git@github.com:khyaathi/khyaathirepo2.git', u'blobs_url': u'https://api.github.com/repos/khyaathi/khyaathirepo2/git/blobs{/sha}', u'git_commits_url': u'https://api.github.com/repos/khyaathi/khyaathirepo2/git/commits{/sha}', u'hooks_url': u'https://api.github.com/repos/khyaathi/khyaathirepo2/hooks', u'has_downloads': True, u'license': None, u'name': u'khyaathirepo2', u'language': None, u'url': u'https://api.github.com/repos/khyaathi/khyaathirepo2', u'created_at': u'2017-12-20T03:16:22Z', u'pushed_at': u'2017-12-20T03:16:23Z', u'forks_count': 0, u'default_branch': u'master', u'teams_url': u'https://api.github.com/repos/khyaathi/khyaathirepo2/teams', u'trees_url': u'https://api.github.com/repos/khyaathi/khyaathirepo2/git/trees{/sha}', u'branches_url': u'https://api.github.com/repos/khyaathi/khyaathirepo2/branches{/branch}', u'subscribers_url': u'https://api.github.com/repos/khyaathi/khyaathirepo2/subscribers', u'permissions': {u'admin': True, u'push': True, u'pull': True}, u'stargazers_url': u'https://api.github.com/repos/khyaathi/khyaathirepo2/stargazers'}, {u'issues_url': u'https://api.github.com/repos/khyaathi/python_repo/issues{/number}', u'deployments_url': u'https://api.github.com/repos/khyaathi/python_repo/deployments', u'stargazers_count': 0, u'forks_url': u'https://api.github.com/repos/khyaathi/python_repo/forks', u'mirror_url': None, u'subscription_url': u'https://api.github.com/repos/khyaathi/python_repo/subscription', u'notifications_url': u'https://api.github.com/repos/khyaathi/python_repo/notifications{?since,all,participating}', u'collaborators_url': u'https://api.github.com/repos/khyaathi/python_repo/collaborators{/collaborator}', u'updated_at': u'2018-01-20T05:35:44Z', u'private': False, u'pulls_url': u'https://api.github.com/repos/khyaathi/python_repo/pulls{/number}', u'issue_comment_url': u'https://api.github.com/repos/khyaathi/python_repo/issues/comments{/number}', u'labels_url': u'https://api.github.com/repos/khyaathi/python_repo/labels{/name}', u'has_wiki': True, u'full_name': u'khyaathi/python_repo', u'owner': {u'following_url': u'https://api.github.com/users/khyaathi/following{/other_user}', u'events_url': u'https://api.github.com/users/khyaathi/events{/privacy}', u'organizations_url': u'https://api.github.com/users/khyaathi/orgs', u'url': u'https://api.github.com/users/khyaathi', u'gists_url': u'https://api.github.com/users/khyaathi/gists{/gist_id}', u'html_url': u'https://github.com/khyaathi', u'subscriptions_url': u'https://api.github.com/users/khyaathi/subscriptions', u'avatar_url': u'https://avatars2.githubusercontent.com/u/34699715?v=4', u'repos_url': u'https://api.github.com/users/khyaathi/repos', u'received_events_url': u'https://api.github.com/users/khyaathi/received_events', u'gravatar_id': u'', u'starred_url': u'https://api.github.com/users/khyaathi/starred{/owner}{/repo}', u'site_admin': False, u'login': u'khyaathi', u'type': u'Organization', u'id': 34699715, u'followers_url': u'https://api.github.com/users/khyaathi/followers'}, u'statuses_url': u'https://api.github.com/repos/khyaathi/python_repo/statuses/{sha}', u'id': 118212671, u'keys_url': u'https://api.github.com/repos/khyaathi/python_repo/keys{/key_id}', u'description': None, u'tags_url': u'https://api.github.com/repos/khyaathi/python_repo/tags', u'archived': False, u'downloads_url': u'https://api.github.com/repos/khyaathi/python_repo/downloads', u'assignees_url': u'https://api.github.com/repos/khyaathi/python_repo/assignees{/user}', u'contents_url': u'https://api.github.com/repos/khyaathi/python_repo/contents/{+path}', u'has_pages': False, u'git_refs_url': u'https://api.github.com/repos/khyaathi/python_repo/git/refs{/sha}', u'open_issues_count': 0, u'has_projects': True, u'clone_url': u'https://github.com/khyaathi/python_repo.git', u'watchers_count': 0, u'git_tags_url': u'https://api.github.com/repos/khyaathi/python_repo/git/tags{/sha}', u'milestones_url': u'https://api.github.com/repos/khyaathi/python_repo/milestones{/number}', u'languages_url': u'https://api.github.com/repos/khyaathi/python_repo/languages', u'size': 0, u'homepage': None, u'fork': False, u'commits_url': u'https://api.github.com/repos/khyaathi/python_repo/commits{/sha}', u'releases_url': u'https://api.github.com/repos/khyaathi/python_repo/releases{/id}', u'issue_events_url': u'https://api.github.com/repos/khyaathi/python_repo/issues/events{/number}', u'archive_url': u'https://api.github.com/repos/khyaathi/python_repo/{archive_format}{/ref}', u'comments_url': u'https://api.github.com/repos/khyaathi/python_repo/comments{/number}', u'events_url': u'https://api.github.com/repos/khyaathi/python_repo/events', u'contributors_url': u'https://api.github.com/repos/khyaathi/python_repo/contributors', u'html_url': u'https://github.com/khyaathi/python_repo', u'forks': 0, u'compare_url': u'https://api.github.com/repos/khyaathi/python_repo/compare/{base}...{head}', u'open_issues': 0, u'watchers': 0, u'git_url': u'git://github.com/khyaathi/python_repo.git', u'svn_url': u'https://github.com/khyaathi/python_repo', u'merges_url': u'https://api.github.com/repos/khyaathi/python_repo/merges', u'has_issues': True, u'ssh_url': u'git@github.com:khyaathi/python_repo.git', u'blobs_url': u'https://api.github.com/repos/khyaathi/python_repo/git/blobs{/sha}', u'git_commits_url': u'https://api.github.com/repos/khyaathi/python_repo/git/commits{/sha}', u'hooks_url': u'https://api.github.com/repos/khyaathi/python_repo/hooks', u'has_downloads': True, u'license': None, u'name': u'python_repo', u'language': None, u'url': u'https://api.github.com/repos/khyaathi/python_repo', u'created_at': u'2018-01-20T05:35:44Z', u'pushed_at': u'2018-01-20T05:35:45Z', u'forks_count': 0, u'default_branch': u'master', u'teams_url': u'https://api.github.com/repos/khyaathi/python_repo/teams', u'trees_url': u'https://api.github.com/repos/khyaathi/python_repo/git/trees{/sha}', u'branches_url': u'https://api.github.com/repos/khyaathi/python_repo/branches{/branch}', u'subscribers_url': u'https://api.github.com/repos/khyaathi/python_repo/subscribers', u'permissions': {u'admin': True, u'push': True, u'pull': True}, u'stargazers_url': u'https://api.github.com/repos/khyaathi/python_repo/stargazers'}, {u'issues_url': u'https://api.github.com/repos/khyaathi/repo410/issues{/number}', u'deployments_url': u'https://api.github.com/repos/khyaathi/repo410/deployments', u'stargazers_count': 0, u'forks_url': u'https://api.github.com/repos/khyaathi/repo410/forks', u'mirror_url': None, u'subscription_url': u'https://api.github.com/repos/khyaathi/repo410/subscription', u'notifications_url': u'https://api.github.com/repos/khyaathi/repo410/notifications{?since,all,participating}', u'collaborators_url': u'https://api.github.com/repos/khyaathi/repo410/collaborators{/collaborator}', u'updated_at': u'2018-02-11T02:03:42Z', u'private': False, u'pulls_url': u'https://api.github.com/repos/khyaathi/repo410/pulls{/number}', u'issue_comment_url': u'https://api.github.com/repos/khyaathi/repo410/issues/comments{/number}', u'labels_url': u'https://api.github.com/repos/khyaathi/repo410/labels{/name}', u'has_wiki': True, u'full_name': u'khyaathi/repo410', u'owner': {u'following_url': u'https://api.github.com/users/khyaathi/following{/other_user}', u'events_url': u'https://api.github.com/users/khyaathi/events{/privacy}', u'organizations_url': u'https://api.github.com/users/khyaathi/orgs', u'url': u'https://api.github.com/users/khyaathi', u'gists_url': u'https://api.github.com/users/khyaathi/gists{/gist_id}', u'html_url': u'https://github.com/khyaathi', u'subscriptions_url': u'https://api.github.com/users/khyaathi/subscriptions', u'avatar_url': u'https://avatars2.githubusercontent.com/u/34699715?v=4', u'repos_url': u'https://api.github.com/users/khyaathi/repos', u'received_events_url': u'https://api.github.com/users/khyaathi/received_events', u'gravatar_id': u'', u'starred_url': u'https://api.github.com/users/khyaathi/starred{/owner}{/repo}', u'site_admin': False, u'login': u'khyaathi', u'type': u'Organization', u'id': 34699715, u'followers_url': u'https://api.github.com/users/khyaathi/followers'}, u'statuses_url': u'https://api.github.com/repos/khyaathi/repo410/statuses/{sha}', u'id': 121073615, u'keys_url': u'https://api.github.com/repos/khyaathi/repo410/keys{/key_id}', u'description': None, u'tags_url': u'https://api.github.com/repos/khyaathi/repo410/tags', u'archived': False, u'downloads_url': u'https://api.github.com/repos/khyaathi/repo410/downloads', u'assignees_url': u'https://api.github.com/repos/khyaathi/repo410/assignees{/user}', u'contents_url': u'https://api.github.com/repos/khyaathi/repo410/contents/{+path}', u'has_pages': False, u'git_refs_url': u'https://api.github.com/repos/khyaathi/repo410/git/refs{/sha}', u'open_issues_count': 0, u'has_projects': True, u'clone_url': u'https://github.com/khyaathi/repo410.git', u'watchers_count': 0, u'git_tags_url': u'https://api.github.com/repos/khyaathi/repo410/git/tags{/sha}', u'milestones_url': u'https://api.github.com/repos/khyaathi/repo410/milestones{/number}', u'languages_url': u'https://api.github.com/repos/khyaathi/repo410/languages', u'size': 0, u'homepage': None, u'fork': False, u'commits_url': u'https://api.github.com/repos/khyaathi/repo410/commits{/sha}', u'releases_url': u'https://api.github.com/repos/khyaathi/repo410/releases{/id}', u'issue_events_url': u'https://api.github.com/repos/khyaathi/repo410/issues/events{/number}', u'archive_url': u'https://api.github.com/repos/khyaathi/repo410/{archive_format}{/ref}', u'comments_url': u'https://api.github.com/repos/khyaathi/repo410/comments{/number}', u'events_url': u'https://api.github.com/repos/khyaathi/repo410/events', u'contributors_url': u'https://api.github.com/repos/khyaathi/repo410/contributors', u'html_url': u'https://github.com/khyaathi/repo410', u'forks': 0, u'compare_url': u'https://api.github.com/repos/khyaathi/repo410/compare/{base}...{head}', u'open_issues': 0, u'watchers': 0, u'git_url': u'git://github.com/khyaathi/repo410.git', u'svn_url': u'https://github.com/khyaathi/repo410', u'merges_url': u'https://api.github.com/repos/khyaathi/repo410/merges', u'has_issues': True, u'ssh_url': u'git@github.com:khyaathi/repo410.git', u'blobs_url': u'https://api.github.com/repos/khyaathi/repo410/git/blobs{/sha}', u'git_commits_url': u'https://api.github.com/repos/khyaathi/repo410/git/commits{/sha}', u'hooks_url': u'https://api.github.com/repos/khyaathi/repo410/hooks', u'has_downloads': True, u'license': None, u'name': u'repo410', u'language': None, u'url': u'https://api.github.com/repos/khyaathi/repo410', u'created_at': u'2018-02-11T02:03:42Z', u'pushed_at': u'2018-02-11T02:03:42Z', u'forks_count': 0, u'default_branch': u'master', u'teams_url': u'https://api.github.com/repos/khyaathi/repo410/teams', u'trees_url': u'https://api.github.com/repos/khyaathi/repo410/git/trees{/sha}', u'branches_url': u'https://api.github.com/repos/khyaathi/repo410/branches{/branch}', u'subscribers_url': u'https://api.github.com/repos/khyaathi/repo410/subscribers', u'permissions': {u'admin': True, u'push': True, u'pull': True}, u'stargazers_url': u'https://api.github.com/repos/khyaathi/repo410/stargazers'}, {u'issues_url': u'https://api.github.com/repos/khyaathi/repo_api/issues{/number}', u'deployments_url': u'https://api.github.com/repos/khyaathi/repo_api/deployments', u'stargazers_count': 0, u'forks_url': u'https://api.github.com/repos/khyaathi/repo_api/forks', u'mirror_url': None, u'subscription_url': u'https://api.github.com/repos/khyaathi/repo_api/subscription', u'notifications_url': u'https://api.github.com/repos/khyaathi/repo_api/notifications{?since,all,participating}', u'collaborators_url': u'https://api.github.com/repos/khyaathi/repo_api/collaborators{/collaborator}', u'updated_at': u'2018-02-11T02:13:33Z', u'private': False, u'pulls_url': u'https://api.github.com/repos/khyaathi/repo_api/pulls{/number}', u'issue_comment_url': u'https://api.github.com/repos/khyaathi/repo_api/issues/comments{/number}', u'labels_url': u'https://api.github.com/repos/khyaathi/repo_api/labels{/name}', u'has_wiki': True, u'full_name': u'khyaathi/repo_api', u'owner': {u'following_url': u'https://api.github.com/users/khyaathi/following{/other_user}', u'events_url': u'https://api.github.com/users/khyaathi/events{/privacy}', u'organizations_url': u'https://api.github.com/users/khyaathi/orgs', u'url': u'https://api.github.com/users/khyaathi', u'gists_url': u'https://api.github.com/users/khyaathi/gists{/gist_id}', u'html_url': u'https://github.com/khyaathi', u'subscriptions_url': u'https://api.github.com/users/khyaathi/subscriptions', u'avatar_url': u'https://avatars2.githubusercontent.com/u/34699715?v=4', u'repos_url': u'https://api.github.com/users/khyaathi/repos', u'received_events_url': u'https://api.github.com/users/khyaathi/received_events', u'gravatar_id': u'', u'starred_url': u'https://api.github.com/users/khyaathi/starred{/owner}{/repo}', u'site_admin': False, u'login': u'khyaathi', u'type': u'Organization', u'id': 34699715, u'followers_url': u'https://api.github.com/users/khyaathi/followers'}, u'statuses_url': u'https://api.github.com/repos/khyaathi/repo_api/statuses/{sha}', u'id': 121074417, u'keys_url': u'https://api.github.com/repos/khyaathi/repo_api/keys{/key_id}', u'description': None, u'tags_url': u'https://api.github.com/repos/khyaathi/repo_api/tags', u'archived': False, u'downloads_url': u'https://api.github.com/repos/khyaathi/repo_api/downloads', u'assignees_url': u'https://api.github.com/repos/khyaathi/repo_api/assignees{/user}', u'contents_url': u'https://api.github.com/repos/khyaathi/repo_api/contents/{+path}', u'has_pages': False, u'git_refs_url': u'https://api.github.com/repos/khyaathi/repo_api/git/refs{/sha}', u'open_issues_count': 0, u'has_projects': True, u'clone_url': u'https://github.com/khyaathi/repo_api.git', u'watchers_count': 0, u'git_tags_url': u'https://api.github.com/repos/khyaathi/repo_api/git/tags{/sha}', u'milestones_url': u'https://api.github.com/repos/khyaathi/repo_api/milestones{/number}', u'languages_url': u'https://api.github.com/repos/khyaathi/repo_api/languages', u'size': 0, u'homepage': None, u'fork': False, u'commits_url': u'https://api.github.com/repos/khyaathi/repo_api/commits{/sha}', u'releases_url': u'https://api.github.com/repos/khyaathi/repo_api/releases{/id}', u'issue_events_url': u'https://api.github.com/repos/khyaathi/repo_api/issues/events{/number}', u'archive_url': u'https://api.github.com/repos/khyaathi/repo_api/{archive_format}{/ref}', u'comments_url': u'https://api.github.com/repos/khyaathi/repo_api/comments{/number}', u'events_url': u'https://api.github.com/repos/khyaathi/repo_api/events', u'contributors_url': u'https://api.github.com/repos/khyaathi/repo_api/contributors', u'html_url': u'https://github.com/khyaathi/repo_api', u'forks': 0, u'compare_url': u'https://api.github.com/repos/khyaathi/repo_api/compare/{base}...{head}', u'open_issues': 0, u'watchers': 0, u'git_url': u'git://github.com/khyaathi/repo_api.git', u'svn_url': u'https://github.com/khyaathi/repo_api', u'merges_url': u'https://api.github.com/repos/khyaathi/repo_api/merges', u'has_issues': True, u'ssh_url': u'git@github.com:khyaathi/repo_api.git', u'blobs_url': u'https://api.github.com/repos/khyaathi/repo_api/git/blobs{/sha}', u'git_commits_url': u'https://api.github.com/repos/khyaathi/repo_api/git/commits{/sha}', u'hooks_url': u'https://api.github.com/repos/khyaathi/repo_api/hooks', u'has_downloads': True, u'license': None, u'name': u'repo_api', u'language': None, u'url': u'https://api.github.com/repos/khyaathi/repo_api', u'created_at': u'2018-02-11T02:13:33Z', u'pushed_at': u'2018-02-11T02:13:33Z', u'forks_count': 0, u'default_branch': u'master', u'teams_url': u'https://api.github.com/repos/khyaathi/repo_api/teams', u'trees_url': u'https://api.github.com/repos/khyaathi/repo_api/git/trees{/sha}', u'branches_url': u'https://api.github.com/repos/khyaathi/repo_api/branches{/branch}', u'subscribers_url': u'https://api.github.com/repos/khyaathi/repo_api/subscribers', u'permissions': {u'admin': True, u'push': True, u'pull': True}, u'stargazers_url': u'https://api.github.com/repos/khyaathi/repo_api/stargazers'}, {u'issues_url': u'https://api.github.com/repos/khyaathi/batch44_repo0/issues{/number}', u'deployments_url': u'https://api.github.com/repos/khyaathi/batch44_repo0/deployments', u'stargazers_count': 0, u'forks_url': u'https://api.github.com/repos/khyaathi/batch44_repo0/forks', u'mirror_url': None, u'subscription_url': u'https://api.github.com/repos/khyaathi/batch44_repo0/subscription', u'notifications_url': u'https://api.github.com/repos/khyaathi/batch44_repo0/notifications{?since,all,participating}', u'collaborators_url': u'https://api.github.com/repos/khyaathi/batch44_repo0/collaborators{/collaborator}', u'updated_at': u'2018-03-26T03:24:45Z', u'private': False, u'pulls_url': u'https://api.github.com/repos/khyaathi/batch44_repo0/pulls{/number}', u'issue_comment_url': u'https://api.github.com/repos/khyaathi/batch44_repo0/issues/comments{/number}', u'labels_url': u'https://api.github.com/repos/khyaathi/batch44_repo0/labels{/name}', u'has_wiki': True, u'full_name': u'khyaathi/batch44_repo0', u'owner': {u'following_url': u'https://api.github.com/users/khyaathi/following{/other_user}', u'events_url': u'https://api.github.com/users/khyaathi/events{/privacy}', u'organizations_url': u'https://api.github.com/users/khyaathi/orgs', u'url': u'https://api.github.com/users/khyaathi', u'gists_url': u'https://api.github.com/users/khyaathi/gists{/gist_id}', u'html_url': u'https://github.com/khyaathi', u'subscriptions_url': u'https://api.github.com/users/khyaathi/subscriptions', u'avatar_url': u'https://avatars2.githubusercontent.com/u/34699715?v=4', u'repos_url': u'https://api.github.com/users/khyaathi/repos', u'received_events_url': u'https://api.github.com/users/khyaathi/received_events', u'gravatar_id': u'', u'starred_url': u'https://api.github.com/users/khyaathi/starred{/owner}{/repo}', u'site_admin': False, u'login': u'khyaathi', u'type': u'Organization', u'id': 34699715, u'followers_url': u'https://api.github.com/users/khyaathi/followers'}, u'statuses_url': u'https://api.github.com/repos/khyaathi/batch44_repo0/statuses/{sha}', u'id': 126768133, u'keys_url': u'https://api.github.com/repos/khyaathi/batch44_repo0/keys{/key_id}', u'description': None, u'tags_url': u'https://api.github.com/repos/khyaathi/batch44_repo0/tags', u'archived': False, u'downloads_url': u'https://api.github.com/repos/khyaathi/batch44_repo0/downloads', u'assignees_url': u'https://api.github.com/repos/khyaathi/batch44_repo0/assignees{/user}', u'contents_url': u'https://api.github.com/repos/khyaathi/batch44_repo0/contents/{+path}', u'has_pages': False, u'git_refs_url': u'https://api.github.com/repos/khyaathi/batch44_repo0/git/refs{/sha}', u'open_issues_count': 0, u'has_projects': True, u'clone_url': u'https://github.com/khyaathi/batch44_repo0.git', u'watchers_count': 0, u'git_tags_url': u'https://api.github.com/repos/khyaathi/batch44_repo0/git/tags{/sha}', u'milestones_url': u'https://api.github.com/repos/khyaathi/batch44_repo0/milestones{/number}', u'languages_url': u'https://api.github.com/repos/khyaathi/batch44_repo0/languages', u'size': 0, u'homepage': None, u'fork': False, u'commits_url': u'https://api.github.com/repos/khyaathi/batch44_repo0/commits{/sha}', u'releases_url': u'https://api.github.com/repos/khyaathi/batch44_repo0/releases{/id}', u'issue_events_url': u'https://api.github.com/repos/khyaathi/batch44_repo0/issues/events{/number}', u'archive_url': u'https://api.github.com/repos/khyaathi/batch44_repo0/{archive_format}{/ref}', u'comments_url': u'https://api.github.com/repos/khyaathi/batch44_repo0/comments{/number}', u'events_url': u'https://api.github.com/repos/khyaathi/batch44_repo0/events', u'contributors_url': u'https://api.github.com/repos/khyaathi/batch44_repo0/contributors', u'html_url': u'https://github.com/khyaathi/batch44_repo0', u'forks': 0, u'compare_url': u'https://api.github.com/repos/khyaathi/batch44_repo0/compare/{base}...{head}', u'open_issues': 0, u'watchers': 0, u'git_url': u'git://github.com/khyaathi/batch44_repo0.git', u'svn_url': u'https://github.com/khyaathi/batch44_repo0', u'merges_url': u'https://api.github.com/repos/khyaathi/batch44_repo0/merges', u'has_issues': True, u'ssh_url': u'git@github.com:khyaathi/batch44_repo0.git', u'blobs_url': u'https://api.github.com/repos/khyaathi/batch44_repo0/git/blobs{/sha}', u'git_commits_url': u'https://api.github.com/repos/khyaathi/batch44_repo0/git/commits{/sha}', u'hooks_url': u'https://api.github.com/repos/khyaathi/batch44_repo0/hooks', u'has_downloads': True, u'license': None, u'name': u'batch44_repo0', u'language': None, u'url': u'https://api.github.com/repos/khyaathi/batch44_repo0', u'created_at': u'2018-03-26T03:24:45Z', u'pushed_at': u'2018-03-26T03:24:45Z', u'forks_count': 0, u'default_branch': u'master', u'teams_url': u'https://api.github.com/repos/khyaathi/batch44_repo0/teams', u'trees_url': u'https://api.github.com/repos/khyaathi/batch44_repo0/git/trees{/sha}', u'branches_url': u'https://api.github.com/repos/khyaathi/batch44_repo0/branches{/branch}', u'subscribers_url': u'https://api.github.com/repos/khyaathi/batch44_repo0/subscribers', u'permissions': {u'admin': True, u'push': True, u'pull': True}, u'stargazers_url': u'https://api.github.com/repos/khyaathi/batch44_repo0/stargazers'}, {u'issues_url': u'https://api.github.com/repos/khyaathi/repocreatedbyAPI/issues{/number}', u'deployments_url': u'https://api.github.com/repos/khyaathi/repocreatedbyAPI/deployments', u'stargazers_count': 0, u'forks_url': u'https://api.github.com/repos/khyaathi/repocreatedbyAPI/forks', u'mirror_url': None, u'subscription_url': u'https://api.github.com/repos/khyaathi/repocreatedbyAPI/subscription', u'notifications_url': u'https://api.github.com/repos/khyaathi/repocreatedbyAPI/notifications{?since,all,participating}', u'collaborators_url': u'https://api.github.com/repos/khyaathi/repocreatedbyAPI/collaborators{/collaborator}', u'updated_at': u'2018-03-26T03:43:13Z', u'private': False, u'pulls_url': u'https://api.github.com/repos/khyaathi/repocreatedbyAPI/pulls{/number}', u'issue_comment_url': u'https://api.github.com/repos/khyaathi/repocreatedbyAPI/issues/comments{/number}', u'labels_url': u'https://api.github.com/repos/khyaathi/repocreatedbyAPI/labels{/name}', u'has_wiki': True, u'full_name': u'khyaathi/repocreatedbyAPI', u'owner': {u'following_url': u'https://api.github.com/users/khyaathi/following{/other_user}', u'events_url': u'https://api.github.com/users/khyaathi/events{/privacy}', u'organizations_url': u'https://api.github.com/users/khyaathi/orgs', u'url': u'https://api.github.com/users/khyaathi', u'gists_url': u'https://api.github.com/users/khyaathi/gists{/gist_id}', u'html_url': u'https://github.com/khyaathi', u'subscriptions_url': u'https://api.github.com/users/khyaathi/subscriptions', u'avatar_url': u'https://avatars2.githubusercontent.com/u/34699715?v=4', u'repos_url': u'https://api.github.com/users/khyaathi/repos', u'received_events_url': u'https://api.github.com/users/khyaathi/received_events', u'gravatar_id': u'', u'starred_url': u'https://api.github.com/users/khyaathi/starred{/owner}{/repo}', u'site_admin': False, u'login': u'khyaathi', u'type': u'Organization', u'id': 34699715, u'followers_url': u'https://api.github.com/users/khyaathi/followers'}, u'statuses_url': u'https://api.github.com/repos/khyaathi/repocreatedbyAPI/statuses/{sha}', u'id': 126769820, u'keys_url': u'https://api.github.com/repos/khyaathi/repocreatedbyAPI/keys{/key_id}', u'description': None, u'tags_url': u'https://api.github.com/repos/khyaathi/repocreatedbyAPI/tags', u'archived': False, u'downloads_url': u'https://api.github.com/repos/khyaathi/repocreatedbyAPI/downloads', u'assignees_url': u'https://api.github.com/repos/khyaathi/repocreatedbyAPI/assignees{/user}', u'contents_url': u'https://api.github.com/repos/khyaathi/repocreatedbyAPI/contents/{+path}', u'has_pages': False, u'git_refs_url': u'https://api.github.com/repos/khyaathi/repocreatedbyAPI/git/refs{/sha}', u'open_issues_count': 0, u'has_projects': True, u'clone_url': u'https://github.com/khyaathi/repocreatedbyAPI.git', u'watchers_count': 0, u'git_tags_url': u'https://api.github.com/repos/khyaathi/repocreatedbyAPI/git/tags{/sha}', u'milestones_url': u'https://api.github.com/repos/khyaathi/repocreatedbyAPI/milestones{/number}', u'languages_url': u'https://api.github.com/repos/khyaathi/repocreatedbyAPI/languages', u'size': 0, u'homepage': None, u'fork': False, u'commits_url': u'https://api.github.com/repos/khyaathi/repocreatedbyAPI/commits{/sha}', u'releases_url': u'https://api.github.com/repos/khyaathi/repocreatedbyAPI/releases{/id}', u'issue_events_url': u'https://api.github.com/repos/khyaathi/repocreatedbyAPI/issues/events{/number}', u'archive_url': u'https://api.github.com/repos/khyaathi/repocreatedbyAPI/{archive_format}{/ref}', u'comments_url': u'https://api.github.com/repos/khyaathi/repocreatedbyAPI/comments{/number}', u'events_url': u'https://api.github.com/repos/khyaathi/repocreatedbyAPI/events', u'contributors_url': u'https://api.github.com/repos/khyaathi/repocreatedbyAPI/contributors', u'html_url': u'https://github.com/khyaathi/repocreatedbyAPI', u'forks': 0, u'compare_url': u'https://api.github.com/repos/khyaathi/repocreatedbyAPI/compare/{base}...{head}', u'open_issues': 0, u'watchers': 0, u'git_url': u'git://github.com/khyaathi/repocreatedbyAPI.git', u'svn_url': u'https://github.com/khyaathi/repocreatedbyAPI', u'merges_url': u'https://api.github.com/repos/khyaathi/repocreatedbyAPI/merges', u'has_issues': True, u'ssh_url': u'git@github.com:khyaathi/repocreatedbyAPI.git', u'blobs_url': u'https://api.github.com/repos/khyaathi/repocreatedbyAPI/git/blobs{/sha}', u'git_commits_url': u'https://api.github.com/repos/khyaathi/repocreatedbyAPI/git/commits{/sha}', u'hooks_url': u'https://api.github.com/repos/khyaathi/repocreatedbyAPI/hooks', u'has_downloads': True, u'license': None, u'name': u'repocreatedbyAPI', u'language': None, u'url': u'https://api.github.com/repos/khyaathi/repocreatedbyAPI', u'created_at': u'2018-03-26T03:43:13Z', u'pushed_at': u'2018-03-26T03:43:13Z', u'forks_count': 0, u'default_branch': u'master', u'teams_url': u'https://api.github.com/repos/khyaathi/repocreatedbyAPI/teams', u'trees_url': u'https://api.github.com/repos/khyaathi/repocreatedbyAPI/git/trees{/sha}', u'branches_url': u'https://api.github.com/repos/khyaathi/repocreatedbyAPI/branches{/branch}', u'subscribers_url': u'https://api.github.com/repos/khyaathi/repocreatedbyAPI/subscribers', u'permissions': {u'admin': True, u'push': True, u'pull': True}, u'stargazers_url': u'https://api.github.com/repos/khyaathi/repocreatedbyAPI/stargazers'}]\n"
     ]
    }
   ],
   "source": [
    "import requests as R\n",
    "URL = \"https://api.github.com/orgs/khyaathi/repos\"\n",
    "resp = R.get(URL, auth=(username, password))\n",
    "print resp.json()"
   ]
  },
  {
   "cell_type": "code",
   "execution_count": 20,
   "metadata": {
    "collapsed": true
   },
   "outputs": [],
   "source": [
    "import requests as R\n",
    "URL = \"https://api.github.com/orgs/khyaathi/repos\"\n",
    "resp = R.get(URL, auth=(username, password))\n",
    "repos = resp.json()"
   ]
  },
  {
   "cell_type": "code",
   "execution_count": 21,
   "metadata": {
    "collapsed": true
   },
   "outputs": [],
   "source": [
    "repo = repos[0]"
   ]
  },
  {
   "cell_type": "code",
   "execution_count": 23,
   "metadata": {},
   "outputs": [
    {
     "name": "stdout",
     "output_type": "stream",
     "text": [
      "{u'issues_url': u'https://api.github.com/repos/khyaathi/khyaathirepo1/issues{/number}', u'deployments_url': u'https://api.github.com/repos/khyaathi/khyaathirepo1/deployments', u'stargazers_count': 0, u'forks_url': u'https://api.github.com/repos/khyaathi/khyaathirepo1/forks', u'mirror_url': None, u'subscription_url': u'https://api.github.com/repos/khyaathi/khyaathirepo1/subscription', u'notifications_url': u'https://api.github.com/repos/khyaathi/khyaathirepo1/notifications{?since,all,participating}', u'collaborators_url': u'https://api.github.com/repos/khyaathi/khyaathirepo1/collaborators{/collaborator}', u'updated_at': u'2017-12-20T03:13:48Z', u'private': False, u'pulls_url': u'https://api.github.com/repos/khyaathi/khyaathirepo1/pulls{/number}', u'issue_comment_url': u'https://api.github.com/repos/khyaathi/khyaathirepo1/issues/comments{/number}', u'labels_url': u'https://api.github.com/repos/khyaathi/khyaathirepo1/labels{/name}', u'has_wiki': True, u'full_name': u'khyaathi/khyaathirepo1', u'owner': {u'following_url': u'https://api.github.com/users/khyaathi/following{/other_user}', u'events_url': u'https://api.github.com/users/khyaathi/events{/privacy}', u'organizations_url': u'https://api.github.com/users/khyaathi/orgs', u'url': u'https://api.github.com/users/khyaathi', u'gists_url': u'https://api.github.com/users/khyaathi/gists{/gist_id}', u'html_url': u'https://github.com/khyaathi', u'subscriptions_url': u'https://api.github.com/users/khyaathi/subscriptions', u'avatar_url': u'https://avatars2.githubusercontent.com/u/34699715?v=4', u'repos_url': u'https://api.github.com/users/khyaathi/repos', u'received_events_url': u'https://api.github.com/users/khyaathi/received_events', u'gravatar_id': u'', u'starred_url': u'https://api.github.com/users/khyaathi/starred{/owner}{/repo}', u'site_admin': False, u'login': u'khyaathi', u'type': u'Organization', u'id': 34699715, u'followers_url': u'https://api.github.com/users/khyaathi/followers'}, u'statuses_url': u'https://api.github.com/repos/khyaathi/khyaathirepo1/statuses/{sha}', u'id': 114837420, u'keys_url': u'https://api.github.com/repos/khyaathi/khyaathirepo1/keys{/key_id}', u'description': u'khyaathirepo1', u'tags_url': u'https://api.github.com/repos/khyaathi/khyaathirepo1/tags', u'archived': False, u'downloads_url': u'https://api.github.com/repos/khyaathi/khyaathirepo1/downloads', u'assignees_url': u'https://api.github.com/repos/khyaathi/khyaathirepo1/assignees{/user}', u'contents_url': u'https://api.github.com/repos/khyaathi/khyaathirepo1/contents/{+path}', u'has_pages': False, u'git_refs_url': u'https://api.github.com/repos/khyaathi/khyaathirepo1/git/refs{/sha}', u'open_issues_count': 0, u'has_projects': True, u'clone_url': u'https://github.com/khyaathi/khyaathirepo1.git', u'watchers_count': 0, u'git_tags_url': u'https://api.github.com/repos/khyaathi/khyaathirepo1/git/tags{/sha}', u'milestones_url': u'https://api.github.com/repos/khyaathi/khyaathirepo1/milestones{/number}', u'languages_url': u'https://api.github.com/repos/khyaathi/khyaathirepo1/languages', u'size': 0, u'homepage': None, u'fork': False, u'commits_url': u'https://api.github.com/repos/khyaathi/khyaathirepo1/commits{/sha}', u'releases_url': u'https://api.github.com/repos/khyaathi/khyaathirepo1/releases{/id}', u'issue_events_url': u'https://api.github.com/repos/khyaathi/khyaathirepo1/issues/events{/number}', u'archive_url': u'https://api.github.com/repos/khyaathi/khyaathirepo1/{archive_format}{/ref}', u'comments_url': u'https://api.github.com/repos/khyaathi/khyaathirepo1/comments{/number}', u'events_url': u'https://api.github.com/repos/khyaathi/khyaathirepo1/events', u'contributors_url': u'https://api.github.com/repos/khyaathi/khyaathirepo1/contributors', u'html_url': u'https://github.com/khyaathi/khyaathirepo1', u'forks': 0, u'compare_url': u'https://api.github.com/repos/khyaathi/khyaathirepo1/compare/{base}...{head}', u'open_issues': 0, u'watchers': 0, u'git_url': u'git://github.com/khyaathi/khyaathirepo1.git', u'svn_url': u'https://github.com/khyaathi/khyaathirepo1', u'merges_url': u'https://api.github.com/repos/khyaathi/khyaathirepo1/merges', u'has_issues': True, u'ssh_url': u'git@github.com:khyaathi/khyaathirepo1.git', u'blobs_url': u'https://api.github.com/repos/khyaathi/khyaathirepo1/git/blobs{/sha}', u'git_commits_url': u'https://api.github.com/repos/khyaathi/khyaathirepo1/git/commits{/sha}', u'hooks_url': u'https://api.github.com/repos/khyaathi/khyaathirepo1/hooks', u'has_downloads': True, u'license': None, u'name': u'khyaathirepo1', u'language': None, u'url': u'https://api.github.com/repos/khyaathi/khyaathirepo1', u'created_at': u'2017-12-20T03:13:48Z', u'pushed_at': u'2017-12-20T03:13:48Z', u'forks_count': 0, u'default_branch': u'master', u'teams_url': u'https://api.github.com/repos/khyaathi/khyaathirepo1/teams', u'trees_url': u'https://api.github.com/repos/khyaathi/khyaathirepo1/git/trees{/sha}', u'branches_url': u'https://api.github.com/repos/khyaathi/khyaathirepo1/branches{/branch}', u'subscribers_url': u'https://api.github.com/repos/khyaathi/khyaathirepo1/subscribers', u'permissions': {u'admin': True, u'push': True, u'pull': True}, u'stargazers_url': u'https://api.github.com/repos/khyaathi/khyaathirepo1/stargazers'}\n"
     ]
    }
   ],
   "source": [
    "print repo"
   ]
  },
  {
   "cell_type": "code",
   "execution_count": 24,
   "metadata": {},
   "outputs": [
    {
     "name": "stdout",
     "output_type": "stream",
     "text": [
      "[u'issues_url', u'deployments_url', u'stargazers_count', u'forks_url', u'mirror_url', u'subscription_url', u'notifications_url', u'collaborators_url', u'updated_at', u'private', u'pulls_url', u'issue_comment_url', u'labels_url', u'has_wiki', u'full_name', u'owner', u'statuses_url', u'id', u'keys_url', u'description', u'tags_url', u'archived', u'downloads_url', u'assignees_url', u'contents_url', u'has_pages', u'git_refs_url', u'open_issues_count', u'has_projects', u'clone_url', u'watchers_count', u'git_tags_url', u'milestones_url', u'languages_url', u'size', u'homepage', u'fork', u'commits_url', u'releases_url', u'issue_events_url', u'archive_url', u'comments_url', u'events_url', u'contributors_url', u'html_url', u'forks', u'compare_url', u'open_issues', u'watchers', u'git_url', u'svn_url', u'merges_url', u'has_issues', u'ssh_url', u'blobs_url', u'git_commits_url', u'hooks_url', u'has_downloads', u'license', u'name', u'language', u'url', u'created_at', u'pushed_at', u'forks_count', u'default_branch', u'teams_url', u'trees_url', u'branches_url', u'subscribers_url', u'permissions', u'stargazers_url']\n"
     ]
    }
   ],
   "source": [
    "print repo.keys()"
   ]
  },
  {
   "cell_type": "code",
   "execution_count": null,
   "metadata": {
    "collapsed": true
   },
   "outputs": [],
   "source": [
    "# get, post, put, delete\n",
    "URL = \"https://api.github.com/orgs/khyaathi/repos\"\n",
    "resp = R.get(URL, auth=(username, password))\n",
    "orgs = resp.json()"
   ]
  },
  {
   "cell_type": "code",
   "execution_count": 25,
   "metadata": {
    "collapsed": true
   },
   "outputs": [],
   "source": [
    "# signup to github manually\n",
    "# Below assignments should complete using an github mofule and API\n",
    "# use credentials to create org, create repos in the org, \n",
    "# get the repos of org\n",
    "# modify the org\n",
    "# modify the repos in the org.\n",
    "# create three repos in the org.\n",
    "# delete first two repos.\n"
   ]
  },
  {
   "cell_type": "code",
   "execution_count": 26,
   "metadata": {},
   "outputs": [
    {
     "name": "stdout",
     "output_type": "stream",
     "text": [
      "<Response [404]>\n"
     ]
    }
   ],
   "source": [
    "URL=\"https://api.github.com/orgs/\"\n",
    "data={\"name\":\"batch44_org\"}\n",
    "resp = R.post(URL, data=data,auth=(username, password))\n",
    "print resp"
   ]
  },
  {
   "cell_type": "code",
   "execution_count": 27,
   "metadata": {},
   "outputs": [
    {
     "data": {
      "text/plain": [
       "'Not Found'"
      ]
     },
     "execution_count": 27,
     "metadata": {},
     "output_type": "execute_result"
    }
   ],
   "source": [
    "resp.reason"
   ]
  },
  {
   "cell_type": "code",
   "execution_count": null,
   "metadata": {
    "collapsed": true
   },
   "outputs": [],
   "source": []
  }
 ],
 "metadata": {
  "kernelspec": {
   "display_name": "Python 2",
   "language": "python",
   "name": "python2"
  },
  "language_info": {
   "codemirror_mode": {
    "name": "ipython",
    "version": 2
   },
   "file_extension": ".py",
   "mimetype": "text/x-python",
   "name": "python",
   "nbconvert_exporter": "python",
   "pygments_lexer": "ipython2",
   "version": "2.7.14"
  }
 },
 "nbformat": 4,
 "nbformat_minor": 2
}
