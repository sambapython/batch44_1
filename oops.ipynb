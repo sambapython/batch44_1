{
 "cells": [
  {
   "cell_type": "code",
   "execution_count": 1,
   "metadata": {
    "collapsed": true
   },
   "outputs": [],
   "source": [
    "# data binding\n",
    "# encapsulation\n",
    "# inheritance \n",
    "# polymorphism(method overloading, method overriding, operator overloading)\n",
    "# abstraction\n",
    "# __new__, __init__, singleton\n"
   ]
  },
  {
   "cell_type": "code",
   "execution_count": 2,
   "metadata": {},
   "outputs": [
    {
     "name": "stdout",
     "output_type": "stream",
     "text": [
      "30\n",
      "200\n",
      "0.5\n"
     ]
    }
   ],
   "source": [
    "def add(a,b):\n",
    "    return a+b\n",
    "def mul(a,b):\n",
    "    sum1=add(a,b)\n",
    "    return a*b\n",
    "def div(a,b):\n",
    "    return a/float(b)\n",
    "print add(10,20)\n",
    "print mul(10,20)\n",
    "print div(10,20)"
   ]
  },
  {
   "cell_type": "code",
   "execution_count": 3,
   "metadata": {},
   "outputs": [
    {
     "name": "stdout",
     "output_type": "stream",
     "text": [
      "this is class\n",
      "a1=10,b1=20\n"
     ]
    }
   ],
   "source": [
    "def fun():\n",
    "    print \"this is fun\"\n",
    "class ClassName:\n",
    "    print \"this is class\"\n",
    "    a1=10\n",
    "    b1=20\n",
    "    print \"a1=%s,b1=%s\"%(a1,b1)"
   ]
  },
  {
   "cell_type": "code",
   "execution_count": 4,
   "metadata": {},
   "outputs": [
    {
     "name": "stdout",
     "output_type": "stream",
     "text": [
      "this is class\n",
      "a1=10,b1=20\n"
     ]
    }
   ],
   "source": [
    "def fun():\n",
    "    print \"this is fun\"\n",
    "class ClassName:\n",
    "    print \"this is class\"\n",
    "    a1=10\n",
    "    b1=20\n",
    "    print \"a1=%s,b1=%s\"%(a1,b1)\n",
    "    def add(a,b):\n",
    "        print \"this is add in class\""
   ]
  },
  {
   "cell_type": "code",
   "execution_count": 5,
   "metadata": {},
   "outputs": [
    {
     "name": "stdout",
     "output_type": "stream",
     "text": [
      "this is class\n",
      "a1=10,b1=20\n",
      "this is add in class\n"
     ]
    }
   ],
   "source": [
    "def fun():\n",
    "    print \"this is fun\"\n",
    "class ClassName:\n",
    "    print \"this is class\"\n",
    "    a1=10\n",
    "    b1=20\n",
    "    print \"a1=%s,b1=%s\"%(a1,b1)\n",
    "    def add(a,b):\n",
    "        print \"this is add in class\"\n",
    "    add(10,20)"
   ]
  },
  {
   "cell_type": "code",
   "execution_count": 6,
   "metadata": {},
   "outputs": [
    {
     "name": "stdout",
     "output_type": "stream",
     "text": [
      "this is class\n",
      "a1=10,b1=20\n",
      "this is add in class\n",
      "this is class\n",
      "a1=10,b1=20\n",
      "this is add in class\n"
     ]
    }
   ],
   "source": [
    "\n",
    "class ClassName:\n",
    "    print \"this is class\"\n",
    "    a1=10\n",
    "    b1=20\n",
    "    print \"a1=%s,b1=%s\"%(a1,b1)\n",
    "    def add(a,b):\n",
    "        print \"this is add in class\"\n",
    "    add(10,20)\n",
    "print \"this is class\"\n",
    "a1=10\n",
    "b1=20\n",
    "print \"a1=%s,b1=%s\"%(a1,b1)\n",
    "def add(a,b):\n",
    "    print \"this is add in class\"\n",
    "add(10,20)"
   ]
  },
  {
   "cell_type": "code",
   "execution_count": 7,
   "metadata": {},
   "outputs": [
    {
     "name": "stdout",
     "output_type": "stream",
     "text": [
      "this is class\n",
      "a2=100,b2=200\n",
      "this is add in class\n",
      "this is class\n",
      "a1=10,b1=20\n",
      "this is add in class\n",
      "a2 outside the class block:"
     ]
    },
    {
     "ename": "NameError",
     "evalue": "name 'a2' is not defined",
     "output_type": "error",
     "traceback": [
      "\u001b[0;31m---------------------------------------------------------------------------\u001b[0m",
      "\u001b[0;31mNameError\u001b[0m                                 Traceback (most recent call last)",
      "\u001b[0;32m<ipython-input-7-25d829f30e08>\u001b[0m in \u001b[0;36m<module>\u001b[0;34m()\u001b[0m\n\u001b[1;32m     15\u001b[0m     \u001b[0;32mprint\u001b[0m \u001b[0;34m\"this is add in class\"\u001b[0m\u001b[0;34m\u001b[0m\u001b[0m\n\u001b[1;32m     16\u001b[0m \u001b[0madd\u001b[0m\u001b[0;34m(\u001b[0m\u001b[0;36m10\u001b[0m\u001b[0;34m,\u001b[0m\u001b[0;36m20\u001b[0m\u001b[0;34m)\u001b[0m\u001b[0;34m\u001b[0m\u001b[0m\n\u001b[0;32m---> 17\u001b[0;31m \u001b[0;32mprint\u001b[0m \u001b[0;34m\"a2 outside the class block:\"\u001b[0m\u001b[0;34m,\u001b[0m\u001b[0ma2\u001b[0m\u001b[0;34m\u001b[0m\u001b[0m\n\u001b[0m",
      "\u001b[0;31mNameError\u001b[0m: name 'a2' is not defined"
     ]
    }
   ],
   "source": [
    "\n",
    "class ClassName:\n",
    "    print \"this is class\"\n",
    "    a2=100\n",
    "    b2=200\n",
    "    print \"a2=%s,b2=%s\"%(a2,b2)\n",
    "    def add2(a,b):\n",
    "        print \"this is add in class\"\n",
    "    add(10,20)\n",
    "print \"this is class\"\n",
    "a1=10\n",
    "b1=20\n",
    "print \"a1=%s,b1=%s\"%(a1,b1)\n",
    "def add(a,b):\n",
    "    print \"this is add in class\"\n",
    "add(10,20)\n",
    "print \"a2 outside the class block:\",a2"
   ]
  },
  {
   "cell_type": "code",
   "execution_count": 8,
   "metadata": {},
   "outputs": [
    {
     "name": "stdout",
     "output_type": "stream",
     "text": [
      " this is class\n",
      "a2=100,b2=200\n",
      "this is add in class\n",
      "this is class\n",
      "a1=10,b1=20\n",
      "this is add in class\n",
      "a2 outside the class block: 100\n"
     ]
    }
   ],
   "source": [
    "\n",
    "class ClassName:\n",
    "    print \"this is class\"\n",
    "    a2=100\n",
    "    b2=200\n",
    "    print \"a2=%s,b2=%s\"%(a2,b2)\n",
    "    def add2(a,b):\n",
    "        print \"this is add in class\"\n",
    "    add(10,20)\n",
    "print \"this is class\"\n",
    "a1=10\n",
    "b1=20\n",
    "print \"a1=%s,b1=%s\"%(a1,b1)\n",
    "def add(a,b):\n",
    "    print \"this is add in class\"\n",
    "add(10,20)\n",
    "print \"a2 outside the class block:\",ClassName.a2"
   ]
  },
  {
   "cell_type": "code",
   "execution_count": 9,
   "metadata": {},
   "outputs": [
    {
     "name": "stdout",
     "output_type": "stream",
     "text": [
      "a2 outside the class block: 100\n",
      "b2 outside the class block: 200\n"
     ]
    }
   ],
   "source": [
    "\n",
    "class ClassName:\n",
    "    a2=100\n",
    "    b2=200\n",
    "    def add2(a,b):\n",
    "        print \"this is add in class\"\n",
    "    \n",
    "print \"a2 outside the class block:\",ClassName.a2\n",
    "print \"b2 outside the class block:\",ClassName.b2\n",
    "#print \"calling add2 outside the class block:\",ClassName.add2(10,20)"
   ]
  },
  {
   "cell_type": "code",
   "execution_count": 10,
   "metadata": {},
   "outputs": [
    {
     "name": "stdout",
     "output_type": "stream",
     "text": [
      "a2 outside the class block: 100\n",
      "b2 outside the class block: 200\n",
      "calling add2 outside the class block:"
     ]
    },
    {
     "ename": "TypeError",
     "evalue": "unbound method add2() must be called with ClassName instance as first argument (got int instance instead)",
     "output_type": "error",
     "traceback": [
      "\u001b[0;31m---------------------------------------------------------------------------\u001b[0m",
      "\u001b[0;31mTypeError\u001b[0m                                 Traceback (most recent call last)",
      "\u001b[0;32m<ipython-input-10-ad604fc7fb70>\u001b[0m in \u001b[0;36m<module>\u001b[0;34m()\u001b[0m\n\u001b[1;32m      9\u001b[0m \u001b[0;32mprint\u001b[0m \u001b[0;34m\"a2 outside the class block:\"\u001b[0m\u001b[0;34m,\u001b[0m\u001b[0mClassName\u001b[0m\u001b[0;34m.\u001b[0m\u001b[0ma2\u001b[0m\u001b[0;34m\u001b[0m\u001b[0m\n\u001b[1;32m     10\u001b[0m \u001b[0;32mprint\u001b[0m \u001b[0;34m\"b2 outside the class block:\"\u001b[0m\u001b[0;34m,\u001b[0m\u001b[0mClassName\u001b[0m\u001b[0;34m.\u001b[0m\u001b[0mb2\u001b[0m\u001b[0;34m\u001b[0m\u001b[0m\n\u001b[0;32m---> 11\u001b[0;31m \u001b[0;32mprint\u001b[0m \u001b[0;34m\"calling add2 outside the class block:\"\u001b[0m\u001b[0;34m,\u001b[0m\u001b[0mClassName\u001b[0m\u001b[0;34m.\u001b[0m\u001b[0madd2\u001b[0m\u001b[0;34m(\u001b[0m\u001b[0;36m10\u001b[0m\u001b[0;34m,\u001b[0m\u001b[0;36m20\u001b[0m\u001b[0;34m)\u001b[0m\u001b[0;34m\u001b[0m\u001b[0m\n\u001b[0m",
      "\u001b[0;31mTypeError\u001b[0m: unbound method add2() must be called with ClassName instance as first argument (got int instance instead)"
     ]
    }
   ],
   "source": [
    "\n",
    "class ClassName:\n",
    "    a2=100\n",
    "    b2=200\n",
    "    def add2(a,b):\n",
    "        print \"this is add in class\"\n",
    "        return a+b\n",
    "    \n",
    "print \"a2 outside the class block:\",ClassName.a2\n",
    "print \"b2 outside the class block:\",ClassName.b2\n",
    "print \"calling add2 outside the class block:\",ClassName.add2(10,20)"
   ]
  },
  {
   "cell_type": "code",
   "execution_count": 11,
   "metadata": {},
   "outputs": [
    {
     "name": "stdout",
     "output_type": "stream",
     "text": [
      " a2 outside the class block: 100\n",
      "b2 outside the class block: 200\n",
      "calling add2 outside the class block: inst= <__main__.ClassName instance at 0x7fe46c683170>\n",
      "this is add in class\n",
      "30\n"
     ]
    }
   ],
   "source": [
    "\n",
    "class ClassName:\n",
    "    a2=100\n",
    "    b2=200\n",
    "    def add2(inst,a,b):\n",
    "        print \"inst=\",inst\n",
    "        print \"this is add in class\"\n",
    "        return a+b\n",
    "    \n",
    "print \"a2 outside the class block:\",ClassName.a2\n",
    "print \"b2 outside the class block:\",ClassName.b2\n",
    "class_instance=ClassName()\n",
    "print \"calling add2 outside the class block:\",ClassName.add2(class_instance,10,20)"
   ]
  },
  {
   "cell_type": "code",
   "execution_count": 13,
   "metadata": {},
   "outputs": [
    {
     "name": "stdout",
     "output_type": "stream",
     "text": [
      "100\n",
      "100\n"
     ]
    }
   ],
   "source": [
    "class ClassName:\n",
    "    a2=100\n",
    "    b2=200\n",
    "    def add2(inst,a,b):\n",
    "        return a+b\n",
    "class_instance=ClassName()\n",
    "print ClassName.a2\n",
    "print class_instance.a2"
   ]
  },
  {
   "cell_type": "code",
   "execution_count": 14,
   "metadata": {},
   "outputs": [
    {
     "name": "stdout",
     "output_type": "stream",
     "text": [
      "200\n",
      "200\n"
     ]
    }
   ],
   "source": [
    "class ClassName:\n",
    "    a2=100\n",
    "    b2=200\n",
    "    def add2(inst,a,b):\n",
    "        return a+b\n",
    "class_instance=ClassName()\n",
    "print ClassName.b2\n",
    "print class_instance.b2"
   ]
  },
  {
   "cell_type": "code",
   "execution_count": 15,
   "metadata": {},
   "outputs": [
    {
     "ename": "TypeError",
     "evalue": "unbound method add2() must be called with ClassName instance as first argument (got int instance instead)",
     "output_type": "error",
     "traceback": [
      "\u001b[0;31m---------------------------------------------------------------------------\u001b[0m",
      "\u001b[0;31mTypeError\u001b[0m                                 Traceback (most recent call last)",
      "\u001b[0;32m<ipython-input-15-f53381d316b4>\u001b[0m in \u001b[0;36m<module>\u001b[0;34m()\u001b[0m\n\u001b[1;32m      5\u001b[0m         \u001b[0;32mreturn\u001b[0m \u001b[0ma\u001b[0m\u001b[0;34m+\u001b[0m\u001b[0mb\u001b[0m\u001b[0;34m\u001b[0m\u001b[0m\n\u001b[1;32m      6\u001b[0m \u001b[0mclass_instance\u001b[0m\u001b[0;34m=\u001b[0m\u001b[0mClassName\u001b[0m\u001b[0;34m(\u001b[0m\u001b[0;34m)\u001b[0m\u001b[0;34m\u001b[0m\u001b[0m\n\u001b[0;32m----> 7\u001b[0;31m \u001b[0;32mprint\u001b[0m \u001b[0mClassName\u001b[0m\u001b[0;34m.\u001b[0m\u001b[0madd2\u001b[0m\u001b[0;34m(\u001b[0m\u001b[0;36m10\u001b[0m\u001b[0;34m,\u001b[0m\u001b[0;36m20\u001b[0m\u001b[0;34m)\u001b[0m\u001b[0;34m\u001b[0m\u001b[0m\n\u001b[0m",
      "\u001b[0;31mTypeError\u001b[0m: unbound method add2() must be called with ClassName instance as first argument (got int instance instead)"
     ]
    }
   ],
   "source": [
    "class ClassName:\n",
    "    a2=100\n",
    "    b2=200\n",
    "    def add2(inst,a,b):\n",
    "        return a+b\n",
    "class_instance=ClassName()\n",
    "print ClassName.add2(10,20)"
   ]
  },
  {
   "cell_type": "code",
   "execution_count": 16,
   "metadata": {},
   "outputs": [
    {
     "name": "stdout",
     "output_type": "stream",
     "text": [
      "30\n"
     ]
    }
   ],
   "source": [
    "class ClassName:\n",
    "    a2=100\n",
    "    b2=200\n",
    "    def add2(inst,a,b):\n",
    "        return a+b\n",
    "class_instance=ClassName()\n",
    "print ClassName.add2(class_instance,10,20)"
   ]
  },
  {
   "cell_type": "code",
   "execution_count": 17,
   "metadata": {},
   "outputs": [
    {
     "name": "stdout",
     "output_type": "stream",
     "text": [
      "30\n",
      "300\n"
     ]
    }
   ],
   "source": [
    "class ClassName:\n",
    "    a2=100\n",
    "    b2=200\n",
    "    def add2(inst,a,b):\n",
    "        return a+b\n",
    "class_instance=ClassName()\n",
    "print ClassName.add2(class_instance,10,20)\n",
    "print class_instance.add2(100,200)"
   ]
  },
  {
   "cell_type": "code",
   "execution_count": 18,
   "metadata": {},
   "outputs": [
    {
     "name": "stdout",
     "output_type": "stream",
     "text": [
      "60\n"
     ]
    },
    {
     "ename": "TypeError",
     "evalue": "add() takes exactly 3 arguments (2 given)",
     "output_type": "error",
     "traceback": [
      "\u001b[0;31m---------------------------------------------------------------------------\u001b[0m",
      "\u001b[0;31mTypeError\u001b[0m                                 Traceback (most recent call last)",
      "\u001b[0;32m<ipython-input-18-2c32f7a15584>\u001b[0m in \u001b[0;36m<module>\u001b[0;34m()\u001b[0m\n\u001b[1;32m      2\u001b[0m     \u001b[0;32mreturn\u001b[0m \u001b[0ma\u001b[0m\u001b[0;34m+\u001b[0m\u001b[0mb\u001b[0m\u001b[0;34m+\u001b[0m\u001b[0mc\u001b[0m\u001b[0;34m\u001b[0m\u001b[0m\n\u001b[1;32m      3\u001b[0m \u001b[0;32mprint\u001b[0m \u001b[0madd\u001b[0m\u001b[0;34m(\u001b[0m\u001b[0;36m10\u001b[0m\u001b[0;34m,\u001b[0m\u001b[0;36m20\u001b[0m\u001b[0;34m,\u001b[0m\u001b[0;36m30\u001b[0m\u001b[0;34m)\u001b[0m\u001b[0;34m\u001b[0m\u001b[0m\n\u001b[0;32m----> 4\u001b[0;31m \u001b[0;32mprint\u001b[0m \u001b[0madd\u001b[0m\u001b[0;34m(\u001b[0m\u001b[0;36m30\u001b[0m\u001b[0;34m,\u001b[0m\u001b[0;36m40\u001b[0m\u001b[0;34m)\u001b[0m\u001b[0;34m\u001b[0m\u001b[0m\n\u001b[0m",
      "\u001b[0;31mTypeError\u001b[0m: add() takes exactly 3 arguments (2 given)"
     ]
    }
   ],
   "source": [
    "def add(a,b,c):\n",
    "    return a+b+c\n",
    "print add(10,20,30)\n",
    "print add(30,40)"
   ]
  },
  {
   "cell_type": "code",
   "execution_count": 19,
   "metadata": {},
   "outputs": [
    {
     "name": "stdout",
     "output_type": "stream",
     "text": [
      "30\n",
      "300\n"
     ]
    }
   ],
   "source": [
    "class ClassName:\n",
    "    a2=100\n",
    "    b2=200\n",
    "    def add2(inst,a,b):\n",
    "        return a+b\n",
    "class_instance=ClassName()\n",
    "print ClassName.add2(class_instance,10,20)\n",
    "print class_instance.add2(100,200)"
   ]
  },
  {
   "cell_type": "code",
   "execution_count": 20,
   "metadata": {},
   "outputs": [
    {
     "name": "stdout",
     "output_type": "stream",
     "text": [
      "30\n"
     ]
    },
    {
     "ename": "TypeError",
     "evalue": "add2() takes exactly 3 arguments (4 given)",
     "output_type": "error",
     "traceback": [
      "\u001b[0;31m---------------------------------------------------------------------------\u001b[0m",
      "\u001b[0;31mTypeError\u001b[0m                                 Traceback (most recent call last)",
      "\u001b[0;32m<ipython-input-20-dec118b6c430>\u001b[0m in \u001b[0;36m<module>\u001b[0;34m()\u001b[0m\n\u001b[1;32m      6\u001b[0m \u001b[0mclass_instance\u001b[0m\u001b[0;34m=\u001b[0m\u001b[0mClassName\u001b[0m\u001b[0;34m(\u001b[0m\u001b[0;34m)\u001b[0m\u001b[0;34m\u001b[0m\u001b[0m\n\u001b[1;32m      7\u001b[0m \u001b[0;32mprint\u001b[0m \u001b[0mClassName\u001b[0m\u001b[0;34m.\u001b[0m\u001b[0madd2\u001b[0m\u001b[0;34m(\u001b[0m\u001b[0mclass_instance\u001b[0m\u001b[0;34m,\u001b[0m\u001b[0;36m10\u001b[0m\u001b[0;34m,\u001b[0m\u001b[0;36m20\u001b[0m\u001b[0;34m)\u001b[0m\u001b[0;34m\u001b[0m\u001b[0m\n\u001b[0;32m----> 8\u001b[0;31m \u001b[0;32mprint\u001b[0m \u001b[0mclass_instance\u001b[0m\u001b[0;34m.\u001b[0m\u001b[0madd2\u001b[0m\u001b[0;34m(\u001b[0m\u001b[0mclass_instance\u001b[0m\u001b[0;34m,\u001b[0m\u001b[0;36m100\u001b[0m\u001b[0;34m,\u001b[0m\u001b[0;36m200\u001b[0m\u001b[0;34m)\u001b[0m\u001b[0;34m\u001b[0m\u001b[0m\n\u001b[0m",
      "\u001b[0;31mTypeError\u001b[0m: add2() takes exactly 3 arguments (4 given)"
     ]
    }
   ],
   "source": [
    "class ClassName:\n",
    "    a2=100\n",
    "    b2=200\n",
    "    def add2(inst,a,b):\n",
    "        return a+b\n",
    "class_instance=ClassName()\n",
    "print ClassName.add2(class_instance,10,20)\n",
    "print class_instance.add2(class_instance,100,200)"
   ]
  },
  {
   "cell_type": "code",
   "execution_count": 21,
   "metadata": {},
   "outputs": [
    {
     "name": "stdout",
     "output_type": "stream",
     "text": [
      "30\n",
      "300\n"
     ]
    }
   ],
   "source": [
    "class ClassName:\n",
    "    a2=100\n",
    "    b2=200\n",
    "    def add2(inst,a,b):\n",
    "        return a+b\n",
    "class_instance=ClassName()\n",
    "print ClassName.add2(class_instance,10,20)\n",
    "#print ClassName.add2(class_instance,100,200)\n",
    "print class_instance.add2(100,200)"
   ]
  },
  {
   "cell_type": "code",
   "execution_count": 22,
   "metadata": {},
   "outputs": [
    {
     "name": "stdout",
     "output_type": "stream",
     "text": [
      "class_instance= <__main__.ClassName instance at 0x7fe46c5fe3f8>\n",
      "inst= <__main__.ClassName instance at 0x7fe46c5fe3f8>\n",
      "300\n"
     ]
    }
   ],
   "source": [
    "class ClassName:\n",
    "    a2=100\n",
    "    b2=200\n",
    "    def add2(inst,a,b):\n",
    "        print \"inst=\",inst\n",
    "        return a+b\n",
    "class_instance=ClassName()\n",
    "print \"class_instance=\",class_instance\n",
    "print class_instance.add2(100,200)"
   ]
  },
  {
   "cell_type": "code",
   "execution_count": 23,
   "metadata": {},
   "outputs": [
    {
     "name": "stdout",
     "output_type": "stream",
     "text": [
      "class_instance= <__main__.ClassName instance at 0x7fe46c5fe5f0> 140619047495152\n",
      "inst= <__main__.ClassName instance at 0x7fe46c5fe5f0> 140619047495152\n",
      "300\n"
     ]
    }
   ],
   "source": [
    "class ClassName:\n",
    "    a2=100\n",
    "    b2=200\n",
    "    def add2(inst,a,b):\n",
    "        print \"inst=\",inst,id(inst)\n",
    "        return a+b\n",
    "class_instance=ClassName()\n",
    "print \"class_instance=\",class_instance,id(class_instance)\n",
    "print class_instance.add2(100,200)"
   ]
  },
  {
   "cell_type": "code",
   "execution_count": 25,
   "metadata": {},
   "outputs": [
    {
     "name": "stdout",
     "output_type": "stream",
     "text": [
      "Khyaathi\n",
      "Khyaathi\n"
     ]
    }
   ],
   "source": [
    "class Emp:\n",
    "    company=\"Khyaathi\"\n",
    "    def get(inst):\n",
    "        return\n",
    "anil = Emp()\n",
    "print Emp.company\n",
    "print anil.company"
   ]
  },
  {
   "cell_type": "code",
   "execution_count": 26,
   "metadata": {},
   "outputs": [
    {
     "name": "stdout",
     "output_type": "stream",
     "text": [
      "Khyaathi\n",
      "Khyaathi\n",
      "this is get\n",
      "this is get\n"
     ]
    }
   ],
   "source": [
    "class Emp:\n",
    "    company=\"Khyaathi\"\n",
    "    def get(inst):\n",
    "        return \"this is get\"\n",
    "anil = Emp()\n",
    "print Emp.company\n",
    "print anil.company\n",
    "print Emp.get(anil)\n",
    "print anil.get()"
   ]
  },
  {
   "cell_type": "code",
   "execution_count": 27,
   "metadata": {},
   "outputs": [
    {
     "name": "stdout",
     "output_type": "stream",
     "text": [
      "Khyaathi\n",
      "this is get\n"
     ]
    }
   ],
   "source": [
    "class Emp:\n",
    "    company=\"Khyaathi\"\n",
    "    def get(inst):\n",
    "        return \"this is get\"\n",
    "anil = Emp()\n",
    "print anil.company\n",
    "print anil.get()"
   ]
  },
  {
   "cell_type": "code",
   "execution_count": 28,
   "metadata": {},
   "outputs": [
    {
     "name": "stdout",
     "output_type": "stream",
     "text": [
      "Khyaathi\n",
      "this is get\n",
      "Anil Kumar\n",
      "23\n",
      "123456\n"
     ]
    }
   ],
   "source": [
    "class Emp:\n",
    "    company=\"Khyaathi\"\n",
    "    def get(inst):\n",
    "        return \"this is get\"\n",
    "anil = Emp()\n",
    "anil.name=\"Anil Kumar\"\n",
    "anil.age=23\n",
    "anil.sal=123456\n",
    "print anil.company\n",
    "print anil.get()\n",
    "print anil.name\n",
    "print anil.age\n",
    "print anil.sal"
   ]
  },
  {
   "cell_type": "code",
   "execution_count": 29,
   "metadata": {},
   "outputs": [
    {
     "name": "stdout",
     "output_type": "stream",
     "text": [
      "Khyaathi\n",
      "this is get\n",
      "Anil Kumar\n",
      "23\n",
      "123456\n"
     ]
    },
    {
     "ename": "AttributeError",
     "evalue": "class Emp has no attribute 'name'",
     "output_type": "error",
     "traceback": [
      "\u001b[0;31m---------------------------------------------------------------------------\u001b[0m",
      "\u001b[0;31mAttributeError\u001b[0m                            Traceback (most recent call last)",
      "\u001b[0;32m<ipython-input-29-4547d0cb995f>\u001b[0m in \u001b[0;36m<module>\u001b[0;34m()\u001b[0m\n\u001b[1;32m     12\u001b[0m \u001b[0;32mprint\u001b[0m \u001b[0manil\u001b[0m\u001b[0;34m.\u001b[0m\u001b[0mage\u001b[0m\u001b[0;34m\u001b[0m\u001b[0m\n\u001b[1;32m     13\u001b[0m \u001b[0;32mprint\u001b[0m \u001b[0manil\u001b[0m\u001b[0;34m.\u001b[0m\u001b[0msal\u001b[0m\u001b[0;34m\u001b[0m\u001b[0m\n\u001b[0;32m---> 14\u001b[0;31m \u001b[0;32mprint\u001b[0m \u001b[0mEmp\u001b[0m\u001b[0;34m.\u001b[0m\u001b[0mname\u001b[0m\u001b[0;34m\u001b[0m\u001b[0m\n\u001b[0m",
      "\u001b[0;31mAttributeError\u001b[0m: class Emp has no attribute 'name'"
     ]
    }
   ],
   "source": [
    "class Emp:\n",
    "    company=\"Khyaathi\"\n",
    "    company_address=\"ad1\"\n",
    "    def get(inst):\n",
    "        return \"this is get\"\n",
    "anil = Emp()\n",
    "anil.name=\"Anil Kumar\"\n",
    "anil.age=23\n",
    "anil.sal=123456\n",
    "print anil.company\n",
    "print anil.get()\n",
    "print anil.name\n",
    "print anil.age\n",
    "print anil.sal\n",
    "print Emp.name"
   ]
  },
  {
   "cell_type": "code",
   "execution_count": 30,
   "metadata": {},
   "outputs": [
    {
     "name": "stdout",
     "output_type": "stream",
     "text": [
      "('Anil Kumar', 23, 123456)\n"
     ]
    }
   ],
   "source": [
    "class Emp:\n",
    "    company=\"Khyaathi\"\n",
    "    company_address=\"ad1\"\n",
    "    def get(inst):\n",
    "        return inst.name, inst.age, inst.sal\n",
    "anil = Emp()\n",
    "anil.name=\"Anil Kumar\"\n",
    "anil.age=23\n",
    "anil.sal=123456\n",
    "pavan = Emp()\n",
    "pavan.name=\"Pavan\"\n",
    "pavan.age=24\n",
    "pavan.sal=45678\n",
    "jay=Emp()\n",
    "jay.name=\"JAYARAM\"\n",
    "jay.age=27\n",
    "jay.sal=2345\n",
    "print Emp.get(anil)"
   ]
  },
  {
   "cell_type": "code",
   "execution_count": 31,
   "metadata": {},
   "outputs": [
    {
     "name": "stdout",
     "output_type": "stream",
     "text": [
      "('Anil Kumar', 23, 123456)\n",
      "('Pavan', 24, 45678)\n",
      "('JAYARAM', 27, 2345)\n"
     ]
    }
   ],
   "source": [
    "class Emp:\n",
    "    company=\"Khyaathi\"\n",
    "    company_address=\"ad1\"\n",
    "    def get(inst):\n",
    "        return inst.name, inst.age, inst.sal\n",
    "anil = Emp()\n",
    "anil.name=\"Anil Kumar\"\n",
    "anil.age=23\n",
    "anil.sal=123456\n",
    "pavan = Emp()\n",
    "pavan.name=\"Pavan\"\n",
    "pavan.age=24\n",
    "pavan.sal=45678\n",
    "jay=Emp()\n",
    "jay.name=\"JAYARAM\"\n",
    "jay.age=27\n",
    "jay.sal=2345\n",
    "print Emp.get(anil)\n",
    "print Emp.get(pavan)\n",
    "print Emp.get(jay)"
   ]
  },
  {
   "cell_type": "code",
   "execution_count": 32,
   "metadata": {},
   "outputs": [
    {
     "name": "stdout",
     "output_type": "stream",
     "text": [
      "('Anil Kumar', 23, 123456)\n",
      "('Pavan', 24, 45678)\n",
      "('JAYARAM', 27, 2345)\n"
     ]
    }
   ],
   "source": [
    "class Emp:\n",
    "    company=\"Khyaathi\"\n",
    "    company_address=\"ad1\"\n",
    "    def get(inst):\n",
    "        return inst.name, inst.age, inst.sal\n",
    "anil = Emp()\n",
    "anil.name=\"Anil Kumar\"\n",
    "anil.age=23\n",
    "anil.sal=123456\n",
    "pavan = Emp()\n",
    "pavan.name=\"Pavan\"\n",
    "pavan.age=24\n",
    "pavan.sal=45678\n",
    "jay=Emp()\n",
    "jay.name=\"JAYARAM\"\n",
    "jay.age=27\n",
    "jay.sal=2345\n",
    "#print Emp.get(anil)\n",
    "print anil.get()\n",
    "#print Emp.get(pavan)\n",
    "print pavan.get()\n",
    "#print Emp.get(jay)\n",
    "print jay.get()"
   ]
  },
  {
   "cell_type": "code",
   "execution_count": 33,
   "metadata": {},
   "outputs": [
    {
     "name": "stdout",
     "output_type": "stream",
     "text": [
      "('Anil Kumar', 23, 123456)\n",
      "('Pavan', 24, 45678)\n",
      "('JAYARAM', 27, 2345)\n"
     ]
    }
   ],
   "source": [
    "class Emp:\n",
    "    company=\"Khyaathi\"\n",
    "    company_address=\"ad1\"\n",
    "    def get(self):\n",
    "        return self.name, self.age, self.sal\n",
    "anil = Emp()\n",
    "anil.name=\"Anil Kumar\"\n",
    "anil.age=23\n",
    "anil.sal=123456\n",
    "pavan = Emp()\n",
    "pavan.name=\"Pavan\"\n",
    "pavan.age=24\n",
    "pavan.sal=45678\n",
    "jay=Emp()\n",
    "jay.name=\"JAYARAM\"\n",
    "jay.age=27\n",
    "jay.sal=2345\n",
    "#print Emp.get(anil)\n",
    "print anil.get()\n",
    "#print Emp.get(pavan)\n",
    "print pavan.get()\n",
    "#print Emp.get(jay)\n",
    "print jay.get()"
   ]
  },
  {
   "cell_type": "code",
   "execution_count": null,
   "metadata": {
    "collapsed": true
   },
   "outputs": [],
   "source": []
  }
 ],
 "metadata": {
  "kernelspec": {
   "display_name": "Python 2",
   "language": "python",
   "name": "python2"
  },
  "language_info": {
   "codemirror_mode": {
    "name": "ipython",
    "version": 2
   },
   "file_extension": ".py",
   "mimetype": "text/x-python",
   "name": "python",
   "nbconvert_exporter": "python",
   "pygments_lexer": "ipython2",
   "version": "2.7.14"
  }
 },
 "nbformat": 4,
 "nbformat_minor": 2
}
