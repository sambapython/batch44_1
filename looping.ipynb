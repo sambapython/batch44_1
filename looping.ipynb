{
 "cells": [
  {
   "cell_type": "code",
   "execution_count": 3,
   "metadata": {},
   "outputs": [
    {
     "name": "stdout",
     "output_type": "stream",
     "text": [
      "program started\n",
      "i= 0\n",
      "other statements in prpgram\n",
      "program ended\n"
     ]
    }
   ],
   "source": [
    "# while and for\n",
    "print \"program started\"\n",
    "i=0\n",
    "if i<10:\n",
    "    print \"i=\",i\n",
    "    i=i+1\n",
    "print \"other statements in prpgram\"\n",
    "print \"program ended\""
   ]
  },
  {
   "cell_type": "code",
   "execution_count": 2,
   "metadata": {},
   "outputs": [
    {
     "name": "stdout",
     "output_type": "stream",
     "text": [
      "program started\n",
      "i= 0\n",
      "i= 1\n",
      "i= 2\n",
      "i= 3\n",
      "i= 4\n",
      "i= 5\n",
      "i= 6\n",
      "i= 7\n",
      "i= 8\n",
      "i= 9\n",
      "other statements in program\n",
      "program ended\n"
     ]
    }
   ],
   "source": [
    "# while and for\n",
    "print \"program started\"\n",
    "i=0\n",
    "while i<10:\n",
    "    print \"i=\",i\n",
    "    i=i+1\n",
    "print \"other statements in program\"\n",
    "print \"program ended\""
   ]
  },
  {
   "cell_type": "code",
   "execution_count": 4,
   "metadata": {},
   "outputs": [
    {
     "name": "stdout",
     "output_type": "stream",
     "text": [
      "program started\n",
      "other statements in program\n",
      "program ended\n"
     ]
    }
   ],
   "source": [
    "# while and for\n",
    "print \"program started\"\n",
    "i=11\n",
    "while i<10:\n",
    "    print \"i=\",i\n",
    "    i=i+1\n",
    "print \"other statements in program\"\n",
    "print \"program ended\""
   ]
  },
  {
   "cell_type": "code",
   "execution_count": 5,
   "metadata": {},
   "outputs": [
    {
     "name": "stdout",
     "output_type": "stream",
     "text": [
      "program started\n",
      "i= 0\n",
      "other statements in program\n",
      "program ended\n"
     ]
    }
   ],
   "source": [
    "# while and for\n",
    "print \"program started\"\n",
    "i=0\n",
    "while i<1:\n",
    "    print \"i=\",i\n",
    "    i=i+1\n",
    "print \"other statements in program\"\n",
    "print \"program ended\""
   ]
  },
  {
   "cell_type": "code",
   "execution_count": null,
   "metadata": {
    "collapsed": true
   },
   "outputs": [],
   "source": [
    "# while and for\n",
    "print \"program started\"\n",
    "i=0\n",
    "while i<1:\n",
    "    print \"i=\",i\n",
    "    i=i-1\n",
    "print \"other statements in program\"\n",
    "print \"program ended\""
   ]
  },
  {
   "cell_type": "code",
   "execution_count": 6,
   "metadata": {},
   "outputs": [
    {
     "name": "stdout",
     "output_type": "stream",
     "text": [
      "program started\n",
      "other statements in program\n",
      "program ended\n"
     ]
    }
   ],
   "source": [
    "# while and for\n",
    "print \"program started\"\n",
    "i=0\n",
    "while i>1:\n",
    "    print \"i=\",i\n",
    "print \"other statements in program\"\n",
    "print \"program ended\""
   ]
  },
  {
   "cell_type": "code",
   "execution_count": null,
   "metadata": {
    "collapsed": true
   },
   "outputs": [],
   "source": [
    "# while and for\n",
    "print \"program started\"\n",
    "i=10\n",
    "while i>1:\n",
    "    print \"i=\",i\n",
    "    \n",
    "print \"other statements in program\"\n",
    "print \"program ended\""
   ]
  },
  {
   "cell_type": "code",
   "execution_count": 7,
   "metadata": {},
   "outputs": [
    {
     "name": "stdout",
     "output_type": "stream",
     "text": [
      "program started\n",
      "i out side loop= 3\n",
      "other statements in program\n",
      "program ended\n"
     ]
    }
   ],
   "source": [
    "# while and for\n",
    "print \"program started\"\n",
    "i=0\n",
    "while i<3:\n",
    "    i=i+1\n",
    "print \"i out side loop=\",i\n",
    "print \"other statements in program\"\n",
    "print \"program ended\""
   ]
  },
  {
   "cell_type": "code",
   "execution_count": 8,
   "metadata": {},
   "outputs": [
    {
     "name": "stdout",
     "output_type": "stream",
     "text": [
      "i= p\n",
      "i= y\n",
      "i= t\n",
      "i= h\n",
      "i= o\n",
      "i= n\n",
      "other statements in program\n",
      "program ended\n"
     ]
    }
   ],
   "source": [
    "# for(i=o; i<10, i=i+1)\n",
    "print \"program ended\"\n",
    "s=\"python\"\n",
    "i=0\n",
    "while i<len(s):\n",
    "    print \"i=\",s[i]\n",
    "    i=i+1\n",
    "print \"other statements in program\"\n",
    "print \"program ended\""
   ]
  },
  {
   "cell_type": "code",
   "execution_count": 9,
   "metadata": {},
   "outputs": [
    {
     "name": "stdout",
     "output_type": "stream",
     "text": [
      "program ended\n",
      "i= p\n",
      "i= y\n",
      "i= t\n",
      "i= h\n",
      "i= o\n",
      "i= n\n",
      "other statements in program\n",
      "program ended\n"
     ]
    }
   ],
   "source": [
    "print \"program ended\"\n",
    "s=\"python\"\n",
    "for i in s:\n",
    "    print \"i=\",i\n",
    "print \"other statements in program\"\n",
    "print \"program ended\""
   ]
  },
  {
   "cell_type": "code",
   "execution_count": 10,
   "metadata": {},
   "outputs": [
    {
     "name": "stdout",
     "output_type": "stream",
     "text": [
      "program ended\n",
      "iteration started\n",
      "i= p\n",
      "iteration ended\n",
      "iteration started\n",
      "i= y\n",
      "iteration ended\n",
      "iteration started\n",
      "i= t\n",
      "iteration ended\n",
      "iteration started\n",
      "i= h\n",
      "iteration ended\n",
      "iteration started\n",
      "i= o\n",
      "iteration ended\n",
      "iteration started\n",
      "i= n\n",
      "iteration ended\n",
      "other statements in program\n",
      "program ended\n"
     ]
    }
   ],
   "source": [
    "print \"program ended\"\n",
    "s=\"python\"\n",
    "for i in s:\n",
    "    print \"iteration started\"\n",
    "    print \"i=\",i\n",
    "    print \"iteration ended\"\n",
    "print \"other statements in program\"\n",
    "print \"program ended\""
   ]
  },
  {
   "cell_type": "code",
   "execution_count": 11,
   "metadata": {},
   "outputs": [
    {
     "name": "stdout",
     "output_type": "stream",
     "text": [
      "program ended\n",
      "iteration started\n",
      "i= p\n",
      "iteration ended\n",
      "iteration started\n",
      "i= y\n",
      "iteration ended\n",
      "iteration started\n",
      "i= t\n",
      "iteration ended\n",
      "iteration started\n",
      "i= h\n",
      "iteration ended\n",
      "iteration started\n",
      "i= o\n",
      "iteration ended\n",
      "iteration started\n",
      "i= n\n",
      "iteration ended\n",
      "other statements in program\n",
      "program ended\n"
     ]
    }
   ],
   "source": [
    "print \"program ended\"\n",
    "s=\"python\"\n",
    "for i in s:\n",
    "    print \"iteration started\"\n",
    "    print \"i=\",i\n",
    "    print \"iteration ended\"\n",
    "print \"other statements in program\"\n",
    "print \"program ended\""
   ]
  },
  {
   "cell_type": "code",
   "execution_count": 12,
   "metadata": {},
   "outputs": [
    {
     "name": "stdout",
     "output_type": "stream",
     "text": [
      "c\n",
      "cpp\n",
      "python\n",
      "java\n",
      "php\n",
      "JS\n"
     ]
    }
   ],
   "source": [
    "l=[\"c\",\"cpp\",\"python\",\"java\",\"php\",\"JS\"]\n",
    "for i in l:\n",
    "    print i"
   ]
  },
  {
   "cell_type": "code",
   "execution_count": 13,
   "metadata": {},
   "outputs": [
    {
     "name": "stdout",
     "output_type": "stream",
     "text": [
      "language: c\n",
      "language: cpp\n",
      "language: python\n",
      "language: java\n",
      "language: \n",
      "language: php\n",
      "language: JS\n"
     ]
    }
   ],
   "source": [
    "l=[\"c\",\"cpp\",\"python\",\"java\",\"\",\"php\",\"JS\"]\n",
    "for i in l:\n",
    "    print \"language:\",i"
   ]
  },
  {
   "cell_type": "code",
   "execution_count": 14,
   "metadata": {},
   "outputs": [
    {
     "name": "stdout",
     "output_type": "stream",
     "text": [
      "program ended\n",
      "language: c\n",
      "language: cpp\n",
      "language: python\n",
      "language: java\n",
      "language: \n",
      "language: php\n",
      "language: JS\n",
      "other statements in program\n",
      "program ended\n"
     ]
    }
   ],
   "source": [
    "print \"program ended\"\n",
    "l=[\"c\",\"cpp\",\"python\",\"java\",\"\",\"php\",\"JS\"]\n",
    "for i in l:\n",
    "    print \"language:\",i\n",
    "print \"other statements in program\"\n",
    "print \"program ended\""
   ]
  },
  {
   "cell_type": "code",
   "execution_count": 15,
   "metadata": {},
   "outputs": [
    {
     "name": "stdout",
     "output_type": "stream",
     "text": [
      "program ended\n",
      "language: c\n",
      "language: cpp\n",
      "language: python\n",
      "language: java\n",
      "other statements in program\n",
      "program ended\n"
     ]
    }
   ],
   "source": [
    "print \"program ended\"\n",
    "l=[\"c\",\"cpp\",\"python\",\"java\",\"\",\"php\",\"JS\"]\n",
    "for i in l:\n",
    "    if i==\"\":\n",
    "        break\n",
    "    print \"language:\",i\n",
    "print \"other statements in program\"\n",
    "print \"program ended\""
   ]
  },
  {
   "cell_type": "code",
   "execution_count": 17,
   "metadata": {},
   "outputs": [
    {
     "name": "stdout",
     "output_type": "stream",
     "text": [
      "program ended\n",
      "iteration for:  c\n",
      "language: c\n",
      "other statements in loop:\n",
      "iteration for:  cpp\n",
      "language: cpp\n",
      "other statements in loop:\n",
      "iteration for:  python\n",
      "language: python\n",
      "other statements in loop:\n",
      "iteration for:  java\n",
      "language: java\n",
      "other statements in loop:\n",
      "iteration for:  \n",
      "other statements in program\n",
      "program ended\n"
     ]
    }
   ],
   "source": [
    "print \"program ended\"\n",
    "l=[10,\"c\",\"cpp\",\"python\",\"java\",\"\",\"php\",\"JS\",12,34]\n",
    "for i in l:\n",
    "    print \"iteration for: \",i\n",
    "    if i==\"\":\n",
    "        break\n",
    "    print \"language:\",i\n",
    "    print \"other statements in loop:\"\n",
    "print \"other statements in program\"\n",
    "print \"program ended\""
   ]
  },
  {
   "cell_type": "code",
   "execution_count": 18,
   "metadata": {},
   "outputs": [
    {
     "name": "stdout",
     "output_type": "stream",
     "text": [
      "program ended\n",
      "iteration for:  10\n",
      "language: 10\n",
      "other statements in loop:\n",
      "iteration for:  c\n",
      "language: c\n",
      "other statements in loop:\n",
      "iteration for:  cpp\n",
      "language: cpp\n",
      "other statements in loop:\n",
      "iteration for:  python\n",
      "language: python\n",
      "other statements in loop:\n",
      "iteration for:  java\n",
      "language: java\n",
      "other statements in loop:\n",
      "iteration for:  \n",
      "other statements in program\n",
      "program ended\n"
     ]
    }
   ],
   "source": [
    "print \"program ended\"\n",
    "l=[10,\"c\",\"cpp\",\"python\",\"java\",\"\",\"php\",\"JS\",12,34]\n",
    "for i in l:\n",
    "    print \"iteration for: \",i\n",
    "    if i==\"\":\n",
    "        break\n",
    "    print \"language:\",i\n",
    "    print \"other statements in loop:\"\n",
    "print \"other statements in program\"\n",
    "print \"program ended\""
   ]
  },
  {
   "cell_type": "code",
   "execution_count": 20,
   "metadata": {},
   "outputs": [
    {
     "name": "stdout",
     "output_type": "stream",
     "text": [
      "program ended\n",
      "iteration for:  10\n",
      "language: 10\n",
      "other statements in loop: 10\n",
      "iteration for:  c\n",
      "language: c\n",
      "other statements in loop: c\n",
      "iteration for:  cpp\n",
      "language: cpp\n",
      "other statements in loop: cpp\n",
      "iteration for:  \n",
      "language: \n",
      "other statements in loop: \n",
      "iteration for:  python\n",
      "language: python\n",
      "other statements in loop: python\n",
      "iteration for:  java\n",
      "language: java\n",
      "other statements in loop: java\n",
      "iteration for:  \n",
      "language: \n",
      "other statements in loop: \n",
      "iteration for:  php\n",
      "language: php\n",
      "other statements in loop: php\n",
      "iteration for:  JS\n",
      "language: JS\n",
      "other statements in loop: JS\n",
      "iteration for:  \n",
      "language: \n",
      "other statements in loop: \n",
      "iteration for:  12\n",
      "language: 12\n",
      "other statements in loop: 12\n",
      "iteration for:  \n",
      "language: \n",
      "other statements in loop: \n",
      "iteration for:  34\n",
      "language: 34\n",
      "other statements in loop: 34\n",
      "other statements in program\n",
      "program ended\n"
     ]
    }
   ],
   "source": [
    "print \"program ended\"\n",
    "l=[10,\"c\",\"cpp\",\"\",\"python\",\"java\",\"\",\"php\",\"JS\",\"\",12,\"\",34]\n",
    "for i in l:\n",
    "    print \"iteration for: \",i\n",
    "    print \"language:\",i\n",
    "    print \"other statements in loop:\",i\n",
    "print \"other statements in program\"\n",
    "print \"program ended\""
   ]
  },
  {
   "cell_type": "code",
   "execution_count": 21,
   "metadata": {},
   "outputs": [
    {
     "name": "stdout",
     "output_type": "stream",
     "text": [
      "program ended\n",
      "iteration for:  10\n",
      "language: 10\n",
      "other statements in loop: 10\n",
      "iteration for:  c\n",
      "language: c\n",
      "other statements in loop: c\n",
      "iteration for:  cpp\n",
      "language: cpp\n",
      "other statements in loop: cpp\n",
      "iteration for:  \n",
      "iteration for:  python\n",
      "language: python\n",
      "other statements in loop: python\n",
      "iteration for:  java\n",
      "language: java\n",
      "other statements in loop: java\n",
      "iteration for:  \n",
      "iteration for:  php\n",
      "language: php\n",
      "other statements in loop: php\n",
      "iteration for:  JS\n",
      "language: JS\n",
      "other statements in loop: JS\n",
      "iteration for:  \n",
      "iteration for:  12\n",
      "language: 12\n",
      "other statements in loop: 12\n",
      "iteration for:  \n",
      "iteration for:  34\n",
      "language: 34\n",
      "other statements in loop: 34\n",
      "other statements in program\n",
      "program ended\n"
     ]
    }
   ],
   "source": [
    "print \"program ended\"\n",
    "l=[10,\"c\",\"cpp\",\"\",\"python\",\"java\",\"\",\"php\",\"JS\",\"\",12,\"\",34]\n",
    "for i in l:\n",
    "    print \"iteration for: \",i\n",
    "    if i!=\"\":\n",
    "        print \"language:\",i\n",
    "        print \"other statements in loop:\",i\n",
    "print \"other statements in program\"\n",
    "print \"program ended\""
   ]
  },
  {
   "cell_type": "code",
   "execution_count": 22,
   "metadata": {},
   "outputs": [
    {
     "name": "stdout",
     "output_type": "stream",
     "text": [
      "program ended\n",
      "iteration for:  10\n",
      "language: 10\n",
      "other statements in loop: 10\n",
      "iteration for:  c\n",
      "language: c\n",
      "other statements in loop: c\n",
      "iteration for:  cpp\n",
      "language: cpp\n",
      "other statements in loop: cpp\n",
      "iteration for:  \n",
      "iteration for:  python\n",
      "language: python\n",
      "other statements in loop: python\n",
      "iteration for:  java\n",
      "language: java\n",
      "other statements in loop: java\n",
      "iteration for:  \n",
      "iteration for:  php\n",
      "language: php\n",
      "other statements in loop: php\n",
      "iteration for:  JS\n",
      "language: JS\n",
      "other statements in loop: JS\n",
      "iteration for:  \n",
      "iteration for:  12\n",
      "language: 12\n",
      "other statements in loop: 12\n",
      "iteration for:  \n",
      "iteration for:  34\n",
      "language: 34\n",
      "other statements in loop: 34\n",
      "other statements in program\n",
      "program ended\n"
     ]
    }
   ],
   "source": [
    "print \"program ended\"\n",
    "l=[10,\"c\",\"cpp\",\"\",\"python\",\"java\",\"\",\"php\",\"JS\",\"\",12,\"\",34]\n",
    "for i in l:\n",
    "    print \"iteration for: \",i\n",
    "    if i==\"\":\n",
    "        continue\n",
    "    print \"language:\",i\n",
    "    print \"other statements in loop:\",i\n",
    "print \"other statements in program\"\n",
    "print \"program ended\""
   ]
  },
  {
   "cell_type": "code",
   "execution_count": 23,
   "metadata": {},
   "outputs": [
    {
     "name": "stdout",
     "output_type": "stream",
     "text": [
      "program started\n",
      "i out side: p\n",
      "other statements in program\n",
      "program ended\n"
     ]
    }
   ],
   "source": [
    "print \"program started\"\n",
    "for i in \"python\":\n",
    "    break\n",
    "print \"i out side:\",i\n",
    "print \"other statements in program\"\n",
    "print \"program ended\""
   ]
  },
  {
   "cell_type": "code",
   "execution_count": 24,
   "metadata": {},
   "outputs": [
    {
     "name": "stdout",
     "output_type": "stream",
     "text": [
      "program started\n",
      "i out side: p\n",
      "other statements in program\n",
      "program ended\n"
     ]
    }
   ],
   "source": [
    "print \"program started\"\n",
    "for i in \"python\":\n",
    "    break\n",
    "    print \"i inside :\",i\n",
    "print \"i out side:\",i\n",
    "print \"other statements in program\"\n",
    "print \"program ended\""
   ]
  },
  {
   "cell_type": "code",
   "execution_count": 25,
   "metadata": {},
   "outputs": [
    {
     "name": "stdout",
     "output_type": "stream",
     "text": [
      "program started\n",
      "i out side: n\n",
      "other statements in program\n",
      "program ended\n"
     ]
    }
   ],
   "source": [
    "print \"program started\"\n",
    "for i in \"python\":\n",
    "    continue\n",
    "    print \"i inside :\",i\n",
    "print \"i out side:\",i\n",
    "print \"other statements in program\"\n",
    "print \"program ended\""
   ]
  },
  {
   "cell_type": "code",
   "execution_count": 26,
   "metadata": {},
   "outputs": [
    {
     "name": "stdout",
     "output_type": "stream",
     "text": [
      "program started\n",
      "i inside : p\n",
      "i inside : y\n",
      "i out side: t\n",
      "other statements in program\n",
      "program ended\n"
     ]
    }
   ],
   "source": [
    "print \"program started\"\n",
    "for i in \"python\":\n",
    "    if i==\"t\":\n",
    "        break\n",
    "    print \"i inside :\",i\n",
    "print \"i out side:\",i\n",
    "print \"other statements in program\"\n",
    "print \"program ended\""
   ]
  },
  {
   "cell_type": "code",
   "execution_count": 27,
   "metadata": {},
   "outputs": [
    {
     "name": "stdout",
     "output_type": "stream",
     "text": [
      "program started\n",
      "i out side: 0\n",
      "other statements in program\n",
      "program ended\n"
     ]
    }
   ],
   "source": [
    "print \"program started\"\n",
    "i=0\n",
    "while i<10:\n",
    "    break\n",
    "    i=i+1\n",
    "print \"i out side:\",i\n",
    "print \"other statements in program\"\n",
    "print \"program ended\""
   ]
  },
  {
   "cell_type": "code",
   "execution_count": 28,
   "metadata": {},
   "outputs": [
    {
     "name": "stdout",
     "output_type": "stream",
     "text": [
      "program started\n",
      "i out side: 1\n",
      "other statements in program\n",
      "program ended\n"
     ]
    }
   ],
   "source": [
    "print \"program started\"\n",
    "i=0\n",
    "while i<10:\n",
    "    i=i+1\n",
    "    break\n",
    "print \"i out side:\",i\n",
    "print \"other statements in program\"\n",
    "print \"program ended\""
   ]
  },
  {
   "cell_type": "code",
   "execution_count": 29,
   "metadata": {},
   "outputs": [
    {
     "name": "stdout",
     "output_type": "stream",
     "text": [
      "program started\n",
      "i out side: 5\n",
      "other statements in program\n",
      "program ended\n"
     ]
    }
   ],
   "source": [
    "print \"program started\"\n",
    "i=0\n",
    "while i<10:\n",
    "    i=i+1\n",
    "    if i==5:\n",
    "        break\n",
    "print \"i out side:\",i\n",
    "print \"other statements in program\"\n",
    "print \"program ended\""
   ]
  },
  {
   "cell_type": "code",
   "execution_count": null,
   "metadata": {
    "collapsed": true
   },
   "outputs": [],
   "source": [
    "print \"program started\"\n",
    "i=0\n",
    "while i<10:\n",
    "    if i==5:\n",
    "        continue\n",
    "    i=i+1\n",
    "print \"i out side:\",i\n",
    "print \"other statements in program\"\n",
    "print \"program ended\""
   ]
  }
 ],
 "metadata": {
  "kernelspec": {
   "display_name": "Python 2",
   "language": "python",
   "name": "python2"
  },
  "language_info": {
   "codemirror_mode": {
    "name": "ipython",
    "version": 2
   },
   "file_extension": ".py",
   "mimetype": "text/x-python",
   "name": "python",
   "nbconvert_exporter": "python",
   "pygments_lexer": "ipython2",
   "version": "2.7.14"
  }
 },
 "nbformat": 4,
 "nbformat_minor": 2
}
